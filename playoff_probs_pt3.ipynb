{
 "cells": [
  {
   "cell_type": "code",
   "execution_count": 1,
   "metadata": {},
   "outputs": [],
   "source": [
    "import league\n",
    "import players\n",
    "import statistics\n",
    "import plotly.graph_objects as go\n",
    "import plotly.express as px\n",
    "import numpy as np\n",
    "from plotly.subplots import make_subplots\n",
    "from prettytable import PrettyTable\n",
    "\n",
    "PLAYERS = players.Players()\n",
    "LEAGUE = league.League(13, \"649912836461539328\", PLAYERS)"
   ]
  },
  {
   "cell_type": "markdown",
   "metadata": {},
   "source": [
    "# Playoff Probability (part 3)\n",
    "\n",
    "With the playoffs starting next week, I will do one more notebook on playoff probabilities. Most everyone is still alive and fighting for a better playoff seed!\n",
    "\n",
    "```\n",
    "Noe's Loyal Lighting Salesman Division\n",
    "1. Nahome (18-6)\n",
    "2. Ben (11-17)\n",
    "3. Stephane (9-17)\n",
    "4. Noe (9-17)\n",
    "5. Will (9-17)\n",
    "\n",
    "Noah's SideThiccs\n",
    "1. Praveen (18-8)\n",
    "2. Stian (17-9)\n",
    "3. Noah (14-11)\n",
    "4. Tom (13-13)\n",
    "5. Tegran (10-14)\n",
    "```\n",
    "\n",
    "Power Rankings for this week are as follows\n",
    "\n",
    "```\n",
    "1. Stian\n",
    "2. Nahome\n",
    "3. Praveen\n",
    "4. Noah\n",
    "5. Tom\n",
    "6. Ben\n",
    "7. Stephane\n",
    "8. Will\n",
    "9. Tegran\n",
    "10. Noe\n",
    "```\n",
    "\n",
    "After his eigth straight win, Stian vaults Nahome into the number 1 power ranking position heading into the last week of the season. Will, Stephane, and Noe are all down near the bottom of the pack but all have the same record, giving them everything to play for this final week.\n",
    "\n",
    "## Methodology\n",
    "\n",
    "I'll use the same methodology as before, so if you want to see it check out the first notebook I did on playoff probabilities. This week I'll simply compare the new projections to last weeks and see who is improving their odds. An example simulation is shown below."
   ]
  },
  {
   "cell_type": "code",
   "execution_count": 2,
   "metadata": {},
   "outputs": [
    {
     "name": "stdout",
     "output_type": "stream",
     "text": [
      "AssNTitties 22 6 1855.4726527979647\n",
      "My Goat Loves You 11 17 1730.719737247077\n",
      "billcap 10 18 1530.653345567191\n",
      "RB sanctuary 9 19 1598.454041979716\n",
      "the noés 9 19 1534.0481020074105\n",
      "\n",
      "Tree Leaves 20 8 1812.4378878240966\n",
      "tealeaves 19 9 1833.0236507599616\n",
      "SideThicc #2 15 13 1718.2975165196522\n",
      "Thicc King 15 13 1689.8414321548967\n",
      "The Brutherhood 10 18 1635.1244150338684\n",
      "\n"
     ]
    }
   ],
   "source": [
    "LEAGUE.sim_remaining_season(np.random.normal)\n",
    "results = LEAGUE.simmed_results()\n",
    "\n",
    "for division in results:\n",
    "    division = sorted(division, reverse=True)\n",
    "    for t in division:\n",
    "        print(LEAGUE.name_pairings[LEAGUE.roster_pairings[t[4]]], t[0], t[1], t[2])\n",
    "    print()"
   ]
  },
  {
   "cell_type": "markdown",
   "metadata": {},
   "source": [
    "To simulate 100,000 seasons this time!"
   ]
  },
  {
   "cell_type": "code",
   "execution_count": 12,
   "metadata": {},
   "outputs": [],
   "source": [
    "simulation = []\n",
    "for i in range(100000):\n",
    "    LEAGUE.sim_remaining_season(np.random.normal)\n",
    "    simulation.append(LEAGUE.simmed_results())"
   ]
  },
  {
   "cell_type": "markdown",
   "metadata": {},
   "source": [
    "Now lets see where every team finished in this new simulation."
   ]
  },
  {
   "cell_type": "code",
   "execution_count": 13,
   "metadata": {},
   "outputs": [
    {
     "name": "stdout",
     "output_type": "stream",
     "text": [
      "AssNTitties [100000, 0, 0, 0, 0]\n",
      "1.0\n",
      "Tree Leaves [70336, 29664, 0, 0, 0]\n",
      "1.0\n",
      "tealeaves [29664, 70336, 0, 0, 0]\n",
      "1.0\n",
      "Thicc King [0, 0, 47605, 52395, 0]\n",
      "0.47605\n",
      "SideThicc #2 [0, 0, 52395, 47605, 0]\n",
      "0.52395\n",
      "My Goat Loves You [0, 100000, 0, 0, 0]\n",
      "1.0\n",
      "The Brutherhood [0, 0, 0, 0, 100000]\n",
      "0.0\n",
      "RB sanctuary [0, 0, 34465, 58506, 7029]\n",
      "0.34465\n",
      "the noés [0, 0, 32201, 24192, 43607]\n",
      "0.32201\n",
      "billcap [0, 0, 33334, 17302, 49364]\n",
      "0.33334\n"
     ]
    }
   ],
   "source": [
    "final_standing = {t.roster_id: [0,0,0,0,0] for t in LEAGUE.standings}\n",
    "probabilities = {t.roster_id: 0 for t in LEAGUE.standings}\n",
    "\n",
    "for result in simulation:\n",
    "    for division in result:\n",
    "        division = sorted(division, reverse=True)\n",
    "        for i, t in enumerate(division):\n",
    "            final_standing[t[4]][i] += 1\n",
    "\n",
    "for roster_id in final_standing:\n",
    "    print(LEAGUE.name_pairings[LEAGUE.roster_pairings[roster_id]], final_standing[roster_id])\n",
    "    probabilities[roster_id] = sum(\n",
    "        final_standing[roster_id][0:3]) / sum(final_standing[roster_id]) * 100\n",
    "    print(sum(final_standing[roster_id][0:3]) / sum(final_standing[roster_id]))\n",
    "\n",
    "finish_probabilities = {roster_id: [(num / sum(final_standing[roster_id])) * 100 for num in final_standing[roster_id]] for roster_id in final_standing}\n",
    "\n",
    "for id in probabilities:\n",
    "    probabilities[id] = round(probabilities[id], 2)\n",
    "\n",
    "for id in finish_probabilities:\n",
    "    finish_probabilities[id] = [round(prob, 2) for prob in finish_probabilities[id]]"
   ]
  },
  {
   "cell_type": "markdown",
   "metadata": {},
   "source": [
    "Now lets visualize these finish positions as bars of outcomes"
   ]
  },
  {
   "cell_type": "code",
   "execution_count": 14,
   "metadata": {},
   "outputs": [
    {
     "data": {
      "application/vnd.plotly.v1+json": {
       "config": {
        "plotlyServerURL": "https://plot.ly"
       },
       "data": [
        {
         "type": "bar",
         "x": [
          "1st",
          "2nd",
          "3rd",
          "4th",
          "5th"
         ],
         "xaxis": "x",
         "y": [
          100000,
          0,
          0,
          0,
          0
         ],
         "yaxis": "y"
        },
        {
         "type": "bar",
         "x": [
          "1st",
          "2nd",
          "3rd",
          "4th",
          "5th"
         ],
         "xaxis": "x2",
         "y": [
          70336,
          29664,
          0,
          0,
          0
         ],
         "yaxis": "y2"
        },
        {
         "type": "bar",
         "x": [
          "1st",
          "2nd",
          "3rd",
          "4th",
          "5th"
         ],
         "xaxis": "x3",
         "y": [
          29664,
          70336,
          0,
          0,
          0
         ],
         "yaxis": "y3"
        },
        {
         "type": "bar",
         "x": [
          "1st",
          "2nd",
          "3rd",
          "4th",
          "5th"
         ],
         "xaxis": "x4",
         "y": [
          0,
          0,
          47605,
          52395,
          0
         ],
         "yaxis": "y4"
        },
        {
         "type": "bar",
         "x": [
          "1st",
          "2nd",
          "3rd",
          "4th",
          "5th"
         ],
         "xaxis": "x5",
         "y": [
          0,
          0,
          52395,
          47605,
          0
         ],
         "yaxis": "y5"
        },
        {
         "type": "bar",
         "x": [
          "1st",
          "2nd",
          "3rd",
          "4th",
          "5th"
         ],
         "xaxis": "x6",
         "y": [
          0,
          100000,
          0,
          0,
          0
         ],
         "yaxis": "y6"
        },
        {
         "type": "bar",
         "x": [
          "1st",
          "2nd",
          "3rd",
          "4th",
          "5th"
         ],
         "xaxis": "x7",
         "y": [
          0,
          0,
          0,
          0,
          100000
         ],
         "yaxis": "y7"
        },
        {
         "type": "bar",
         "x": [
          "1st",
          "2nd",
          "3rd",
          "4th",
          "5th"
         ],
         "xaxis": "x8",
         "y": [
          0,
          0,
          34465,
          58506,
          7029
         ],
         "yaxis": "y8"
        },
        {
         "type": "bar",
         "x": [
          "1st",
          "2nd",
          "3rd",
          "4th",
          "5th"
         ],
         "xaxis": "x9",
         "y": [
          0,
          0,
          32201,
          24192,
          43607
         ],
         "yaxis": "y9"
        },
        {
         "type": "bar",
         "x": [
          "1st",
          "2nd",
          "3rd",
          "4th",
          "5th"
         ],
         "xaxis": "x10",
         "y": [
          0,
          0,
          33334,
          17302,
          49364
         ],
         "yaxis": "y10"
        }
       ],
       "layout": {
        "annotations": [
         {
          "font": {
           "size": 16
          },
          "showarrow": false,
          "text": "AssNTitties",
          "x": 0.225,
          "xanchor": "center",
          "xref": "paper",
          "y": 1,
          "yanchor": "bottom",
          "yref": "paper"
         },
         {
          "font": {
           "size": 16
          },
          "showarrow": false,
          "text": "Tree Leaves",
          "x": 0.775,
          "xanchor": "center",
          "xref": "paper",
          "y": 1,
          "yanchor": "bottom",
          "yref": "paper"
         },
         {
          "font": {
           "size": 16
          },
          "showarrow": false,
          "text": "tealeaves",
          "x": 0.225,
          "xanchor": "center",
          "xref": "paper",
          "y": 0.78,
          "yanchor": "bottom",
          "yref": "paper"
         },
         {
          "font": {
           "size": 16
          },
          "showarrow": false,
          "text": "Thicc King",
          "x": 0.775,
          "xanchor": "center",
          "xref": "paper",
          "y": 0.78,
          "yanchor": "bottom",
          "yref": "paper"
         },
         {
          "font": {
           "size": 16
          },
          "showarrow": false,
          "text": "SideThicc #2",
          "x": 0.225,
          "xanchor": "center",
          "xref": "paper",
          "y": 0.56,
          "yanchor": "bottom",
          "yref": "paper"
         },
         {
          "font": {
           "size": 16
          },
          "showarrow": false,
          "text": "My Goat Loves You",
          "x": 0.775,
          "xanchor": "center",
          "xref": "paper",
          "y": 0.56,
          "yanchor": "bottom",
          "yref": "paper"
         },
         {
          "font": {
           "size": 16
          },
          "showarrow": false,
          "text": "The Brutherhood",
          "x": 0.225,
          "xanchor": "center",
          "xref": "paper",
          "y": 0.33999999999999997,
          "yanchor": "bottom",
          "yref": "paper"
         },
         {
          "font": {
           "size": 16
          },
          "showarrow": false,
          "text": "RB sanctuary",
          "x": 0.775,
          "xanchor": "center",
          "xref": "paper",
          "y": 0.33999999999999997,
          "yanchor": "bottom",
          "yref": "paper"
         },
         {
          "font": {
           "size": 16
          },
          "showarrow": false,
          "text": "the noés",
          "x": 0.225,
          "xanchor": "center",
          "xref": "paper",
          "y": 0.12,
          "yanchor": "bottom",
          "yref": "paper"
         },
         {
          "font": {
           "size": 16
          },
          "showarrow": false,
          "text": "billcap",
          "x": 0.775,
          "xanchor": "center",
          "xref": "paper",
          "y": 0.12,
          "yanchor": "bottom",
          "yref": "paper"
         }
        ],
        "height": 2000,
        "showlegend": false,
        "template": {
         "data": {
          "bar": [
           {
            "error_x": {
             "color": "#2a3f5f"
            },
            "error_y": {
             "color": "#2a3f5f"
            },
            "marker": {
             "line": {
              "color": "#E5ECF6",
              "width": 0.5
             },
             "pattern": {
              "fillmode": "overlay",
              "size": 10,
              "solidity": 0.2
             }
            },
            "type": "bar"
           }
          ],
          "barpolar": [
           {
            "marker": {
             "line": {
              "color": "#E5ECF6",
              "width": 0.5
             },
             "pattern": {
              "fillmode": "overlay",
              "size": 10,
              "solidity": 0.2
             }
            },
            "type": "barpolar"
           }
          ],
          "carpet": [
           {
            "aaxis": {
             "endlinecolor": "#2a3f5f",
             "gridcolor": "white",
             "linecolor": "white",
             "minorgridcolor": "white",
             "startlinecolor": "#2a3f5f"
            },
            "baxis": {
             "endlinecolor": "#2a3f5f",
             "gridcolor": "white",
             "linecolor": "white",
             "minorgridcolor": "white",
             "startlinecolor": "#2a3f5f"
            },
            "type": "carpet"
           }
          ],
          "choropleth": [
           {
            "colorbar": {
             "outlinewidth": 0,
             "ticks": ""
            },
            "type": "choropleth"
           }
          ],
          "contour": [
           {
            "colorbar": {
             "outlinewidth": 0,
             "ticks": ""
            },
            "colorscale": [
             [
              0,
              "#0d0887"
             ],
             [
              0.1111111111111111,
              "#46039f"
             ],
             [
              0.2222222222222222,
              "#7201a8"
             ],
             [
              0.3333333333333333,
              "#9c179e"
             ],
             [
              0.4444444444444444,
              "#bd3786"
             ],
             [
              0.5555555555555556,
              "#d8576b"
             ],
             [
              0.6666666666666666,
              "#ed7953"
             ],
             [
              0.7777777777777778,
              "#fb9f3a"
             ],
             [
              0.8888888888888888,
              "#fdca26"
             ],
             [
              1,
              "#f0f921"
             ]
            ],
            "type": "contour"
           }
          ],
          "contourcarpet": [
           {
            "colorbar": {
             "outlinewidth": 0,
             "ticks": ""
            },
            "type": "contourcarpet"
           }
          ],
          "heatmap": [
           {
            "colorbar": {
             "outlinewidth": 0,
             "ticks": ""
            },
            "colorscale": [
             [
              0,
              "#0d0887"
             ],
             [
              0.1111111111111111,
              "#46039f"
             ],
             [
              0.2222222222222222,
              "#7201a8"
             ],
             [
              0.3333333333333333,
              "#9c179e"
             ],
             [
              0.4444444444444444,
              "#bd3786"
             ],
             [
              0.5555555555555556,
              "#d8576b"
             ],
             [
              0.6666666666666666,
              "#ed7953"
             ],
             [
              0.7777777777777778,
              "#fb9f3a"
             ],
             [
              0.8888888888888888,
              "#fdca26"
             ],
             [
              1,
              "#f0f921"
             ]
            ],
            "type": "heatmap"
           }
          ],
          "heatmapgl": [
           {
            "colorbar": {
             "outlinewidth": 0,
             "ticks": ""
            },
            "colorscale": [
             [
              0,
              "#0d0887"
             ],
             [
              0.1111111111111111,
              "#46039f"
             ],
             [
              0.2222222222222222,
              "#7201a8"
             ],
             [
              0.3333333333333333,
              "#9c179e"
             ],
             [
              0.4444444444444444,
              "#bd3786"
             ],
             [
              0.5555555555555556,
              "#d8576b"
             ],
             [
              0.6666666666666666,
              "#ed7953"
             ],
             [
              0.7777777777777778,
              "#fb9f3a"
             ],
             [
              0.8888888888888888,
              "#fdca26"
             ],
             [
              1,
              "#f0f921"
             ]
            ],
            "type": "heatmapgl"
           }
          ],
          "histogram": [
           {
            "marker": {
             "pattern": {
              "fillmode": "overlay",
              "size": 10,
              "solidity": 0.2
             }
            },
            "type": "histogram"
           }
          ],
          "histogram2d": [
           {
            "colorbar": {
             "outlinewidth": 0,
             "ticks": ""
            },
            "colorscale": [
             [
              0,
              "#0d0887"
             ],
             [
              0.1111111111111111,
              "#46039f"
             ],
             [
              0.2222222222222222,
              "#7201a8"
             ],
             [
              0.3333333333333333,
              "#9c179e"
             ],
             [
              0.4444444444444444,
              "#bd3786"
             ],
             [
              0.5555555555555556,
              "#d8576b"
             ],
             [
              0.6666666666666666,
              "#ed7953"
             ],
             [
              0.7777777777777778,
              "#fb9f3a"
             ],
             [
              0.8888888888888888,
              "#fdca26"
             ],
             [
              1,
              "#f0f921"
             ]
            ],
            "type": "histogram2d"
           }
          ],
          "histogram2dcontour": [
           {
            "colorbar": {
             "outlinewidth": 0,
             "ticks": ""
            },
            "colorscale": [
             [
              0,
              "#0d0887"
             ],
             [
              0.1111111111111111,
              "#46039f"
             ],
             [
              0.2222222222222222,
              "#7201a8"
             ],
             [
              0.3333333333333333,
              "#9c179e"
             ],
             [
              0.4444444444444444,
              "#bd3786"
             ],
             [
              0.5555555555555556,
              "#d8576b"
             ],
             [
              0.6666666666666666,
              "#ed7953"
             ],
             [
              0.7777777777777778,
              "#fb9f3a"
             ],
             [
              0.8888888888888888,
              "#fdca26"
             ],
             [
              1,
              "#f0f921"
             ]
            ],
            "type": "histogram2dcontour"
           }
          ],
          "mesh3d": [
           {
            "colorbar": {
             "outlinewidth": 0,
             "ticks": ""
            },
            "type": "mesh3d"
           }
          ],
          "parcoords": [
           {
            "line": {
             "colorbar": {
              "outlinewidth": 0,
              "ticks": ""
             }
            },
            "type": "parcoords"
           }
          ],
          "pie": [
           {
            "automargin": true,
            "type": "pie"
           }
          ],
          "scatter": [
           {
            "marker": {
             "colorbar": {
              "outlinewidth": 0,
              "ticks": ""
             }
            },
            "type": "scatter"
           }
          ],
          "scatter3d": [
           {
            "line": {
             "colorbar": {
              "outlinewidth": 0,
              "ticks": ""
             }
            },
            "marker": {
             "colorbar": {
              "outlinewidth": 0,
              "ticks": ""
             }
            },
            "type": "scatter3d"
           }
          ],
          "scattercarpet": [
           {
            "marker": {
             "colorbar": {
              "outlinewidth": 0,
              "ticks": ""
             }
            },
            "type": "scattercarpet"
           }
          ],
          "scattergeo": [
           {
            "marker": {
             "colorbar": {
              "outlinewidth": 0,
              "ticks": ""
             }
            },
            "type": "scattergeo"
           }
          ],
          "scattergl": [
           {
            "marker": {
             "colorbar": {
              "outlinewidth": 0,
              "ticks": ""
             }
            },
            "type": "scattergl"
           }
          ],
          "scattermapbox": [
           {
            "marker": {
             "colorbar": {
              "outlinewidth": 0,
              "ticks": ""
             }
            },
            "type": "scattermapbox"
           }
          ],
          "scatterpolar": [
           {
            "marker": {
             "colorbar": {
              "outlinewidth": 0,
              "ticks": ""
             }
            },
            "type": "scatterpolar"
           }
          ],
          "scatterpolargl": [
           {
            "marker": {
             "colorbar": {
              "outlinewidth": 0,
              "ticks": ""
             }
            },
            "type": "scatterpolargl"
           }
          ],
          "scatterternary": [
           {
            "marker": {
             "colorbar": {
              "outlinewidth": 0,
              "ticks": ""
             }
            },
            "type": "scatterternary"
           }
          ],
          "surface": [
           {
            "colorbar": {
             "outlinewidth": 0,
             "ticks": ""
            },
            "colorscale": [
             [
              0,
              "#0d0887"
             ],
             [
              0.1111111111111111,
              "#46039f"
             ],
             [
              0.2222222222222222,
              "#7201a8"
             ],
             [
              0.3333333333333333,
              "#9c179e"
             ],
             [
              0.4444444444444444,
              "#bd3786"
             ],
             [
              0.5555555555555556,
              "#d8576b"
             ],
             [
              0.6666666666666666,
              "#ed7953"
             ],
             [
              0.7777777777777778,
              "#fb9f3a"
             ],
             [
              0.8888888888888888,
              "#fdca26"
             ],
             [
              1,
              "#f0f921"
             ]
            ],
            "type": "surface"
           }
          ],
          "table": [
           {
            "cells": {
             "fill": {
              "color": "#EBF0F8"
             },
             "line": {
              "color": "white"
             }
            },
            "header": {
             "fill": {
              "color": "#C8D4E3"
             },
             "line": {
              "color": "white"
             }
            },
            "type": "table"
           }
          ]
         },
         "layout": {
          "annotationdefaults": {
           "arrowcolor": "#2a3f5f",
           "arrowhead": 0,
           "arrowwidth": 1
          },
          "autotypenumbers": "strict",
          "coloraxis": {
           "colorbar": {
            "outlinewidth": 0,
            "ticks": ""
           }
          },
          "colorscale": {
           "diverging": [
            [
             0,
             "#8e0152"
            ],
            [
             0.1,
             "#c51b7d"
            ],
            [
             0.2,
             "#de77ae"
            ],
            [
             0.3,
             "#f1b6da"
            ],
            [
             0.4,
             "#fde0ef"
            ],
            [
             0.5,
             "#f7f7f7"
            ],
            [
             0.6,
             "#e6f5d0"
            ],
            [
             0.7,
             "#b8e186"
            ],
            [
             0.8,
             "#7fbc41"
            ],
            [
             0.9,
             "#4d9221"
            ],
            [
             1,
             "#276419"
            ]
           ],
           "sequential": [
            [
             0,
             "#0d0887"
            ],
            [
             0.1111111111111111,
             "#46039f"
            ],
            [
             0.2222222222222222,
             "#7201a8"
            ],
            [
             0.3333333333333333,
             "#9c179e"
            ],
            [
             0.4444444444444444,
             "#bd3786"
            ],
            [
             0.5555555555555556,
             "#d8576b"
            ],
            [
             0.6666666666666666,
             "#ed7953"
            ],
            [
             0.7777777777777778,
             "#fb9f3a"
            ],
            [
             0.8888888888888888,
             "#fdca26"
            ],
            [
             1,
             "#f0f921"
            ]
           ],
           "sequentialminus": [
            [
             0,
             "#0d0887"
            ],
            [
             0.1111111111111111,
             "#46039f"
            ],
            [
             0.2222222222222222,
             "#7201a8"
            ],
            [
             0.3333333333333333,
             "#9c179e"
            ],
            [
             0.4444444444444444,
             "#bd3786"
            ],
            [
             0.5555555555555556,
             "#d8576b"
            ],
            [
             0.6666666666666666,
             "#ed7953"
            ],
            [
             0.7777777777777778,
             "#fb9f3a"
            ],
            [
             0.8888888888888888,
             "#fdca26"
            ],
            [
             1,
             "#f0f921"
            ]
           ]
          },
          "colorway": [
           "#636efa",
           "#EF553B",
           "#00cc96",
           "#ab63fa",
           "#FFA15A",
           "#19d3f3",
           "#FF6692",
           "#B6E880",
           "#FF97FF",
           "#FECB52"
          ],
          "font": {
           "color": "#2a3f5f"
          },
          "geo": {
           "bgcolor": "white",
           "lakecolor": "white",
           "landcolor": "#E5ECF6",
           "showlakes": true,
           "showland": true,
           "subunitcolor": "white"
          },
          "hoverlabel": {
           "align": "left"
          },
          "hovermode": "closest",
          "mapbox": {
           "style": "light"
          },
          "paper_bgcolor": "white",
          "plot_bgcolor": "#E5ECF6",
          "polar": {
           "angularaxis": {
            "gridcolor": "white",
            "linecolor": "white",
            "ticks": ""
           },
           "bgcolor": "#E5ECF6",
           "radialaxis": {
            "gridcolor": "white",
            "linecolor": "white",
            "ticks": ""
           }
          },
          "scene": {
           "xaxis": {
            "backgroundcolor": "#E5ECF6",
            "gridcolor": "white",
            "gridwidth": 2,
            "linecolor": "white",
            "showbackground": true,
            "ticks": "",
            "zerolinecolor": "white"
           },
           "yaxis": {
            "backgroundcolor": "#E5ECF6",
            "gridcolor": "white",
            "gridwidth": 2,
            "linecolor": "white",
            "showbackground": true,
            "ticks": "",
            "zerolinecolor": "white"
           },
           "zaxis": {
            "backgroundcolor": "#E5ECF6",
            "gridcolor": "white",
            "gridwidth": 2,
            "linecolor": "white",
            "showbackground": true,
            "ticks": "",
            "zerolinecolor": "white"
           }
          },
          "shapedefaults": {
           "line": {
            "color": "#2a3f5f"
           }
          },
          "ternary": {
           "aaxis": {
            "gridcolor": "white",
            "linecolor": "white",
            "ticks": ""
           },
           "baxis": {
            "gridcolor": "white",
            "linecolor": "white",
            "ticks": ""
           },
           "bgcolor": "#E5ECF6",
           "caxis": {
            "gridcolor": "white",
            "linecolor": "white",
            "ticks": ""
           }
          },
          "title": {
           "x": 0.05
          },
          "xaxis": {
           "automargin": true,
           "gridcolor": "white",
           "linecolor": "white",
           "ticks": "",
           "title": {
            "standoff": 15
           },
           "zerolinecolor": "white",
           "zerolinewidth": 2
          },
          "yaxis": {
           "automargin": true,
           "gridcolor": "white",
           "linecolor": "white",
           "ticks": "",
           "title": {
            "standoff": 15
           },
           "zerolinecolor": "white",
           "zerolinewidth": 2
          }
         }
        },
        "title": {
         "text": "Likelihood of each Teams' Final Standing"
        },
        "width": 1500,
        "xaxis": {
         "anchor": "y",
         "domain": [
          0,
          0.45
         ]
        },
        "xaxis10": {
         "anchor": "y10",
         "domain": [
          0.55,
          1
         ]
        },
        "xaxis2": {
         "anchor": "y2",
         "domain": [
          0.55,
          1
         ]
        },
        "xaxis3": {
         "anchor": "y3",
         "domain": [
          0,
          0.45
         ]
        },
        "xaxis4": {
         "anchor": "y4",
         "domain": [
          0.55,
          1
         ]
        },
        "xaxis5": {
         "anchor": "y5",
         "domain": [
          0,
          0.45
         ]
        },
        "xaxis6": {
         "anchor": "y6",
         "domain": [
          0.55,
          1
         ]
        },
        "xaxis7": {
         "anchor": "y7",
         "domain": [
          0,
          0.45
         ]
        },
        "xaxis8": {
         "anchor": "y8",
         "domain": [
          0.55,
          1
         ]
        },
        "xaxis9": {
         "anchor": "y9",
         "domain": [
          0,
          0.45
         ]
        },
        "yaxis": {
         "anchor": "x",
         "domain": [
          0.88,
          1
         ]
        },
        "yaxis10": {
         "anchor": "x10",
         "domain": [
          0,
          0.12
         ],
         "matches": "y9",
         "showticklabels": false
        },
        "yaxis2": {
         "anchor": "x2",
         "domain": [
          0.88,
          1
         ],
         "matches": "y",
         "showticklabels": false
        },
        "yaxis3": {
         "anchor": "x3",
         "domain": [
          0.66,
          0.78
         ]
        },
        "yaxis4": {
         "anchor": "x4",
         "domain": [
          0.66,
          0.78
         ],
         "matches": "y3",
         "showticklabels": false
        },
        "yaxis5": {
         "anchor": "x5",
         "domain": [
          0.44,
          0.56
         ]
        },
        "yaxis6": {
         "anchor": "x6",
         "domain": [
          0.44,
          0.56
         ],
         "matches": "y5",
         "showticklabels": false
        },
        "yaxis7": {
         "anchor": "x7",
         "domain": [
          0.22,
          0.33999999999999997
         ]
        },
        "yaxis8": {
         "anchor": "x8",
         "domain": [
          0.22,
          0.33999999999999997
         ],
         "matches": "y7",
         "showticklabels": false
        },
        "yaxis9": {
         "anchor": "x9",
         "domain": [
          0,
          0.12
         ]
        }
       }
      }
     },
     "metadata": {},
     "output_type": "display_data"
    }
   ],
   "source": [
    "fig = make_subplots(rows=5, cols=2, shared_yaxes=True,\n",
    "                    subplot_titles=LEAGUE.get_names_for_plotting())\n",
    "\n",
    "teams = [team for team in LEAGUE.standings]\n",
    "\n",
    "for i in range(5):\n",
    "    for j in range(1, 3):\n",
    "        current = teams[(i+i+j)-1]\n",
    "        fig.add_trace(\n",
    "            go.Bar(y=final_standing[current.roster_id],\n",
    "                   x=[\"1st\", \"2nd\", \"3rd\", \"4th\", \"5th\"]),\n",
    "            i+1, j\n",
    "        )\n",
    "\n",
    "fig.update_layout(title=\"Likelihood of each Teams' Final Standing\",\n",
    "                  showlegend=False,\n",
    "                  height=2000, width=1500\n",
    "                  )\n",
    "\n",
    "fig.show()"
   ]
  },
  {
   "cell_type": "markdown",
   "metadata": {},
   "source": [
    "Below I print out the calculated probability that each team makes the playoffs and the probability they finish in each of the five division positions. I also include the change in playoff odds from last week. "
   ]
  },
  {
   "cell_type": "code",
   "execution_count": 15,
   "metadata": {},
   "outputs": [
    {
     "name": "stdout",
     "output_type": "stream",
     "text": [
      "+-------------------+-----------------------------------+-------------------------------+\n",
      "|     Team Name     | Percent Chance of Making Playoffs | Percent Change from Last Week |\n",
      "+-------------------+-----------------------------------+-------------------------------+\n",
      "|    AssNTitties    |               100.0               |              0.0              |\n",
      "|    Tree Leaves    |               100.0               |              0.37             |\n",
      "|     tealeaves     |               100.0               |              2.01             |\n",
      "|     Thicc King    |                47.6               |              2.64             |\n",
      "|    SideThicc #2   |                52.4               |             -4.42             |\n",
      "| My Goat Loves You |               100.0               |              6.71             |\n",
      "|  The Brutherhood  |                0.0                |             -0.59             |\n",
      "|    RB sanctuary   |               34.47               |             -28.16            |\n",
      "|      the noés     |                32.2               |             -4.21             |\n",
      "|      billcap      |               33.33               |             25.67             |\n",
      "+-------------------+-----------------------------------+-------------------------------+\n"
     ]
    }
   ],
   "source": [
    "t = PrettyTable(['Team Name', \"Percent Chance of Making Playoffs\", \"Percent Change from Last Week\"])\n",
    "last_week = {1: 93.29, 2: 0.59, 3: 97.99, 4: 99.63, 5: 36.41,\n",
    "             6: 56.82, 7: 100, 8: 44.96, 9: 7.66, 10: 62.63}\n",
    "for team in LEAGUE.standings:\n",
    "    t.add_row([team.name, probabilities[team.roster_id], round(probabilities[team.roster_id] - last_week[team.roster_id], 2)])\n",
    "    \n",
    "print(t)"
   ]
  },
  {
   "cell_type": "code",
   "execution_count": 16,
   "metadata": {},
   "outputs": [
    {
     "name": "stdout",
     "output_type": "stream",
     "text": [
      "+-------------------+------------------------------+------------------------------+------------------------------+------------------------------+------------------------------+\n",
      "|     Team Name     | P(Finishing 1st in Division) | P(Finishing 2nd in Division) | P(Finishing 3rd in Division) | P(Finishing 4th in Division) | P(Finishing 5th in Division) |\n",
      "+-------------------+------------------------------+------------------------------+------------------------------+------------------------------+------------------------------+\n",
      "|    AssNTitties    |            100.0             |             0.0              |             0.0              |             0.0              |             0.0              |\n",
      "|    Tree Leaves    |            70.34             |            29.66             |             0.0              |             0.0              |             0.0              |\n",
      "|     tealeaves     |            29.66             |            70.34             |             0.0              |             0.0              |             0.0              |\n",
      "|     Thicc King    |             0.0              |             0.0              |             47.6             |             52.4             |             0.0              |\n",
      "|    SideThicc #2   |             0.0              |             0.0              |             52.4             |             47.6             |             0.0              |\n",
      "| My Goat Loves You |             0.0              |            100.0             |             0.0              |             0.0              |             0.0              |\n",
      "|  The Brutherhood  |             0.0              |             0.0              |             0.0              |             0.0              |            100.0             |\n",
      "|    RB sanctuary   |             0.0              |             0.0              |            34.47             |            58.51             |             7.03             |\n",
      "|      the noés     |             0.0              |             0.0              |             32.2             |            24.19             |            43.61             |\n",
      "|      billcap      |             0.0              |             0.0              |            33.33             |             17.3             |            49.36             |\n",
      "+-------------------+------------------------------+------------------------------+------------------------------+------------------------------+------------------------------+\n"
     ]
    }
   ],
   "source": [
    "t = PrettyTable(['Team Name', \"P(Finishing 1st in Division)\",\n",
    "                \"P(Finishing 2nd in Division)\", \"P(Finishing 3rd in Division)\", \"P(Finishing 4th in Division)\", \"P(Finishing 5th in Division)\"])\n",
    "for team in LEAGUE.standings:\n",
    "    t.add_row([team.name, finish_probabilities[team.roster_id]\n",
    "              [0], finish_probabilities[team.roster_id][1], finish_probabilities[team.roster_id][2], finish_probabilities[team.roster_id][3], finish_probabilities[team.roster_id][4]])\n",
    "\n",
    "print(t)\n"
   ]
  }
 ],
 "metadata": {
  "interpreter": {
   "hash": "aee8b7b246df8f9039afb4144a1f6fd8d2ca17a180786b69acc140d282b71a49"
  },
  "kernelspec": {
   "display_name": "Python 3.10.0 64-bit",
   "language": "python",
   "name": "python3"
  },
  "language_info": {
   "codemirror_mode": {
    "name": "ipython",
    "version": 3
   },
   "file_extension": ".py",
   "mimetype": "text/x-python",
   "name": "python",
   "nbconvert_exporter": "python",
   "pygments_lexer": "ipython3",
   "version": "3.10.0"
  },
  "orig_nbformat": 4
 },
 "nbformat": 4,
 "nbformat_minor": 2
}
