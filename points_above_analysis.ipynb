{
 "cells": [
  {
   "cell_type": "markdown",
   "metadata": {},
   "source": [
    "# Fantasy Analysis for Week 8"
   ]
  },
  {
   "cell_type": "code",
   "execution_count": 266,
   "metadata": {},
   "outputs": [],
   "source": [
    "from sleeper_wrapper import League\n",
    "from sleeper_wrapper import Players\n",
    "import statistics\n",
    "import plotly.graph_objects as go\n",
    "import plotly.express as px\n",
    "import requests\n",
    "from plotly.subplots import make_subplots\n",
    "\n",
    "LEAGUE_ID = \"649912836461539328\"\n",
    "CURRENT_WEEK = 8\n",
    "FORMAT = \"half_ppr\"\n",
    "FANTASY_POSITIONS = [\"QB\", \"RB\", \"WR\", \"TE\", \"FLEX\", \"DEF\", \"K\"]\n",
    "league = League(LEAGUE_ID)\n",
    "sleeper_players = Players()\n",
    "\n",
    "users = league.get_users()\n",
    "rosters = league.get_rosters()\n",
    "\n",
    "def pair_user_rosters(rosters):\n",
    "    \"\"\"pairs a users roster id with their user id\"\"\"\n",
    "    pairings = {}\n",
    "\n",
    "    for roster in rosters:\n",
    "        pairings[roster[\"roster_id\"]] = roster[\"owner_id\"]\n",
    "\n",
    "    return pairings\n",
    "\n",
    "\n",
    "def pair_usernames(users):\n",
    "    pairings = {}\n",
    "\n",
    "    # this is stored dumb, but basically team name can be in metadata or it can\n",
    "    # be outside of it. If a team has no name, we can just use their display name\n",
    "    for user in users:\n",
    "        try:\n",
    "            pairings[user[\"user_id\"]] = user[\"metadata\"][\"team_name\"]\n",
    "        except KeyError:  # stored dumb\n",
    "            try:\n",
    "                pairings[user[\"user_id\"]] = user[\"team_name\"]\n",
    "            except KeyError:  # no team name\n",
    "                pairings[user[\"user_id\"]] = user[\"display_name\"]\n",
    "\n",
    "    return pairings\n",
    "\n",
    "\n",
    "ROSTER_PAIRINGS = pair_user_rosters(rosters)\n",
    "NAME_PAIRINGS = pair_usernames(users)\n",
    "all_games = {}\n",
    "\n",
    "\n",
    "def pair_matchups(games):\n",
    "    \"\"\"pair matchup data with users and their opponent\"\"\"\n",
    "    scoreboards = {}\n",
    "\n",
    "    for player in games:\n",
    "        if player[\"matchup_id\"] in scoreboards.keys():\n",
    "            scoreboards[player[\"matchup_id\"]\n",
    "                        ][ROSTER_PAIRINGS[player[\"roster_id\"]]] = player\n",
    "        else:\n",
    "            scoreboards[player[\"matchup_id\"]] = {\n",
    "                ROSTER_PAIRINGS[player[\"roster_id\"]]: player}\n",
    "\n",
    "    return scoreboards\n",
    "\n",
    "\n",
    "# creates a dictionary with all matchups in the league through CURRENT_WEEK\n",
    "for week in range(1, CURRENT_WEEK+1):\n",
    "    all_games[week] = pair_matchups(league.get_matchups(week))\n"
   ]
  },
  {
   "cell_type": "code",
   "execution_count": 267,
   "metadata": {},
   "outputs": [],
   "source": [
    "# how does median points scored differ from points per game?\n",
    "# lets define breakout as 30+ points\n",
    "BREAKOUT_CUT = 30\n",
    "#   league discussion has been on points for (as an aside, how about opp. median score?)\n",
    "# ADD STATS STUFF TO THIS FUNCTION BUT KEEP THIS UP TO DATE\n",
    "STATS_FIELDS = [\"Weeks\", \"Weekly Points For\", \"Weekly Points Against\", \"Points For\", \"Points Against\", \"Points per Game\",\n",
    "                \"Median Points Scored\", \"Points Against per Game\", \"Median Points Against\", \"3 game rolling average\",\n",
    "                \"5 game rolling average\", \"Breakout Games\", \"Breakout Games Against\", \"Game Margin\", \"Blowout Index\"]\n",
    "\n",
    "# blowout index: closer to 0 is close games, bigger numbers indicate larger losses and wins\n",
    "\n",
    "#   TODO: edge case for less than 3 or 5 weeks?\n",
    "\n",
    "\n",
    "def team_stats(games):\n",
    "    \"\"\"calculate team stats. returns a dictionary of team ids with associated\n",
    "       lists that define team stats. list has order:\n",
    "       [total weeks, weekly points for, weekly points against, total points for, total points against, ppg, \n",
    "       median points scored, papg, median points against, 3 game rolling avg. points scored, \n",
    "       5 game rolling avg. points scored, breakouts for, breakouts against, game margin, blowout index]\n",
    "    \"\"\"\n",
    "    weeks = len(games.keys())\n",
    "    final_stats = {}\n",
    "    weekly_pf = {}\n",
    "    weekly_pa = {}\n",
    "    weekly_bf = {}\n",
    "    weekly_ba = {}\n",
    "\n",
    "    for user in NAME_PAIRINGS:\n",
    "        final_stats[user] = []\n",
    "        weekly_pf[user] = []\n",
    "        weekly_pa[user] = []\n",
    "        weekly_bf[user] = []\n",
    "        weekly_ba[user] = []\n",
    "\n",
    "    for week in games:\n",
    "        for matchup in games[week]:\n",
    "            teams = list(games[week][matchup].keys())\n",
    "            team0 = games[week][matchup][teams[0]]\n",
    "            team1 = games[week][matchup][teams[1]]\n",
    "            # use team data to fill in pf and opponent data for pa\n",
    "            weekly_pf[teams[0]].append(team0[\"points\"])\n",
    "            weekly_pf[teams[1]].append(team1[\"points\"])\n",
    "            weekly_pa[teams[0]].append(team1[\"points\"])\n",
    "            weekly_pa[teams[1]].append(team0[\"points\"])\n",
    "            weekly_bf[teams[0]].append({})\n",
    "            weekly_bf[teams[1]].append({})\n",
    "            weekly_ba[teams[0]].append({})\n",
    "            weekly_ba[teams[1]].append({})\n",
    "            for player0, player1 in zip(team0[\"players_points\"].keys(), team1[\"players_points\"].keys()):\n",
    "                if team0[\"players_points\"][player0] >= BREAKOUT_CUT:\n",
    "                    weekly_bf[teams[0]][week -\n",
    "                                        1][player0] = team0[\"players_points\"][player0]\n",
    "                    weekly_ba[teams[1]][week -\n",
    "                                        1][player0] = team0[\"players_points\"][player0]\n",
    "                elif team1[\"players_points\"][player1] >= BREAKOUT_CUT:\n",
    "                    weekly_ba[teams[0]][week -\n",
    "                                        1][player1] = team1[\"players_points\"][player1]\n",
    "                    weekly_bf[teams[1]][week -\n",
    "                                        1][player1] = team1[\"players_points\"][player1]\n",
    "\n",
    "    for user in NAME_PAIRINGS:\n",
    "        final_stats[user].append(weeks)\n",
    "        final_stats[user].append(weekly_pf[user])\n",
    "        final_stats[user].append(weekly_pa[user])\n",
    "        pf = sum(weekly_pf[user])\n",
    "        pa = sum(weekly_pa[user])\n",
    "        final_stats[user].append(round(pf, 2))\n",
    "        final_stats[user].append(round(pa, 2))\n",
    "        final_stats[user].append(round(pf/weeks, 2))\n",
    "        final_stats[user].append(round(statistics.median(weekly_pf[user]), 2))\n",
    "        final_stats[user].append(round(pa/weeks, 2))\n",
    "        final_stats[user].append(round(statistics.median(weekly_pa[user]), 2))\n",
    "\n",
    "        rolling_3 = []\n",
    "        for i in range(weeks):\n",
    "            if i < 3:\n",
    "                rolling_3.append(round(sum(weekly_pf[user][0:i+1])/(i+1), 2))\n",
    "            else:\n",
    "                rolling_3.append(round(sum(weekly_pf[user][i-2:i+1])/3, 2))\n",
    "        final_stats[user].append(rolling_3)\n",
    "\n",
    "        rolling_5 = []\n",
    "        for i in range(weeks):\n",
    "            if i < 5:\n",
    "                rolling_5.append(round(sum(weekly_pf[user][0:i+1])/(i+1), 2))\n",
    "            else:\n",
    "                rolling_5.append(round(sum(weekly_pf[user][i-4:i+1])/5, 2))\n",
    "        final_stats[user].append(rolling_5)\n",
    "\n",
    "        final_stats[user].append([len(k.keys()) for k in weekly_bf[user]])\n",
    "        final_stats[user].append([len(k.keys()) for k in weekly_ba[user]])\n",
    "        final_stats[user].append(\n",
    "            [round(weekly_pf[user][week] - weekly_pa[user][week], 2) for week in range(weeks)])\n",
    "        final_stats[user].append(round(sum(\n",
    "            [final_stats[user][-1][i]**2 for i in range(weeks)]) / weeks, 2))  # mean squared margin\n",
    "\n",
    "        # ADD HERE\n",
    "\n",
    "    return final_stats\n",
    "\n",
    "\n",
    "stats = team_stats(all_games)"
   ]
  },
  {
   "cell_type": "code",
   "execution_count": 268,
   "metadata": {},
   "outputs": [],
   "source": [
    "# sanity check the weeks and uncomment here if you wanna\n",
    "\n",
    "# for week in all_games:\n",
    "#     print(f\"------------Week {week}------------\")\n",
    "#     for matchup in all_games[week]:\n",
    "#         for team in all_games[week][matchup]:\n",
    "#             print(f\" {NAME_PAIRINGS[str(team)]}: {all_games[week][matchup][team]['points']}\")\n",
    "#         print()"
   ]
  },
  {
   "cell_type": "markdown",
   "metadata": {},
   "source": [
    "## League Status\n",
    "\n",
    "Hello boys, I enjoyed last week so I will be doing some more analysis, this time with regards to roster construction. As a reminder, league standings are currently as follows:\n",
    "\n",
    "```\n",
    "Noe's Loyal Lighting Salesman Division\n",
    "1. Nahome (11-5)\n",
    "2. Ben (8-8)\n",
    "3. Noe (8-8)\n",
    "4. Will (7-9)\n",
    "5. Stephane (3-13)\n",
    "\n",
    "Noah's SideThiccs\n",
    "1. Noah (11-5)\n",
    "2. Praveen (11-5)\n",
    "3. Stian (9-7)\n",
    "4. Tom (7-9)\n",
    "5. Tegran (5-11)\n",
    "```\n",
    "\n",
    "This weeks power rankings that I released on Tuesday had the most movement in weeks,  as Nahome fell to third and Stephane's trade paid off in the week's second highest scoring performance.\n",
    "\n",
    "```\n",
    "1. Noah\n",
    "2. Praveen\n",
    "3. Nahome\n",
    "4. Ben\n",
    "5. Stian\n",
    "6. Noe\n",
    "7. Tom\n",
    "8. Will\n",
    "9. Stephane\n",
    "10. Tegran\n",
    "```\n",
    "\n",
    "If the playoffs started today, we would have ```Praven vs. Noe``` and ```Stian vs. Ben``` in the opening rounds, with Noah and Nahome both earning byes. In the toilet bowl, we would have ```Tegran vs. Will``` and ```Stephane vs. Tom```.\n",
    "\n",
    "## Weekly Focus\n",
    "\n",
    "For the week 8 deep dive, I will be creating and digging into a stat that Tom inspired me to try as a joke. Tom asked to do a wins above replacement stat (WAR) for Aiyuk, who obviously has not been the best fantasy performer this year.  Diligent readers probably noticed I wrote 'Aiyuk is ASS' as his WAR value. Regardless, I wanted to do something similar for this week since it will be pretty interesting to see the degree to which a player impacts a team. In fantasy, some position groups are simply more important because the dropoffs in player output is so much more drastic (This is why we generally draft RBs before WRs before QBs!). Since we have less games to sample from, I will try to analyze points above replacement (PAR) for players on a roster. Hopefully this will give some insight into the top performers on a roster and their overall contributions to a players' team. \n",
    "\n",
    "## Applying Rigor to PAR (and PAA)\n",
    "#### This section dives more deeply into the logic behind my calculations and motivation for creating two classes of statistic. I would recommend reading it, but if that doesn't interest you as much you can skip it\n",
    "\n",
    "The definition of WAR as stated on the Baseball-Reference website is “A single number that presents the number of wins the player added to the team above what a replacement player . . . would add.” For their purposes, a replacement player is defined as a player taken from the top minor league level. Of course, we don't have this selection luxury in fantasy which begs the question of what our replacement calculation should use. There is also debate in the baseball community, which I think informs our decision making process. Just due to the nature of rosters and player ownership, an average player may actually be difficult to acquire and require a team to trade value in pursuing their acquisition. With that said, it is clear that a true 'replacement' level player is one that is able to be picked up just off the waiver wire. In this sense, most players we start on a weekly basis have a positive points above replacement statistic. This implies that our aggregate team PAR score might be judging our teams relative to one we can create off the waiver wire.\n",
    "\n",
    "This then suggests that the average rostered player would give us a better sense of the amount a team is helped by an individual **relative** to other teams. Teams are generally not starting replacement players on a weekly basis, so does it really make sense to peg point production to players that are not started? Because of this fact, I came to the solution of binning players into tiers and comparing their point production to these tiers. In our league, we start 1 QB, 2 RBs, 2 WRs, 1 TE, and 2 FLEX players (as well as 1 team defense and 1 kicker) and have 10 total teams. If we can calculate what a player in a given starting spot is expected to score, we could analyze how many points they contribute relative to a starting lineup consisting solely of bang average players. Let's drill down into running backs as a concrete example of this methodology. If in our league the top 10 running backs in a week scored 20, 19, 18, 17, 16, 15, 14, 13, 12, and 11 points respectively, we might say that the expected point return of eachs team's top running back (their RB1) was 14.5 points. In this respect, we could infer that a replacement (or perhaps more specifically an average) RB1 would be worth 14.5 points to their team. Thus the top scoring RB would have added 5.5 points to their team. We will call this value the Points Added Over Average (PAA)\n",
    "\n",
    "I believe all these statistics have uses. We saw just this week that Derrick Henry was hurt and Noah was forced to replace him off the waiver wire. We may expect his points to drop by the value of Derrick Henry's PAR score. We all know that Stephane has had a brutal start to his season. In his case, it may be more interesting to compare how the running backs he drafted are performing relative to the top RB options on other squads. For this case we can analyze the PAA stat of his starting RBs to infer the amount they have hurt his season compared to other positional players. On the opposite end of the spectrum, Nahome's star WR options will likely improve his aggregate PAA score since he has the luxury of playing top wideouts in his FLEX spots.\n",
    "\n",
    "The presence of bye weeks presents a slight difficulty in these calculations. I am making the conscious decision to ignore bye weeks even though some players have not yet had them while others have (and thus have had an extra week of production). My logic is for injured players, I would not want to remove weeks for when they are injured from this calculation since they would have scored 0 points if you had started them. Since each player will have a bye week at some point this season, I think the logic for leaving bye week production as 0 points is even more sound than for including injury weeks in the calculation. Essentially the argument boils down to this: If you are relying on a player to be your RB1 and they score 0 points on their bye week, other teams are still starting players who are RB1s. I believe this difference in points scored should therefore still count towards a players' production output."
   ]
  },
  {
   "cell_type": "markdown",
   "metadata": {},
   "source": [
    "## Generating Player PAR Estimates\n",
    "\n",
    "Generating PAR estimates will generally be simpler than PAA estimates. I will just use the average points scored by players on the waiver wire (who have scored a non-zero amount of points, under the assumption that this is the true pool of replacement players) to generate an estimate of the average score for a replacement player at a given position. To be upfront about this, I tried this originally but felt like the stat skewed a little low. I limited the average to the top 10 waiver wire pickups since those are the players that would be most likely to actually replace a rostered player. I will then compare this to the actual points scored by players on active rosters to generate the difference in points scored by a given player vs. this replacement pool. This stat can then be aggregated for a given team or for a position subgroup on a team to calculate the team and positional strength of a team relative to a team made up solely of replacement level players."
   ]
  },
  {
   "cell_type": "code",
   "execution_count": 269,
   "metadata": {},
   "outputs": [],
   "source": [
    "# lets grab all the players Sleeper has, lets only run this once cause the api says it does not need to be called more than once per day\n",
    "players = sleeper_players.get_all_players()"
   ]
  },
  {
   "cell_type": "code",
   "execution_count": 270,
   "metadata": {},
   "outputs": [],
   "source": [
    "# unfortunately, this just gives us the player metadata and not their stats\n",
    "# the api wrapper im using doesn't enable us to grab stats directly, so we\n",
    "# will do it ourselves with the requests package and the \n",
    "# api route: https://api.sleeper.app/stats/nfl/player/{XXXX}?season_type=regular&season=2021&grouping=season\n",
    "# what's nice is that if a player has no stats, they just return a null response so we can populate our\n",
    "# stats dictionary with only players that have a point very easily\n",
    "\n",
    "# to update player stats, run stat_loading.py\n",
    "# we load data from a file for performance reasons\n",
    "# querying the API\n",
    "\n",
    "import json\n",
    "\n",
    "with open('player_stats.json') as fp:\n",
    "    player_stats = json.load(fp)\n"
   ]
  },
  {
   "cell_type": "code",
   "execution_count": 271,
   "metadata": {},
   "outputs": [],
   "source": [
    "# since we already know from our api requests that players which return a response have stats, we just need \n",
    "# to filter on the pts_half_ppr field (which individual defensive players do not have)\n",
    "scoring_offensive_players = {}\n",
    "\n",
    "for player in player_stats:\n",
    "    if \"pts_half_ppr\" in player_stats[player] and players[player][\"position\"] in FANTASY_POSITIONS:\n",
    "        try:\n",
    "            scoring_offensive_players[player] = {\"points\": player_stats[player][\"pts_half_ppr\"]}\n",
    "            scoring_offensive_players[player][\"fantasy_positions\"] = players[player][\"fantasy_positions\"]\n",
    "            scoring_offensive_players[player][\"position\"] = players[player][\"position\"]\n",
    "            scoring_offensive_players[player][\"name\"] = players[player][\"full_name\"]\n",
    "        except:\n",
    "            scoring_offensive_players[player] = {\"points\": player_stats[player][\"pts_half_ppr\"]}\n",
    "            scoring_offensive_players[player][\"fantasy_positions\"] = players[player][\"fantasy_positions\"]\n",
    "            scoring_offensive_players[player][\"position\"] = players[player][\"position\"]\n",
    "            scoring_offensive_players[player][\"name\"] = players[player][\"player_id\"]"
   ]
  },
  {
   "cell_type": "code",
   "execution_count": 272,
   "metadata": {},
   "outputs": [],
   "source": [
    "rostered_players = {}\n",
    "\n",
    "for roster in rosters:\n",
    "    team = roster[\"players\"]\n",
    "    for player in team:\n",
    "        # sometimes players on IR will have 0 points scored, so we can build their record if\n",
    "        # they are rostered\n",
    "        try:\n",
    "            rostered_players = {**rostered_players, **{player: scoring_offensive_players[player]}}\n",
    "        except KeyError:\n",
    "            rostered_players = {**rostered_players, **{player: {\"points\": 0, \n",
    "                                                       \"name\": players[player][\"full_name\"], \n",
    "                                                       \"position\": players[player][\"position\"], \n",
    "                                                       \"fantasy_positions\": players[player][\"fantasy_positions\"]}}\n",
    "                                                       }\n",
    "to_remove = []\n",
    "for player in scoring_offensive_players:\n",
    "    if player in rostered_players:\n",
    "        to_remove.append(player)\n",
    "\n",
    "replacement_players = {key: scoring_offensive_players[key] for key in scoring_offensive_players if key not in rostered_players}"
   ]
  },
  {
   "cell_type": "code",
   "execution_count": 273,
   "metadata": {},
   "outputs": [
    {
     "data": {
      "application/vnd.plotly.v1+json": {
       "config": {
        "plotlyServerURL": "https://plot.ly"
       },
       "data": [
        {
         "marker": {
          "color": [
           17.229999999999997,
           6.2875000000000005,
           9.424999999999999,
           6.1499999999999995,
           9.424999999999999,
           8.25,
           8.75
          ],
          "coloraxis": "coloraxis"
         },
         "type": "bar",
         "x": [
          "QB",
          "RB",
          "WR",
          "TE",
          "FLEX",
          "DEF",
          "K"
         ],
         "y": [
          17.229999999999997,
          6.2875000000000005,
          9.424999999999999,
          6.1499999999999995,
          9.424999999999999,
          8.25,
          8.75
         ]
        }
       ],
       "layout": {
        "coloraxis": {
         "colorscale": [
          [
           0,
           "rgb(165,0,38)"
          ],
          [
           0.1,
           "rgb(215,48,39)"
          ],
          [
           0.2,
           "rgb(244,109,67)"
          ],
          [
           0.3,
           "rgb(253,174,97)"
          ],
          [
           0.4,
           "rgb(254,224,139)"
          ],
          [
           0.5,
           "rgb(255,255,191)"
          ],
          [
           0.6,
           "rgb(217,239,139)"
          ],
          [
           0.7,
           "rgb(166,217,106)"
          ],
          [
           0.8,
           "rgb(102,189,99)"
          ],
          [
           0.9,
           "rgb(26,152,80)"
          ],
          [
           1,
           "rgb(0,104,55)"
          ]
         ]
        },
        "showlegend": false,
        "template": {
         "data": {
          "bar": [
           {
            "error_x": {
             "color": "#2a3f5f"
            },
            "error_y": {
             "color": "#2a3f5f"
            },
            "marker": {
             "line": {
              "color": "#E5ECF6",
              "width": 0.5
             },
             "pattern": {
              "fillmode": "overlay",
              "size": 10,
              "solidity": 0.2
             }
            },
            "type": "bar"
           }
          ],
          "barpolar": [
           {
            "marker": {
             "line": {
              "color": "#E5ECF6",
              "width": 0.5
             },
             "pattern": {
              "fillmode": "overlay",
              "size": 10,
              "solidity": 0.2
             }
            },
            "type": "barpolar"
           }
          ],
          "carpet": [
           {
            "aaxis": {
             "endlinecolor": "#2a3f5f",
             "gridcolor": "white",
             "linecolor": "white",
             "minorgridcolor": "white",
             "startlinecolor": "#2a3f5f"
            },
            "baxis": {
             "endlinecolor": "#2a3f5f",
             "gridcolor": "white",
             "linecolor": "white",
             "minorgridcolor": "white",
             "startlinecolor": "#2a3f5f"
            },
            "type": "carpet"
           }
          ],
          "choropleth": [
           {
            "colorbar": {
             "outlinewidth": 0,
             "ticks": ""
            },
            "type": "choropleth"
           }
          ],
          "contour": [
           {
            "colorbar": {
             "outlinewidth": 0,
             "ticks": ""
            },
            "colorscale": [
             [
              0,
              "#0d0887"
             ],
             [
              0.1111111111111111,
              "#46039f"
             ],
             [
              0.2222222222222222,
              "#7201a8"
             ],
             [
              0.3333333333333333,
              "#9c179e"
             ],
             [
              0.4444444444444444,
              "#bd3786"
             ],
             [
              0.5555555555555556,
              "#d8576b"
             ],
             [
              0.6666666666666666,
              "#ed7953"
             ],
             [
              0.7777777777777778,
              "#fb9f3a"
             ],
             [
              0.8888888888888888,
              "#fdca26"
             ],
             [
              1,
              "#f0f921"
             ]
            ],
            "type": "contour"
           }
          ],
          "contourcarpet": [
           {
            "colorbar": {
             "outlinewidth": 0,
             "ticks": ""
            },
            "type": "contourcarpet"
           }
          ],
          "heatmap": [
           {
            "colorbar": {
             "outlinewidth": 0,
             "ticks": ""
            },
            "colorscale": [
             [
              0,
              "#0d0887"
             ],
             [
              0.1111111111111111,
              "#46039f"
             ],
             [
              0.2222222222222222,
              "#7201a8"
             ],
             [
              0.3333333333333333,
              "#9c179e"
             ],
             [
              0.4444444444444444,
              "#bd3786"
             ],
             [
              0.5555555555555556,
              "#d8576b"
             ],
             [
              0.6666666666666666,
              "#ed7953"
             ],
             [
              0.7777777777777778,
              "#fb9f3a"
             ],
             [
              0.8888888888888888,
              "#fdca26"
             ],
             [
              1,
              "#f0f921"
             ]
            ],
            "type": "heatmap"
           }
          ],
          "heatmapgl": [
           {
            "colorbar": {
             "outlinewidth": 0,
             "ticks": ""
            },
            "colorscale": [
             [
              0,
              "#0d0887"
             ],
             [
              0.1111111111111111,
              "#46039f"
             ],
             [
              0.2222222222222222,
              "#7201a8"
             ],
             [
              0.3333333333333333,
              "#9c179e"
             ],
             [
              0.4444444444444444,
              "#bd3786"
             ],
             [
              0.5555555555555556,
              "#d8576b"
             ],
             [
              0.6666666666666666,
              "#ed7953"
             ],
             [
              0.7777777777777778,
              "#fb9f3a"
             ],
             [
              0.8888888888888888,
              "#fdca26"
             ],
             [
              1,
              "#f0f921"
             ]
            ],
            "type": "heatmapgl"
           }
          ],
          "histogram": [
           {
            "marker": {
             "pattern": {
              "fillmode": "overlay",
              "size": 10,
              "solidity": 0.2
             }
            },
            "type": "histogram"
           }
          ],
          "histogram2d": [
           {
            "colorbar": {
             "outlinewidth": 0,
             "ticks": ""
            },
            "colorscale": [
             [
              0,
              "#0d0887"
             ],
             [
              0.1111111111111111,
              "#46039f"
             ],
             [
              0.2222222222222222,
              "#7201a8"
             ],
             [
              0.3333333333333333,
              "#9c179e"
             ],
             [
              0.4444444444444444,
              "#bd3786"
             ],
             [
              0.5555555555555556,
              "#d8576b"
             ],
             [
              0.6666666666666666,
              "#ed7953"
             ],
             [
              0.7777777777777778,
              "#fb9f3a"
             ],
             [
              0.8888888888888888,
              "#fdca26"
             ],
             [
              1,
              "#f0f921"
             ]
            ],
            "type": "histogram2d"
           }
          ],
          "histogram2dcontour": [
           {
            "colorbar": {
             "outlinewidth": 0,
             "ticks": ""
            },
            "colorscale": [
             [
              0,
              "#0d0887"
             ],
             [
              0.1111111111111111,
              "#46039f"
             ],
             [
              0.2222222222222222,
              "#7201a8"
             ],
             [
              0.3333333333333333,
              "#9c179e"
             ],
             [
              0.4444444444444444,
              "#bd3786"
             ],
             [
              0.5555555555555556,
              "#d8576b"
             ],
             [
              0.6666666666666666,
              "#ed7953"
             ],
             [
              0.7777777777777778,
              "#fb9f3a"
             ],
             [
              0.8888888888888888,
              "#fdca26"
             ],
             [
              1,
              "#f0f921"
             ]
            ],
            "type": "histogram2dcontour"
           }
          ],
          "mesh3d": [
           {
            "colorbar": {
             "outlinewidth": 0,
             "ticks": ""
            },
            "type": "mesh3d"
           }
          ],
          "parcoords": [
           {
            "line": {
             "colorbar": {
              "outlinewidth": 0,
              "ticks": ""
             }
            },
            "type": "parcoords"
           }
          ],
          "pie": [
           {
            "automargin": true,
            "type": "pie"
           }
          ],
          "scatter": [
           {
            "marker": {
             "colorbar": {
              "outlinewidth": 0,
              "ticks": ""
             }
            },
            "type": "scatter"
           }
          ],
          "scatter3d": [
           {
            "line": {
             "colorbar": {
              "outlinewidth": 0,
              "ticks": ""
             }
            },
            "marker": {
             "colorbar": {
              "outlinewidth": 0,
              "ticks": ""
             }
            },
            "type": "scatter3d"
           }
          ],
          "scattercarpet": [
           {
            "marker": {
             "colorbar": {
              "outlinewidth": 0,
              "ticks": ""
             }
            },
            "type": "scattercarpet"
           }
          ],
          "scattergeo": [
           {
            "marker": {
             "colorbar": {
              "outlinewidth": 0,
              "ticks": ""
             }
            },
            "type": "scattergeo"
           }
          ],
          "scattergl": [
           {
            "marker": {
             "colorbar": {
              "outlinewidth": 0,
              "ticks": ""
             }
            },
            "type": "scattergl"
           }
          ],
          "scattermapbox": [
           {
            "marker": {
             "colorbar": {
              "outlinewidth": 0,
              "ticks": ""
             }
            },
            "type": "scattermapbox"
           }
          ],
          "scatterpolar": [
           {
            "marker": {
             "colorbar": {
              "outlinewidth": 0,
              "ticks": ""
             }
            },
            "type": "scatterpolar"
           }
          ],
          "scatterpolargl": [
           {
            "marker": {
             "colorbar": {
              "outlinewidth": 0,
              "ticks": ""
             }
            },
            "type": "scatterpolargl"
           }
          ],
          "scatterternary": [
           {
            "marker": {
             "colorbar": {
              "outlinewidth": 0,
              "ticks": ""
             }
            },
            "type": "scatterternary"
           }
          ],
          "surface": [
           {
            "colorbar": {
             "outlinewidth": 0,
             "ticks": ""
            },
            "colorscale": [
             [
              0,
              "#0d0887"
             ],
             [
              0.1111111111111111,
              "#46039f"
             ],
             [
              0.2222222222222222,
              "#7201a8"
             ],
             [
              0.3333333333333333,
              "#9c179e"
             ],
             [
              0.4444444444444444,
              "#bd3786"
             ],
             [
              0.5555555555555556,
              "#d8576b"
             ],
             [
              0.6666666666666666,
              "#ed7953"
             ],
             [
              0.7777777777777778,
              "#fb9f3a"
             ],
             [
              0.8888888888888888,
              "#fdca26"
             ],
             [
              1,
              "#f0f921"
             ]
            ],
            "type": "surface"
           }
          ],
          "table": [
           {
            "cells": {
             "fill": {
              "color": "#EBF0F8"
             },
             "line": {
              "color": "white"
             }
            },
            "header": {
             "fill": {
              "color": "#C8D4E3"
             },
             "line": {
              "color": "white"
             }
            },
            "type": "table"
           }
          ]
         },
         "layout": {
          "annotationdefaults": {
           "arrowcolor": "#2a3f5f",
           "arrowhead": 0,
           "arrowwidth": 1
          },
          "autotypenumbers": "strict",
          "coloraxis": {
           "colorbar": {
            "outlinewidth": 0,
            "ticks": ""
           }
          },
          "colorscale": {
           "diverging": [
            [
             0,
             "#8e0152"
            ],
            [
             0.1,
             "#c51b7d"
            ],
            [
             0.2,
             "#de77ae"
            ],
            [
             0.3,
             "#f1b6da"
            ],
            [
             0.4,
             "#fde0ef"
            ],
            [
             0.5,
             "#f7f7f7"
            ],
            [
             0.6,
             "#e6f5d0"
            ],
            [
             0.7,
             "#b8e186"
            ],
            [
             0.8,
             "#7fbc41"
            ],
            [
             0.9,
             "#4d9221"
            ],
            [
             1,
             "#276419"
            ]
           ],
           "sequential": [
            [
             0,
             "#0d0887"
            ],
            [
             0.1111111111111111,
             "#46039f"
            ],
            [
             0.2222222222222222,
             "#7201a8"
            ],
            [
             0.3333333333333333,
             "#9c179e"
            ],
            [
             0.4444444444444444,
             "#bd3786"
            ],
            [
             0.5555555555555556,
             "#d8576b"
            ],
            [
             0.6666666666666666,
             "#ed7953"
            ],
            [
             0.7777777777777778,
             "#fb9f3a"
            ],
            [
             0.8888888888888888,
             "#fdca26"
            ],
            [
             1,
             "#f0f921"
            ]
           ],
           "sequentialminus": [
            [
             0,
             "#0d0887"
            ],
            [
             0.1111111111111111,
             "#46039f"
            ],
            [
             0.2222222222222222,
             "#7201a8"
            ],
            [
             0.3333333333333333,
             "#9c179e"
            ],
            [
             0.4444444444444444,
             "#bd3786"
            ],
            [
             0.5555555555555556,
             "#d8576b"
            ],
            [
             0.6666666666666666,
             "#ed7953"
            ],
            [
             0.7777777777777778,
             "#fb9f3a"
            ],
            [
             0.8888888888888888,
             "#fdca26"
            ],
            [
             1,
             "#f0f921"
            ]
           ]
          },
          "colorway": [
           "#636efa",
           "#EF553B",
           "#00cc96",
           "#ab63fa",
           "#FFA15A",
           "#19d3f3",
           "#FF6692",
           "#B6E880",
           "#FF97FF",
           "#FECB52"
          ],
          "font": {
           "color": "#2a3f5f"
          },
          "geo": {
           "bgcolor": "white",
           "lakecolor": "white",
           "landcolor": "#E5ECF6",
           "showlakes": true,
           "showland": true,
           "subunitcolor": "white"
          },
          "hoverlabel": {
           "align": "left"
          },
          "hovermode": "closest",
          "mapbox": {
           "style": "light"
          },
          "paper_bgcolor": "white",
          "plot_bgcolor": "#E5ECF6",
          "polar": {
           "angularaxis": {
            "gridcolor": "white",
            "linecolor": "white",
            "ticks": ""
           },
           "bgcolor": "#E5ECF6",
           "radialaxis": {
            "gridcolor": "white",
            "linecolor": "white",
            "ticks": ""
           }
          },
          "scene": {
           "xaxis": {
            "backgroundcolor": "#E5ECF6",
            "gridcolor": "white",
            "gridwidth": 2,
            "linecolor": "white",
            "showbackground": true,
            "ticks": "",
            "zerolinecolor": "white"
           },
           "yaxis": {
            "backgroundcolor": "#E5ECF6",
            "gridcolor": "white",
            "gridwidth": 2,
            "linecolor": "white",
            "showbackground": true,
            "ticks": "",
            "zerolinecolor": "white"
           },
           "zaxis": {
            "backgroundcolor": "#E5ECF6",
            "gridcolor": "white",
            "gridwidth": 2,
            "linecolor": "white",
            "showbackground": true,
            "ticks": "",
            "zerolinecolor": "white"
           }
          },
          "shapedefaults": {
           "line": {
            "color": "#2a3f5f"
           }
          },
          "ternary": {
           "aaxis": {
            "gridcolor": "white",
            "linecolor": "white",
            "ticks": ""
           },
           "baxis": {
            "gridcolor": "white",
            "linecolor": "white",
            "ticks": ""
           },
           "bgcolor": "#E5ECF6",
           "caxis": {
            "gridcolor": "white",
            "linecolor": "white",
            "ticks": ""
           }
          },
          "title": {
           "x": 0.05
          },
          "xaxis": {
           "automargin": true,
           "gridcolor": "white",
           "linecolor": "white",
           "ticks": "",
           "title": {
            "standoff": 15
           },
           "zerolinecolor": "white",
           "zerolinewidth": 2
          },
          "yaxis": {
           "automargin": true,
           "gridcolor": "white",
           "linecolor": "white",
           "ticks": "",
           "title": {
            "standoff": 15
           },
           "zerolinecolor": "white",
           "zerolinewidth": 2
          }
         }
        },
        "title": {
         "text": "Replacement Player Weekly Score"
        },
        "xaxis": {
         "categoryorder": "total descending"
        }
       }
      }
     },
     "metadata": {},
     "output_type": "display_data"
    }
   ],
   "source": [
    "# we should now calculate the replacement average points for each position\n",
    "# if limit is set to None, there is no limit on the replacement players and\n",
    "# all are used to calculate the average. It may be more realistic to just use\n",
    "# the top # = LIMIT players on the waiver wire at a position, since those are\n",
    "# the replacement options you would actually pickup\n",
    "replacement_averages = {}\n",
    "LIMIT = 10\n",
    "\n",
    "for position in FANTASY_POSITIONS:\n",
    "    pos_sum = 0\n",
    "    pos_players = 0 if not LIMIT else LIMIT\n",
    "    top_players = []\n",
    "\n",
    "    for player in replacement_players:\n",
    "        # Flex encompasses three positional replacement possibilities, so we\n",
    "        # must take all three into account\n",
    "        if position == \"FLEX\":\n",
    "            for subposition in [\"RB\", \"WR\", \"TE\"]:\n",
    "                if subposition in replacement_players[player][\"fantasy_positions\"]:\n",
    "                    if not LIMIT:\n",
    "                        pos_sum += replacement_players[player][\"points\"]\n",
    "                        pos_players += 1\n",
    "                    else:\n",
    "                        if len(top_players) < LIMIT:\n",
    "                            top_players.append(\n",
    "                                replacement_players[player][\"points\"])\n",
    "                        else:\n",
    "                            p_points = replacement_players[player][\"points\"]\n",
    "                            top_players = [p_points if p_points > min(\n",
    "                                top_players) else curr_top for curr_top in top_players]\n",
    "                        pos_sum = sum(top_players)\n",
    "        else:\n",
    "            if position in replacement_players[player][\"fantasy_positions\"]:\n",
    "                if not LIMIT:\n",
    "                    pos_sum += replacement_players[player][\"points\"]\n",
    "                    pos_players += 1\n",
    "                else:\n",
    "                    if len(top_players) < LIMIT:\n",
    "                        top_players.append(\n",
    "                            replacement_players[player][\"points\"])\n",
    "                    else:\n",
    "                        p_points = replacement_players[player][\"points\"]\n",
    "                        top_players = [p_points if p_points > min(top_players) else curr_top for curr_top in top_players]\n",
    "                    pos_sum = sum(top_players)\n",
    "\n",
    "    \n",
    "    replacement_averages[position] = pos_sum / pos_players\n",
    "\n",
    "fig = go.Figure()\n",
    "\n",
    "weekly_replacements = [val / CURRENT_WEEK for val in replacement_averages.values()]\n",
    "fig.add_trace(\n",
    "    go.Bar(x=list(replacement_averages.keys()), y=weekly_replacements,\n",
    "           marker=dict(color=weekly_replacements, coloraxis=\"coloraxis\"))\n",
    ")\n",
    "\n",
    "fig.update_layout(coloraxis=dict(colorscale=px.colors.diverging.RdYlGn),\n",
    "                  title=\"Replacement Player Weekly Score\",\n",
    "                  showlegend=False,\n",
    "                  xaxis={'categoryorder': 'total descending'},\n",
    "                  )\n",
    "\n",
    "fig.show()\n"
   ]
  },
  {
   "cell_type": "code",
   "execution_count": 274,
   "metadata": {},
   "outputs": [
    {
     "data": {
      "text/plain": [
       "90.65499999999997"
      ]
     },
     "execution_count": 274,
     "metadata": {},
     "output_type": "execute_result"
    }
   ],
   "source": [
    "(sum(replacement_averages.values()) + replacement_averages[\"RB\"] + replacement_averages[\"WR\"] + replacement_averages[\"FLEX\"]) / CURRENT_WEEK"
   ]
  },
  {
   "cell_type": "markdown",
   "metadata": {},
   "source": [
    "We see above that we have generated a weekly score for a typical replacement level player at each position. If we were to construct a starting lineup from these players, it would be expected to score about 92 points. If we hover over the list, we see that a replacement quarteback is worth about 17 points on average, while a replacement tight end is worth about 6. FLEX players have a higher expected score than the position groups that make up the category because they have the benefit of choosing the highest performing players at three different positions. Certainly though I did not expect Kickers to have a higher replacement value than running backs or tight ends. It just goes to show how important those draft picks are to team success (looking at you Stephane).\n",
    "\n",
    "Now that we have those values calculated for replacements, lets move onto the interesting part and calculate the difference between these values and a players' actual roster."
   ]
  },
  {
   "cell_type": "code",
   "execution_count": 275,
   "metadata": {},
   "outputs": [],
   "source": [
    "# After we have the expected replacement score, we can simply calculate the difference\n",
    "# between this average score and a players' total score to find their points above replacement.\n",
    "\n",
    "for roster in rosters:\n",
    "    roster[\"PAR_values\"] = []\n",
    "    roster[\"PAR_values_weekly\"] = []\n",
    "    roster[\"PAR_names\"] = []\n",
    "    for player in roster[\"players\"]:\n",
    "        player_position = rostered_players[player][\"position\"]\n",
    "        player_points = rostered_players[player][\"points\"]\n",
    "        rostered_players[player][\"PAR\"] = player_points - replacement_averages[player_position]\n",
    "        rostered_players[player][\"PAR_weekly\"] = (player_points - replacement_averages[player_position])/CURRENT_WEEK\n",
    "        roster[\"PAR_values\"].append(player_points - replacement_averages[player_position])\n",
    "        roster[\"PAR_values_weekly\"].append((player_points - replacement_averages[player_position])/CURRENT_WEEK)\n",
    "        roster[\"PAR_names\"].append(rostered_players[player][\"name\"])\n",
    "\n",
    "# use this to sanity check with ben's roster\n",
    "# for player, par_value in zip(rosters[0][\"players\"], rosters[0][\"PAR_values\"]):\n",
    "#     print(f\"{rostered_players[player]['name']} has scored {rostered_players[player]['points']} pts. This is {round(par_value, 2)} points {'above' if par_value > 0 else 'below'} a typical replacement {rostered_players[player]['position']}\")\n"
   ]
  },
  {
   "cell_type": "code",
   "execution_count": 276,
   "metadata": {},
   "outputs": [
    {
     "data": {
      "application/vnd.plotly.v1+json": {
       "config": {
        "plotlyServerURL": "https://plot.ly"
       },
       "data": [
        {
         "marker": {
          "cmid": 0,
          "color": [
           -1,
           6.5375000000000005,
           0.01249999999999929,
           6.080000000000002,
           -6.2875000000000005,
           4.2,
           1.4125000000000014,
           3.325,
           -7.412499999999999,
           3.8500000000000014,
           -5.712499999999999,
           -3.3374999999999986,
           -0.47500000000000053,
           -1.5374999999999988,
           1.9999999999999991,
           -7.624999999999999,
           2.3374999999999995,
           -1.625
          ],
          "coloraxis": "coloraxis"
         },
         "type": "bar",
         "x": [
          "Greg Zuerlein",
          "Travis Kelce",
          "Christian McCaffrey",
          "Matthew Stafford",
          "Jeffery Wilson",
          "T.J. Hockenson",
          "A.J. Brown",
          "Myles Gaskin",
          "Jerry Jeudy",
          "CeeDee Lamb",
          "Brandon Aiyuk",
          "Laviska Shenault",
          "Clyde Edwards-Helaire",
          "Chase Claypool",
          "Elijah Mitchell",
          "Rashod Bateman",
          "Javonte Williams",
          "PIT"
         ],
         "xaxis": "x",
         "y": [
          -1,
          6.5375000000000005,
          0.01249999999999929,
          6.080000000000002,
          -6.2875000000000005,
          4.2,
          1.4125000000000014,
          3.325,
          -7.412499999999999,
          3.8500000000000014,
          -5.712499999999999,
          -3.3374999999999986,
          -0.47500000000000053,
          -1.5374999999999988,
          1.9999999999999991,
          -7.624999999999999,
          2.3374999999999995,
          -1.625
         ],
         "yaxis": "y"
        },
        {
         "marker": {
          "cmid": 0,
          "color": [
           -3.6624999999999988,
           5.0249999999999995,
           0.8749999999999991,
           2.5250000000000012,
           -1.2899999999999974,
           8.899999999999999,
           3.937499999999999,
           -6.924999999999999,
           6.8375,
           2.8625,
           3.575000000000001,
           1.75,
           3.382500000000004,
           -0.7749999999999986,
           4.099999999999999,
           -3.375,
           -3.75
          ],
          "coloraxis": "coloraxis"
         },
         "type": "bar",
         "x": [
          "Allen Robinson",
          "Melvin Gordon",
          "Mike Davis",
          "C.J. Uzomah",
          "Dak Prescott",
          "Joe Mixon",
          "Chase Edmonds",
          "Russell Gage",
          "Deebo Samuel",
          "Dawson Knox",
          "Terry McLaurin",
          "Nick Folk",
          "Joe Burrow",
          "Van Jefferson",
          "Antonio Gibson",
          "BAL",
          "MIA"
         ],
         "xaxis": "x2",
         "y": [
          -3.6624999999999988,
          5.0249999999999995,
          0.8749999999999991,
          2.5250000000000012,
          -1.2899999999999974,
          8.899999999999999,
          3.937499999999999,
          -6.924999999999999,
          6.8375,
          2.8625,
          3.575000000000001,
          1.75,
          3.382500000000004,
          -0.7749999999999986,
          4.099999999999999,
          -3.375,
          -3.75
         ],
         "yaxis": "y2"
        },
        {
         "marker": {
          "cmid": 0,
          "color": [
           -0.25,
           -5.549999999999999,
           -3.3625000000000007,
           -3.0249999999999986,
           2.6250000000000018,
           -2.737499999999999,
           2.125000000000001,
           1.9249999999999998,
           5.867500000000003,
           5.2375,
           -17.304999999999996,
           0.32500000000000107,
           2.812499999999999,
           4.4,
           6.0249999999999995,
           2.3374999999999995,
           -0.25,
           0.125
          ],
          "coloraxis": "coloraxis"
         },
         "type": "bar",
         "x": [
          "Justin Tucker",
          "Jarvis Landry",
          "Carlos Hyde",
          "DeVante Parker",
          "Tyler Lockett",
          "Sterling Shepard",
          "Hunter Henry",
          "Dalvin Cook",
          "Josh Allen",
          "Mark Andrews",
          "Colt McCoy",
          "Emmanuel Sanders",
          "Darrel Williams",
          "Marquise Brown",
          "James Robinson",
          "Chuba Hubbard",
          "NE",
          "TB"
         ],
         "xaxis": "x3",
         "y": [
          -0.25,
          -5.549999999999999,
          -3.3625000000000007,
          -3.0249999999999986,
          2.6250000000000018,
          -2.737499999999999,
          2.125000000000001,
          1.9249999999999998,
          5.867500000000003,
          5.2375,
          -17.304999999999996,
          0.32500000000000107,
          2.812499999999999,
          4.4,
          6.0249999999999995,
          2.3374999999999995,
          -0.25,
          0.125
         ],
         "yaxis": "y3"
        },
        {
         "marker": {
          "cmid": 0,
          "color": [
           -0.3874999999999993,
           2.637500000000001,
           5.812500000000002,
           -1.4000000000000004,
           4.8,
           0.7749999999999995,
           1.512500000000001,
           2.7875000000000005,
           -0.875,
           5.3,
           2.2300000000000004,
           1.8775000000000048,
           -1.8249999999999993,
           0.75,
           9.175,
           2.7125000000000012,
           -0.75
          ],
          "coloraxis": "coloraxis"
         },
         "type": "bar",
         "x": [
          "Marvin Jones",
          "Brandin Cooks",
          "Mike Evans",
          "David Johnson",
          "James Conner",
          "Saquon Barkley",
          "Christian Kirk",
          "Dalton Schultz",
          "Daniel Carlson",
          "Damien Harris",
          "Justin Jefferson",
          "Justin Herbert",
          "Tee Higgins",
          "Tyler Bass",
          "Najee Harris",
          "Kyle Pitts",
          "CAR"
         ],
         "xaxis": "x4",
         "y": [
          -0.3874999999999993,
          2.637500000000001,
          5.812500000000002,
          -1.4000000000000004,
          4.8,
          0.7749999999999995,
          1.512500000000001,
          2.7875000000000005,
          -0.875,
          5.3,
          2.2300000000000004,
          1.8775000000000048,
          -1.8249999999999993,
          0.75,
          9.175,
          2.7125000000000012,
          -0.75
         ],
         "yaxis": "y4"
        },
        {
         "marker": {
          "cmid": 0,
          "color": [
           -0.8249999999999993,
           8.349999999999998,
           -2.8124999999999996,
           8.2,
           1.4499999999999993,
           -6.512499999999999,
           0.1999999999999993,
           5.350000000000001,
           9.274999999999999,
           -1.5624999999999991,
           -2.4749999999999988,
           4.987500000000004,
           -1,
           -4.7875000000000005,
           -3.254999999999999,
           3.5249999999999995,
           -4.599999999999999,
           2
          ],
          "coloraxis": "coloraxis"
         },
         "type": "bar",
         "x": [
          "Cole Beasley",
          "Cordarrelle Patterson",
          "Logan Thomas",
          "Ezekiel Elliott",
          "Devontae Booker",
          "Tajae Sharpe",
          "Alex Collins",
          "Chris Godwin",
          "Aaron Jones",
          "Dan Arnold",
          "Calvin Ridley",
          "Kyler Murray",
          "Mason Crosby",
          "Derrick Gore",
          "Kadarius Toney",
          "Michael Carter",
          "Julio Jones",
          "ARI"
         ],
         "xaxis": "x5",
         "y": [
          -0.8249999999999993,
          8.349999999999998,
          -2.8124999999999996,
          8.2,
          1.4499999999999993,
          -6.512499999999999,
          0.1999999999999993,
          5.350000000000001,
          9.274999999999999,
          -1.5624999999999991,
          -2.4749999999999988,
          4.987500000000004,
          -1,
          -4.7875000000000005,
          -3.254999999999999,
          3.5249999999999995,
          -4.599999999999999,
          2
         ],
         "yaxis": "y5"
        },
        {
         "marker": {
          "cmid": 0,
          "color": [
           0.3425000000000047,
           -0.125,
           1.6125000000000007,
           0.5125000000000002,
           13.500000000000002,
           3.9750000000000014,
           -1.2125000000000004,
           -0.7750000000000004,
           3.9000000000000004,
           4.55,
           2.2625,
           1.5625000000000018,
           1.6874999999999991,
           -1.8500000000000005,
           5.390000000000004,
           0.5125000000000011,
           -0.03750000000000053,
           2.375
          ],
          "coloraxis": "coloraxis"
         },
         "type": "bar",
         "x": [
          "Ryan Tannehill",
          "Matt Prater",
          "Stefon Diggs",
          "Tyler Higbee",
          "Cooper Kupp",
          "Mike Williams",
          "Jeremy McNichols",
          "Chris Carson",
          "DJ Moore",
          "Nick Chubb",
          "Josh Jacobs",
          "Diontae Johnson",
          "Tony Pollard",
          "D'Ernest Johnson",
          "Jalen Hurts",
          "Jaylen Waddle",
          "Khalil Herbert",
          "BUF"
         ],
         "xaxis": "x6",
         "y": [
          0.3425000000000047,
          -0.125,
          1.6125000000000007,
          0.5125000000000002,
          13.500000000000002,
          3.9750000000000014,
          -1.2125000000000004,
          -0.7750000000000004,
          3.9000000000000004,
          4.55,
          2.2625,
          1.5625000000000018,
          1.6874999999999991,
          -1.8500000000000005,
          5.390000000000004,
          0.5125000000000011,
          -0.03750000000000053,
          2.375
         ],
         "yaxis": "y6"
        },
        {
         "marker": {
          "cmid": 0,
          "color": [
           0,
           4.0875,
           -2.3125000000000004,
           1.4249999999999998,
           0.03750000000000053,
           9.162499999999998,
           -4.837499999999999,
           -1.7124999999999995,
           -2.1374999999999993,
           3.485000000000003,
           -8.725,
           -0.3349999999999973,
           0.8124999999999991,
           -0.4375000000000009,
           1.8999999999999995,
           7.9875000000000025,
           0.33750000000000036,
           -1
          ],
          "coloraxis": "coloraxis"
         },
         "type": "bar",
         "x": [
          "Randy Bullock",
          "DeAndre Hopkins",
          "Devonta Freeman",
          "Kenyan Drake",
          "Jared Cook",
          "Alvin Kamara",
          "Kenny Golladay",
          "Jonnu Smith",
          "George Kittle",
          "Lamar Jackson",
          "Michael Gallup",
          "Daniel Jones",
          "David Montgomery",
          "Devin Singletary",
          "Zack Moss",
          "Ja'Marr Chase",
          "A.J. Green",
          "LAR"
         ],
         "xaxis": "x7",
         "y": [
          0,
          4.0875,
          -2.3125000000000004,
          1.4249999999999998,
          0.03750000000000053,
          9.162499999999998,
          -4.837499999999999,
          -1.7124999999999995,
          -2.1374999999999993,
          3.485000000000003,
          -8.725,
          -0.3349999999999973,
          0.8124999999999991,
          -0.4375000000000009,
          1.8999999999999995,
          7.9875000000000025,
          0.33750000000000036,
          -1
         ],
         "yaxis": "y7"
        },
        {
         "marker": {
          "cmid": 0,
          "color": [
           -0.2774999999999963,
           -4.899999999999997,
           0.9625000000000004,
           3.5500000000000007,
           -6.2875000000000005,
           -0.7724999999999973,
           -4.574999999999999,
           16.625,
           4.0375000000000005,
           -1.2875000000000005,
           6.137500000000001,
           2.4125000000000005,
           0.375,
           8.825,
           3.9125000000000014,
           -1.4749999999999988,
           0.9124999999999996,
           0.625
          ],
          "coloraxis": "coloraxis"
         },
         "type": "bar",
         "x": [
          "Kirk Cousins",
          "Russell Wilson",
          "Keenan Allen",
          "Adam Thielen",
          "Adrian Peterson",
          "Derek Carr",
          "Jamison Crowder",
          "Derrick Henry",
          "Mike Gesicki",
          "Nyheim Hines",
          "DK Metcalf",
          "Noah Fant",
          "Matt Gay",
          "D'Andre Swift",
          "Michael Pittman",
          "DeVonta Smith",
          "Kenneth Gainwell",
          "IND"
         ],
         "xaxis": "x8",
         "y": [
          -0.2774999999999963,
          -4.899999999999997,
          0.9625000000000004,
          3.5500000000000007,
          -6.2875000000000005,
          -0.7724999999999973,
          -4.574999999999999,
          16.625,
          4.0375000000000005,
          -1.2875000000000005,
          6.137500000000001,
          2.4125000000000005,
          0.375,
          8.825,
          3.9125000000000014,
          -1.4749999999999988,
          0.9124999999999996,
          0.625
         ],
         "yaxis": "y8"
        },
        {
         "marker": {
          "cmid": 0,
          "color": [
           1.4250000000000007,
           8.257500000000004,
           -5.287499999999999,
           2.762500000000001,
           -0.40749999999999886,
           8.675000000000002,
           3.075,
           6.925,
           5.347500000000004,
           5.4875,
           -1.875,
           1.4500000000000002,
           0.15000000000000036,
           0.6875000000000018,
           0.3749999999999991,
           11.2,
           -3.2125000000000004,
           -0.625
          ],
          "coloraxis": "coloraxis"
         },
         "type": "bar",
         "x": [
          "Zach Ertz",
          "Tom Brady",
          "Odell Beckham",
          "Amari Cooper",
          "Tyler Boyd",
          "Tyreek Hill",
          "J.D. McKissic",
          "Leonard Fournette",
          "Patrick Mahomes",
          "Kareem Hunt",
          "Younghoe Koo",
          "Dallas Goedert",
          "Rob Gronkowski",
          "Antonio Brown",
          "Miles Sanders",
          "Jonathan Taylor",
          "Salvon Ahmed",
          "DAL"
         ],
         "xaxis": "x9",
         "y": [
          1.4250000000000007,
          8.257500000000004,
          -5.287499999999999,
          2.762500000000001,
          -0.40749999999999886,
          8.675000000000002,
          3.075,
          6.925,
          5.347500000000004,
          5.4875,
          -1.875,
          1.4500000000000002,
          0.15000000000000036,
          0.6875000000000018,
          0.3749999999999991,
          11.2,
          -3.2125000000000004,
          -0.625
         ],
         "yaxis": "y9"
        },
        {
         "marker": {
          "cmid": 0,
          "color": [
           3.1750000000000007,
           5.375000000000002,
           2.1375,
           -0.6874999999999982,
           -2.05,
           1.3499999999999996,
           -1.625,
           10.549999999999997,
           1.8125000000000018,
           -2.6750000000000007,
           8.0625,
           -0.5499999999999989,
           -0.6874999999999982,
           -6.754999999999997,
           -0.4250000000000007,
           -0.7499999999999991,
           2.4650000000000034,
           1.375
          ],
          "coloraxis": "coloraxis"
         },
         "type": "bar",
         "x": [
          "Robert Woods",
          "Davante Adams",
          "Darren Waller",
          "Corey Davis",
          "Evan Engram",
          "Jamaal Williams",
          "Harrison Butker",
          "Austin Ekeler",
          "Courtland Sutton",
          "Boston Scott",
          "Darrell Henderson",
          "Jakobi Meyers",
          "Hunter Renfrow",
          "Tua Tagovailoa",
          "AJ Dillon",
          "Pat Freiermuth",
          "Aaron Rodgers",
          "NO"
         ],
         "xaxis": "x10",
         "y": [
          3.1750000000000007,
          5.375000000000002,
          2.1375,
          -0.6874999999999982,
          -2.05,
          1.3499999999999996,
          -1.625,
          10.549999999999997,
          1.8125000000000018,
          -2.6750000000000007,
          8.0625,
          -0.5499999999999989,
          -0.6874999999999982,
          -6.754999999999997,
          -0.4250000000000007,
          -0.7499999999999991,
          2.4650000000000034,
          1.375
         ],
         "yaxis": "y10"
        }
       ],
       "layout": {
        "annotations": [
         {
          "font": {
           "size": 16
          },
          "showarrow": false,
          "text": "My Goat Loves You",
          "x": 0.225,
          "xanchor": "center",
          "xref": "paper",
          "y": 1,
          "yanchor": "bottom",
          "yref": "paper"
         },
         {
          "font": {
           "size": 16
          },
          "showarrow": false,
          "text": "RB sanctuary",
          "x": 0.775,
          "xanchor": "center",
          "xref": "paper",
          "y": 1,
          "yanchor": "bottom",
          "yref": "paper"
         },
         {
          "font": {
           "size": 16
          },
          "showarrow": false,
          "text": "The Brutherhood",
          "x": 0.225,
          "xanchor": "center",
          "xref": "paper",
          "y": 0.78,
          "yanchor": "bottom",
          "yref": "paper"
         },
         {
          "font": {
           "size": 16
          },
          "showarrow": false,
          "text": "Tree Leaves",
          "x": 0.775,
          "xanchor": "center",
          "xref": "paper",
          "y": 0.78,
          "yanchor": "bottom",
          "yref": "paper"
         },
         {
          "font": {
           "size": 16
          },
          "showarrow": false,
          "text": "the noés",
          "x": 0.225,
          "xanchor": "center",
          "xref": "paper",
          "y": 0.56,
          "yanchor": "bottom",
          "yref": "paper"
         },
         {
          "font": {
           "size": 16
          },
          "showarrow": false,
          "text": "AssNTitties",
          "x": 0.775,
          "xanchor": "center",
          "xref": "paper",
          "y": 0.56,
          "yanchor": "bottom",
          "yref": "paper"
         },
         {
          "font": {
           "size": 16
          },
          "showarrow": false,
          "text": "billcap",
          "x": 0.225,
          "xanchor": "center",
          "xref": "paper",
          "y": 0.33999999999999997,
          "yanchor": "bottom",
          "yref": "paper"
         },
         {
          "font": {
           "size": 16
          },
          "showarrow": false,
          "text": "Thicc King",
          "x": 0.775,
          "xanchor": "center",
          "xref": "paper",
          "y": 0.33999999999999997,
          "yanchor": "bottom",
          "yref": "paper"
         },
         {
          "font": {
           "size": 16
          },
          "showarrow": false,
          "text": "tealeaves",
          "x": 0.225,
          "xanchor": "center",
          "xref": "paper",
          "y": 0.12,
          "yanchor": "bottom",
          "yref": "paper"
         },
         {
          "font": {
           "size": 16
          },
          "showarrow": false,
          "text": "SideThicc #2",
          "x": 0.775,
          "xanchor": "center",
          "xref": "paper",
          "y": 0.12,
          "yanchor": "bottom",
          "yref": "paper"
         }
        ],
        "coloraxis": {
         "colorscale": [
          [
           0,
           "rgb(165,0,38)"
          ],
          [
           0.1,
           "rgb(215,48,39)"
          ],
          [
           0.2,
           "rgb(244,109,67)"
          ],
          [
           0.3,
           "rgb(253,174,97)"
          ],
          [
           0.4,
           "rgb(254,224,139)"
          ],
          [
           0.5,
           "rgb(255,255,191)"
          ],
          [
           0.6,
           "rgb(217,239,139)"
          ],
          [
           0.7,
           "rgb(166,217,106)"
          ],
          [
           0.8,
           "rgb(102,189,99)"
          ],
          [
           0.9,
           "rgb(26,152,80)"
          ],
          [
           1,
           "rgb(0,104,55)"
          ]
         ]
        },
        "height": 2000,
        "showlegend": false,
        "template": {
         "data": {
          "bar": [
           {
            "error_x": {
             "color": "#2a3f5f"
            },
            "error_y": {
             "color": "#2a3f5f"
            },
            "marker": {
             "line": {
              "color": "#E5ECF6",
              "width": 0.5
             },
             "pattern": {
              "fillmode": "overlay",
              "size": 10,
              "solidity": 0.2
             }
            },
            "type": "bar"
           }
          ],
          "barpolar": [
           {
            "marker": {
             "line": {
              "color": "#E5ECF6",
              "width": 0.5
             },
             "pattern": {
              "fillmode": "overlay",
              "size": 10,
              "solidity": 0.2
             }
            },
            "type": "barpolar"
           }
          ],
          "carpet": [
           {
            "aaxis": {
             "endlinecolor": "#2a3f5f",
             "gridcolor": "white",
             "linecolor": "white",
             "minorgridcolor": "white",
             "startlinecolor": "#2a3f5f"
            },
            "baxis": {
             "endlinecolor": "#2a3f5f",
             "gridcolor": "white",
             "linecolor": "white",
             "minorgridcolor": "white",
             "startlinecolor": "#2a3f5f"
            },
            "type": "carpet"
           }
          ],
          "choropleth": [
           {
            "colorbar": {
             "outlinewidth": 0,
             "ticks": ""
            },
            "type": "choropleth"
           }
          ],
          "contour": [
           {
            "colorbar": {
             "outlinewidth": 0,
             "ticks": ""
            },
            "colorscale": [
             [
              0,
              "#0d0887"
             ],
             [
              0.1111111111111111,
              "#46039f"
             ],
             [
              0.2222222222222222,
              "#7201a8"
             ],
             [
              0.3333333333333333,
              "#9c179e"
             ],
             [
              0.4444444444444444,
              "#bd3786"
             ],
             [
              0.5555555555555556,
              "#d8576b"
             ],
             [
              0.6666666666666666,
              "#ed7953"
             ],
             [
              0.7777777777777778,
              "#fb9f3a"
             ],
             [
              0.8888888888888888,
              "#fdca26"
             ],
             [
              1,
              "#f0f921"
             ]
            ],
            "type": "contour"
           }
          ],
          "contourcarpet": [
           {
            "colorbar": {
             "outlinewidth": 0,
             "ticks": ""
            },
            "type": "contourcarpet"
           }
          ],
          "heatmap": [
           {
            "colorbar": {
             "outlinewidth": 0,
             "ticks": ""
            },
            "colorscale": [
             [
              0,
              "#0d0887"
             ],
             [
              0.1111111111111111,
              "#46039f"
             ],
             [
              0.2222222222222222,
              "#7201a8"
             ],
             [
              0.3333333333333333,
              "#9c179e"
             ],
             [
              0.4444444444444444,
              "#bd3786"
             ],
             [
              0.5555555555555556,
              "#d8576b"
             ],
             [
              0.6666666666666666,
              "#ed7953"
             ],
             [
              0.7777777777777778,
              "#fb9f3a"
             ],
             [
              0.8888888888888888,
              "#fdca26"
             ],
             [
              1,
              "#f0f921"
             ]
            ],
            "type": "heatmap"
           }
          ],
          "heatmapgl": [
           {
            "colorbar": {
             "outlinewidth": 0,
             "ticks": ""
            },
            "colorscale": [
             [
              0,
              "#0d0887"
             ],
             [
              0.1111111111111111,
              "#46039f"
             ],
             [
              0.2222222222222222,
              "#7201a8"
             ],
             [
              0.3333333333333333,
              "#9c179e"
             ],
             [
              0.4444444444444444,
              "#bd3786"
             ],
             [
              0.5555555555555556,
              "#d8576b"
             ],
             [
              0.6666666666666666,
              "#ed7953"
             ],
             [
              0.7777777777777778,
              "#fb9f3a"
             ],
             [
              0.8888888888888888,
              "#fdca26"
             ],
             [
              1,
              "#f0f921"
             ]
            ],
            "type": "heatmapgl"
           }
          ],
          "histogram": [
           {
            "marker": {
             "pattern": {
              "fillmode": "overlay",
              "size": 10,
              "solidity": 0.2
             }
            },
            "type": "histogram"
           }
          ],
          "histogram2d": [
           {
            "colorbar": {
             "outlinewidth": 0,
             "ticks": ""
            },
            "colorscale": [
             [
              0,
              "#0d0887"
             ],
             [
              0.1111111111111111,
              "#46039f"
             ],
             [
              0.2222222222222222,
              "#7201a8"
             ],
             [
              0.3333333333333333,
              "#9c179e"
             ],
             [
              0.4444444444444444,
              "#bd3786"
             ],
             [
              0.5555555555555556,
              "#d8576b"
             ],
             [
              0.6666666666666666,
              "#ed7953"
             ],
             [
              0.7777777777777778,
              "#fb9f3a"
             ],
             [
              0.8888888888888888,
              "#fdca26"
             ],
             [
              1,
              "#f0f921"
             ]
            ],
            "type": "histogram2d"
           }
          ],
          "histogram2dcontour": [
           {
            "colorbar": {
             "outlinewidth": 0,
             "ticks": ""
            },
            "colorscale": [
             [
              0,
              "#0d0887"
             ],
             [
              0.1111111111111111,
              "#46039f"
             ],
             [
              0.2222222222222222,
              "#7201a8"
             ],
             [
              0.3333333333333333,
              "#9c179e"
             ],
             [
              0.4444444444444444,
              "#bd3786"
             ],
             [
              0.5555555555555556,
              "#d8576b"
             ],
             [
              0.6666666666666666,
              "#ed7953"
             ],
             [
              0.7777777777777778,
              "#fb9f3a"
             ],
             [
              0.8888888888888888,
              "#fdca26"
             ],
             [
              1,
              "#f0f921"
             ]
            ],
            "type": "histogram2dcontour"
           }
          ],
          "mesh3d": [
           {
            "colorbar": {
             "outlinewidth": 0,
             "ticks": ""
            },
            "type": "mesh3d"
           }
          ],
          "parcoords": [
           {
            "line": {
             "colorbar": {
              "outlinewidth": 0,
              "ticks": ""
             }
            },
            "type": "parcoords"
           }
          ],
          "pie": [
           {
            "automargin": true,
            "type": "pie"
           }
          ],
          "scatter": [
           {
            "marker": {
             "colorbar": {
              "outlinewidth": 0,
              "ticks": ""
             }
            },
            "type": "scatter"
           }
          ],
          "scatter3d": [
           {
            "line": {
             "colorbar": {
              "outlinewidth": 0,
              "ticks": ""
             }
            },
            "marker": {
             "colorbar": {
              "outlinewidth": 0,
              "ticks": ""
             }
            },
            "type": "scatter3d"
           }
          ],
          "scattercarpet": [
           {
            "marker": {
             "colorbar": {
              "outlinewidth": 0,
              "ticks": ""
             }
            },
            "type": "scattercarpet"
           }
          ],
          "scattergeo": [
           {
            "marker": {
             "colorbar": {
              "outlinewidth": 0,
              "ticks": ""
             }
            },
            "type": "scattergeo"
           }
          ],
          "scattergl": [
           {
            "marker": {
             "colorbar": {
              "outlinewidth": 0,
              "ticks": ""
             }
            },
            "type": "scattergl"
           }
          ],
          "scattermapbox": [
           {
            "marker": {
             "colorbar": {
              "outlinewidth": 0,
              "ticks": ""
             }
            },
            "type": "scattermapbox"
           }
          ],
          "scatterpolar": [
           {
            "marker": {
             "colorbar": {
              "outlinewidth": 0,
              "ticks": ""
             }
            },
            "type": "scatterpolar"
           }
          ],
          "scatterpolargl": [
           {
            "marker": {
             "colorbar": {
              "outlinewidth": 0,
              "ticks": ""
             }
            },
            "type": "scatterpolargl"
           }
          ],
          "scatterternary": [
           {
            "marker": {
             "colorbar": {
              "outlinewidth": 0,
              "ticks": ""
             }
            },
            "type": "scatterternary"
           }
          ],
          "surface": [
           {
            "colorbar": {
             "outlinewidth": 0,
             "ticks": ""
            },
            "colorscale": [
             [
              0,
              "#0d0887"
             ],
             [
              0.1111111111111111,
              "#46039f"
             ],
             [
              0.2222222222222222,
              "#7201a8"
             ],
             [
              0.3333333333333333,
              "#9c179e"
             ],
             [
              0.4444444444444444,
              "#bd3786"
             ],
             [
              0.5555555555555556,
              "#d8576b"
             ],
             [
              0.6666666666666666,
              "#ed7953"
             ],
             [
              0.7777777777777778,
              "#fb9f3a"
             ],
             [
              0.8888888888888888,
              "#fdca26"
             ],
             [
              1,
              "#f0f921"
             ]
            ],
            "type": "surface"
           }
          ],
          "table": [
           {
            "cells": {
             "fill": {
              "color": "#EBF0F8"
             },
             "line": {
              "color": "white"
             }
            },
            "header": {
             "fill": {
              "color": "#C8D4E3"
             },
             "line": {
              "color": "white"
             }
            },
            "type": "table"
           }
          ]
         },
         "layout": {
          "annotationdefaults": {
           "arrowcolor": "#2a3f5f",
           "arrowhead": 0,
           "arrowwidth": 1
          },
          "autotypenumbers": "strict",
          "coloraxis": {
           "colorbar": {
            "outlinewidth": 0,
            "ticks": ""
           }
          },
          "colorscale": {
           "diverging": [
            [
             0,
             "#8e0152"
            ],
            [
             0.1,
             "#c51b7d"
            ],
            [
             0.2,
             "#de77ae"
            ],
            [
             0.3,
             "#f1b6da"
            ],
            [
             0.4,
             "#fde0ef"
            ],
            [
             0.5,
             "#f7f7f7"
            ],
            [
             0.6,
             "#e6f5d0"
            ],
            [
             0.7,
             "#b8e186"
            ],
            [
             0.8,
             "#7fbc41"
            ],
            [
             0.9,
             "#4d9221"
            ],
            [
             1,
             "#276419"
            ]
           ],
           "sequential": [
            [
             0,
             "#0d0887"
            ],
            [
             0.1111111111111111,
             "#46039f"
            ],
            [
             0.2222222222222222,
             "#7201a8"
            ],
            [
             0.3333333333333333,
             "#9c179e"
            ],
            [
             0.4444444444444444,
             "#bd3786"
            ],
            [
             0.5555555555555556,
             "#d8576b"
            ],
            [
             0.6666666666666666,
             "#ed7953"
            ],
            [
             0.7777777777777778,
             "#fb9f3a"
            ],
            [
             0.8888888888888888,
             "#fdca26"
            ],
            [
             1,
             "#f0f921"
            ]
           ],
           "sequentialminus": [
            [
             0,
             "#0d0887"
            ],
            [
             0.1111111111111111,
             "#46039f"
            ],
            [
             0.2222222222222222,
             "#7201a8"
            ],
            [
             0.3333333333333333,
             "#9c179e"
            ],
            [
             0.4444444444444444,
             "#bd3786"
            ],
            [
             0.5555555555555556,
             "#d8576b"
            ],
            [
             0.6666666666666666,
             "#ed7953"
            ],
            [
             0.7777777777777778,
             "#fb9f3a"
            ],
            [
             0.8888888888888888,
             "#fdca26"
            ],
            [
             1,
             "#f0f921"
            ]
           ]
          },
          "colorway": [
           "#636efa",
           "#EF553B",
           "#00cc96",
           "#ab63fa",
           "#FFA15A",
           "#19d3f3",
           "#FF6692",
           "#B6E880",
           "#FF97FF",
           "#FECB52"
          ],
          "font": {
           "color": "#2a3f5f"
          },
          "geo": {
           "bgcolor": "white",
           "lakecolor": "white",
           "landcolor": "#E5ECF6",
           "showlakes": true,
           "showland": true,
           "subunitcolor": "white"
          },
          "hoverlabel": {
           "align": "left"
          },
          "hovermode": "closest",
          "mapbox": {
           "style": "light"
          },
          "paper_bgcolor": "white",
          "plot_bgcolor": "#E5ECF6",
          "polar": {
           "angularaxis": {
            "gridcolor": "white",
            "linecolor": "white",
            "ticks": ""
           },
           "bgcolor": "#E5ECF6",
           "radialaxis": {
            "gridcolor": "white",
            "linecolor": "white",
            "ticks": ""
           }
          },
          "scene": {
           "xaxis": {
            "backgroundcolor": "#E5ECF6",
            "gridcolor": "white",
            "gridwidth": 2,
            "linecolor": "white",
            "showbackground": true,
            "ticks": "",
            "zerolinecolor": "white"
           },
           "yaxis": {
            "backgroundcolor": "#E5ECF6",
            "gridcolor": "white",
            "gridwidth": 2,
            "linecolor": "white",
            "showbackground": true,
            "ticks": "",
            "zerolinecolor": "white"
           },
           "zaxis": {
            "backgroundcolor": "#E5ECF6",
            "gridcolor": "white",
            "gridwidth": 2,
            "linecolor": "white",
            "showbackground": true,
            "ticks": "",
            "zerolinecolor": "white"
           }
          },
          "shapedefaults": {
           "line": {
            "color": "#2a3f5f"
           }
          },
          "ternary": {
           "aaxis": {
            "gridcolor": "white",
            "linecolor": "white",
            "ticks": ""
           },
           "baxis": {
            "gridcolor": "white",
            "linecolor": "white",
            "ticks": ""
           },
           "bgcolor": "#E5ECF6",
           "caxis": {
            "gridcolor": "white",
            "linecolor": "white",
            "ticks": ""
           }
          },
          "title": {
           "x": 0.05
          },
          "xaxis": {
           "automargin": true,
           "gridcolor": "white",
           "linecolor": "white",
           "ticks": "",
           "title": {
            "standoff": 15
           },
           "zerolinecolor": "white",
           "zerolinewidth": 2
          },
          "yaxis": {
           "automargin": true,
           "gridcolor": "white",
           "linecolor": "white",
           "ticks": "",
           "title": {
            "standoff": 15
           },
           "zerolinecolor": "white",
           "zerolinewidth": 2
          }
         }
        },
        "title": {
         "text": "Points Above Replacement per Week"
        },
        "width": 1500,
        "xaxis": {
         "anchor": "y",
         "domain": [
          0,
          0.45
         ]
        },
        "xaxis10": {
         "anchor": "y10",
         "domain": [
          0.55,
          1
         ]
        },
        "xaxis2": {
         "anchor": "y2",
         "domain": [
          0.55,
          1
         ]
        },
        "xaxis3": {
         "anchor": "y3",
         "domain": [
          0,
          0.45
         ]
        },
        "xaxis4": {
         "anchor": "y4",
         "domain": [
          0.55,
          1
         ]
        },
        "xaxis5": {
         "anchor": "y5",
         "domain": [
          0,
          0.45
         ]
        },
        "xaxis6": {
         "anchor": "y6",
         "domain": [
          0.55,
          1
         ]
        },
        "xaxis7": {
         "anchor": "y7",
         "domain": [
          0,
          0.45
         ]
        },
        "xaxis8": {
         "anchor": "y8",
         "domain": [
          0.55,
          1
         ]
        },
        "xaxis9": {
         "anchor": "y9",
         "domain": [
          0,
          0.45
         ]
        },
        "yaxis": {
         "anchor": "x",
         "domain": [
          0.88,
          1
         ]
        },
        "yaxis10": {
         "anchor": "x10",
         "domain": [
          0,
          0.12
         ],
         "matches": "y9",
         "showticklabels": false
        },
        "yaxis2": {
         "anchor": "x2",
         "domain": [
          0.88,
          1
         ],
         "matches": "y",
         "showticklabels": false
        },
        "yaxis3": {
         "anchor": "x3",
         "domain": [
          0.66,
          0.78
         ]
        },
        "yaxis4": {
         "anchor": "x4",
         "domain": [
          0.66,
          0.78
         ],
         "matches": "y3",
         "showticklabels": false
        },
        "yaxis5": {
         "anchor": "x5",
         "domain": [
          0.44,
          0.56
         ]
        },
        "yaxis6": {
         "anchor": "x6",
         "domain": [
          0.44,
          0.56
         ],
         "matches": "y5",
         "showticklabels": false
        },
        "yaxis7": {
         "anchor": "x7",
         "domain": [
          0.22,
          0.33999999999999997
         ]
        },
        "yaxis8": {
         "anchor": "x8",
         "domain": [
          0.22,
          0.33999999999999997
         ],
         "matches": "y7",
         "showticklabels": false
        },
        "yaxis9": {
         "anchor": "x9",
         "domain": [
          0,
          0.12
         ]
        }
       }
      }
     },
     "metadata": {},
     "output_type": "display_data"
    }
   ],
   "source": [
    "fig = make_subplots(rows=5, cols=2, shared_yaxes=True,\n",
    "                    subplot_titles=list(NAME_PAIRINGS.values()))\n",
    "\n",
    "for i in range(5):\n",
    "    for j in range(1, 3):\n",
    "        current = list(NAME_PAIRINGS.keys())[(i+i+j)-1]\n",
    "        # hacky cause rosters is out of order, fix later if you want\n",
    "        for roster in rosters:\n",
    "            if roster[\"owner_id\"] == current:\n",
    "                current_roster = roster\n",
    "    \n",
    "        fig.add_trace(\n",
    "            go.Bar(y=current_roster[\"PAR_values_weekly\"],\n",
    "                   x=current_roster[\"PAR_names\"],\n",
    "                   marker=dict(color=current_roster[\"PAR_values_weekly\"],\n",
    "                               cmid=0,\n",
    "                               coloraxis=\"coloraxis\")),\n",
    "            i+1, j\n",
    "        )\n",
    "\n",
    "fig.update_layout(coloraxis=dict(colorscale=px.colors.diverging.RdYlGn),\n",
    "                  title=\"Points Above Replacement per Week\",\n",
    "                  showlegend=False,\n",
    "                  height= 2000, width=1500\n",
    "                  )\n",
    "\n",
    "fig.show()\n"
   ]
  },
  {
   "cell_type": "markdown",
   "metadata": {},
   "source": [
    "Above, we can see the points above replacement per week for each player that is currently on a roster. There are some real standouts like Cooper Kupp and Derrick Henry. Most of the hugely negative players are ones who have been hurt most of the season like Jarvis Landry or Jerry Jeudy. If you hover over a bar, you can see the value for their points above replacement. Since I want to also use this as a measure of team strength, the next few charts will plot out some of the standout players and some of the rostered duds. Hopefully this will show how these guys get broken out into tiers and give some insight into the true value of certain players."
   ]
  },
  {
   "cell_type": "code",
   "execution_count": 277,
   "metadata": {},
   "outputs": [
    {
     "data": {
      "application/vnd.plotly.v1+json": {
       "config": {
        "plotlyServerURL": "https://plot.ly"
       },
       "data": [
        {
         "marker": {
          "cmid": 0,
          "color": [
           6.080000000000002,
           5.867500000000003,
           5.390000000000004,
           8.257500000000004,
           5.347500000000004,
           1.8775000000000048,
           4.987500000000004,
           3.485000000000003,
           2.4650000000000034,
           3.382500000000004
          ],
          "coloraxis": "coloraxis"
         },
         "type": "bar",
         "x": [
          "Matthew Stafford",
          "Josh Allen",
          "Jalen Hurts",
          "Tom Brady",
          "Patrick Mahomes",
          "Justin Herbert",
          "Kyler Murray",
          "Lamar Jackson",
          "Aaron Rodgers",
          "Joe Burrow"
         ],
         "xaxis": "x",
         "y": [
          6.080000000000002,
          5.867500000000003,
          5.390000000000004,
          8.257500000000004,
          5.347500000000004,
          1.8775000000000048,
          4.987500000000004,
          3.485000000000003,
          2.4650000000000034,
          3.382500000000004
         ],
         "yaxis": "y"
        },
        {
         "marker": {
          "cmid": 0,
          "color": [
           -0.2774999999999963,
           -4.899999999999997,
           -17.304999999999996,
           -0.7724999999999973,
           -1.2899999999999974,
           1.8775000000000048,
           -0.3349999999999973,
           -6.754999999999997,
           2.4650000000000034,
           0.3425000000000047
          ],
          "coloraxis": "coloraxis"
         },
         "type": "bar",
         "x": [
          "Kirk Cousins",
          "Russell Wilson",
          "Colt McCoy",
          "Derek Carr",
          "Dak Prescott",
          "Justin Herbert",
          "Daniel Jones",
          "Tua Tagovailoa",
          "Aaron Rodgers",
          "Ryan Tannehill"
         ],
         "xaxis": "x2",
         "y": [
          -0.2774999999999963,
          -4.899999999999997,
          -17.304999999999996,
          -0.7724999999999973,
          -1.2899999999999974,
          1.8775000000000048,
          -0.3349999999999973,
          -6.754999999999997,
          2.4650000000000034,
          0.3425000000000047
         ],
         "yaxis": "y2"
        },
        {
         "marker": {
          "cmid": 0,
          "color": [
           16.625,
           8.899999999999999,
           9.274999999999999,
           9.162499999999998,
           10.549999999999997,
           9.175,
           8.2,
           11.2,
           8.349999999999998,
           8.825
          ],
          "coloraxis": "coloraxis"
         },
         "type": "bar",
         "x": [
          "Derrick Henry",
          "Joe Mixon",
          "Aaron Jones",
          "Alvin Kamara",
          "Austin Ekeler",
          "Najee Harris",
          "Ezekiel Elliott",
          "Jonathan Taylor",
          "Cordarrelle Patterson",
          "D'Andre Swift"
         ],
         "xaxis": "x3",
         "y": [
          16.625,
          8.899999999999999,
          9.274999999999999,
          9.162499999999998,
          10.549999999999997,
          9.175,
          8.2,
          11.2,
          8.349999999999998,
          8.825
         ],
         "yaxis": "y3"
        },
        {
         "marker": {
          "cmid": 0,
          "color": [
           -1.2875000000000005,
           -6.2875000000000005,
           -1.8500000000000005,
           -6.2875000000000005,
           -4.7875000000000005,
           -1.4000000000000004,
           -3.3625000000000007,
           -2.3125000000000004,
           -3.2125000000000004,
           -2.6750000000000007
          ],
          "coloraxis": "coloraxis"
         },
         "type": "bar",
         "x": [
          "Nyheim Hines",
          "Jeffery Wilson",
          "D'Ernest Johnson",
          "Adrian Peterson",
          "Derrick Gore",
          "David Johnson",
          "Carlos Hyde",
          "Devonta Freeman",
          "Salvon Ahmed",
          "Boston Scott"
         ],
         "xaxis": "x4",
         "y": [
          -1.2875000000000005,
          -6.2875000000000005,
          -1.8500000000000005,
          -6.2875000000000005,
          -4.7875000000000005,
          -1.4000000000000004,
          -3.3625000000000007,
          -2.3125000000000004,
          -3.2125000000000004,
          -2.6750000000000007
         ],
         "yaxis": "y4"
        },
        {
         "marker": {
          "cmid": 0,
          "color": [
           8.349999999999998,
           5.350000000000001,
           6.137500000000001,
           4.4,
           13.500000000000002,
           5.812500000000002,
           6.8375,
           7.9875000000000025,
           8.675000000000002,
           5.375000000000002
          ],
          "coloraxis": "coloraxis"
         },
         "type": "bar",
         "x": [
          "Cordarrelle Patterson",
          "Chris Godwin",
          "DK Metcalf",
          "Marquise Brown",
          "Cooper Kupp",
          "Mike Evans",
          "Deebo Samuel",
          "Ja'Marr Chase",
          "Tyreek Hill",
          "Davante Adams"
         ],
         "xaxis": "x5",
         "y": [
          8.349999999999998,
          5.350000000000001,
          6.137500000000001,
          4.4,
          13.500000000000002,
          5.812500000000002,
          6.8375,
          7.9875000000000025,
          8.675000000000002,
          5.375000000000002
         ],
         "yaxis": "y5"
        },
        {
         "marker": {
          "cmid": 0,
          "color": [
           -5.287499999999999,
           -7.412499999999999,
           -4.599999999999999,
           -5.712499999999999,
           -8.725,
           -6.512499999999999,
           -7.624999999999999,
           -5.549999999999999,
           -6.924999999999999,
           -4.837499999999999
          ],
          "coloraxis": "coloraxis"
         },
         "type": "bar",
         "x": [
          "Odell Beckham",
          "Jerry Jeudy",
          "Julio Jones",
          "Brandon Aiyuk",
          "Michael Gallup",
          "Tajae Sharpe",
          "Rashod Bateman",
          "Jarvis Landry",
          "Russell Gage",
          "Kenny Golladay"
         ],
         "xaxis": "x6",
         "y": [
          -5.287499999999999,
          -7.412499999999999,
          -4.599999999999999,
          -5.712499999999999,
          -8.725,
          -6.512499999999999,
          -7.624999999999999,
          -5.549999999999999,
          -6.924999999999999,
          -4.837499999999999
         ],
         "yaxis": "y6"
        },
        {
         "marker": {
          "cmid": 0,
          "color": [
           6.5375000000000005,
           4.2,
           2.8625,
           5.2375,
           2.4125000000000005,
           2.5250000000000012,
           4.0375000000000005,
           2.7875000000000005,
           2.7125000000000012,
           2.1375
          ],
          "coloraxis": "coloraxis"
         },
         "type": "bar",
         "x": [
          "Travis Kelce",
          "T.J. Hockenson",
          "Dawson Knox",
          "Mark Andrews",
          "Noah Fant",
          "C.J. Uzomah",
          "Mike Gesicki",
          "Dalton Schultz",
          "Kyle Pitts",
          "Darren Waller"
         ],
         "xaxis": "x7",
         "y": [
          6.5375000000000005,
          4.2,
          2.8625,
          5.2375,
          2.4125000000000005,
          2.5250000000000012,
          4.0375000000000005,
          2.7875000000000005,
          2.7125000000000012,
          2.1375
         ],
         "yaxis": "y7"
        },
        {
         "marker": {
          "cmid": 0,
          "color": [
           -1.5624999999999991,
           -2.05,
           -1.7124999999999995,
           0.03750000000000053,
           1.4250000000000007,
           -2.1374999999999993,
           0.15000000000000036,
           -0.7499999999999991,
           0.5125000000000002,
           -2.8124999999999996
          ],
          "coloraxis": "coloraxis"
         },
         "type": "bar",
         "x": [
          "Dan Arnold",
          "Evan Engram",
          "Jonnu Smith",
          "Jared Cook",
          "Zach Ertz",
          "George Kittle",
          "Rob Gronkowski",
          "Pat Freiermuth",
          "Tyler Higbee",
          "Logan Thomas"
         ],
         "xaxis": "x8",
         "y": [
          -1.5624999999999991,
          -2.05,
          -1.7124999999999995,
          0.03750000000000053,
          1.4250000000000007,
          -2.1374999999999993,
          0.15000000000000036,
          -0.7499999999999991,
          0.5125000000000002,
          -2.8124999999999996
         ],
         "yaxis": "y8"
        },
        {
         "marker": {
          "cmid": 0,
          "color": [],
          "coloraxis": "coloraxis"
         },
         "type": "bar",
         "x": [],
         "xaxis": "x9",
         "y": [],
         "yaxis": "y9"
        },
        {
         "marker": {
          "cmid": 0,
          "color": [],
          "coloraxis": "coloraxis"
         },
         "type": "bar",
         "x": [],
         "xaxis": "x10",
         "y": [],
         "yaxis": "y10"
        },
        {
         "marker": {
          "cmid": 0,
          "color": [
           -1,
           -0.25,
           1.75,
           -0.875,
           0.75,
           -1,
           -1.625,
           -0.125,
           0.375,
           0
          ],
          "coloraxis": "coloraxis"
         },
         "type": "bar",
         "x": [
          "Greg Zuerlein",
          "Justin Tucker",
          "Nick Folk",
          "Daniel Carlson",
          "Tyler Bass",
          "Mason Crosby",
          "Harrison Butker",
          "Matt Prater",
          "Matt Gay",
          "Randy Bullock"
         ],
         "xaxis": "x9",
         "y": [
          -1,
          -0.25,
          1.75,
          -0.875,
          0.75,
          -1,
          -1.625,
          -0.125,
          0.375,
          0
         ],
         "yaxis": "y9"
        },
        {
         "marker": {
          "cmid": 0,
          "color": [
           -1.625,
           -0.25,
           0.125,
           -0.625,
           -0.75,
           -3.75,
           1.375,
           -3.375,
           0.625,
           -1
          ],
          "coloraxis": "coloraxis"
         },
         "type": "bar",
         "x": [
          "PIT",
          "NE",
          "TB",
          "DAL",
          "CAR",
          "MIA",
          "NO",
          "BAL",
          "IND",
          "LAR"
         ],
         "xaxis": "x10",
         "y": [
          -1.625,
          -0.25,
          0.125,
          -0.625,
          -0.75,
          -3.75,
          1.375,
          -3.375,
          0.625,
          -1
         ],
         "yaxis": "y10"
        }
       ],
       "layout": {
        "annotations": [
         {
          "font": {
           "size": 16
          },
          "showarrow": false,
          "text": "QB Over Performers",
          "x": 0.225,
          "xanchor": "center",
          "xref": "paper",
          "y": 1,
          "yanchor": "bottom",
          "yref": "paper"
         },
         {
          "font": {
           "size": 16
          },
          "showarrow": false,
          "text": "QB Under Performers",
          "x": 0.775,
          "xanchor": "center",
          "xref": "paper",
          "y": 1,
          "yanchor": "bottom",
          "yref": "paper"
         },
         {
          "font": {
           "size": 16
          },
          "showarrow": false,
          "text": "RB Over Performers",
          "x": 0.225,
          "xanchor": "center",
          "xref": "paper",
          "y": 0.78,
          "yanchor": "bottom",
          "yref": "paper"
         },
         {
          "font": {
           "size": 16
          },
          "showarrow": false,
          "text": "RB Under Performers",
          "x": 0.775,
          "xanchor": "center",
          "xref": "paper",
          "y": 0.78,
          "yanchor": "bottom",
          "yref": "paper"
         },
         {
          "font": {
           "size": 16
          },
          "showarrow": false,
          "text": "WR Over Performers",
          "x": 0.225,
          "xanchor": "center",
          "xref": "paper",
          "y": 0.56,
          "yanchor": "bottom",
          "yref": "paper"
         },
         {
          "font": {
           "size": 16
          },
          "showarrow": false,
          "text": "WR Under Performers",
          "x": 0.775,
          "xanchor": "center",
          "xref": "paper",
          "y": 0.56,
          "yanchor": "bottom",
          "yref": "paper"
         },
         {
          "font": {
           "size": 16
          },
          "showarrow": false,
          "text": "TE Over Performers",
          "x": 0.225,
          "xanchor": "center",
          "xref": "paper",
          "y": 0.33999999999999997,
          "yanchor": "bottom",
          "yref": "paper"
         },
         {
          "font": {
           "size": 16
          },
          "showarrow": false,
          "text": "TE Under Performers",
          "x": 0.775,
          "xanchor": "center",
          "xref": "paper",
          "y": 0.33999999999999997,
          "yanchor": "bottom",
          "yref": "paper"
         },
         {
          "font": {
           "size": 16
          },
          "showarrow": false,
          "text": "Kickers",
          "x": 0.225,
          "xanchor": "center",
          "xref": "paper",
          "y": 0.12,
          "yanchor": "bottom",
          "yref": "paper"
         },
         {
          "font": {
           "size": 16
          },
          "showarrow": false,
          "text": "Defenses",
          "x": 0.775,
          "xanchor": "center",
          "xref": "paper",
          "y": 0.12,
          "yanchor": "bottom",
          "yref": "paper"
         }
        ],
        "coloraxis": {
         "colorscale": [
          [
           0,
           "rgb(165,0,38)"
          ],
          [
           0.1,
           "rgb(215,48,39)"
          ],
          [
           0.2,
           "rgb(244,109,67)"
          ],
          [
           0.3,
           "rgb(253,174,97)"
          ],
          [
           0.4,
           "rgb(254,224,139)"
          ],
          [
           0.5,
           "rgb(255,255,191)"
          ],
          [
           0.6,
           "rgb(217,239,139)"
          ],
          [
           0.7,
           "rgb(166,217,106)"
          ],
          [
           0.8,
           "rgb(102,189,99)"
          ],
          [
           0.9,
           "rgb(26,152,80)"
          ],
          [
           1,
           "rgb(0,104,55)"
          ]
         ]
        },
        "height": 2000,
        "showlegend": false,
        "template": {
         "data": {
          "bar": [
           {
            "error_x": {
             "color": "#2a3f5f"
            },
            "error_y": {
             "color": "#2a3f5f"
            },
            "marker": {
             "line": {
              "color": "#E5ECF6",
              "width": 0.5
             },
             "pattern": {
              "fillmode": "overlay",
              "size": 10,
              "solidity": 0.2
             }
            },
            "type": "bar"
           }
          ],
          "barpolar": [
           {
            "marker": {
             "line": {
              "color": "#E5ECF6",
              "width": 0.5
             },
             "pattern": {
              "fillmode": "overlay",
              "size": 10,
              "solidity": 0.2
             }
            },
            "type": "barpolar"
           }
          ],
          "carpet": [
           {
            "aaxis": {
             "endlinecolor": "#2a3f5f",
             "gridcolor": "white",
             "linecolor": "white",
             "minorgridcolor": "white",
             "startlinecolor": "#2a3f5f"
            },
            "baxis": {
             "endlinecolor": "#2a3f5f",
             "gridcolor": "white",
             "linecolor": "white",
             "minorgridcolor": "white",
             "startlinecolor": "#2a3f5f"
            },
            "type": "carpet"
           }
          ],
          "choropleth": [
           {
            "colorbar": {
             "outlinewidth": 0,
             "ticks": ""
            },
            "type": "choropleth"
           }
          ],
          "contour": [
           {
            "colorbar": {
             "outlinewidth": 0,
             "ticks": ""
            },
            "colorscale": [
             [
              0,
              "#0d0887"
             ],
             [
              0.1111111111111111,
              "#46039f"
             ],
             [
              0.2222222222222222,
              "#7201a8"
             ],
             [
              0.3333333333333333,
              "#9c179e"
             ],
             [
              0.4444444444444444,
              "#bd3786"
             ],
             [
              0.5555555555555556,
              "#d8576b"
             ],
             [
              0.6666666666666666,
              "#ed7953"
             ],
             [
              0.7777777777777778,
              "#fb9f3a"
             ],
             [
              0.8888888888888888,
              "#fdca26"
             ],
             [
              1,
              "#f0f921"
             ]
            ],
            "type": "contour"
           }
          ],
          "contourcarpet": [
           {
            "colorbar": {
             "outlinewidth": 0,
             "ticks": ""
            },
            "type": "contourcarpet"
           }
          ],
          "heatmap": [
           {
            "colorbar": {
             "outlinewidth": 0,
             "ticks": ""
            },
            "colorscale": [
             [
              0,
              "#0d0887"
             ],
             [
              0.1111111111111111,
              "#46039f"
             ],
             [
              0.2222222222222222,
              "#7201a8"
             ],
             [
              0.3333333333333333,
              "#9c179e"
             ],
             [
              0.4444444444444444,
              "#bd3786"
             ],
             [
              0.5555555555555556,
              "#d8576b"
             ],
             [
              0.6666666666666666,
              "#ed7953"
             ],
             [
              0.7777777777777778,
              "#fb9f3a"
             ],
             [
              0.8888888888888888,
              "#fdca26"
             ],
             [
              1,
              "#f0f921"
             ]
            ],
            "type": "heatmap"
           }
          ],
          "heatmapgl": [
           {
            "colorbar": {
             "outlinewidth": 0,
             "ticks": ""
            },
            "colorscale": [
             [
              0,
              "#0d0887"
             ],
             [
              0.1111111111111111,
              "#46039f"
             ],
             [
              0.2222222222222222,
              "#7201a8"
             ],
             [
              0.3333333333333333,
              "#9c179e"
             ],
             [
              0.4444444444444444,
              "#bd3786"
             ],
             [
              0.5555555555555556,
              "#d8576b"
             ],
             [
              0.6666666666666666,
              "#ed7953"
             ],
             [
              0.7777777777777778,
              "#fb9f3a"
             ],
             [
              0.8888888888888888,
              "#fdca26"
             ],
             [
              1,
              "#f0f921"
             ]
            ],
            "type": "heatmapgl"
           }
          ],
          "histogram": [
           {
            "marker": {
             "pattern": {
              "fillmode": "overlay",
              "size": 10,
              "solidity": 0.2
             }
            },
            "type": "histogram"
           }
          ],
          "histogram2d": [
           {
            "colorbar": {
             "outlinewidth": 0,
             "ticks": ""
            },
            "colorscale": [
             [
              0,
              "#0d0887"
             ],
             [
              0.1111111111111111,
              "#46039f"
             ],
             [
              0.2222222222222222,
              "#7201a8"
             ],
             [
              0.3333333333333333,
              "#9c179e"
             ],
             [
              0.4444444444444444,
              "#bd3786"
             ],
             [
              0.5555555555555556,
              "#d8576b"
             ],
             [
              0.6666666666666666,
              "#ed7953"
             ],
             [
              0.7777777777777778,
              "#fb9f3a"
             ],
             [
              0.8888888888888888,
              "#fdca26"
             ],
             [
              1,
              "#f0f921"
             ]
            ],
            "type": "histogram2d"
           }
          ],
          "histogram2dcontour": [
           {
            "colorbar": {
             "outlinewidth": 0,
             "ticks": ""
            },
            "colorscale": [
             [
              0,
              "#0d0887"
             ],
             [
              0.1111111111111111,
              "#46039f"
             ],
             [
              0.2222222222222222,
              "#7201a8"
             ],
             [
              0.3333333333333333,
              "#9c179e"
             ],
             [
              0.4444444444444444,
              "#bd3786"
             ],
             [
              0.5555555555555556,
              "#d8576b"
             ],
             [
              0.6666666666666666,
              "#ed7953"
             ],
             [
              0.7777777777777778,
              "#fb9f3a"
             ],
             [
              0.8888888888888888,
              "#fdca26"
             ],
             [
              1,
              "#f0f921"
             ]
            ],
            "type": "histogram2dcontour"
           }
          ],
          "mesh3d": [
           {
            "colorbar": {
             "outlinewidth": 0,
             "ticks": ""
            },
            "type": "mesh3d"
           }
          ],
          "parcoords": [
           {
            "line": {
             "colorbar": {
              "outlinewidth": 0,
              "ticks": ""
             }
            },
            "type": "parcoords"
           }
          ],
          "pie": [
           {
            "automargin": true,
            "type": "pie"
           }
          ],
          "scatter": [
           {
            "marker": {
             "colorbar": {
              "outlinewidth": 0,
              "ticks": ""
             }
            },
            "type": "scatter"
           }
          ],
          "scatter3d": [
           {
            "line": {
             "colorbar": {
              "outlinewidth": 0,
              "ticks": ""
             }
            },
            "marker": {
             "colorbar": {
              "outlinewidth": 0,
              "ticks": ""
             }
            },
            "type": "scatter3d"
           }
          ],
          "scattercarpet": [
           {
            "marker": {
             "colorbar": {
              "outlinewidth": 0,
              "ticks": ""
             }
            },
            "type": "scattercarpet"
           }
          ],
          "scattergeo": [
           {
            "marker": {
             "colorbar": {
              "outlinewidth": 0,
              "ticks": ""
             }
            },
            "type": "scattergeo"
           }
          ],
          "scattergl": [
           {
            "marker": {
             "colorbar": {
              "outlinewidth": 0,
              "ticks": ""
             }
            },
            "type": "scattergl"
           }
          ],
          "scattermapbox": [
           {
            "marker": {
             "colorbar": {
              "outlinewidth": 0,
              "ticks": ""
             }
            },
            "type": "scattermapbox"
           }
          ],
          "scatterpolar": [
           {
            "marker": {
             "colorbar": {
              "outlinewidth": 0,
              "ticks": ""
             }
            },
            "type": "scatterpolar"
           }
          ],
          "scatterpolargl": [
           {
            "marker": {
             "colorbar": {
              "outlinewidth": 0,
              "ticks": ""
             }
            },
            "type": "scatterpolargl"
           }
          ],
          "scatterternary": [
           {
            "marker": {
             "colorbar": {
              "outlinewidth": 0,
              "ticks": ""
             }
            },
            "type": "scatterternary"
           }
          ],
          "surface": [
           {
            "colorbar": {
             "outlinewidth": 0,
             "ticks": ""
            },
            "colorscale": [
             [
              0,
              "#0d0887"
             ],
             [
              0.1111111111111111,
              "#46039f"
             ],
             [
              0.2222222222222222,
              "#7201a8"
             ],
             [
              0.3333333333333333,
              "#9c179e"
             ],
             [
              0.4444444444444444,
              "#bd3786"
             ],
             [
              0.5555555555555556,
              "#d8576b"
             ],
             [
              0.6666666666666666,
              "#ed7953"
             ],
             [
              0.7777777777777778,
              "#fb9f3a"
             ],
             [
              0.8888888888888888,
              "#fdca26"
             ],
             [
              1,
              "#f0f921"
             ]
            ],
            "type": "surface"
           }
          ],
          "table": [
           {
            "cells": {
             "fill": {
              "color": "#EBF0F8"
             },
             "line": {
              "color": "white"
             }
            },
            "header": {
             "fill": {
              "color": "#C8D4E3"
             },
             "line": {
              "color": "white"
             }
            },
            "type": "table"
           }
          ]
         },
         "layout": {
          "annotationdefaults": {
           "arrowcolor": "#2a3f5f",
           "arrowhead": 0,
           "arrowwidth": 1
          },
          "autotypenumbers": "strict",
          "coloraxis": {
           "colorbar": {
            "outlinewidth": 0,
            "ticks": ""
           }
          },
          "colorscale": {
           "diverging": [
            [
             0,
             "#8e0152"
            ],
            [
             0.1,
             "#c51b7d"
            ],
            [
             0.2,
             "#de77ae"
            ],
            [
             0.3,
             "#f1b6da"
            ],
            [
             0.4,
             "#fde0ef"
            ],
            [
             0.5,
             "#f7f7f7"
            ],
            [
             0.6,
             "#e6f5d0"
            ],
            [
             0.7,
             "#b8e186"
            ],
            [
             0.8,
             "#7fbc41"
            ],
            [
             0.9,
             "#4d9221"
            ],
            [
             1,
             "#276419"
            ]
           ],
           "sequential": [
            [
             0,
             "#0d0887"
            ],
            [
             0.1111111111111111,
             "#46039f"
            ],
            [
             0.2222222222222222,
             "#7201a8"
            ],
            [
             0.3333333333333333,
             "#9c179e"
            ],
            [
             0.4444444444444444,
             "#bd3786"
            ],
            [
             0.5555555555555556,
             "#d8576b"
            ],
            [
             0.6666666666666666,
             "#ed7953"
            ],
            [
             0.7777777777777778,
             "#fb9f3a"
            ],
            [
             0.8888888888888888,
             "#fdca26"
            ],
            [
             1,
             "#f0f921"
            ]
           ],
           "sequentialminus": [
            [
             0,
             "#0d0887"
            ],
            [
             0.1111111111111111,
             "#46039f"
            ],
            [
             0.2222222222222222,
             "#7201a8"
            ],
            [
             0.3333333333333333,
             "#9c179e"
            ],
            [
             0.4444444444444444,
             "#bd3786"
            ],
            [
             0.5555555555555556,
             "#d8576b"
            ],
            [
             0.6666666666666666,
             "#ed7953"
            ],
            [
             0.7777777777777778,
             "#fb9f3a"
            ],
            [
             0.8888888888888888,
             "#fdca26"
            ],
            [
             1,
             "#f0f921"
            ]
           ]
          },
          "colorway": [
           "#636efa",
           "#EF553B",
           "#00cc96",
           "#ab63fa",
           "#FFA15A",
           "#19d3f3",
           "#FF6692",
           "#B6E880",
           "#FF97FF",
           "#FECB52"
          ],
          "font": {
           "color": "#2a3f5f"
          },
          "geo": {
           "bgcolor": "white",
           "lakecolor": "white",
           "landcolor": "#E5ECF6",
           "showlakes": true,
           "showland": true,
           "subunitcolor": "white"
          },
          "hoverlabel": {
           "align": "left"
          },
          "hovermode": "closest",
          "mapbox": {
           "style": "light"
          },
          "paper_bgcolor": "white",
          "plot_bgcolor": "#E5ECF6",
          "polar": {
           "angularaxis": {
            "gridcolor": "white",
            "linecolor": "white",
            "ticks": ""
           },
           "bgcolor": "#E5ECF6",
           "radialaxis": {
            "gridcolor": "white",
            "linecolor": "white",
            "ticks": ""
           }
          },
          "scene": {
           "xaxis": {
            "backgroundcolor": "#E5ECF6",
            "gridcolor": "white",
            "gridwidth": 2,
            "linecolor": "white",
            "showbackground": true,
            "ticks": "",
            "zerolinecolor": "white"
           },
           "yaxis": {
            "backgroundcolor": "#E5ECF6",
            "gridcolor": "white",
            "gridwidth": 2,
            "linecolor": "white",
            "showbackground": true,
            "ticks": "",
            "zerolinecolor": "white"
           },
           "zaxis": {
            "backgroundcolor": "#E5ECF6",
            "gridcolor": "white",
            "gridwidth": 2,
            "linecolor": "white",
            "showbackground": true,
            "ticks": "",
            "zerolinecolor": "white"
           }
          },
          "shapedefaults": {
           "line": {
            "color": "#2a3f5f"
           }
          },
          "ternary": {
           "aaxis": {
            "gridcolor": "white",
            "linecolor": "white",
            "ticks": ""
           },
           "baxis": {
            "gridcolor": "white",
            "linecolor": "white",
            "ticks": ""
           },
           "bgcolor": "#E5ECF6",
           "caxis": {
            "gridcolor": "white",
            "linecolor": "white",
            "ticks": ""
           }
          },
          "title": {
           "x": 0.05
          },
          "xaxis": {
           "automargin": true,
           "gridcolor": "white",
           "linecolor": "white",
           "ticks": "",
           "title": {
            "standoff": 15
           },
           "zerolinecolor": "white",
           "zerolinewidth": 2
          },
          "yaxis": {
           "automargin": true,
           "gridcolor": "white",
           "linecolor": "white",
           "ticks": "",
           "title": {
            "standoff": 15
           },
           "zerolinecolor": "white",
           "zerolinewidth": 2
          }
         }
        },
        "title": {
         "text": "Top/Bottom PAR per week among rostered players"
        },
        "width": 1500,
        "xaxis": {
         "anchor": "y",
         "domain": [
          0,
          0.45
         ]
        },
        "xaxis10": {
         "anchor": "y10",
         "domain": [
          0.55,
          1
         ]
        },
        "xaxis2": {
         "anchor": "y2",
         "domain": [
          0.55,
          1
         ]
        },
        "xaxis3": {
         "anchor": "y3",
         "domain": [
          0,
          0.45
         ]
        },
        "xaxis4": {
         "anchor": "y4",
         "domain": [
          0.55,
          1
         ]
        },
        "xaxis5": {
         "anchor": "y5",
         "domain": [
          0,
          0.45
         ]
        },
        "xaxis6": {
         "anchor": "y6",
         "domain": [
          0.55,
          1
         ]
        },
        "xaxis7": {
         "anchor": "y7",
         "domain": [
          0,
          0.45
         ]
        },
        "xaxis8": {
         "anchor": "y8",
         "domain": [
          0.55,
          1
         ]
        },
        "xaxis9": {
         "anchor": "y9",
         "domain": [
          0,
          0.45
         ]
        },
        "yaxis": {
         "anchor": "x",
         "domain": [
          0.88,
          1
         ]
        },
        "yaxis10": {
         "anchor": "x10",
         "domain": [
          0,
          0.12
         ],
         "matches": "y9",
         "showticklabels": false
        },
        "yaxis2": {
         "anchor": "x2",
         "domain": [
          0.88,
          1
         ],
         "matches": "y",
         "showticklabels": false
        },
        "yaxis3": {
         "anchor": "x3",
         "domain": [
          0.66,
          0.78
         ]
        },
        "yaxis4": {
         "anchor": "x4",
         "domain": [
          0.66,
          0.78
         ],
         "matches": "y3",
         "showticklabels": false
        },
        "yaxis5": {
         "anchor": "x5",
         "domain": [
          0.44,
          0.56
         ]
        },
        "yaxis6": {
         "anchor": "x6",
         "domain": [
          0.44,
          0.56
         ],
         "matches": "y5",
         "showticklabels": false
        },
        "yaxis7": {
         "anchor": "x7",
         "domain": [
          0.22,
          0.33999999999999997
         ]
        },
        "yaxis8": {
         "anchor": "x8",
         "domain": [
          0.22,
          0.33999999999999997
         ],
         "matches": "y7",
         "showticklabels": false
        },
        "yaxis9": {
         "anchor": "x9",
         "domain": [
          0,
          0.12
         ]
        }
       }
      }
     },
     "metadata": {},
     "output_type": "display_data"
    }
   ],
   "source": [
    "rostered_replacement_stars = {}\n",
    "rostered_replacement_duds = {}\n",
    "\n",
    "for position in FANTASY_POSITIONS:\n",
    "    top_players = []\n",
    "    bot_players = []\n",
    "    \n",
    "    for player in rostered_players:\n",
    "        if position == \"FLEX\":\n",
    "            continue\n",
    "\n",
    "        else:\n",
    "            if position in rostered_players[player][\"fantasy_positions\"]:\n",
    "                if len(top_players) < LIMIT:\n",
    "                    top_players.append(\n",
    "                        rostered_players[player])\n",
    "                else:\n",
    "                    p_points = rostered_players[player][\"PAR\"]\n",
    "                    pars = [p[\"PAR\"] for p in top_players]\n",
    "                    idx = pars.index(min(pars))\n",
    "                    if p_points > pars[idx]:\n",
    "                        top_players[idx] = rostered_players[player]\n",
    "\n",
    "                if len(bot_players) < LIMIT:\n",
    "                    bot_players.append(\n",
    "                        rostered_players[player]\n",
    "                    )\n",
    "                else:\n",
    "                    p_points = rostered_players[player][\"PAR\"]\n",
    "                    pars = [p[\"PAR\"] for p in bot_players]\n",
    "                    idx = pars.index(max(pars))\n",
    "                    if p_points < pars[idx]:\n",
    "                        bot_players[idx] = rostered_players[player]\n",
    "        \n",
    "    rostered_replacement_stars[position] = top_players\n",
    "    rostered_replacement_duds[position] = bot_players\n",
    "\n",
    "names = [\n",
    "    \"QB Over Performers\", \"QB Under Performers\", \n",
    "    \"RB Over Performers\", \"RB Under Performers\",\n",
    "    \"WR Over Performers\", \"WR Under Performers\", \n",
    "    \"TE Over Performers\", \"TE Under Performers\",\n",
    "    \"Kickers\", \"Defenses\"\n",
    "]\n",
    "\n",
    "fig = make_subplots(rows=5, cols=2, shared_yaxes=True,\n",
    "                    subplot_titles=names)\n",
    "\n",
    "for i in range(5):\n",
    "    current = list(rostered_replacement_stars.keys())[i]\n",
    "    star_par = [player[\"PAR\"] / CURRENT_WEEK for player in rostered_replacement_stars[current]]\n",
    "    star_name = [player[\"name\"] for player in rostered_replacement_stars[current]]\n",
    "    dud_par = [player[\"PAR\"] / CURRENT_WEEK for player in rostered_replacement_duds[current]]\n",
    "    dud_name = [player[\"name\"] for player in rostered_replacement_duds[current]]\n",
    "\n",
    "    fig.add_trace(\n",
    "        go.Bar(y=star_par,\n",
    "                x=star_name,\n",
    "                marker=dict(color=star_par,\n",
    "                            cmid=0,\n",
    "                            coloraxis=\"coloraxis\")),\n",
    "        i+1, 1\n",
    "    )\n",
    "\n",
    "    fig.add_trace(\n",
    "        go.Bar(y=dud_par,\n",
    "                x=dud_name,\n",
    "                marker=dict(color=dud_par,\n",
    "                            cmid=0,\n",
    "                            coloraxis=\"coloraxis\")),\n",
    "        i+1, 2\n",
    "    )\n",
    "\n",
    "k_par = [player[\"PAR\"] /\n",
    "            CURRENT_WEEK for player in rostered_replacement_stars[\"K\"]]\n",
    "k_name = [player[\"name\"]\n",
    "                for player in rostered_replacement_stars[\"K\"]]\n",
    "def_par = [player[\"PAR\"] /\n",
    "            CURRENT_WEEK for player in rostered_replacement_duds[\"DEF\"]]\n",
    "def_name = [player[\"name\"]\n",
    "            for player in rostered_replacement_duds[\"DEF\"]]\n",
    "\n",
    "fig.add_trace(\n",
    "    go.Bar(y=k_par,\n",
    "            x=k_name,\n",
    "            marker=dict(color=k_par,\n",
    "                        cmid=0,\n",
    "                        coloraxis=\"coloraxis\")),\n",
    "    5, 1\n",
    ")\n",
    "\n",
    "fig.add_trace(\n",
    "    go.Bar(y=def_par,\n",
    "            x=def_name,\n",
    "            marker=dict(color=def_par,\n",
    "                        cmid=0,\n",
    "                        coloraxis=\"coloraxis\")),\n",
    "    5, 2\n",
    ")\n",
    "\n",
    "fig.update_layout(coloraxis=dict(colorscale=px.colors.diverging.RdYlGn),\n",
    "                  title=\"Top/Bottom PAR per week among rostered players\",\n",
    "                  showlegend=False,\n",
    "                  height=2000, width=1500\n",
    "                  )\n",
    "\n",
    "fig.show()\n"
   ]
  },
  {
   "cell_type": "markdown",
   "metadata": {},
   "source": [
    "As we can see above, we have the overperformers within position groups on the left and underperformers within position groups on the right. There is some overlap in some groups if 20 total players at that position are not rostered across all of our teams. I put the kickers and defenses on a single list since you should realistically only be rostering one of each(if you are rostering more, I will make fun of you). I don't put a ton of credence into the underperformer numbers since a lot of those players were hurt, but to answer your question Tom, Brandon Aiyuk has a -5.35 points above replacement value!\n"
   ]
  },
  {
   "cell_type": "code",
   "execution_count": 278,
   "metadata": {},
   "outputs": [
    {
     "data": {
      "application/vnd.plotly.v1+json": {
       "config": {
        "plotlyServerURL": "https://plot.ly"
       },
       "data": [
        {
         "marker": {
          "color": [
           -42.05999999999991,
           10.600000000000108,
           355.28000000000014,
           281.06000000000006,
           124.06000000000003,
           160.78000000000006,
           305.4600000000001,
           230.40000000000015,
           61.90000000000006,
           191.94000000000005
          ],
          "coloraxis": "coloraxis"
         },
         "type": "bar",
         "x": [
          "My Goat Loves You",
          "The Brutherhood",
          "tealeaves",
          "Tree Leaves",
          "the noés",
          "SideThicc #2",
          "AssNTitties",
          "Thicc King",
          "billcap",
          "RB sanctuary"
         ],
         "y": [
          -42.05999999999991,
          10.600000000000108,
          355.28000000000014,
          281.06000000000006,
          124.06000000000003,
          160.78000000000006,
          305.4600000000001,
          230.40000000000015,
          61.90000000000006,
          191.94000000000005
         ]
        }
       ],
       "layout": {
        "coloraxis": {
         "colorscale": [
          [
           0,
           "rgb(165,0,38)"
          ],
          [
           0.1,
           "rgb(215,48,39)"
          ],
          [
           0.2,
           "rgb(244,109,67)"
          ],
          [
           0.3,
           "rgb(253,174,97)"
          ],
          [
           0.4,
           "rgb(254,224,139)"
          ],
          [
           0.5,
           "rgb(255,255,191)"
          ],
          [
           0.6,
           "rgb(217,239,139)"
          ],
          [
           0.7,
           "rgb(166,217,106)"
          ],
          [
           0.8,
           "rgb(102,189,99)"
          ],
          [
           0.9,
           "rgb(26,152,80)"
          ],
          [
           1,
           "rgb(0,104,55)"
          ]
         ]
        },
        "showlegend": false,
        "template": {
         "data": {
          "bar": [
           {
            "error_x": {
             "color": "#2a3f5f"
            },
            "error_y": {
             "color": "#2a3f5f"
            },
            "marker": {
             "line": {
              "color": "#E5ECF6",
              "width": 0.5
             },
             "pattern": {
              "fillmode": "overlay",
              "size": 10,
              "solidity": 0.2
             }
            },
            "type": "bar"
           }
          ],
          "barpolar": [
           {
            "marker": {
             "line": {
              "color": "#E5ECF6",
              "width": 0.5
             },
             "pattern": {
              "fillmode": "overlay",
              "size": 10,
              "solidity": 0.2
             }
            },
            "type": "barpolar"
           }
          ],
          "carpet": [
           {
            "aaxis": {
             "endlinecolor": "#2a3f5f",
             "gridcolor": "white",
             "linecolor": "white",
             "minorgridcolor": "white",
             "startlinecolor": "#2a3f5f"
            },
            "baxis": {
             "endlinecolor": "#2a3f5f",
             "gridcolor": "white",
             "linecolor": "white",
             "minorgridcolor": "white",
             "startlinecolor": "#2a3f5f"
            },
            "type": "carpet"
           }
          ],
          "choropleth": [
           {
            "colorbar": {
             "outlinewidth": 0,
             "ticks": ""
            },
            "type": "choropleth"
           }
          ],
          "contour": [
           {
            "colorbar": {
             "outlinewidth": 0,
             "ticks": ""
            },
            "colorscale": [
             [
              0,
              "#0d0887"
             ],
             [
              0.1111111111111111,
              "#46039f"
             ],
             [
              0.2222222222222222,
              "#7201a8"
             ],
             [
              0.3333333333333333,
              "#9c179e"
             ],
             [
              0.4444444444444444,
              "#bd3786"
             ],
             [
              0.5555555555555556,
              "#d8576b"
             ],
             [
              0.6666666666666666,
              "#ed7953"
             ],
             [
              0.7777777777777778,
              "#fb9f3a"
             ],
             [
              0.8888888888888888,
              "#fdca26"
             ],
             [
              1,
              "#f0f921"
             ]
            ],
            "type": "contour"
           }
          ],
          "contourcarpet": [
           {
            "colorbar": {
             "outlinewidth": 0,
             "ticks": ""
            },
            "type": "contourcarpet"
           }
          ],
          "heatmap": [
           {
            "colorbar": {
             "outlinewidth": 0,
             "ticks": ""
            },
            "colorscale": [
             [
              0,
              "#0d0887"
             ],
             [
              0.1111111111111111,
              "#46039f"
             ],
             [
              0.2222222222222222,
              "#7201a8"
             ],
             [
              0.3333333333333333,
              "#9c179e"
             ],
             [
              0.4444444444444444,
              "#bd3786"
             ],
             [
              0.5555555555555556,
              "#d8576b"
             ],
             [
              0.6666666666666666,
              "#ed7953"
             ],
             [
              0.7777777777777778,
              "#fb9f3a"
             ],
             [
              0.8888888888888888,
              "#fdca26"
             ],
             [
              1,
              "#f0f921"
             ]
            ],
            "type": "heatmap"
           }
          ],
          "heatmapgl": [
           {
            "colorbar": {
             "outlinewidth": 0,
             "ticks": ""
            },
            "colorscale": [
             [
              0,
              "#0d0887"
             ],
             [
              0.1111111111111111,
              "#46039f"
             ],
             [
              0.2222222222222222,
              "#7201a8"
             ],
             [
              0.3333333333333333,
              "#9c179e"
             ],
             [
              0.4444444444444444,
              "#bd3786"
             ],
             [
              0.5555555555555556,
              "#d8576b"
             ],
             [
              0.6666666666666666,
              "#ed7953"
             ],
             [
              0.7777777777777778,
              "#fb9f3a"
             ],
             [
              0.8888888888888888,
              "#fdca26"
             ],
             [
              1,
              "#f0f921"
             ]
            ],
            "type": "heatmapgl"
           }
          ],
          "histogram": [
           {
            "marker": {
             "pattern": {
              "fillmode": "overlay",
              "size": 10,
              "solidity": 0.2
             }
            },
            "type": "histogram"
           }
          ],
          "histogram2d": [
           {
            "colorbar": {
             "outlinewidth": 0,
             "ticks": ""
            },
            "colorscale": [
             [
              0,
              "#0d0887"
             ],
             [
              0.1111111111111111,
              "#46039f"
             ],
             [
              0.2222222222222222,
              "#7201a8"
             ],
             [
              0.3333333333333333,
              "#9c179e"
             ],
             [
              0.4444444444444444,
              "#bd3786"
             ],
             [
              0.5555555555555556,
              "#d8576b"
             ],
             [
              0.6666666666666666,
              "#ed7953"
             ],
             [
              0.7777777777777778,
              "#fb9f3a"
             ],
             [
              0.8888888888888888,
              "#fdca26"
             ],
             [
              1,
              "#f0f921"
             ]
            ],
            "type": "histogram2d"
           }
          ],
          "histogram2dcontour": [
           {
            "colorbar": {
             "outlinewidth": 0,
             "ticks": ""
            },
            "colorscale": [
             [
              0,
              "#0d0887"
             ],
             [
              0.1111111111111111,
              "#46039f"
             ],
             [
              0.2222222222222222,
              "#7201a8"
             ],
             [
              0.3333333333333333,
              "#9c179e"
             ],
             [
              0.4444444444444444,
              "#bd3786"
             ],
             [
              0.5555555555555556,
              "#d8576b"
             ],
             [
              0.6666666666666666,
              "#ed7953"
             ],
             [
              0.7777777777777778,
              "#fb9f3a"
             ],
             [
              0.8888888888888888,
              "#fdca26"
             ],
             [
              1,
              "#f0f921"
             ]
            ],
            "type": "histogram2dcontour"
           }
          ],
          "mesh3d": [
           {
            "colorbar": {
             "outlinewidth": 0,
             "ticks": ""
            },
            "type": "mesh3d"
           }
          ],
          "parcoords": [
           {
            "line": {
             "colorbar": {
              "outlinewidth": 0,
              "ticks": ""
             }
            },
            "type": "parcoords"
           }
          ],
          "pie": [
           {
            "automargin": true,
            "type": "pie"
           }
          ],
          "scatter": [
           {
            "marker": {
             "colorbar": {
              "outlinewidth": 0,
              "ticks": ""
             }
            },
            "type": "scatter"
           }
          ],
          "scatter3d": [
           {
            "line": {
             "colorbar": {
              "outlinewidth": 0,
              "ticks": ""
             }
            },
            "marker": {
             "colorbar": {
              "outlinewidth": 0,
              "ticks": ""
             }
            },
            "type": "scatter3d"
           }
          ],
          "scattercarpet": [
           {
            "marker": {
             "colorbar": {
              "outlinewidth": 0,
              "ticks": ""
             }
            },
            "type": "scattercarpet"
           }
          ],
          "scattergeo": [
           {
            "marker": {
             "colorbar": {
              "outlinewidth": 0,
              "ticks": ""
             }
            },
            "type": "scattergeo"
           }
          ],
          "scattergl": [
           {
            "marker": {
             "colorbar": {
              "outlinewidth": 0,
              "ticks": ""
             }
            },
            "type": "scattergl"
           }
          ],
          "scattermapbox": [
           {
            "marker": {
             "colorbar": {
              "outlinewidth": 0,
              "ticks": ""
             }
            },
            "type": "scattermapbox"
           }
          ],
          "scatterpolar": [
           {
            "marker": {
             "colorbar": {
              "outlinewidth": 0,
              "ticks": ""
             }
            },
            "type": "scatterpolar"
           }
          ],
          "scatterpolargl": [
           {
            "marker": {
             "colorbar": {
              "outlinewidth": 0,
              "ticks": ""
             }
            },
            "type": "scatterpolargl"
           }
          ],
          "scatterternary": [
           {
            "marker": {
             "colorbar": {
              "outlinewidth": 0,
              "ticks": ""
             }
            },
            "type": "scatterternary"
           }
          ],
          "surface": [
           {
            "colorbar": {
             "outlinewidth": 0,
             "ticks": ""
            },
            "colorscale": [
             [
              0,
              "#0d0887"
             ],
             [
              0.1111111111111111,
              "#46039f"
             ],
             [
              0.2222222222222222,
              "#7201a8"
             ],
             [
              0.3333333333333333,
              "#9c179e"
             ],
             [
              0.4444444444444444,
              "#bd3786"
             ],
             [
              0.5555555555555556,
              "#d8576b"
             ],
             [
              0.6666666666666666,
              "#ed7953"
             ],
             [
              0.7777777777777778,
              "#fb9f3a"
             ],
             [
              0.8888888888888888,
              "#fdca26"
             ],
             [
              1,
              "#f0f921"
             ]
            ],
            "type": "surface"
           }
          ],
          "table": [
           {
            "cells": {
             "fill": {
              "color": "#EBF0F8"
             },
             "line": {
              "color": "white"
             }
            },
            "header": {
             "fill": {
              "color": "#C8D4E3"
             },
             "line": {
              "color": "white"
             }
            },
            "type": "table"
           }
          ]
         },
         "layout": {
          "annotationdefaults": {
           "arrowcolor": "#2a3f5f",
           "arrowhead": 0,
           "arrowwidth": 1
          },
          "autotypenumbers": "strict",
          "coloraxis": {
           "colorbar": {
            "outlinewidth": 0,
            "ticks": ""
           }
          },
          "colorscale": {
           "diverging": [
            [
             0,
             "#8e0152"
            ],
            [
             0.1,
             "#c51b7d"
            ],
            [
             0.2,
             "#de77ae"
            ],
            [
             0.3,
             "#f1b6da"
            ],
            [
             0.4,
             "#fde0ef"
            ],
            [
             0.5,
             "#f7f7f7"
            ],
            [
             0.6,
             "#e6f5d0"
            ],
            [
             0.7,
             "#b8e186"
            ],
            [
             0.8,
             "#7fbc41"
            ],
            [
             0.9,
             "#4d9221"
            ],
            [
             1,
             "#276419"
            ]
           ],
           "sequential": [
            [
             0,
             "#0d0887"
            ],
            [
             0.1111111111111111,
             "#46039f"
            ],
            [
             0.2222222222222222,
             "#7201a8"
            ],
            [
             0.3333333333333333,
             "#9c179e"
            ],
            [
             0.4444444444444444,
             "#bd3786"
            ],
            [
             0.5555555555555556,
             "#d8576b"
            ],
            [
             0.6666666666666666,
             "#ed7953"
            ],
            [
             0.7777777777777778,
             "#fb9f3a"
            ],
            [
             0.8888888888888888,
             "#fdca26"
            ],
            [
             1,
             "#f0f921"
            ]
           ],
           "sequentialminus": [
            [
             0,
             "#0d0887"
            ],
            [
             0.1111111111111111,
             "#46039f"
            ],
            [
             0.2222222222222222,
             "#7201a8"
            ],
            [
             0.3333333333333333,
             "#9c179e"
            ],
            [
             0.4444444444444444,
             "#bd3786"
            ],
            [
             0.5555555555555556,
             "#d8576b"
            ],
            [
             0.6666666666666666,
             "#ed7953"
            ],
            [
             0.7777777777777778,
             "#fb9f3a"
            ],
            [
             0.8888888888888888,
             "#fdca26"
            ],
            [
             1,
             "#f0f921"
            ]
           ]
          },
          "colorway": [
           "#636efa",
           "#EF553B",
           "#00cc96",
           "#ab63fa",
           "#FFA15A",
           "#19d3f3",
           "#FF6692",
           "#B6E880",
           "#FF97FF",
           "#FECB52"
          ],
          "font": {
           "color": "#2a3f5f"
          },
          "geo": {
           "bgcolor": "white",
           "lakecolor": "white",
           "landcolor": "#E5ECF6",
           "showlakes": true,
           "showland": true,
           "subunitcolor": "white"
          },
          "hoverlabel": {
           "align": "left"
          },
          "hovermode": "closest",
          "mapbox": {
           "style": "light"
          },
          "paper_bgcolor": "white",
          "plot_bgcolor": "#E5ECF6",
          "polar": {
           "angularaxis": {
            "gridcolor": "white",
            "linecolor": "white",
            "ticks": ""
           },
           "bgcolor": "#E5ECF6",
           "radialaxis": {
            "gridcolor": "white",
            "linecolor": "white",
            "ticks": ""
           }
          },
          "scene": {
           "xaxis": {
            "backgroundcolor": "#E5ECF6",
            "gridcolor": "white",
            "gridwidth": 2,
            "linecolor": "white",
            "showbackground": true,
            "ticks": "",
            "zerolinecolor": "white"
           },
           "yaxis": {
            "backgroundcolor": "#E5ECF6",
            "gridcolor": "white",
            "gridwidth": 2,
            "linecolor": "white",
            "showbackground": true,
            "ticks": "",
            "zerolinecolor": "white"
           },
           "zaxis": {
            "backgroundcolor": "#E5ECF6",
            "gridcolor": "white",
            "gridwidth": 2,
            "linecolor": "white",
            "showbackground": true,
            "ticks": "",
            "zerolinecolor": "white"
           }
          },
          "shapedefaults": {
           "line": {
            "color": "#2a3f5f"
           }
          },
          "ternary": {
           "aaxis": {
            "gridcolor": "white",
            "linecolor": "white",
            "ticks": ""
           },
           "baxis": {
            "gridcolor": "white",
            "linecolor": "white",
            "ticks": ""
           },
           "bgcolor": "#E5ECF6",
           "caxis": {
            "gridcolor": "white",
            "linecolor": "white",
            "ticks": ""
           }
          },
          "title": {
           "x": 0.05
          },
          "xaxis": {
           "automargin": true,
           "gridcolor": "white",
           "linecolor": "white",
           "ticks": "",
           "title": {
            "standoff": 15
           },
           "zerolinecolor": "white",
           "zerolinewidth": 2
          },
          "yaxis": {
           "automargin": true,
           "gridcolor": "white",
           "linecolor": "white",
           "ticks": "",
           "title": {
            "standoff": 15
           },
           "zerolinecolor": "white",
           "zerolinewidth": 2
          }
         }
        },
        "title": {
         "text": "Aggregate Total Points above Replacement"
        },
        "xaxis": {
         "categoryorder": "total descending"
        }
       }
      }
     },
     "metadata": {},
     "output_type": "display_data"
    }
   ],
   "source": [
    "fig = go.Figure()\n",
    "\n",
    "total_par = {NAME_PAIRINGS[roster[\"owner_id\"]]: sum(roster[\"PAR_values\"]) for roster in rosters}\n",
    "fig.add_trace(\n",
    "    go.Bar(x=list(total_par.keys()), y=list(total_par.values()),\n",
    "           marker=dict(color=list(total_par.values()), coloraxis=\"coloraxis\"))\n",
    ")\n",
    "\n",
    "fig.update_layout(coloraxis=dict(colorscale=px.colors.diverging.RdYlGn),\n",
    "                  title=\"Aggregate Total Points above Replacement\",\n",
    "                  showlegend=False,\n",
    "                  xaxis={'categoryorder': 'total descending'},\n",
    "                  )"
   ]
  },
  {
   "cell_type": "code",
   "execution_count": 279,
   "metadata": {},
   "outputs": [
    {
     "data": {
      "application/vnd.plotly.v1+json": {
       "config": {
        "plotlyServerURL": "https://plot.ly"
       },
       "data": [
        {
         "marker": {
          "color": [
           -5.257499999999989,
           1.3250000000000135,
           44.41000000000002,
           35.13250000000001,
           15.507500000000004,
           20.097500000000007,
           38.18250000000001,
           28.80000000000002,
           7.737500000000008,
           23.992500000000007
          ],
          "coloraxis": "coloraxis"
         },
         "type": "bar",
         "x": [
          "My Goat Loves You",
          "The Brutherhood",
          "tealeaves",
          "Tree Leaves",
          "the noés",
          "SideThicc #2",
          "AssNTitties",
          "Thicc King",
          "billcap",
          "RB sanctuary"
         ],
         "y": [
          -5.257499999999989,
          1.3250000000000135,
          44.41000000000002,
          35.13250000000001,
          15.507500000000004,
          20.097500000000007,
          38.18250000000001,
          28.80000000000002,
          7.737500000000008,
          23.992500000000007
         ]
        }
       ],
       "layout": {
        "coloraxis": {
         "colorscale": [
          [
           0,
           "rgb(165,0,38)"
          ],
          [
           0.1,
           "rgb(215,48,39)"
          ],
          [
           0.2,
           "rgb(244,109,67)"
          ],
          [
           0.3,
           "rgb(253,174,97)"
          ],
          [
           0.4,
           "rgb(254,224,139)"
          ],
          [
           0.5,
           "rgb(255,255,191)"
          ],
          [
           0.6,
           "rgb(217,239,139)"
          ],
          [
           0.7,
           "rgb(166,217,106)"
          ],
          [
           0.8,
           "rgb(102,189,99)"
          ],
          [
           0.9,
           "rgb(26,152,80)"
          ],
          [
           1,
           "rgb(0,104,55)"
          ]
         ]
        },
        "showlegend": false,
        "template": {
         "data": {
          "bar": [
           {
            "error_x": {
             "color": "#2a3f5f"
            },
            "error_y": {
             "color": "#2a3f5f"
            },
            "marker": {
             "line": {
              "color": "#E5ECF6",
              "width": 0.5
             },
             "pattern": {
              "fillmode": "overlay",
              "size": 10,
              "solidity": 0.2
             }
            },
            "type": "bar"
           }
          ],
          "barpolar": [
           {
            "marker": {
             "line": {
              "color": "#E5ECF6",
              "width": 0.5
             },
             "pattern": {
              "fillmode": "overlay",
              "size": 10,
              "solidity": 0.2
             }
            },
            "type": "barpolar"
           }
          ],
          "carpet": [
           {
            "aaxis": {
             "endlinecolor": "#2a3f5f",
             "gridcolor": "white",
             "linecolor": "white",
             "minorgridcolor": "white",
             "startlinecolor": "#2a3f5f"
            },
            "baxis": {
             "endlinecolor": "#2a3f5f",
             "gridcolor": "white",
             "linecolor": "white",
             "minorgridcolor": "white",
             "startlinecolor": "#2a3f5f"
            },
            "type": "carpet"
           }
          ],
          "choropleth": [
           {
            "colorbar": {
             "outlinewidth": 0,
             "ticks": ""
            },
            "type": "choropleth"
           }
          ],
          "contour": [
           {
            "colorbar": {
             "outlinewidth": 0,
             "ticks": ""
            },
            "colorscale": [
             [
              0,
              "#0d0887"
             ],
             [
              0.1111111111111111,
              "#46039f"
             ],
             [
              0.2222222222222222,
              "#7201a8"
             ],
             [
              0.3333333333333333,
              "#9c179e"
             ],
             [
              0.4444444444444444,
              "#bd3786"
             ],
             [
              0.5555555555555556,
              "#d8576b"
             ],
             [
              0.6666666666666666,
              "#ed7953"
             ],
             [
              0.7777777777777778,
              "#fb9f3a"
             ],
             [
              0.8888888888888888,
              "#fdca26"
             ],
             [
              1,
              "#f0f921"
             ]
            ],
            "type": "contour"
           }
          ],
          "contourcarpet": [
           {
            "colorbar": {
             "outlinewidth": 0,
             "ticks": ""
            },
            "type": "contourcarpet"
           }
          ],
          "heatmap": [
           {
            "colorbar": {
             "outlinewidth": 0,
             "ticks": ""
            },
            "colorscale": [
             [
              0,
              "#0d0887"
             ],
             [
              0.1111111111111111,
              "#46039f"
             ],
             [
              0.2222222222222222,
              "#7201a8"
             ],
             [
              0.3333333333333333,
              "#9c179e"
             ],
             [
              0.4444444444444444,
              "#bd3786"
             ],
             [
              0.5555555555555556,
              "#d8576b"
             ],
             [
              0.6666666666666666,
              "#ed7953"
             ],
             [
              0.7777777777777778,
              "#fb9f3a"
             ],
             [
              0.8888888888888888,
              "#fdca26"
             ],
             [
              1,
              "#f0f921"
             ]
            ],
            "type": "heatmap"
           }
          ],
          "heatmapgl": [
           {
            "colorbar": {
             "outlinewidth": 0,
             "ticks": ""
            },
            "colorscale": [
             [
              0,
              "#0d0887"
             ],
             [
              0.1111111111111111,
              "#46039f"
             ],
             [
              0.2222222222222222,
              "#7201a8"
             ],
             [
              0.3333333333333333,
              "#9c179e"
             ],
             [
              0.4444444444444444,
              "#bd3786"
             ],
             [
              0.5555555555555556,
              "#d8576b"
             ],
             [
              0.6666666666666666,
              "#ed7953"
             ],
             [
              0.7777777777777778,
              "#fb9f3a"
             ],
             [
              0.8888888888888888,
              "#fdca26"
             ],
             [
              1,
              "#f0f921"
             ]
            ],
            "type": "heatmapgl"
           }
          ],
          "histogram": [
           {
            "marker": {
             "pattern": {
              "fillmode": "overlay",
              "size": 10,
              "solidity": 0.2
             }
            },
            "type": "histogram"
           }
          ],
          "histogram2d": [
           {
            "colorbar": {
             "outlinewidth": 0,
             "ticks": ""
            },
            "colorscale": [
             [
              0,
              "#0d0887"
             ],
             [
              0.1111111111111111,
              "#46039f"
             ],
             [
              0.2222222222222222,
              "#7201a8"
             ],
             [
              0.3333333333333333,
              "#9c179e"
             ],
             [
              0.4444444444444444,
              "#bd3786"
             ],
             [
              0.5555555555555556,
              "#d8576b"
             ],
             [
              0.6666666666666666,
              "#ed7953"
             ],
             [
              0.7777777777777778,
              "#fb9f3a"
             ],
             [
              0.8888888888888888,
              "#fdca26"
             ],
             [
              1,
              "#f0f921"
             ]
            ],
            "type": "histogram2d"
           }
          ],
          "histogram2dcontour": [
           {
            "colorbar": {
             "outlinewidth": 0,
             "ticks": ""
            },
            "colorscale": [
             [
              0,
              "#0d0887"
             ],
             [
              0.1111111111111111,
              "#46039f"
             ],
             [
              0.2222222222222222,
              "#7201a8"
             ],
             [
              0.3333333333333333,
              "#9c179e"
             ],
             [
              0.4444444444444444,
              "#bd3786"
             ],
             [
              0.5555555555555556,
              "#d8576b"
             ],
             [
              0.6666666666666666,
              "#ed7953"
             ],
             [
              0.7777777777777778,
              "#fb9f3a"
             ],
             [
              0.8888888888888888,
              "#fdca26"
             ],
             [
              1,
              "#f0f921"
             ]
            ],
            "type": "histogram2dcontour"
           }
          ],
          "mesh3d": [
           {
            "colorbar": {
             "outlinewidth": 0,
             "ticks": ""
            },
            "type": "mesh3d"
           }
          ],
          "parcoords": [
           {
            "line": {
             "colorbar": {
              "outlinewidth": 0,
              "ticks": ""
             }
            },
            "type": "parcoords"
           }
          ],
          "pie": [
           {
            "automargin": true,
            "type": "pie"
           }
          ],
          "scatter": [
           {
            "marker": {
             "colorbar": {
              "outlinewidth": 0,
              "ticks": ""
             }
            },
            "type": "scatter"
           }
          ],
          "scatter3d": [
           {
            "line": {
             "colorbar": {
              "outlinewidth": 0,
              "ticks": ""
             }
            },
            "marker": {
             "colorbar": {
              "outlinewidth": 0,
              "ticks": ""
             }
            },
            "type": "scatter3d"
           }
          ],
          "scattercarpet": [
           {
            "marker": {
             "colorbar": {
              "outlinewidth": 0,
              "ticks": ""
             }
            },
            "type": "scattercarpet"
           }
          ],
          "scattergeo": [
           {
            "marker": {
             "colorbar": {
              "outlinewidth": 0,
              "ticks": ""
             }
            },
            "type": "scattergeo"
           }
          ],
          "scattergl": [
           {
            "marker": {
             "colorbar": {
              "outlinewidth": 0,
              "ticks": ""
             }
            },
            "type": "scattergl"
           }
          ],
          "scattermapbox": [
           {
            "marker": {
             "colorbar": {
              "outlinewidth": 0,
              "ticks": ""
             }
            },
            "type": "scattermapbox"
           }
          ],
          "scatterpolar": [
           {
            "marker": {
             "colorbar": {
              "outlinewidth": 0,
              "ticks": ""
             }
            },
            "type": "scatterpolar"
           }
          ],
          "scatterpolargl": [
           {
            "marker": {
             "colorbar": {
              "outlinewidth": 0,
              "ticks": ""
             }
            },
            "type": "scatterpolargl"
           }
          ],
          "scatterternary": [
           {
            "marker": {
             "colorbar": {
              "outlinewidth": 0,
              "ticks": ""
             }
            },
            "type": "scatterternary"
           }
          ],
          "surface": [
           {
            "colorbar": {
             "outlinewidth": 0,
             "ticks": ""
            },
            "colorscale": [
             [
              0,
              "#0d0887"
             ],
             [
              0.1111111111111111,
              "#46039f"
             ],
             [
              0.2222222222222222,
              "#7201a8"
             ],
             [
              0.3333333333333333,
              "#9c179e"
             ],
             [
              0.4444444444444444,
              "#bd3786"
             ],
             [
              0.5555555555555556,
              "#d8576b"
             ],
             [
              0.6666666666666666,
              "#ed7953"
             ],
             [
              0.7777777777777778,
              "#fb9f3a"
             ],
             [
              0.8888888888888888,
              "#fdca26"
             ],
             [
              1,
              "#f0f921"
             ]
            ],
            "type": "surface"
           }
          ],
          "table": [
           {
            "cells": {
             "fill": {
              "color": "#EBF0F8"
             },
             "line": {
              "color": "white"
             }
            },
            "header": {
             "fill": {
              "color": "#C8D4E3"
             },
             "line": {
              "color": "white"
             }
            },
            "type": "table"
           }
          ]
         },
         "layout": {
          "annotationdefaults": {
           "arrowcolor": "#2a3f5f",
           "arrowhead": 0,
           "arrowwidth": 1
          },
          "autotypenumbers": "strict",
          "coloraxis": {
           "colorbar": {
            "outlinewidth": 0,
            "ticks": ""
           }
          },
          "colorscale": {
           "diverging": [
            [
             0,
             "#8e0152"
            ],
            [
             0.1,
             "#c51b7d"
            ],
            [
             0.2,
             "#de77ae"
            ],
            [
             0.3,
             "#f1b6da"
            ],
            [
             0.4,
             "#fde0ef"
            ],
            [
             0.5,
             "#f7f7f7"
            ],
            [
             0.6,
             "#e6f5d0"
            ],
            [
             0.7,
             "#b8e186"
            ],
            [
             0.8,
             "#7fbc41"
            ],
            [
             0.9,
             "#4d9221"
            ],
            [
             1,
             "#276419"
            ]
           ],
           "sequential": [
            [
             0,
             "#0d0887"
            ],
            [
             0.1111111111111111,
             "#46039f"
            ],
            [
             0.2222222222222222,
             "#7201a8"
            ],
            [
             0.3333333333333333,
             "#9c179e"
            ],
            [
             0.4444444444444444,
             "#bd3786"
            ],
            [
             0.5555555555555556,
             "#d8576b"
            ],
            [
             0.6666666666666666,
             "#ed7953"
            ],
            [
             0.7777777777777778,
             "#fb9f3a"
            ],
            [
             0.8888888888888888,
             "#fdca26"
            ],
            [
             1,
             "#f0f921"
            ]
           ],
           "sequentialminus": [
            [
             0,
             "#0d0887"
            ],
            [
             0.1111111111111111,
             "#46039f"
            ],
            [
             0.2222222222222222,
             "#7201a8"
            ],
            [
             0.3333333333333333,
             "#9c179e"
            ],
            [
             0.4444444444444444,
             "#bd3786"
            ],
            [
             0.5555555555555556,
             "#d8576b"
            ],
            [
             0.6666666666666666,
             "#ed7953"
            ],
            [
             0.7777777777777778,
             "#fb9f3a"
            ],
            [
             0.8888888888888888,
             "#fdca26"
            ],
            [
             1,
             "#f0f921"
            ]
           ]
          },
          "colorway": [
           "#636efa",
           "#EF553B",
           "#00cc96",
           "#ab63fa",
           "#FFA15A",
           "#19d3f3",
           "#FF6692",
           "#B6E880",
           "#FF97FF",
           "#FECB52"
          ],
          "font": {
           "color": "#2a3f5f"
          },
          "geo": {
           "bgcolor": "white",
           "lakecolor": "white",
           "landcolor": "#E5ECF6",
           "showlakes": true,
           "showland": true,
           "subunitcolor": "white"
          },
          "hoverlabel": {
           "align": "left"
          },
          "hovermode": "closest",
          "mapbox": {
           "style": "light"
          },
          "paper_bgcolor": "white",
          "plot_bgcolor": "#E5ECF6",
          "polar": {
           "angularaxis": {
            "gridcolor": "white",
            "linecolor": "white",
            "ticks": ""
           },
           "bgcolor": "#E5ECF6",
           "radialaxis": {
            "gridcolor": "white",
            "linecolor": "white",
            "ticks": ""
           }
          },
          "scene": {
           "xaxis": {
            "backgroundcolor": "#E5ECF6",
            "gridcolor": "white",
            "gridwidth": 2,
            "linecolor": "white",
            "showbackground": true,
            "ticks": "",
            "zerolinecolor": "white"
           },
           "yaxis": {
            "backgroundcolor": "#E5ECF6",
            "gridcolor": "white",
            "gridwidth": 2,
            "linecolor": "white",
            "showbackground": true,
            "ticks": "",
            "zerolinecolor": "white"
           },
           "zaxis": {
            "backgroundcolor": "#E5ECF6",
            "gridcolor": "white",
            "gridwidth": 2,
            "linecolor": "white",
            "showbackground": true,
            "ticks": "",
            "zerolinecolor": "white"
           }
          },
          "shapedefaults": {
           "line": {
            "color": "#2a3f5f"
           }
          },
          "ternary": {
           "aaxis": {
            "gridcolor": "white",
            "linecolor": "white",
            "ticks": ""
           },
           "baxis": {
            "gridcolor": "white",
            "linecolor": "white",
            "ticks": ""
           },
           "bgcolor": "#E5ECF6",
           "caxis": {
            "gridcolor": "white",
            "linecolor": "white",
            "ticks": ""
           }
          },
          "title": {
           "x": 0.05
          },
          "xaxis": {
           "automargin": true,
           "gridcolor": "white",
           "linecolor": "white",
           "ticks": "",
           "title": {
            "standoff": 15
           },
           "zerolinecolor": "white",
           "zerolinewidth": 2
          },
          "yaxis": {
           "automargin": true,
           "gridcolor": "white",
           "linecolor": "white",
           "ticks": "",
           "title": {
            "standoff": 15
           },
           "zerolinecolor": "white",
           "zerolinewidth": 2
          }
         }
        },
        "title": {
         "text": "Aggregate Total Points above Replacement per Week"
        },
        "xaxis": {
         "categoryorder": "total descending"
        }
       }
      }
     },
     "metadata": {},
     "output_type": "display_data"
    }
   ],
   "source": [
    "fig = go.Figure()\n",
    "\n",
    "total_par = {NAME_PAIRINGS[roster[\"owner_id\"]]: sum(\n",
    "    roster[\"PAR_values\"])/CURRENT_WEEK for roster in rosters}\n",
    "fig.add_trace(\n",
    "    go.Bar(x=list(total_par.keys()), y=list(total_par.values()),\n",
    "           marker=dict(color=list(total_par.values()), coloraxis=\"coloraxis\"))\n",
    ")\n",
    "\n",
    "fig.update_layout(coloraxis=dict(colorscale=px.colors.diverging.RdYlGn),\n",
    "                  title=\"Aggregate Total Points above Replacement per Week\",\n",
    "                  showlegend=False,\n",
    "                  xaxis={'categoryorder': 'total descending'},\n",
    "                  )\n"
   ]
  },
  {
   "cell_type": "markdown",
   "metadata": {},
   "source": [
    "## Concluding our Points Above Replacement Analysis\n",
    "\n",
    "I was actually surprised that a team of replacement players was expected to score 92 points. I think the key is that the variance in these players is also a lot higher than what we expect every week from players on our roster and I'm taking a weekly average, which smooths over some of that added variance. We can also see above that Stian has the highest aggregate points above replacement in the league. Stephane is middle of the pack, but a lot of those come from the two players he just acquired. You should also note that calculating the PAR of defenses is pretty sketchy since most of us just drop and add defenses based on matchups. I left it in regardless since there are a few top tier defenses (Buffalo, and New Orleans for instance) that do genuinely improve team outcomes. I'm going to be interested to see how the points above average stat compares to this. It will probably be similar but I think that it will be able to better rate the typical starting lineup of a given team. \n",
    "\n",
    "## Generating Player PAA Estimates\n",
    "\n",
    "Generating PAA estimates will be a little more difficult than PAR estimates. To simplify things a little bit I will just assume that a team's highest scoring RB is their RB1, second highest is RB2, etc. For the FLEX positions, I will just use the two highest scoring players not already being used as a RB or WR. After I generate these tiers, I will compare a teams' RB1 to an average top 10 RB, their RB2 to an average 11-20 RB, and so on for each position. FLEX positions will be the 20 highest scoring players not being used as a RB 1-20 or WR 1-20. This score should better reflect a teams' positional strength and how well they would do against a team made up of typical starting level players. If a team has a higher aggregate WR PAA score for instance, it can expect more points than the average team from its WRs."
   ]
  },
  {
   "cell_type": "code",
   "execution_count": 280,
   "metadata": {},
   "outputs": [
    {
     "data": {
      "application/vnd.plotly.v1+json": {
       "config": {
        "plotlyServerURL": "https://plot.ly"
       },
       "data": [
        {
         "marker": {
          "color": [
           21.944,
           16.313750000000002,
           11.70875,
           16.241249999999997,
           12.821250000000001,
           9.694999999999999,
           10.69425,
           9.19925,
           8.475,
           8.55
          ],
          "coloraxis": "coloraxis"
         },
         "type": "bar",
         "x": [
          "QB",
          "RB1",
          "RB2",
          "WR1",
          "WR2",
          "TE",
          "FLEX1",
          "FLEX2",
          "DEF",
          "K"
         ],
         "y": [
          21.944,
          16.313750000000002,
          11.70875,
          16.241249999999997,
          12.821250000000001,
          9.694999999999999,
          10.69425,
          9.19925,
          8.475,
          8.55
         ]
        }
       ],
       "layout": {
        "coloraxis": {
         "colorscale": [
          [
           0,
           "rgb(165,0,38)"
          ],
          [
           0.1,
           "rgb(215,48,39)"
          ],
          [
           0.2,
           "rgb(244,109,67)"
          ],
          [
           0.3,
           "rgb(253,174,97)"
          ],
          [
           0.4,
           "rgb(254,224,139)"
          ],
          [
           0.5,
           "rgb(255,255,191)"
          ],
          [
           0.6,
           "rgb(217,239,139)"
          ],
          [
           0.7,
           "rgb(166,217,106)"
          ],
          [
           0.8,
           "rgb(102,189,99)"
          ],
          [
           0.9,
           "rgb(26,152,80)"
          ],
          [
           1,
           "rgb(0,104,55)"
          ]
         ]
        },
        "showlegend": false,
        "template": {
         "data": {
          "bar": [
           {
            "error_x": {
             "color": "#2a3f5f"
            },
            "error_y": {
             "color": "#2a3f5f"
            },
            "marker": {
             "line": {
              "color": "#E5ECF6",
              "width": 0.5
             },
             "pattern": {
              "fillmode": "overlay",
              "size": 10,
              "solidity": 0.2
             }
            },
            "type": "bar"
           }
          ],
          "barpolar": [
           {
            "marker": {
             "line": {
              "color": "#E5ECF6",
              "width": 0.5
             },
             "pattern": {
              "fillmode": "overlay",
              "size": 10,
              "solidity": 0.2
             }
            },
            "type": "barpolar"
           }
          ],
          "carpet": [
           {
            "aaxis": {
             "endlinecolor": "#2a3f5f",
             "gridcolor": "white",
             "linecolor": "white",
             "minorgridcolor": "white",
             "startlinecolor": "#2a3f5f"
            },
            "baxis": {
             "endlinecolor": "#2a3f5f",
             "gridcolor": "white",
             "linecolor": "white",
             "minorgridcolor": "white",
             "startlinecolor": "#2a3f5f"
            },
            "type": "carpet"
           }
          ],
          "choropleth": [
           {
            "colorbar": {
             "outlinewidth": 0,
             "ticks": ""
            },
            "type": "choropleth"
           }
          ],
          "contour": [
           {
            "colorbar": {
             "outlinewidth": 0,
             "ticks": ""
            },
            "colorscale": [
             [
              0,
              "#0d0887"
             ],
             [
              0.1111111111111111,
              "#46039f"
             ],
             [
              0.2222222222222222,
              "#7201a8"
             ],
             [
              0.3333333333333333,
              "#9c179e"
             ],
             [
              0.4444444444444444,
              "#bd3786"
             ],
             [
              0.5555555555555556,
              "#d8576b"
             ],
             [
              0.6666666666666666,
              "#ed7953"
             ],
             [
              0.7777777777777778,
              "#fb9f3a"
             ],
             [
              0.8888888888888888,
              "#fdca26"
             ],
             [
              1,
              "#f0f921"
             ]
            ],
            "type": "contour"
           }
          ],
          "contourcarpet": [
           {
            "colorbar": {
             "outlinewidth": 0,
             "ticks": ""
            },
            "type": "contourcarpet"
           }
          ],
          "heatmap": [
           {
            "colorbar": {
             "outlinewidth": 0,
             "ticks": ""
            },
            "colorscale": [
             [
              0,
              "#0d0887"
             ],
             [
              0.1111111111111111,
              "#46039f"
             ],
             [
              0.2222222222222222,
              "#7201a8"
             ],
             [
              0.3333333333333333,
              "#9c179e"
             ],
             [
              0.4444444444444444,
              "#bd3786"
             ],
             [
              0.5555555555555556,
              "#d8576b"
             ],
             [
              0.6666666666666666,
              "#ed7953"
             ],
             [
              0.7777777777777778,
              "#fb9f3a"
             ],
             [
              0.8888888888888888,
              "#fdca26"
             ],
             [
              1,
              "#f0f921"
             ]
            ],
            "type": "heatmap"
           }
          ],
          "heatmapgl": [
           {
            "colorbar": {
             "outlinewidth": 0,
             "ticks": ""
            },
            "colorscale": [
             [
              0,
              "#0d0887"
             ],
             [
              0.1111111111111111,
              "#46039f"
             ],
             [
              0.2222222222222222,
              "#7201a8"
             ],
             [
              0.3333333333333333,
              "#9c179e"
             ],
             [
              0.4444444444444444,
              "#bd3786"
             ],
             [
              0.5555555555555556,
              "#d8576b"
             ],
             [
              0.6666666666666666,
              "#ed7953"
             ],
             [
              0.7777777777777778,
              "#fb9f3a"
             ],
             [
              0.8888888888888888,
              "#fdca26"
             ],
             [
              1,
              "#f0f921"
             ]
            ],
            "type": "heatmapgl"
           }
          ],
          "histogram": [
           {
            "marker": {
             "pattern": {
              "fillmode": "overlay",
              "size": 10,
              "solidity": 0.2
             }
            },
            "type": "histogram"
           }
          ],
          "histogram2d": [
           {
            "colorbar": {
             "outlinewidth": 0,
             "ticks": ""
            },
            "colorscale": [
             [
              0,
              "#0d0887"
             ],
             [
              0.1111111111111111,
              "#46039f"
             ],
             [
              0.2222222222222222,
              "#7201a8"
             ],
             [
              0.3333333333333333,
              "#9c179e"
             ],
             [
              0.4444444444444444,
              "#bd3786"
             ],
             [
              0.5555555555555556,
              "#d8576b"
             ],
             [
              0.6666666666666666,
              "#ed7953"
             ],
             [
              0.7777777777777778,
              "#fb9f3a"
             ],
             [
              0.8888888888888888,
              "#fdca26"
             ],
             [
              1,
              "#f0f921"
             ]
            ],
            "type": "histogram2d"
           }
          ],
          "histogram2dcontour": [
           {
            "colorbar": {
             "outlinewidth": 0,
             "ticks": ""
            },
            "colorscale": [
             [
              0,
              "#0d0887"
             ],
             [
              0.1111111111111111,
              "#46039f"
             ],
             [
              0.2222222222222222,
              "#7201a8"
             ],
             [
              0.3333333333333333,
              "#9c179e"
             ],
             [
              0.4444444444444444,
              "#bd3786"
             ],
             [
              0.5555555555555556,
              "#d8576b"
             ],
             [
              0.6666666666666666,
              "#ed7953"
             ],
             [
              0.7777777777777778,
              "#fb9f3a"
             ],
             [
              0.8888888888888888,
              "#fdca26"
             ],
             [
              1,
              "#f0f921"
             ]
            ],
            "type": "histogram2dcontour"
           }
          ],
          "mesh3d": [
           {
            "colorbar": {
             "outlinewidth": 0,
             "ticks": ""
            },
            "type": "mesh3d"
           }
          ],
          "parcoords": [
           {
            "line": {
             "colorbar": {
              "outlinewidth": 0,
              "ticks": ""
             }
            },
            "type": "parcoords"
           }
          ],
          "pie": [
           {
            "automargin": true,
            "type": "pie"
           }
          ],
          "scatter": [
           {
            "marker": {
             "colorbar": {
              "outlinewidth": 0,
              "ticks": ""
             }
            },
            "type": "scatter"
           }
          ],
          "scatter3d": [
           {
            "line": {
             "colorbar": {
              "outlinewidth": 0,
              "ticks": ""
             }
            },
            "marker": {
             "colorbar": {
              "outlinewidth": 0,
              "ticks": ""
             }
            },
            "type": "scatter3d"
           }
          ],
          "scattercarpet": [
           {
            "marker": {
             "colorbar": {
              "outlinewidth": 0,
              "ticks": ""
             }
            },
            "type": "scattercarpet"
           }
          ],
          "scattergeo": [
           {
            "marker": {
             "colorbar": {
              "outlinewidth": 0,
              "ticks": ""
             }
            },
            "type": "scattergeo"
           }
          ],
          "scattergl": [
           {
            "marker": {
             "colorbar": {
              "outlinewidth": 0,
              "ticks": ""
             }
            },
            "type": "scattergl"
           }
          ],
          "scattermapbox": [
           {
            "marker": {
             "colorbar": {
              "outlinewidth": 0,
              "ticks": ""
             }
            },
            "type": "scattermapbox"
           }
          ],
          "scatterpolar": [
           {
            "marker": {
             "colorbar": {
              "outlinewidth": 0,
              "ticks": ""
             }
            },
            "type": "scatterpolar"
           }
          ],
          "scatterpolargl": [
           {
            "marker": {
             "colorbar": {
              "outlinewidth": 0,
              "ticks": ""
             }
            },
            "type": "scatterpolargl"
           }
          ],
          "scatterternary": [
           {
            "marker": {
             "colorbar": {
              "outlinewidth": 0,
              "ticks": ""
             }
            },
            "type": "scatterternary"
           }
          ],
          "surface": [
           {
            "colorbar": {
             "outlinewidth": 0,
             "ticks": ""
            },
            "colorscale": [
             [
              0,
              "#0d0887"
             ],
             [
              0.1111111111111111,
              "#46039f"
             ],
             [
              0.2222222222222222,
              "#7201a8"
             ],
             [
              0.3333333333333333,
              "#9c179e"
             ],
             [
              0.4444444444444444,
              "#bd3786"
             ],
             [
              0.5555555555555556,
              "#d8576b"
             ],
             [
              0.6666666666666666,
              "#ed7953"
             ],
             [
              0.7777777777777778,
              "#fb9f3a"
             ],
             [
              0.8888888888888888,
              "#fdca26"
             ],
             [
              1,
              "#f0f921"
             ]
            ],
            "type": "surface"
           }
          ],
          "table": [
           {
            "cells": {
             "fill": {
              "color": "#EBF0F8"
             },
             "line": {
              "color": "white"
             }
            },
            "header": {
             "fill": {
              "color": "#C8D4E3"
             },
             "line": {
              "color": "white"
             }
            },
            "type": "table"
           }
          ]
         },
         "layout": {
          "annotationdefaults": {
           "arrowcolor": "#2a3f5f",
           "arrowhead": 0,
           "arrowwidth": 1
          },
          "autotypenumbers": "strict",
          "coloraxis": {
           "colorbar": {
            "outlinewidth": 0,
            "ticks": ""
           }
          },
          "colorscale": {
           "diverging": [
            [
             0,
             "#8e0152"
            ],
            [
             0.1,
             "#c51b7d"
            ],
            [
             0.2,
             "#de77ae"
            ],
            [
             0.3,
             "#f1b6da"
            ],
            [
             0.4,
             "#fde0ef"
            ],
            [
             0.5,
             "#f7f7f7"
            ],
            [
             0.6,
             "#e6f5d0"
            ],
            [
             0.7,
             "#b8e186"
            ],
            [
             0.8,
             "#7fbc41"
            ],
            [
             0.9,
             "#4d9221"
            ],
            [
             1,
             "#276419"
            ]
           ],
           "sequential": [
            [
             0,
             "#0d0887"
            ],
            [
             0.1111111111111111,
             "#46039f"
            ],
            [
             0.2222222222222222,
             "#7201a8"
            ],
            [
             0.3333333333333333,
             "#9c179e"
            ],
            [
             0.4444444444444444,
             "#bd3786"
            ],
            [
             0.5555555555555556,
             "#d8576b"
            ],
            [
             0.6666666666666666,
             "#ed7953"
            ],
            [
             0.7777777777777778,
             "#fb9f3a"
            ],
            [
             0.8888888888888888,
             "#fdca26"
            ],
            [
             1,
             "#f0f921"
            ]
           ],
           "sequentialminus": [
            [
             0,
             "#0d0887"
            ],
            [
             0.1111111111111111,
             "#46039f"
            ],
            [
             0.2222222222222222,
             "#7201a8"
            ],
            [
             0.3333333333333333,
             "#9c179e"
            ],
            [
             0.4444444444444444,
             "#bd3786"
            ],
            [
             0.5555555555555556,
             "#d8576b"
            ],
            [
             0.6666666666666666,
             "#ed7953"
            ],
            [
             0.7777777777777778,
             "#fb9f3a"
            ],
            [
             0.8888888888888888,
             "#fdca26"
            ],
            [
             1,
             "#f0f921"
            ]
           ]
          },
          "colorway": [
           "#636efa",
           "#EF553B",
           "#00cc96",
           "#ab63fa",
           "#FFA15A",
           "#19d3f3",
           "#FF6692",
           "#B6E880",
           "#FF97FF",
           "#FECB52"
          ],
          "font": {
           "color": "#2a3f5f"
          },
          "geo": {
           "bgcolor": "white",
           "lakecolor": "white",
           "landcolor": "#E5ECF6",
           "showlakes": true,
           "showland": true,
           "subunitcolor": "white"
          },
          "hoverlabel": {
           "align": "left"
          },
          "hovermode": "closest",
          "mapbox": {
           "style": "light"
          },
          "paper_bgcolor": "white",
          "plot_bgcolor": "#E5ECF6",
          "polar": {
           "angularaxis": {
            "gridcolor": "white",
            "linecolor": "white",
            "ticks": ""
           },
           "bgcolor": "#E5ECF6",
           "radialaxis": {
            "gridcolor": "white",
            "linecolor": "white",
            "ticks": ""
           }
          },
          "scene": {
           "xaxis": {
            "backgroundcolor": "#E5ECF6",
            "gridcolor": "white",
            "gridwidth": 2,
            "linecolor": "white",
            "showbackground": true,
            "ticks": "",
            "zerolinecolor": "white"
           },
           "yaxis": {
            "backgroundcolor": "#E5ECF6",
            "gridcolor": "white",
            "gridwidth": 2,
            "linecolor": "white",
            "showbackground": true,
            "ticks": "",
            "zerolinecolor": "white"
           },
           "zaxis": {
            "backgroundcolor": "#E5ECF6",
            "gridcolor": "white",
            "gridwidth": 2,
            "linecolor": "white",
            "showbackground": true,
            "ticks": "",
            "zerolinecolor": "white"
           }
          },
          "shapedefaults": {
           "line": {
            "color": "#2a3f5f"
           }
          },
          "ternary": {
           "aaxis": {
            "gridcolor": "white",
            "linecolor": "white",
            "ticks": ""
           },
           "baxis": {
            "gridcolor": "white",
            "linecolor": "white",
            "ticks": ""
           },
           "bgcolor": "#E5ECF6",
           "caxis": {
            "gridcolor": "white",
            "linecolor": "white",
            "ticks": ""
           }
          },
          "title": {
           "x": 0.05
          },
          "xaxis": {
           "automargin": true,
           "gridcolor": "white",
           "linecolor": "white",
           "ticks": "",
           "title": {
            "standoff": 15
           },
           "zerolinecolor": "white",
           "zerolinewidth": 2
          },
          "yaxis": {
           "automargin": true,
           "gridcolor": "white",
           "linecolor": "white",
           "ticks": "",
           "title": {
            "standoff": 15
           },
           "zerolinecolor": "white",
           "zerolinewidth": 2
          }
         }
        },
        "title": {
         "text": "Average Player Weekly Score"
        }
       }
      }
     },
     "metadata": {},
     "output_type": "display_data"
    }
   ],
   "source": [
    "# I'm just going to loop through the rostered players to find the top 10 at each position under the assumption\n",
    "# that the best/most desirable average players are all rostered\n",
    "\n",
    "top_average_rostered = {\n",
    "    \"QB\" : [], \n",
    "    \"RB\" : [], \n",
    "    \"WR\" : [], \n",
    "    \"TE\" : [], \n",
    "    \"FLEX\" : [], \n",
    "    \"DEF\" : [], \n",
    "    \"K\" : []\n",
    "}\n",
    "\n",
    "for player in rostered_players:\n",
    "    position = rostered_players[player][\"position\"]\n",
    "    # if its one of these positions we have to deal with the flex position\n",
    "    if position in [\"RB\", \"WR\", \"TE\"]:\n",
    "        # tight ends have only a TE1, whereas RB and WR have RB1/2\n",
    "        if position == \"TE\":\n",
    "            lim_max = 10\n",
    "        else:\n",
    "            lim_max = 20\n",
    "\n",
    "        # if we don't have enough top players, we just use this one\n",
    "        # as a top player. Otherwise we check points\n",
    "        if len(top_average_rostered[position]) < lim_max:\n",
    "            top_average_rostered[position].append(\n",
    "                rostered_players[player]\n",
    "            )\n",
    "        else:\n",
    "            # get the index of the lowest scoring player\n",
    "            p_points = rostered_players[player][\"points\"]\n",
    "            t_points = [top_player[\"points\"] for top_player in top_average_rostered[position]]\n",
    "            idx_min = t_points.index(min(t_points))\n",
    "            # we have to move the player we remove to the FLEX category\n",
    "            # since by definition they will have a higher points value\n",
    "            # than players in that list\n",
    "            if p_points > min(t_points):\n",
    "                booted_player = top_average_rostered[position][idx_min]\n",
    "                p_points = booted_player[\"points\"]\n",
    "                top_average_rostered[position][idx_min] = rostered_players[player]\n",
    "            else:\n",
    "                booted_player = rostered_players[player]\n",
    "\n",
    "            if len(top_average_rostered[\"FLEX\"]) < 20:\n",
    "                top_average_rostered[\"FLEX\"].append(\n",
    "                    booted_player\n",
    "                )\n",
    "            else:\n",
    "                t_points = [top_player[\"points\"] for top_player in top_average_rostered[\"FLEX\"]]\n",
    "                idx_min = t_points.index(min(t_points))\n",
    "                if p_points > min(t_points):\n",
    "                    top_average_rostered[\"FLEX\"][idx_min] = booted_player\n",
    "\n",
    "    else:\n",
    "        if len(top_average_rostered[position]) < 10:\n",
    "            top_average_rostered[position].append(\n",
    "                rostered_players[player]\n",
    "            )\n",
    "        else:\n",
    "            p_points = rostered_players[player][\"points\"]\n",
    "            t_points = [top_player[\"points\"] for top_player in top_average_rostered[position]]\n",
    "            idx_min = t_points.index(min(t_points))\n",
    "            if p_points > min(t_points):\n",
    "                top_average_rostered[position][idx_min] = rostered_players[player]\n",
    "\n",
    "# now that we have the best players at each position, we\n",
    "# should segment the tiered position groups by scoring\n",
    "# and then sort the other position groups\n",
    "\n",
    "for position in FANTASY_POSITIONS:\n",
    "    if position in [\"RB\", \"WR\", \"FLEX\"]:\n",
    "        top_players = top_average_rostered[position]\n",
    "        top_players_sorted = sorted(top_players, key=lambda d: d['points'], reverse=True)\n",
    "        tier_1 = top_players_sorted[:10]\n",
    "        tier_2 = top_players_sorted[10:]\n",
    "        top_average_rostered[f\"{position}1\"] = tier_1\n",
    "        top_average_rostered[f\"{position}2\"] = tier_2\n",
    "        top_average_rostered.pop(position)\n",
    "    else:\n",
    "        top_average_rostered[position] =  sorted(top_average_rostered[position], key=lambda d: d['points'], reverse=True)\n",
    "\n",
    "top_average_rostered\n",
    "\n",
    "# now that we have our tiers, lets calculate an average score and weekly score for these tiers\n",
    "\n",
    "average_scores = {}\n",
    "for position in top_average_rostered:\n",
    "    total_score = sum([player[\"points\"] for player in top_average_rostered[position]]) / len(top_average_rostered[position])\n",
    "    total_weekly_score = total_score / CURRENT_WEEK\n",
    "    average_scores[position] = {\"total\": total_score, \"weekly\": total_weekly_score}\n",
    "\n",
    "TIERS = [\"QB\", \"RB1\", \"RB2\", \"WR1\", \"WR2\", \"TE\", \"FLEX1\", \"FLEX2\", \"DEF\", \"K\"]\n",
    "\n",
    "fig = go.Figure()\n",
    "\n",
    "average_scores = {k: average_scores[k] for k in TIERS}\n",
    "weekly_averages = [average_scores[position][\"weekly\"] for position in average_scores]\n",
    "\n",
    "fig.add_trace(\n",
    "    go.Bar(x=list(average_scores.keys()), y=weekly_averages,\n",
    "           marker=dict(color=weekly_averages, coloraxis=\"coloraxis\"))\n",
    ")\n",
    "\n",
    "fig.update_layout(coloraxis=dict(colorscale=px.colors.diverging.RdYlGn),\n",
    "                  title=\"Average Player Weekly Score\",\n",
    "                  showlegend=False,\n",
    "                  )\n",
    "\n",
    "fig.show()\n"
   ]
  },
  {
   "cell_type": "markdown",
   "metadata": {},
   "source": [
    "Cool, now we have generated an expected score for each position location in a players' starting lineup! Notice that although WR1's and RB1's score about the same, the difference between an average RB2 and WR2 is about 1 points. Between the starting positions and the FLEX positions, there is another dropoff of about a point. As expected, the average defense and kicker adds the least amount of expected points to a teams' weekly score. I think the most interesting thing here though is that an average TE is worth about the same as the second tier FLEX, which shows why TE's like Waller, Kelce, etc. are valued so highly. Now that we have this information, we can calculate the points above/below this average value for each of the players on a team. Although it is a bit crude, I will simply assume a teams' top scoring running back is its RB1, its second top scoring RB is its RB2, and so on into the FLEX positions."
   ]
  },
  {
   "cell_type": "code",
   "execution_count": 281,
   "metadata": {},
   "outputs": [],
   "source": [
    "for roster in rosters:\n",
    "    user_players = roster[\"players\"]\n",
    "    user_players = [rostered_players[player] for player in user_players]\n",
    "    user_players_sorted = sorted(user_players, key=lambda d: d['points'], reverse=True)\n",
    "    starters = [[], [], [], [], [], [], []]\n",
    "    for player in user_players_sorted:\n",
    "        p_pos = player[\"position\"]\n",
    "        if p_pos == \"QB\" and len(starters[0]) < 1:\n",
    "            player[\"PAA\"] = player[\"points\"] - average_scores[\"QB\"][\"total\"]\n",
    "            player[\"PAA_weekly\"] = player[\"PAA\"] / CURRENT_WEEK\n",
    "            player[\"PAA_name\"] = player[\"name\"] + \" (QB1)\"\n",
    "            starters[0].append(player)\n",
    "\n",
    "        elif p_pos == \"RB\" and len(starters[1]) < 2:\n",
    "            if len(starters[1]) < 1:\n",
    "                player[\"PAA\"] = player[\"points\"] - average_scores[\"RB1\"][\"total\"]\n",
    "                player[\"PAA_weekly\"] = player[\"PAA\"] / CURRENT_WEEK\n",
    "                player[\"PAA_name\"] = player[\"name\"] + \" (RB1)\"\n",
    "                starters[1].append(player)\n",
    "            else:\n",
    "                player[\"PAA\"] = player[\"points\"] - average_scores[\"RB2\"][\"total\"]\n",
    "                player[\"PAA_weekly\"] = player[\"PAA\"] / CURRENT_WEEK\n",
    "                player[\"PAA_name\"] = player[\"name\"] + \" (RB2)\"\n",
    "                starters[1].append(player)\n",
    "\n",
    "        elif p_pos == \"WR\" and len(starters[2]) < 2:\n",
    "            if len(starters[2]) < 1:\n",
    "                player[\"PAA\"] = player[\"points\"] - average_scores[\"WR1\"][\"total\"]\n",
    "                player[\"PAA_weekly\"] = player[\"PAA\"] / CURRENT_WEEK\n",
    "                player[\"PAA_name\"] = player[\"name\"] + \" (WR1)\"\n",
    "                starters[2].append(player)\n",
    "            else:\n",
    "                player[\"PAA\"] = player[\"points\"] - average_scores[\"WR2\"][\"total\"]\n",
    "                player[\"PAA_weekly\"] = player[\"PAA\"] / CURRENT_WEEK\n",
    "                player[\"PAA_name\"] = player[\"name\"] + \" (WR2)\"\n",
    "                starters[2].append(player)\n",
    "\n",
    "        elif p_pos == \"TE\" and len(starters[3]) < 1:\n",
    "            player[\"PAA\"] = player[\"points\"] - average_scores[\"TE\"][\"total\"]\n",
    "            player[\"PAA_weekly\"] = player[\"PAA\"] / CURRENT_WEEK\n",
    "            player[\"PAA_name\"] = player[\"name\"] + \" (TE1)\"\n",
    "            starters[3].append(player)\n",
    "\n",
    "        elif p_pos in [\"RB\", \"WR\", \"TE\"] and len(starters[4]) < 2:\n",
    "            if len(starters[4]) < 1:\n",
    "                player[\"PAA\"] = player[\"points\"] - average_scores[\"FLEX1\"][\"total\"]\n",
    "                player[\"PAA_weekly\"] = player[\"PAA\"] / CURRENT_WEEK\n",
    "                player[\"PAA_name\"] = player[\"name\"] + \" (FLEX1)\"\n",
    "                starters[4].append(player)\n",
    "            else:\n",
    "                player[\"PAA\"] = player[\"points\"] - average_scores[\"FLEX2\"][\"total\"]\n",
    "                player[\"PAA_weekly\"] = player[\"PAA\"] / CURRENT_WEEK\n",
    "                player[\"PAA_name\"] = player[\"name\"] + \" (FLEX2)\"\n",
    "                starters[4].append(player)\n",
    "\n",
    "        elif p_pos == \"DEF\" and len(starters[5]) < 1:\n",
    "            player[\"PAA\"] = player[\"points\"] - average_scores[\"DEF\"][\"total\"]\n",
    "            player[\"PAA_weekly\"] = player[\"PAA\"] / CURRENT_WEEK\n",
    "            player[\"PAA_name\"] = player[\"name\"] + \" (DEF)\"\n",
    "            starters[5].append(player)\n",
    "\n",
    "        elif p_pos == \"K\" and len(starters[6]) < 1:\n",
    "            player[\"PAA\"] = player[\"points\"] - average_scores[\"K\"][\"total\"]\n",
    "            player[\"PAA_weekly\"] = player[\"PAA\"] / CURRENT_WEEK\n",
    "            player[\"PAA_name\"] = player[\"name\"] + \" (K)\"\n",
    "            starters[6].append(player)\n",
    "        else:\n",
    "            continue\n",
    "        \n",
    "    # flatten out the starters list for plotting purposes\n",
    "    roster[\"expected_starters\"] = [item for sublist in starters for item in sublist]\n"
   ]
  },
  {
   "cell_type": "markdown",
   "metadata": {},
   "source": [
    "Now that we have generated the PAA values for each player, we can plot the relative strenghts and weaknesses among teams and players."
   ]
  },
  {
   "cell_type": "code",
   "execution_count": 282,
   "metadata": {},
   "outputs": [
    {
     "data": {
      "application/vnd.plotly.v1+json": {
       "config": {
        "plotlyServerURL": "https://plot.ly"
       },
       "data": [
        {
         "marker": {
          "cmid": 0,
          "color": [
           1.3659999999999997,
           -6.701250000000002,
           -3.08375,
           -2.966249999999997,
           -1.9837500000000006,
           2.9925000000000015,
           -0.3442500000000006,
           -0.9117499999999996,
           -1.8499999999999996,
           -0.8000000000000007
          ],
          "coloraxis": "coloraxis"
         },
         "type": "bar",
         "x": [
          "Matthew Stafford (QB1)",
          "Myles Gaskin (RB1)",
          "Javonte Williams (RB2)",
          "CeeDee Lamb (WR1)",
          "A.J. Brown (WR2)",
          "Travis Kelce (TE1)",
          "T.J. Hockenson (FLEX1)",
          "Elijah Mitchell (FLEX2)",
          "PIT (DEF)",
          "Greg Zuerlein (K)"
         ],
         "xaxis": "x",
         "y": [
          1.3659999999999997,
          -6.701250000000002,
          -3.08375,
          -2.966249999999997,
          -1.9837500000000006,
          2.9925000000000015,
          -0.3442500000000006,
          -0.9117499999999996,
          -1.8499999999999996,
          -0.8000000000000007
         ],
         "yaxis": "y"
        },
        {
         "marker": {
          "cmid": 0,
          "color": [
           -1.3314999999999984,
           -1.1262500000000024,
           -0.3962500000000002,
           0.02125000000000199,
           0.17874999999999908,
           -0.6824999999999992,
           -0.30675000000000097,
           1.0257500000000004,
           -3.5999999999999996,
           1.9499999999999993
          ],
          "coloraxis": "coloraxis"
         },
         "type": "bar",
         "x": [
          "Joe Burrow (QB1)",
          "Joe Mixon (RB1)",
          "Melvin Gordon (RB2)",
          "Deebo Samuel (WR1)",
          "Terry McLaurin (WR2)",
          "Dawson Knox (TE1)",
          "Antonio Gibson (FLEX1)",
          "Chase Edmonds (FLEX2)",
          "BAL (DEF)",
          "Nick Folk (K)"
         ],
         "xaxis": "x2",
         "y": [
          -1.3314999999999984,
          -1.1262500000000024,
          -0.3962500000000002,
          0.02125000000000199,
          0.17874999999999908,
          -0.6824999999999992,
          -0.30675000000000097,
          1.0257500000000004,
          -3.5999999999999996,
          1.9499999999999993
         ],
         "yaxis": "y2"
        },
        {
         "marker": {
          "cmid": 0,
          "color": [
           1.153500000000001,
           -4.001250000000002,
           -2.6087500000000006,
           -2.416249999999998,
           -0.7712500000000002,
           1.6925000000000008,
           -0.9442500000000003,
           -0.5742499999999993,
           -0.09999999999999964,
           -0.05000000000000071
          ],
          "coloraxis": "coloraxis"
         },
         "type": "bar",
         "x": [
          "Josh Allen (QB1)",
          "James Robinson (RB1)",
          "Darrel Williams (RB2)",
          "Marquise Brown (WR1)",
          "Tyler Lockett (WR2)",
          "Mark Andrews (TE1)",
          "Emmanuel Sanders (FLEX1)",
          "Chuba Hubbard (FLEX2)",
          "TB (DEF)",
          "Justin Tucker (K)"
         ],
         "xaxis": "x3",
         "y": [
          1.153500000000001,
          -4.001250000000002,
          -2.6087500000000006,
          -2.416249999999998,
          -0.7712500000000002,
          1.6925000000000008,
          -0.9442500000000003,
          -0.5742499999999993,
          -0.09999999999999964,
          -0.05000000000000071
         ],
         "yaxis": "y3"
        },
        {
         "marker": {
          "cmid": 0,
          "color": [
           -2.8364999999999974,
           -0.8512500000000021,
           -0.12124999999999986,
           -1.0037499999999966,
           -0.7587500000000009,
           -0.7574999999999985,
           0.9607499999999991,
           1.888250000000001,
           -0.9749999999999996,
           0.9499999999999993
          ],
          "coloraxis": "coloraxis"
         },
         "type": "bar",
         "x": [
          "Justin Herbert (QB1)",
          "Najee Harris (RB1)",
          "Damien Harris (RB2)",
          "Mike Evans (WR1)",
          "Brandin Cooks (WR2)",
          "Dalton Schultz (TE1)",
          "Justin Jefferson (FLEX1)",
          "James Conner (FLEX2)",
          "CAR (DEF)",
          "Tyler Bass (K)"
         ],
         "xaxis": "x4",
         "y": [
          -2.8364999999999974,
          -0.8512500000000021,
          -0.12124999999999986,
          -1.0037499999999966,
          -0.7587500000000009,
          -0.7574999999999985,
          0.9607499999999991,
          1.888250000000001,
          -0.9749999999999996,
          0.9499999999999993
         ],
         "yaxis": "y4"
        },
        {
         "marker": {
          "cmid": 0,
          "color": [
           0.2735000000000021,
           -0.7512500000000024,
           2.928749999999999,
           -1.466249999999997,
           -4.221250000000001,
           -5.107499999999998,
           3.7932500000000005,
           0.6132500000000007,
           1.7750000000000004,
           -0.8000000000000007
          ],
          "coloraxis": "coloraxis"
         },
         "type": "bar",
         "x": [
          "Kyler Murray (QB1)",
          "Aaron Jones (RB1)",
          "Cordarrelle Patterson (RB2)",
          "Chris Godwin (WR1)",
          "Cole Beasley (WR2)",
          "Dan Arnold (TE1)",
          "Ezekiel Elliott (FLEX1)",
          "Michael Carter (FLEX2)",
          "ARI (DEF)",
          "Mason Crosby (K)"
         ],
         "xaxis": "x5",
         "y": [
          0.2735000000000021,
          -0.7512500000000024,
          2.928749999999999,
          -1.466249999999997,
          -4.221250000000001,
          -5.107499999999998,
          3.7932500000000005,
          0.6132500000000007,
          1.7750000000000004,
          -0.8000000000000007
         ],
         "yaxis": "y5"
        },
        {
         "marker": {
          "cmid": 0,
          "color": [
           0.6760000000000019,
           -5.476250000000002,
           -3.1587499999999995,
           6.683750000000003,
           0.5787499999999994,
           -3.032499999999999,
           2.630749999999999,
           1.8382500000000004,
           2.1500000000000004,
           0.07499999999999929
          ],
          "coloraxis": "coloraxis"
         },
         "type": "bar",
         "x": [
          "Jalen Hurts (QB1)",
          "Nick Chubb (RB1)",
          "Josh Jacobs (RB2)",
          "Cooper Kupp (WR1)",
          "Mike Williams (WR2)",
          "Tyler Higbee (TE1)",
          "DJ Moore (FLEX1)",
          "Stefon Diggs (FLEX2)",
          "BUF (DEF)",
          "Matt Prater (K)"
         ],
         "xaxis": "x6",
         "y": [
          0.6760000000000019,
          -5.476250000000002,
          -3.1587499999999995,
          6.683750000000003,
          0.5787499999999994,
          -3.032499999999999,
          2.630749999999999,
          1.8382500000000004,
          2.1500000000000004,
          0.07499999999999929
         ],
         "yaxis": "y6"
        },
        {
         "marker": {
          "cmid": 0,
          "color": [
           -1.2289999999999992,
           -0.8637500000000031,
           -3.52125,
           1.1712500000000041,
           0.6912499999999984,
           -3.5074999999999985,
           -0.931750000000001,
           -1.486749999999999,
           -1.2249999999999996,
           0.1999999999999993
          ],
          "coloraxis": "coloraxis"
         },
         "type": "bar",
         "x": [
          "Lamar Jackson (QB1)",
          "Alvin Kamara (RB1)",
          "Zack Moss (RB2)",
          "Ja'Marr Chase (WR1)",
          "DeAndre Hopkins (WR2)",
          "Jared Cook (TE1)",
          "A.J. Green (FLEX1)",
          "Kenyan Drake (FLEX2)",
          "LAR (DEF)",
          "Randy Bullock (K)"
         ],
         "xaxis": "x7",
         "y": [
          -1.2289999999999992,
          -0.8637500000000031,
          -3.52125,
          1.1712500000000041,
          0.6912499999999984,
          -3.5074999999999985,
          -0.931750000000001,
          -1.486749999999999,
          -1.2249999999999996,
          0.1999999999999993
         ],
         "yaxis": "y7"
        },
        {
         "marker": {
          "cmid": 0,
          "color": [
           -4.9914999999999985,
           6.598749999999999,
           3.4037500000000005,
           -0.6787499999999973,
           0.5162499999999994,
           0.4925000000000015,
           2.2807499999999994,
           1.18825,
           0.40000000000000036,
           0.5749999999999993
          ],
          "coloraxis": "coloraxis"
         },
         "type": "bar",
         "x": [
          "Kirk Cousins (QB1)",
          "Derrick Henry (RB1)",
          "D'Andre Swift (RB2)",
          "DK Metcalf (WR1)",
          "Michael Pittman (WR2)",
          "Mike Gesicki (TE1)",
          "Adam Thielen (FLEX1)",
          "Keenan Allen (FLEX2)",
          "IND (DEF)",
          "Matt Gay (K)"
         ],
         "xaxis": "x8",
         "y": [
          -4.9914999999999985,
          6.598749999999999,
          3.4037500000000005,
          -0.6787499999999973,
          0.5162499999999994,
          0.4925000000000015,
          2.2807499999999994,
          1.18825,
          0.40000000000000036,
          0.5749999999999993
         ],
         "yaxis": "y8"
        },
        {
         "marker": {
          "cmid": 0,
          "color": [
           3.5435000000000016,
           1.1737499999999983,
           1.5037500000000001,
           1.8587500000000041,
           -0.6337500000000009,
           -2.094999999999999,
           1.08075,
           0.9132500000000014,
           -0.8499999999999996,
           -1.6750000000000007
          ],
          "coloraxis": "coloraxis"
         },
         "type": "bar",
         "x": [
          "Tom Brady (QB1)",
          "Jonathan Taylor (RB1)",
          "Leonard Fournette (RB2)",
          "Tyreek Hill (WR1)",
          "Amari Cooper (WR2)",
          "Dallas Goedert (TE1)",
          "Kareem Hunt (FLEX1)",
          "Antonio Brown (FLEX2)",
          "DAL (DEF)",
          "Younghoe Koo (K)"
         ],
         "xaxis": "x9",
         "y": [
          3.5435000000000016,
          1.1737499999999983,
          1.5037500000000001,
          1.8587500000000041,
          -0.6337500000000009,
          -2.094999999999999,
          1.08075,
          0.9132500000000014,
          -0.8499999999999996,
          -1.6750000000000007
         ],
         "yaxis": "y9"
        },
        {
         "marker": {
          "cmid": 0,
          "color": [
           -2.2489999999999988,
           0.5237499999999962,
           2.6412499999999994,
           -1.4412499999999966,
           -0.22125000000000128,
           -1.4074999999999989,
           0.5432500000000005,
           -0.32424999999999926,
           1.1500000000000004,
           -1.4250000000000007
          ],
          "coloraxis": "coloraxis"
         },
         "type": "bar",
         "x": [
          "Aaron Rodgers (QB1)",
          "Austin Ekeler (RB1)",
          "Darrell Henderson (RB2)",
          "Davante Adams (WR1)",
          "Robert Woods (WR2)",
          "Darren Waller (TE1)",
          "Courtland Sutton (FLEX1)",
          "Jakobi Meyers (FLEX2)",
          "NO (DEF)",
          "Harrison Butker (K)"
         ],
         "xaxis": "x10",
         "y": [
          -2.2489999999999988,
          0.5237499999999962,
          2.6412499999999994,
          -1.4412499999999966,
          -0.22125000000000128,
          -1.4074999999999989,
          0.5432500000000005,
          -0.32424999999999926,
          1.1500000000000004,
          -1.4250000000000007
         ],
         "yaxis": "y10"
        }
       ],
       "layout": {
        "annotations": [
         {
          "font": {
           "size": 16
          },
          "showarrow": false,
          "text": "My Goat Loves You",
          "x": 0.225,
          "xanchor": "center",
          "xref": "paper",
          "y": 1,
          "yanchor": "bottom",
          "yref": "paper"
         },
         {
          "font": {
           "size": 16
          },
          "showarrow": false,
          "text": "RB sanctuary",
          "x": 0.775,
          "xanchor": "center",
          "xref": "paper",
          "y": 1,
          "yanchor": "bottom",
          "yref": "paper"
         },
         {
          "font": {
           "size": 16
          },
          "showarrow": false,
          "text": "The Brutherhood",
          "x": 0.225,
          "xanchor": "center",
          "xref": "paper",
          "y": 0.78,
          "yanchor": "bottom",
          "yref": "paper"
         },
         {
          "font": {
           "size": 16
          },
          "showarrow": false,
          "text": "Tree Leaves",
          "x": 0.775,
          "xanchor": "center",
          "xref": "paper",
          "y": 0.78,
          "yanchor": "bottom",
          "yref": "paper"
         },
         {
          "font": {
           "size": 16
          },
          "showarrow": false,
          "text": "the noés",
          "x": 0.225,
          "xanchor": "center",
          "xref": "paper",
          "y": 0.56,
          "yanchor": "bottom",
          "yref": "paper"
         },
         {
          "font": {
           "size": 16
          },
          "showarrow": false,
          "text": "AssNTitties",
          "x": 0.775,
          "xanchor": "center",
          "xref": "paper",
          "y": 0.56,
          "yanchor": "bottom",
          "yref": "paper"
         },
         {
          "font": {
           "size": 16
          },
          "showarrow": false,
          "text": "billcap",
          "x": 0.225,
          "xanchor": "center",
          "xref": "paper",
          "y": 0.33999999999999997,
          "yanchor": "bottom",
          "yref": "paper"
         },
         {
          "font": {
           "size": 16
          },
          "showarrow": false,
          "text": "Thicc King",
          "x": 0.775,
          "xanchor": "center",
          "xref": "paper",
          "y": 0.33999999999999997,
          "yanchor": "bottom",
          "yref": "paper"
         },
         {
          "font": {
           "size": 16
          },
          "showarrow": false,
          "text": "tealeaves",
          "x": 0.225,
          "xanchor": "center",
          "xref": "paper",
          "y": 0.12,
          "yanchor": "bottom",
          "yref": "paper"
         },
         {
          "font": {
           "size": 16
          },
          "showarrow": false,
          "text": "SideThicc #2",
          "x": 0.775,
          "xanchor": "center",
          "xref": "paper",
          "y": 0.12,
          "yanchor": "bottom",
          "yref": "paper"
         }
        ],
        "coloraxis": {
         "colorscale": [
          [
           0,
           "rgb(165,0,38)"
          ],
          [
           0.1,
           "rgb(215,48,39)"
          ],
          [
           0.2,
           "rgb(244,109,67)"
          ],
          [
           0.3,
           "rgb(253,174,97)"
          ],
          [
           0.4,
           "rgb(254,224,139)"
          ],
          [
           0.5,
           "rgb(255,255,191)"
          ],
          [
           0.6,
           "rgb(217,239,139)"
          ],
          [
           0.7,
           "rgb(166,217,106)"
          ],
          [
           0.8,
           "rgb(102,189,99)"
          ],
          [
           0.9,
           "rgb(26,152,80)"
          ],
          [
           1,
           "rgb(0,104,55)"
          ]
         ]
        },
        "height": 2000,
        "showlegend": false,
        "template": {
         "data": {
          "bar": [
           {
            "error_x": {
             "color": "#2a3f5f"
            },
            "error_y": {
             "color": "#2a3f5f"
            },
            "marker": {
             "line": {
              "color": "#E5ECF6",
              "width": 0.5
             },
             "pattern": {
              "fillmode": "overlay",
              "size": 10,
              "solidity": 0.2
             }
            },
            "type": "bar"
           }
          ],
          "barpolar": [
           {
            "marker": {
             "line": {
              "color": "#E5ECF6",
              "width": 0.5
             },
             "pattern": {
              "fillmode": "overlay",
              "size": 10,
              "solidity": 0.2
             }
            },
            "type": "barpolar"
           }
          ],
          "carpet": [
           {
            "aaxis": {
             "endlinecolor": "#2a3f5f",
             "gridcolor": "white",
             "linecolor": "white",
             "minorgridcolor": "white",
             "startlinecolor": "#2a3f5f"
            },
            "baxis": {
             "endlinecolor": "#2a3f5f",
             "gridcolor": "white",
             "linecolor": "white",
             "minorgridcolor": "white",
             "startlinecolor": "#2a3f5f"
            },
            "type": "carpet"
           }
          ],
          "choropleth": [
           {
            "colorbar": {
             "outlinewidth": 0,
             "ticks": ""
            },
            "type": "choropleth"
           }
          ],
          "contour": [
           {
            "colorbar": {
             "outlinewidth": 0,
             "ticks": ""
            },
            "colorscale": [
             [
              0,
              "#0d0887"
             ],
             [
              0.1111111111111111,
              "#46039f"
             ],
             [
              0.2222222222222222,
              "#7201a8"
             ],
             [
              0.3333333333333333,
              "#9c179e"
             ],
             [
              0.4444444444444444,
              "#bd3786"
             ],
             [
              0.5555555555555556,
              "#d8576b"
             ],
             [
              0.6666666666666666,
              "#ed7953"
             ],
             [
              0.7777777777777778,
              "#fb9f3a"
             ],
             [
              0.8888888888888888,
              "#fdca26"
             ],
             [
              1,
              "#f0f921"
             ]
            ],
            "type": "contour"
           }
          ],
          "contourcarpet": [
           {
            "colorbar": {
             "outlinewidth": 0,
             "ticks": ""
            },
            "type": "contourcarpet"
           }
          ],
          "heatmap": [
           {
            "colorbar": {
             "outlinewidth": 0,
             "ticks": ""
            },
            "colorscale": [
             [
              0,
              "#0d0887"
             ],
             [
              0.1111111111111111,
              "#46039f"
             ],
             [
              0.2222222222222222,
              "#7201a8"
             ],
             [
              0.3333333333333333,
              "#9c179e"
             ],
             [
              0.4444444444444444,
              "#bd3786"
             ],
             [
              0.5555555555555556,
              "#d8576b"
             ],
             [
              0.6666666666666666,
              "#ed7953"
             ],
             [
              0.7777777777777778,
              "#fb9f3a"
             ],
             [
              0.8888888888888888,
              "#fdca26"
             ],
             [
              1,
              "#f0f921"
             ]
            ],
            "type": "heatmap"
           }
          ],
          "heatmapgl": [
           {
            "colorbar": {
             "outlinewidth": 0,
             "ticks": ""
            },
            "colorscale": [
             [
              0,
              "#0d0887"
             ],
             [
              0.1111111111111111,
              "#46039f"
             ],
             [
              0.2222222222222222,
              "#7201a8"
             ],
             [
              0.3333333333333333,
              "#9c179e"
             ],
             [
              0.4444444444444444,
              "#bd3786"
             ],
             [
              0.5555555555555556,
              "#d8576b"
             ],
             [
              0.6666666666666666,
              "#ed7953"
             ],
             [
              0.7777777777777778,
              "#fb9f3a"
             ],
             [
              0.8888888888888888,
              "#fdca26"
             ],
             [
              1,
              "#f0f921"
             ]
            ],
            "type": "heatmapgl"
           }
          ],
          "histogram": [
           {
            "marker": {
             "pattern": {
              "fillmode": "overlay",
              "size": 10,
              "solidity": 0.2
             }
            },
            "type": "histogram"
           }
          ],
          "histogram2d": [
           {
            "colorbar": {
             "outlinewidth": 0,
             "ticks": ""
            },
            "colorscale": [
             [
              0,
              "#0d0887"
             ],
             [
              0.1111111111111111,
              "#46039f"
             ],
             [
              0.2222222222222222,
              "#7201a8"
             ],
             [
              0.3333333333333333,
              "#9c179e"
             ],
             [
              0.4444444444444444,
              "#bd3786"
             ],
             [
              0.5555555555555556,
              "#d8576b"
             ],
             [
              0.6666666666666666,
              "#ed7953"
             ],
             [
              0.7777777777777778,
              "#fb9f3a"
             ],
             [
              0.8888888888888888,
              "#fdca26"
             ],
             [
              1,
              "#f0f921"
             ]
            ],
            "type": "histogram2d"
           }
          ],
          "histogram2dcontour": [
           {
            "colorbar": {
             "outlinewidth": 0,
             "ticks": ""
            },
            "colorscale": [
             [
              0,
              "#0d0887"
             ],
             [
              0.1111111111111111,
              "#46039f"
             ],
             [
              0.2222222222222222,
              "#7201a8"
             ],
             [
              0.3333333333333333,
              "#9c179e"
             ],
             [
              0.4444444444444444,
              "#bd3786"
             ],
             [
              0.5555555555555556,
              "#d8576b"
             ],
             [
              0.6666666666666666,
              "#ed7953"
             ],
             [
              0.7777777777777778,
              "#fb9f3a"
             ],
             [
              0.8888888888888888,
              "#fdca26"
             ],
             [
              1,
              "#f0f921"
             ]
            ],
            "type": "histogram2dcontour"
           }
          ],
          "mesh3d": [
           {
            "colorbar": {
             "outlinewidth": 0,
             "ticks": ""
            },
            "type": "mesh3d"
           }
          ],
          "parcoords": [
           {
            "line": {
             "colorbar": {
              "outlinewidth": 0,
              "ticks": ""
             }
            },
            "type": "parcoords"
           }
          ],
          "pie": [
           {
            "automargin": true,
            "type": "pie"
           }
          ],
          "scatter": [
           {
            "marker": {
             "colorbar": {
              "outlinewidth": 0,
              "ticks": ""
             }
            },
            "type": "scatter"
           }
          ],
          "scatter3d": [
           {
            "line": {
             "colorbar": {
              "outlinewidth": 0,
              "ticks": ""
             }
            },
            "marker": {
             "colorbar": {
              "outlinewidth": 0,
              "ticks": ""
             }
            },
            "type": "scatter3d"
           }
          ],
          "scattercarpet": [
           {
            "marker": {
             "colorbar": {
              "outlinewidth": 0,
              "ticks": ""
             }
            },
            "type": "scattercarpet"
           }
          ],
          "scattergeo": [
           {
            "marker": {
             "colorbar": {
              "outlinewidth": 0,
              "ticks": ""
             }
            },
            "type": "scattergeo"
           }
          ],
          "scattergl": [
           {
            "marker": {
             "colorbar": {
              "outlinewidth": 0,
              "ticks": ""
             }
            },
            "type": "scattergl"
           }
          ],
          "scattermapbox": [
           {
            "marker": {
             "colorbar": {
              "outlinewidth": 0,
              "ticks": ""
             }
            },
            "type": "scattermapbox"
           }
          ],
          "scatterpolar": [
           {
            "marker": {
             "colorbar": {
              "outlinewidth": 0,
              "ticks": ""
             }
            },
            "type": "scatterpolar"
           }
          ],
          "scatterpolargl": [
           {
            "marker": {
             "colorbar": {
              "outlinewidth": 0,
              "ticks": ""
             }
            },
            "type": "scatterpolargl"
           }
          ],
          "scatterternary": [
           {
            "marker": {
             "colorbar": {
              "outlinewidth": 0,
              "ticks": ""
             }
            },
            "type": "scatterternary"
           }
          ],
          "surface": [
           {
            "colorbar": {
             "outlinewidth": 0,
             "ticks": ""
            },
            "colorscale": [
             [
              0,
              "#0d0887"
             ],
             [
              0.1111111111111111,
              "#46039f"
             ],
             [
              0.2222222222222222,
              "#7201a8"
             ],
             [
              0.3333333333333333,
              "#9c179e"
             ],
             [
              0.4444444444444444,
              "#bd3786"
             ],
             [
              0.5555555555555556,
              "#d8576b"
             ],
             [
              0.6666666666666666,
              "#ed7953"
             ],
             [
              0.7777777777777778,
              "#fb9f3a"
             ],
             [
              0.8888888888888888,
              "#fdca26"
             ],
             [
              1,
              "#f0f921"
             ]
            ],
            "type": "surface"
           }
          ],
          "table": [
           {
            "cells": {
             "fill": {
              "color": "#EBF0F8"
             },
             "line": {
              "color": "white"
             }
            },
            "header": {
             "fill": {
              "color": "#C8D4E3"
             },
             "line": {
              "color": "white"
             }
            },
            "type": "table"
           }
          ]
         },
         "layout": {
          "annotationdefaults": {
           "arrowcolor": "#2a3f5f",
           "arrowhead": 0,
           "arrowwidth": 1
          },
          "autotypenumbers": "strict",
          "coloraxis": {
           "colorbar": {
            "outlinewidth": 0,
            "ticks": ""
           }
          },
          "colorscale": {
           "diverging": [
            [
             0,
             "#8e0152"
            ],
            [
             0.1,
             "#c51b7d"
            ],
            [
             0.2,
             "#de77ae"
            ],
            [
             0.3,
             "#f1b6da"
            ],
            [
             0.4,
             "#fde0ef"
            ],
            [
             0.5,
             "#f7f7f7"
            ],
            [
             0.6,
             "#e6f5d0"
            ],
            [
             0.7,
             "#b8e186"
            ],
            [
             0.8,
             "#7fbc41"
            ],
            [
             0.9,
             "#4d9221"
            ],
            [
             1,
             "#276419"
            ]
           ],
           "sequential": [
            [
             0,
             "#0d0887"
            ],
            [
             0.1111111111111111,
             "#46039f"
            ],
            [
             0.2222222222222222,
             "#7201a8"
            ],
            [
             0.3333333333333333,
             "#9c179e"
            ],
            [
             0.4444444444444444,
             "#bd3786"
            ],
            [
             0.5555555555555556,
             "#d8576b"
            ],
            [
             0.6666666666666666,
             "#ed7953"
            ],
            [
             0.7777777777777778,
             "#fb9f3a"
            ],
            [
             0.8888888888888888,
             "#fdca26"
            ],
            [
             1,
             "#f0f921"
            ]
           ],
           "sequentialminus": [
            [
             0,
             "#0d0887"
            ],
            [
             0.1111111111111111,
             "#46039f"
            ],
            [
             0.2222222222222222,
             "#7201a8"
            ],
            [
             0.3333333333333333,
             "#9c179e"
            ],
            [
             0.4444444444444444,
             "#bd3786"
            ],
            [
             0.5555555555555556,
             "#d8576b"
            ],
            [
             0.6666666666666666,
             "#ed7953"
            ],
            [
             0.7777777777777778,
             "#fb9f3a"
            ],
            [
             0.8888888888888888,
             "#fdca26"
            ],
            [
             1,
             "#f0f921"
            ]
           ]
          },
          "colorway": [
           "#636efa",
           "#EF553B",
           "#00cc96",
           "#ab63fa",
           "#FFA15A",
           "#19d3f3",
           "#FF6692",
           "#B6E880",
           "#FF97FF",
           "#FECB52"
          ],
          "font": {
           "color": "#2a3f5f"
          },
          "geo": {
           "bgcolor": "white",
           "lakecolor": "white",
           "landcolor": "#E5ECF6",
           "showlakes": true,
           "showland": true,
           "subunitcolor": "white"
          },
          "hoverlabel": {
           "align": "left"
          },
          "hovermode": "closest",
          "mapbox": {
           "style": "light"
          },
          "paper_bgcolor": "white",
          "plot_bgcolor": "#E5ECF6",
          "polar": {
           "angularaxis": {
            "gridcolor": "white",
            "linecolor": "white",
            "ticks": ""
           },
           "bgcolor": "#E5ECF6",
           "radialaxis": {
            "gridcolor": "white",
            "linecolor": "white",
            "ticks": ""
           }
          },
          "scene": {
           "xaxis": {
            "backgroundcolor": "#E5ECF6",
            "gridcolor": "white",
            "gridwidth": 2,
            "linecolor": "white",
            "showbackground": true,
            "ticks": "",
            "zerolinecolor": "white"
           },
           "yaxis": {
            "backgroundcolor": "#E5ECF6",
            "gridcolor": "white",
            "gridwidth": 2,
            "linecolor": "white",
            "showbackground": true,
            "ticks": "",
            "zerolinecolor": "white"
           },
           "zaxis": {
            "backgroundcolor": "#E5ECF6",
            "gridcolor": "white",
            "gridwidth": 2,
            "linecolor": "white",
            "showbackground": true,
            "ticks": "",
            "zerolinecolor": "white"
           }
          },
          "shapedefaults": {
           "line": {
            "color": "#2a3f5f"
           }
          },
          "ternary": {
           "aaxis": {
            "gridcolor": "white",
            "linecolor": "white",
            "ticks": ""
           },
           "baxis": {
            "gridcolor": "white",
            "linecolor": "white",
            "ticks": ""
           },
           "bgcolor": "#E5ECF6",
           "caxis": {
            "gridcolor": "white",
            "linecolor": "white",
            "ticks": ""
           }
          },
          "title": {
           "x": 0.05
          },
          "xaxis": {
           "automargin": true,
           "gridcolor": "white",
           "linecolor": "white",
           "ticks": "",
           "title": {
            "standoff": 15
           },
           "zerolinecolor": "white",
           "zerolinewidth": 2
          },
          "yaxis": {
           "automargin": true,
           "gridcolor": "white",
           "linecolor": "white",
           "ticks": "",
           "title": {
            "standoff": 15
           },
           "zerolinecolor": "white",
           "zerolinewidth": 2
          }
         }
        },
        "title": {
         "text": "Points Above Average per Week"
        },
        "width": 1600,
        "xaxis": {
         "anchor": "y",
         "domain": [
          0,
          0.45
         ]
        },
        "xaxis10": {
         "anchor": "y10",
         "domain": [
          0.55,
          1
         ]
        },
        "xaxis2": {
         "anchor": "y2",
         "domain": [
          0.55,
          1
         ]
        },
        "xaxis3": {
         "anchor": "y3",
         "domain": [
          0,
          0.45
         ]
        },
        "xaxis4": {
         "anchor": "y4",
         "domain": [
          0.55,
          1
         ]
        },
        "xaxis5": {
         "anchor": "y5",
         "domain": [
          0,
          0.45
         ]
        },
        "xaxis6": {
         "anchor": "y6",
         "domain": [
          0.55,
          1
         ]
        },
        "xaxis7": {
         "anchor": "y7",
         "domain": [
          0,
          0.45
         ]
        },
        "xaxis8": {
         "anchor": "y8",
         "domain": [
          0.55,
          1
         ]
        },
        "xaxis9": {
         "anchor": "y9",
         "domain": [
          0,
          0.45
         ]
        },
        "yaxis": {
         "anchor": "x",
         "domain": [
          0.88,
          1
         ]
        },
        "yaxis10": {
         "anchor": "x10",
         "domain": [
          0,
          0.12
         ],
         "matches": "y9",
         "showticklabels": false
        },
        "yaxis2": {
         "anchor": "x2",
         "domain": [
          0.88,
          1
         ],
         "matches": "y",
         "showticklabels": false
        },
        "yaxis3": {
         "anchor": "x3",
         "domain": [
          0.66,
          0.78
         ]
        },
        "yaxis4": {
         "anchor": "x4",
         "domain": [
          0.66,
          0.78
         ],
         "matches": "y3",
         "showticklabels": false
        },
        "yaxis5": {
         "anchor": "x5",
         "domain": [
          0.44,
          0.56
         ]
        },
        "yaxis6": {
         "anchor": "x6",
         "domain": [
          0.44,
          0.56
         ],
         "matches": "y5",
         "showticklabels": false
        },
        "yaxis7": {
         "anchor": "x7",
         "domain": [
          0.22,
          0.33999999999999997
         ]
        },
        "yaxis8": {
         "anchor": "x8",
         "domain": [
          0.22,
          0.33999999999999997
         ],
         "matches": "y7",
         "showticklabels": false
        },
        "yaxis9": {
         "anchor": "x9",
         "domain": [
          0,
          0.12
         ]
        }
       }
      }
     },
     "metadata": {},
     "output_type": "display_data"
    }
   ],
   "source": [
    "fig = make_subplots(rows=5, cols=2, shared_yaxes=True,\n",
    "                    subplot_titles=list(NAME_PAIRINGS.values()))\n",
    "\n",
    "for i in range(5):\n",
    "    for j in range(1, 3):\n",
    "        current = list(NAME_PAIRINGS.keys())[(i+i+j)-1]\n",
    "        # hacky cause rosters is out of order, fix later if you want\n",
    "        for roster in rosters:\n",
    "            if roster[\"owner_id\"] == current:\n",
    "                current_roster = roster\n",
    "\n",
    "        starters = current_roster[\"expected_starters\"]\n",
    "        paa_values = [player[\"PAA_weekly\"] for player in starters]\n",
    "        paa_names = [player[\"PAA_name\"] for player in starters]\n",
    "\n",
    "        fig.add_trace(\n",
    "            go.Bar(y=paa_values,\n",
    "                   x=paa_names,\n",
    "                   marker=dict(color=paa_values,\n",
    "                               cmid=0,\n",
    "                               coloraxis=\"coloraxis\")),\n",
    "            i+1, j\n",
    "        )\n",
    "\n",
    "fig.update_layout(coloraxis=dict(colorscale=px.colors.diverging.RdYlGn),\n",
    "                  title=\"Points Above Average per Week\",\n",
    "                  showlegend=False,\n",
    "                  height=2000, width=1600\n",
    "                  )\n",
    "\n",
    "fig.show()"
   ]
  },
  {
   "cell_type": "markdown",
   "metadata": {},
   "source": [
    "We can see these team based points above average comparisons in the plot above. It is no surprise that Nahome has above average players at each of his WR positions and his FLEX positions. We can also see why Noah and Stians teams have been so strong, only Kirk Cousins is dragging Noah down whereas Stian's TE position is his main drag on production. Of course, Derrick Henry won't be much use to Noah for the rest of his year which will probably have a knockdown effect on the rest of his team. We can also visualize the most above average players. Note that these won't necessarily be the top performing players, which is a bit counterintuitive. If a WR is doing pretty good but is the WR1 on a team, they won't have as high of a PAA compared to a WR scoring 1 less point as that teams' WR2."
   ]
  },
  {
   "cell_type": "code",
   "execution_count": 283,
   "metadata": {},
   "outputs": [
    {
     "data": {
      "application/vnd.plotly.v1+json": {
       "config": {
        "plotlyServerURL": "https://plot.ly"
       },
       "data": [
        {
         "marker": {
          "cmid": 0,
          "color": [
           1.3659999999999997,
           1.153500000000001,
           3.5435000000000016,
           -2.8364999999999974,
           0.2735000000000021,
           -2.2489999999999988,
           0.6760000000000019,
           -4.9914999999999985,
           -1.2289999999999992,
           -1.3314999999999984
          ],
          "coloraxis": "coloraxis"
         },
         "type": "bar",
         "x": [
          "Matthew Stafford",
          "Josh Allen",
          "Tom Brady",
          "Justin Herbert",
          "Kyler Murray",
          "Aaron Rodgers",
          "Jalen Hurts",
          "Kirk Cousins",
          "Lamar Jackson",
          "Joe Burrow"
         ],
         "xaxis": "x",
         "y": [
          1.3659999999999997,
          1.153500000000001,
          3.5435000000000016,
          -2.8364999999999974,
          0.2735000000000021,
          -2.2489999999999988,
          0.6760000000000019,
          -4.9914999999999985,
          -1.2289999999999992,
          -1.3314999999999984
         ],
         "yaxis": "y"
        },
        {
         "marker": {
          "cmid": 0,
          "color": [
           6.598749999999999,
           3.4037500000000005,
           3.7932500000000005,
           1.888250000000001,
           2.928749999999999,
           2.6412499999999994,
           1.1737499999999983,
           1.5037500000000001,
           1.08075,
           1.0257500000000004
          ],
          "coloraxis": "coloraxis"
         },
         "type": "bar",
         "x": [
          "Derrick Henry",
          "D'Andre Swift",
          "Ezekiel Elliott",
          "James Conner",
          "Cordarrelle Patterson",
          "Darrell Henderson",
          "Jonathan Taylor",
          "Leonard Fournette",
          "Kareem Hunt",
          "Chase Edmonds"
         ],
         "xaxis": "x3",
         "y": [
          6.598749999999999,
          3.4037500000000005,
          3.7932500000000005,
          1.888250000000001,
          2.928749999999999,
          2.6412499999999994,
          1.1737499999999983,
          1.5037500000000001,
          1.08075,
          1.0257500000000004
         ],
         "yaxis": "y3"
        },
        {
         "marker": {
          "cmid": 0,
          "color": [
           -6.701250000000002,
           -3.08375,
           -0.9117499999999996,
           -4.001250000000002,
           -2.6087500000000006,
           -1.1262500000000024,
           -3.52125,
           -3.1587499999999995,
           -5.476250000000002,
           -1.486749999999999
          ],
          "coloraxis": "coloraxis"
         },
         "type": "bar",
         "x": [
          "Myles Gaskin",
          "Javonte Williams",
          "Elijah Mitchell",
          "James Robinson",
          "Darrel Williams",
          "Joe Mixon",
          "Zack Moss",
          "Josh Jacobs",
          "Nick Chubb",
          "Kenyan Drake"
         ],
         "xaxis": "x4",
         "y": [
          -6.701250000000002,
          -3.08375,
          -0.9117499999999996,
          -4.001250000000002,
          -2.6087500000000006,
          -1.1262500000000024,
          -3.52125,
          -3.1587499999999995,
          -5.476250000000002,
          -1.486749999999999
         ],
         "yaxis": "y4"
        },
        {
         "marker": {
          "cmid": 0,
          "color": [
           0.9607499999999991,
           2.2807499999999994,
           2.928749999999999,
           6.683750000000003,
           1.8382500000000004,
           1.8587500000000041,
           2.630749999999999,
           0.9132500000000014,
           1.18825,
           1.1712500000000041
          ],
          "coloraxis": "coloraxis"
         },
         "type": "bar",
         "x": [
          "Justin Jefferson",
          "Adam Thielen",
          "Cordarrelle Patterson",
          "Cooper Kupp",
          "Stefon Diggs",
          "Tyreek Hill",
          "DJ Moore",
          "Antonio Brown",
          "Keenan Allen",
          "Ja'Marr Chase"
         ],
         "xaxis": "x5",
         "y": [
          0.9607499999999991,
          2.2807499999999994,
          2.928749999999999,
          6.683750000000003,
          1.8382500000000004,
          1.8587500000000041,
          2.630749999999999,
          0.9132500000000014,
          1.18825,
          1.1712500000000041
         ],
         "yaxis": "y5"
        },
        {
         "marker": {
          "cmid": 0,
          "color": [
           -2.966249999999997,
           -1.9837500000000006,
           -2.416249999999998,
           -0.7712500000000002,
           -0.9442500000000003,
           -1.466249999999997,
           -1.4412499999999966,
           -4.221250000000001,
           -1.0037499999999966,
           -0.931750000000001
          ],
          "coloraxis": "coloraxis"
         },
         "type": "bar",
         "x": [
          "CeeDee Lamb",
          "A.J. Brown",
          "Marquise Brown",
          "Tyler Lockett",
          "Emmanuel Sanders",
          "Chris Godwin",
          "Davante Adams",
          "Cole Beasley",
          "Mike Evans",
          "A.J. Green"
         ],
         "xaxis": "x6",
         "y": [
          -2.966249999999997,
          -1.9837500000000006,
          -2.416249999999998,
          -0.7712500000000002,
          -0.9442500000000003,
          -1.466249999999997,
          -1.4412499999999966,
          -4.221250000000001,
          -1.0037499999999966,
          -0.931750000000001
         ],
         "yaxis": "y6"
        },
        {
         "marker": {
          "cmid": 0,
          "color": [
           2.9925000000000015,
           -0.3442500000000006,
           1.6925000000000008,
           -2.094999999999999,
           -0.7574999999999985,
           -0.6824999999999992,
           -1.4074999999999989,
           -3.032499999999999,
           0.4925000000000015,
           -3.5074999999999985
          ],
          "coloraxis": "coloraxis"
         },
         "type": "bar",
         "x": [
          "Travis Kelce",
          "T.J. Hockenson",
          "Mark Andrews",
          "Dallas Goedert",
          "Dalton Schultz",
          "Dawson Knox",
          "Darren Waller",
          "Tyler Higbee",
          "Mike Gesicki",
          "Jared Cook"
         ],
         "xaxis": "x2",
         "y": [
          2.9925000000000015,
          -0.3442500000000006,
          1.6925000000000008,
          -2.094999999999999,
          -0.7574999999999985,
          -0.6824999999999992,
          -1.4074999999999989,
          -3.032499999999999,
          0.4925000000000015,
          -3.5074999999999985
         ],
         "yaxis": "y2"
        },
        {
         "marker": {
          "cmid": 0,
          "color": [
           -0.8000000000000007,
           -0.05000000000000071,
           -1.6750000000000007,
           0.9499999999999993,
           -0.8000000000000007,
           -1.4250000000000007,
           0.07499999999999929,
           0.5749999999999993,
           0.1999999999999993,
           1.9499999999999993
          ],
          "coloraxis": "coloraxis"
         },
         "type": "bar",
         "x": [
          "Greg Zuerlein",
          "Justin Tucker",
          "Younghoe Koo",
          "Tyler Bass",
          "Mason Crosby",
          "Harrison Butker",
          "Matt Prater",
          "Matt Gay",
          "Randy Bullock",
          "Nick Folk"
         ],
         "xaxis": "x7",
         "y": [
          -0.8000000000000007,
          -0.05000000000000071,
          -1.6750000000000007,
          0.9499999999999993,
          -0.8000000000000007,
          -1.4250000000000007,
          0.07499999999999929,
          0.5749999999999993,
          0.1999999999999993,
          1.9499999999999993
         ],
         "yaxis": "y7"
        },
        {
         "marker": {
          "cmid": 0,
          "color": [
           -1.8499999999999996,
           -0.09999999999999964,
           -0.8499999999999996,
           -0.9749999999999996,
           1.7750000000000004,
           1.1500000000000004,
           2.1500000000000004,
           0.40000000000000036,
           -1.2249999999999996,
           -3.5999999999999996
          ],
          "coloraxis": "coloraxis"
         },
         "type": "bar",
         "x": [
          "PIT",
          "TB",
          "DAL",
          "CAR",
          "ARI",
          "NO",
          "BUF",
          "IND",
          "LAR",
          "BAL"
         ],
         "xaxis": "x8",
         "y": [
          -1.8499999999999996,
          -0.09999999999999964,
          -0.8499999999999996,
          -0.9749999999999996,
          1.7750000000000004,
          1.1500000000000004,
          2.1500000000000004,
          0.40000000000000036,
          -1.2249999999999996,
          -3.5999999999999996
         ],
         "yaxis": "y8"
        }
       ],
       "layout": {
        "annotations": [
         {
          "font": {
           "size": 16
          },
          "showarrow": false,
          "text": "Quarterbacks",
          "x": 0.225,
          "xanchor": "center",
          "xref": "paper",
          "y": 1,
          "yanchor": "bottom",
          "yref": "paper"
         },
         {
          "font": {
           "size": 16
          },
          "showarrow": false,
          "text": "Tight Ends",
          "x": 0.775,
          "xanchor": "center",
          "xref": "paper",
          "y": 1,
          "yanchor": "bottom",
          "yref": "paper"
         },
         {
          "font": {
           "size": 16
          },
          "showarrow": false,
          "text": "RB Over Performers",
          "x": 0.225,
          "xanchor": "center",
          "xref": "paper",
          "y": 0.71875,
          "yanchor": "bottom",
          "yref": "paper"
         },
         {
          "font": {
           "size": 16
          },
          "showarrow": false,
          "text": "RB Under Performers",
          "x": 0.775,
          "xanchor": "center",
          "xref": "paper",
          "y": 0.71875,
          "yanchor": "bottom",
          "yref": "paper"
         },
         {
          "font": {
           "size": 16
          },
          "showarrow": false,
          "text": "WR Over Performers",
          "x": 0.225,
          "xanchor": "center",
          "xref": "paper",
          "y": 0.4375,
          "yanchor": "bottom",
          "yref": "paper"
         },
         {
          "font": {
           "size": 16
          },
          "showarrow": false,
          "text": "WR Under Performers",
          "x": 0.775,
          "xanchor": "center",
          "xref": "paper",
          "y": 0.4375,
          "yanchor": "bottom",
          "yref": "paper"
         },
         {
          "font": {
           "size": 16
          },
          "showarrow": false,
          "text": "Kickers",
          "x": 0.225,
          "xanchor": "center",
          "xref": "paper",
          "y": 0.15625,
          "yanchor": "bottom",
          "yref": "paper"
         },
         {
          "font": {
           "size": 16
          },
          "showarrow": false,
          "text": "Defenses",
          "x": 0.775,
          "xanchor": "center",
          "xref": "paper",
          "y": 0.15625,
          "yanchor": "bottom",
          "yref": "paper"
         }
        ],
        "coloraxis": {
         "colorscale": [
          [
           0,
           "rgb(165,0,38)"
          ],
          [
           0.1,
           "rgb(215,48,39)"
          ],
          [
           0.2,
           "rgb(244,109,67)"
          ],
          [
           0.3,
           "rgb(253,174,97)"
          ],
          [
           0.4,
           "rgb(254,224,139)"
          ],
          [
           0.5,
           "rgb(255,255,191)"
          ],
          [
           0.6,
           "rgb(217,239,139)"
          ],
          [
           0.7,
           "rgb(166,217,106)"
          ],
          [
           0.8,
           "rgb(102,189,99)"
          ],
          [
           0.9,
           "rgb(26,152,80)"
          ],
          [
           1,
           "rgb(0,104,55)"
          ]
         ]
        },
        "height": 2000,
        "showlegend": false,
        "template": {
         "data": {
          "bar": [
           {
            "error_x": {
             "color": "#2a3f5f"
            },
            "error_y": {
             "color": "#2a3f5f"
            },
            "marker": {
             "line": {
              "color": "#E5ECF6",
              "width": 0.5
             },
             "pattern": {
              "fillmode": "overlay",
              "size": 10,
              "solidity": 0.2
             }
            },
            "type": "bar"
           }
          ],
          "barpolar": [
           {
            "marker": {
             "line": {
              "color": "#E5ECF6",
              "width": 0.5
             },
             "pattern": {
              "fillmode": "overlay",
              "size": 10,
              "solidity": 0.2
             }
            },
            "type": "barpolar"
           }
          ],
          "carpet": [
           {
            "aaxis": {
             "endlinecolor": "#2a3f5f",
             "gridcolor": "white",
             "linecolor": "white",
             "minorgridcolor": "white",
             "startlinecolor": "#2a3f5f"
            },
            "baxis": {
             "endlinecolor": "#2a3f5f",
             "gridcolor": "white",
             "linecolor": "white",
             "minorgridcolor": "white",
             "startlinecolor": "#2a3f5f"
            },
            "type": "carpet"
           }
          ],
          "choropleth": [
           {
            "colorbar": {
             "outlinewidth": 0,
             "ticks": ""
            },
            "type": "choropleth"
           }
          ],
          "contour": [
           {
            "colorbar": {
             "outlinewidth": 0,
             "ticks": ""
            },
            "colorscale": [
             [
              0,
              "#0d0887"
             ],
             [
              0.1111111111111111,
              "#46039f"
             ],
             [
              0.2222222222222222,
              "#7201a8"
             ],
             [
              0.3333333333333333,
              "#9c179e"
             ],
             [
              0.4444444444444444,
              "#bd3786"
             ],
             [
              0.5555555555555556,
              "#d8576b"
             ],
             [
              0.6666666666666666,
              "#ed7953"
             ],
             [
              0.7777777777777778,
              "#fb9f3a"
             ],
             [
              0.8888888888888888,
              "#fdca26"
             ],
             [
              1,
              "#f0f921"
             ]
            ],
            "type": "contour"
           }
          ],
          "contourcarpet": [
           {
            "colorbar": {
             "outlinewidth": 0,
             "ticks": ""
            },
            "type": "contourcarpet"
           }
          ],
          "heatmap": [
           {
            "colorbar": {
             "outlinewidth": 0,
             "ticks": ""
            },
            "colorscale": [
             [
              0,
              "#0d0887"
             ],
             [
              0.1111111111111111,
              "#46039f"
             ],
             [
              0.2222222222222222,
              "#7201a8"
             ],
             [
              0.3333333333333333,
              "#9c179e"
             ],
             [
              0.4444444444444444,
              "#bd3786"
             ],
             [
              0.5555555555555556,
              "#d8576b"
             ],
             [
              0.6666666666666666,
              "#ed7953"
             ],
             [
              0.7777777777777778,
              "#fb9f3a"
             ],
             [
              0.8888888888888888,
              "#fdca26"
             ],
             [
              1,
              "#f0f921"
             ]
            ],
            "type": "heatmap"
           }
          ],
          "heatmapgl": [
           {
            "colorbar": {
             "outlinewidth": 0,
             "ticks": ""
            },
            "colorscale": [
             [
              0,
              "#0d0887"
             ],
             [
              0.1111111111111111,
              "#46039f"
             ],
             [
              0.2222222222222222,
              "#7201a8"
             ],
             [
              0.3333333333333333,
              "#9c179e"
             ],
             [
              0.4444444444444444,
              "#bd3786"
             ],
             [
              0.5555555555555556,
              "#d8576b"
             ],
             [
              0.6666666666666666,
              "#ed7953"
             ],
             [
              0.7777777777777778,
              "#fb9f3a"
             ],
             [
              0.8888888888888888,
              "#fdca26"
             ],
             [
              1,
              "#f0f921"
             ]
            ],
            "type": "heatmapgl"
           }
          ],
          "histogram": [
           {
            "marker": {
             "pattern": {
              "fillmode": "overlay",
              "size": 10,
              "solidity": 0.2
             }
            },
            "type": "histogram"
           }
          ],
          "histogram2d": [
           {
            "colorbar": {
             "outlinewidth": 0,
             "ticks": ""
            },
            "colorscale": [
             [
              0,
              "#0d0887"
             ],
             [
              0.1111111111111111,
              "#46039f"
             ],
             [
              0.2222222222222222,
              "#7201a8"
             ],
             [
              0.3333333333333333,
              "#9c179e"
             ],
             [
              0.4444444444444444,
              "#bd3786"
             ],
             [
              0.5555555555555556,
              "#d8576b"
             ],
             [
              0.6666666666666666,
              "#ed7953"
             ],
             [
              0.7777777777777778,
              "#fb9f3a"
             ],
             [
              0.8888888888888888,
              "#fdca26"
             ],
             [
              1,
              "#f0f921"
             ]
            ],
            "type": "histogram2d"
           }
          ],
          "histogram2dcontour": [
           {
            "colorbar": {
             "outlinewidth": 0,
             "ticks": ""
            },
            "colorscale": [
             [
              0,
              "#0d0887"
             ],
             [
              0.1111111111111111,
              "#46039f"
             ],
             [
              0.2222222222222222,
              "#7201a8"
             ],
             [
              0.3333333333333333,
              "#9c179e"
             ],
             [
              0.4444444444444444,
              "#bd3786"
             ],
             [
              0.5555555555555556,
              "#d8576b"
             ],
             [
              0.6666666666666666,
              "#ed7953"
             ],
             [
              0.7777777777777778,
              "#fb9f3a"
             ],
             [
              0.8888888888888888,
              "#fdca26"
             ],
             [
              1,
              "#f0f921"
             ]
            ],
            "type": "histogram2dcontour"
           }
          ],
          "mesh3d": [
           {
            "colorbar": {
             "outlinewidth": 0,
             "ticks": ""
            },
            "type": "mesh3d"
           }
          ],
          "parcoords": [
           {
            "line": {
             "colorbar": {
              "outlinewidth": 0,
              "ticks": ""
             }
            },
            "type": "parcoords"
           }
          ],
          "pie": [
           {
            "automargin": true,
            "type": "pie"
           }
          ],
          "scatter": [
           {
            "marker": {
             "colorbar": {
              "outlinewidth": 0,
              "ticks": ""
             }
            },
            "type": "scatter"
           }
          ],
          "scatter3d": [
           {
            "line": {
             "colorbar": {
              "outlinewidth": 0,
              "ticks": ""
             }
            },
            "marker": {
             "colorbar": {
              "outlinewidth": 0,
              "ticks": ""
             }
            },
            "type": "scatter3d"
           }
          ],
          "scattercarpet": [
           {
            "marker": {
             "colorbar": {
              "outlinewidth": 0,
              "ticks": ""
             }
            },
            "type": "scattercarpet"
           }
          ],
          "scattergeo": [
           {
            "marker": {
             "colorbar": {
              "outlinewidth": 0,
              "ticks": ""
             }
            },
            "type": "scattergeo"
           }
          ],
          "scattergl": [
           {
            "marker": {
             "colorbar": {
              "outlinewidth": 0,
              "ticks": ""
             }
            },
            "type": "scattergl"
           }
          ],
          "scattermapbox": [
           {
            "marker": {
             "colorbar": {
              "outlinewidth": 0,
              "ticks": ""
             }
            },
            "type": "scattermapbox"
           }
          ],
          "scatterpolar": [
           {
            "marker": {
             "colorbar": {
              "outlinewidth": 0,
              "ticks": ""
             }
            },
            "type": "scatterpolar"
           }
          ],
          "scatterpolargl": [
           {
            "marker": {
             "colorbar": {
              "outlinewidth": 0,
              "ticks": ""
             }
            },
            "type": "scatterpolargl"
           }
          ],
          "scatterternary": [
           {
            "marker": {
             "colorbar": {
              "outlinewidth": 0,
              "ticks": ""
             }
            },
            "type": "scatterternary"
           }
          ],
          "surface": [
           {
            "colorbar": {
             "outlinewidth": 0,
             "ticks": ""
            },
            "colorscale": [
             [
              0,
              "#0d0887"
             ],
             [
              0.1111111111111111,
              "#46039f"
             ],
             [
              0.2222222222222222,
              "#7201a8"
             ],
             [
              0.3333333333333333,
              "#9c179e"
             ],
             [
              0.4444444444444444,
              "#bd3786"
             ],
             [
              0.5555555555555556,
              "#d8576b"
             ],
             [
              0.6666666666666666,
              "#ed7953"
             ],
             [
              0.7777777777777778,
              "#fb9f3a"
             ],
             [
              0.8888888888888888,
              "#fdca26"
             ],
             [
              1,
              "#f0f921"
             ]
            ],
            "type": "surface"
           }
          ],
          "table": [
           {
            "cells": {
             "fill": {
              "color": "#EBF0F8"
             },
             "line": {
              "color": "white"
             }
            },
            "header": {
             "fill": {
              "color": "#C8D4E3"
             },
             "line": {
              "color": "white"
             }
            },
            "type": "table"
           }
          ]
         },
         "layout": {
          "annotationdefaults": {
           "arrowcolor": "#2a3f5f",
           "arrowhead": 0,
           "arrowwidth": 1
          },
          "autotypenumbers": "strict",
          "coloraxis": {
           "colorbar": {
            "outlinewidth": 0,
            "ticks": ""
           }
          },
          "colorscale": {
           "diverging": [
            [
             0,
             "#8e0152"
            ],
            [
             0.1,
             "#c51b7d"
            ],
            [
             0.2,
             "#de77ae"
            ],
            [
             0.3,
             "#f1b6da"
            ],
            [
             0.4,
             "#fde0ef"
            ],
            [
             0.5,
             "#f7f7f7"
            ],
            [
             0.6,
             "#e6f5d0"
            ],
            [
             0.7,
             "#b8e186"
            ],
            [
             0.8,
             "#7fbc41"
            ],
            [
             0.9,
             "#4d9221"
            ],
            [
             1,
             "#276419"
            ]
           ],
           "sequential": [
            [
             0,
             "#0d0887"
            ],
            [
             0.1111111111111111,
             "#46039f"
            ],
            [
             0.2222222222222222,
             "#7201a8"
            ],
            [
             0.3333333333333333,
             "#9c179e"
            ],
            [
             0.4444444444444444,
             "#bd3786"
            ],
            [
             0.5555555555555556,
             "#d8576b"
            ],
            [
             0.6666666666666666,
             "#ed7953"
            ],
            [
             0.7777777777777778,
             "#fb9f3a"
            ],
            [
             0.8888888888888888,
             "#fdca26"
            ],
            [
             1,
             "#f0f921"
            ]
           ],
           "sequentialminus": [
            [
             0,
             "#0d0887"
            ],
            [
             0.1111111111111111,
             "#46039f"
            ],
            [
             0.2222222222222222,
             "#7201a8"
            ],
            [
             0.3333333333333333,
             "#9c179e"
            ],
            [
             0.4444444444444444,
             "#bd3786"
            ],
            [
             0.5555555555555556,
             "#d8576b"
            ],
            [
             0.6666666666666666,
             "#ed7953"
            ],
            [
             0.7777777777777778,
             "#fb9f3a"
            ],
            [
             0.8888888888888888,
             "#fdca26"
            ],
            [
             1,
             "#f0f921"
            ]
           ]
          },
          "colorway": [
           "#636efa",
           "#EF553B",
           "#00cc96",
           "#ab63fa",
           "#FFA15A",
           "#19d3f3",
           "#FF6692",
           "#B6E880",
           "#FF97FF",
           "#FECB52"
          ],
          "font": {
           "color": "#2a3f5f"
          },
          "geo": {
           "bgcolor": "white",
           "lakecolor": "white",
           "landcolor": "#E5ECF6",
           "showlakes": true,
           "showland": true,
           "subunitcolor": "white"
          },
          "hoverlabel": {
           "align": "left"
          },
          "hovermode": "closest",
          "mapbox": {
           "style": "light"
          },
          "paper_bgcolor": "white",
          "plot_bgcolor": "#E5ECF6",
          "polar": {
           "angularaxis": {
            "gridcolor": "white",
            "linecolor": "white",
            "ticks": ""
           },
           "bgcolor": "#E5ECF6",
           "radialaxis": {
            "gridcolor": "white",
            "linecolor": "white",
            "ticks": ""
           }
          },
          "scene": {
           "xaxis": {
            "backgroundcolor": "#E5ECF6",
            "gridcolor": "white",
            "gridwidth": 2,
            "linecolor": "white",
            "showbackground": true,
            "ticks": "",
            "zerolinecolor": "white"
           },
           "yaxis": {
            "backgroundcolor": "#E5ECF6",
            "gridcolor": "white",
            "gridwidth": 2,
            "linecolor": "white",
            "showbackground": true,
            "ticks": "",
            "zerolinecolor": "white"
           },
           "zaxis": {
            "backgroundcolor": "#E5ECF6",
            "gridcolor": "white",
            "gridwidth": 2,
            "linecolor": "white",
            "showbackground": true,
            "ticks": "",
            "zerolinecolor": "white"
           }
          },
          "shapedefaults": {
           "line": {
            "color": "#2a3f5f"
           }
          },
          "ternary": {
           "aaxis": {
            "gridcolor": "white",
            "linecolor": "white",
            "ticks": ""
           },
           "baxis": {
            "gridcolor": "white",
            "linecolor": "white",
            "ticks": ""
           },
           "bgcolor": "#E5ECF6",
           "caxis": {
            "gridcolor": "white",
            "linecolor": "white",
            "ticks": ""
           }
          },
          "title": {
           "x": 0.05
          },
          "xaxis": {
           "automargin": true,
           "gridcolor": "white",
           "linecolor": "white",
           "ticks": "",
           "title": {
            "standoff": 15
           },
           "zerolinecolor": "white",
           "zerolinewidth": 2
          },
          "yaxis": {
           "automargin": true,
           "gridcolor": "white",
           "linecolor": "white",
           "ticks": "",
           "title": {
            "standoff": 15
           },
           "zerolinecolor": "white",
           "zerolinewidth": 2
          }
         }
        },
        "title": {
         "text": "Top/Bottom PAA per week Among Team Starters"
        },
        "width": 1500,
        "xaxis": {
         "anchor": "y",
         "domain": [
          0,
          0.45
         ]
        },
        "xaxis2": {
         "anchor": "y2",
         "domain": [
          0.55,
          1
         ]
        },
        "xaxis3": {
         "anchor": "y3",
         "domain": [
          0,
          0.45
         ]
        },
        "xaxis4": {
         "anchor": "y4",
         "domain": [
          0.55,
          1
         ]
        },
        "xaxis5": {
         "anchor": "y5",
         "domain": [
          0,
          0.45
         ]
        },
        "xaxis6": {
         "anchor": "y6",
         "domain": [
          0.55,
          1
         ]
        },
        "xaxis7": {
         "anchor": "y7",
         "domain": [
          0,
          0.45
         ]
        },
        "xaxis8": {
         "anchor": "y8",
         "domain": [
          0.55,
          1
         ]
        },
        "yaxis": {
         "anchor": "x",
         "domain": [
          0.84375,
          1
         ]
        },
        "yaxis2": {
         "anchor": "x2",
         "domain": [
          0.84375,
          1
         ],
         "matches": "y",
         "showticklabels": false
        },
        "yaxis3": {
         "anchor": "x3",
         "domain": [
          0.5625,
          0.71875
         ]
        },
        "yaxis4": {
         "anchor": "x4",
         "domain": [
          0.5625,
          0.71875
         ],
         "matches": "y3",
         "showticklabels": false
        },
        "yaxis5": {
         "anchor": "x5",
         "domain": [
          0.28125,
          0.4375
         ]
        },
        "yaxis6": {
         "anchor": "x6",
         "domain": [
          0.28125,
          0.4375
         ],
         "matches": "y5",
         "showticklabels": false
        },
        "yaxis7": {
         "anchor": "x7",
         "domain": [
          0,
          0.15625
         ]
        },
        "yaxis8": {
         "anchor": "x8",
         "domain": [
          0,
          0.15625
         ],
         "matches": "y7",
         "showticklabels": false
        }
       }
      }
     },
     "metadata": {},
     "output_type": "display_data"
    }
   ],
   "source": [
    "rostered_average_stars = {}\n",
    "rostered_average_duds = {}\n",
    "\n",
    "for position in FANTASY_POSITIONS:\n",
    "    top_players = []\n",
    "    bot_players = []\n",
    "\n",
    "    for roster in rosters:\n",
    "        for player in roster[\"expected_starters\"]:\n",
    "            if position == \"FLEX\":\n",
    "                continue\n",
    "\n",
    "            else:\n",
    "                if position in player[\"fantasy_positions\"]:\n",
    "                    if len(top_players) < LIMIT:\n",
    "                        top_players.append(\n",
    "                            player\n",
    "                        )\n",
    "                    else:\n",
    "                        p_points = player[\"PAA\"]\n",
    "                        paas = [p[\"PAA\"] for p in top_players]\n",
    "                        idx = paas.index(min(paas))\n",
    "                        if p_points > paas[idx]:\n",
    "                            top_players[idx] = player\n",
    "\n",
    "                    if len(bot_players) < LIMIT:\n",
    "                        bot_players.append(\n",
    "                            player\n",
    "                        )\n",
    "                    else:\n",
    "                        p_points = player[\"PAA\"]\n",
    "                        paas = [p[\"PAA\"] for p in bot_players]\n",
    "                        idx = paas.index(max(paas))\n",
    "                        if p_points < paas[idx]:\n",
    "                            bot_players[idx] = player\n",
    "\n",
    "    rostered_average_stars[position] = top_players\n",
    "    rostered_average_duds[position] = bot_players\n",
    "\n",
    "names = [\n",
    "    \"Quarterbacks\", \"Tight Ends\",\n",
    "    \"RB Over Performers\", \"RB Under Performers\",\n",
    "    \"WR Over Performers\", \"WR Under Performers\",\n",
    "    \"Kickers\", \"Defenses\"\n",
    "]\n",
    "\n",
    "fig = make_subplots(rows=4, cols=2, shared_yaxes=True,\n",
    "                    subplot_titles=names)\n",
    "\n",
    "for i in range(4):\n",
    "    current = list(rostered_average_stars.keys())[i]\n",
    "    star_paa = [player[\"PAA\"] /\n",
    "                CURRENT_WEEK for player in rostered_average_stars[current]]\n",
    "    star_name = [player[\"name\"]\n",
    "                 for player in rostered_average_stars[current]]\n",
    "    dud_paa = [player[\"PAA\"] /\n",
    "               CURRENT_WEEK for player in rostered_average_duds[current]]\n",
    "    dud_name = [player[\"name\"]\n",
    "                for player in rostered_average_duds[current]]\n",
    "\n",
    "    if i == 3:\n",
    "        fig.add_trace(\n",
    "            go.Bar(y=star_paa,\n",
    "                x=star_name,\n",
    "                marker=dict(color=star_paa,\n",
    "                            cmid=0,\n",
    "                            coloraxis=\"coloraxis\")),\n",
    "            1, 2\n",
    "        )\n",
    "    else:\n",
    "        fig.add_trace(\n",
    "            go.Bar(y=star_paa,\n",
    "                x=star_name,\n",
    "                marker=dict(color=star_paa,\n",
    "                            cmid=0,\n",
    "                            coloraxis=\"coloraxis\")),\n",
    "            i+1, 1\n",
    "        )\n",
    "\n",
    "    if i == 0 or i == 3:\n",
    "        continue\n",
    "\n",
    "    fig.add_trace(\n",
    "        go.Bar(y=dud_paa,\n",
    "               x=dud_name,\n",
    "               marker=dict(color=dud_paa,\n",
    "                           cmid=0,\n",
    "                           coloraxis=\"coloraxis\")),\n",
    "        i+1, 2\n",
    "    )\n",
    "\n",
    "k_paa = [player[\"PAA\"] /\n",
    "         CURRENT_WEEK for player in rostered_average_stars[\"K\"]]\n",
    "k_name = [player[\"name\"]\n",
    "          for player in rostered_average_stars[\"K\"]]\n",
    "def_paa = [player[\"PAA\"] /\n",
    "           CURRENT_WEEK for player in rostered_average_duds[\"DEF\"]]\n",
    "def_name = [player[\"name\"]\n",
    "            for player in rostered_average_duds[\"DEF\"]]\n",
    "\n",
    "fig.add_trace(\n",
    "    go.Bar(y=k_paa,\n",
    "           x=k_name,\n",
    "           marker=dict(color=k_paa,\n",
    "                       cmid=0,\n",
    "                       coloraxis=\"coloraxis\")),\n",
    "    4, 1\n",
    ")\n",
    "\n",
    "fig.add_trace(\n",
    "    go.Bar(y=def_paa,\n",
    "           x=def_name,\n",
    "           marker=dict(color=def_paa,\n",
    "                       cmid=0,\n",
    "                       coloraxis=\"coloraxis\")),\n",
    "    4, 2\n",
    ")\n",
    "\n",
    "fig.update_layout(coloraxis=dict(colorscale=px.colors.diverging.RdYlGn),\n",
    "                  title=\"Top/Bottom PAA per week Among Team Starters\",\n",
    "                  showlegend=False,\n",
    "                  height=2000, width=1500\n",
    "                  )\n",
    "\n",
    "fig.show()\n"
   ]
  },
  {
   "cell_type": "markdown",
   "metadata": {},
   "source": [
    "Above we can see the average starting points above/below expectation for each teams' expected starting lineup. Since there are only 10 starting QBs, TEs, DEFs, and Ks, we can just roll those plots into one. Note that what I was talking about with Nahome in the WR overperformance plot. He has Cooper Kupp, DJ Moore, and Stefon Diggs even though one starts in his FLEX. Note this player is Diggs, who has a higher PAA than Ja'Marr Chase despite a lower total points value on the season. This is the counterintutive nature of this stat that I am talking about. Since it compares players to others playing in that same position, Nahome has the benefit of always having a FLEX that is expected to perform better than the other teams' flex player. In this way, PAA is a better measure of team strength relative to other teams than PAR was. (If this part doesn't make sense, text the group chat about it!) \n",
    "\n",
    "For the last two plots, we can measure the aggregate PAA for a team compared to the other teams to get a sense of team strength. "
   ]
  },
  {
   "cell_type": "code",
   "execution_count": 284,
   "metadata": {},
   "outputs": [
    {
     "data": {
      "application/vnd.plotly.v1+json": {
       "config": {
        "plotlyServerURL": "https://plot.ly"
       },
       "data": [
        {
         "marker": {
          "color": [
           -114.25999999999999,
           -68.96,
           38.560000000000045,
           -28.039999999999964,
           -23.699999999999974,
           -17.679999999999993,
           23.720000000000027,
           78.28000000000003,
           -85.61999999999999,
           -34.14
          ],
          "coloraxis": "coloraxis"
         },
         "type": "bar",
         "x": [
          "My Goat Loves You",
          "The Brutherhood",
          "tealeaves",
          "Tree Leaves",
          "the noés",
          "SideThicc #2",
          "AssNTitties",
          "Thicc King",
          "billcap",
          "RB sanctuary"
         ],
         "y": [
          -114.25999999999999,
          -68.96,
          38.560000000000045,
          -28.039999999999964,
          -23.699999999999974,
          -17.679999999999993,
          23.720000000000027,
          78.28000000000003,
          -85.61999999999999,
          -34.14
         ]
        }
       ],
       "layout": {
        "coloraxis": {
         "colorscale": [
          [
           0,
           "rgb(165,0,38)"
          ],
          [
           0.1,
           "rgb(215,48,39)"
          ],
          [
           0.2,
           "rgb(244,109,67)"
          ],
          [
           0.3,
           "rgb(253,174,97)"
          ],
          [
           0.4,
           "rgb(254,224,139)"
          ],
          [
           0.5,
           "rgb(255,255,191)"
          ],
          [
           0.6,
           "rgb(217,239,139)"
          ],
          [
           0.7,
           "rgb(166,217,106)"
          ],
          [
           0.8,
           "rgb(102,189,99)"
          ],
          [
           0.9,
           "rgb(26,152,80)"
          ],
          [
           1,
           "rgb(0,104,55)"
          ]
         ]
        },
        "showlegend": false,
        "template": {
         "data": {
          "bar": [
           {
            "error_x": {
             "color": "#2a3f5f"
            },
            "error_y": {
             "color": "#2a3f5f"
            },
            "marker": {
             "line": {
              "color": "#E5ECF6",
              "width": 0.5
             },
             "pattern": {
              "fillmode": "overlay",
              "size": 10,
              "solidity": 0.2
             }
            },
            "type": "bar"
           }
          ],
          "barpolar": [
           {
            "marker": {
             "line": {
              "color": "#E5ECF6",
              "width": 0.5
             },
             "pattern": {
              "fillmode": "overlay",
              "size": 10,
              "solidity": 0.2
             }
            },
            "type": "barpolar"
           }
          ],
          "carpet": [
           {
            "aaxis": {
             "endlinecolor": "#2a3f5f",
             "gridcolor": "white",
             "linecolor": "white",
             "minorgridcolor": "white",
             "startlinecolor": "#2a3f5f"
            },
            "baxis": {
             "endlinecolor": "#2a3f5f",
             "gridcolor": "white",
             "linecolor": "white",
             "minorgridcolor": "white",
             "startlinecolor": "#2a3f5f"
            },
            "type": "carpet"
           }
          ],
          "choropleth": [
           {
            "colorbar": {
             "outlinewidth": 0,
             "ticks": ""
            },
            "type": "choropleth"
           }
          ],
          "contour": [
           {
            "colorbar": {
             "outlinewidth": 0,
             "ticks": ""
            },
            "colorscale": [
             [
              0,
              "#0d0887"
             ],
             [
              0.1111111111111111,
              "#46039f"
             ],
             [
              0.2222222222222222,
              "#7201a8"
             ],
             [
              0.3333333333333333,
              "#9c179e"
             ],
             [
              0.4444444444444444,
              "#bd3786"
             ],
             [
              0.5555555555555556,
              "#d8576b"
             ],
             [
              0.6666666666666666,
              "#ed7953"
             ],
             [
              0.7777777777777778,
              "#fb9f3a"
             ],
             [
              0.8888888888888888,
              "#fdca26"
             ],
             [
              1,
              "#f0f921"
             ]
            ],
            "type": "contour"
           }
          ],
          "contourcarpet": [
           {
            "colorbar": {
             "outlinewidth": 0,
             "ticks": ""
            },
            "type": "contourcarpet"
           }
          ],
          "heatmap": [
           {
            "colorbar": {
             "outlinewidth": 0,
             "ticks": ""
            },
            "colorscale": [
             [
              0,
              "#0d0887"
             ],
             [
              0.1111111111111111,
              "#46039f"
             ],
             [
              0.2222222222222222,
              "#7201a8"
             ],
             [
              0.3333333333333333,
              "#9c179e"
             ],
             [
              0.4444444444444444,
              "#bd3786"
             ],
             [
              0.5555555555555556,
              "#d8576b"
             ],
             [
              0.6666666666666666,
              "#ed7953"
             ],
             [
              0.7777777777777778,
              "#fb9f3a"
             ],
             [
              0.8888888888888888,
              "#fdca26"
             ],
             [
              1,
              "#f0f921"
             ]
            ],
            "type": "heatmap"
           }
          ],
          "heatmapgl": [
           {
            "colorbar": {
             "outlinewidth": 0,
             "ticks": ""
            },
            "colorscale": [
             [
              0,
              "#0d0887"
             ],
             [
              0.1111111111111111,
              "#46039f"
             ],
             [
              0.2222222222222222,
              "#7201a8"
             ],
             [
              0.3333333333333333,
              "#9c179e"
             ],
             [
              0.4444444444444444,
              "#bd3786"
             ],
             [
              0.5555555555555556,
              "#d8576b"
             ],
             [
              0.6666666666666666,
              "#ed7953"
             ],
             [
              0.7777777777777778,
              "#fb9f3a"
             ],
             [
              0.8888888888888888,
              "#fdca26"
             ],
             [
              1,
              "#f0f921"
             ]
            ],
            "type": "heatmapgl"
           }
          ],
          "histogram": [
           {
            "marker": {
             "pattern": {
              "fillmode": "overlay",
              "size": 10,
              "solidity": 0.2
             }
            },
            "type": "histogram"
           }
          ],
          "histogram2d": [
           {
            "colorbar": {
             "outlinewidth": 0,
             "ticks": ""
            },
            "colorscale": [
             [
              0,
              "#0d0887"
             ],
             [
              0.1111111111111111,
              "#46039f"
             ],
             [
              0.2222222222222222,
              "#7201a8"
             ],
             [
              0.3333333333333333,
              "#9c179e"
             ],
             [
              0.4444444444444444,
              "#bd3786"
             ],
             [
              0.5555555555555556,
              "#d8576b"
             ],
             [
              0.6666666666666666,
              "#ed7953"
             ],
             [
              0.7777777777777778,
              "#fb9f3a"
             ],
             [
              0.8888888888888888,
              "#fdca26"
             ],
             [
              1,
              "#f0f921"
             ]
            ],
            "type": "histogram2d"
           }
          ],
          "histogram2dcontour": [
           {
            "colorbar": {
             "outlinewidth": 0,
             "ticks": ""
            },
            "colorscale": [
             [
              0,
              "#0d0887"
             ],
             [
              0.1111111111111111,
              "#46039f"
             ],
             [
              0.2222222222222222,
              "#7201a8"
             ],
             [
              0.3333333333333333,
              "#9c179e"
             ],
             [
              0.4444444444444444,
              "#bd3786"
             ],
             [
              0.5555555555555556,
              "#d8576b"
             ],
             [
              0.6666666666666666,
              "#ed7953"
             ],
             [
              0.7777777777777778,
              "#fb9f3a"
             ],
             [
              0.8888888888888888,
              "#fdca26"
             ],
             [
              1,
              "#f0f921"
             ]
            ],
            "type": "histogram2dcontour"
           }
          ],
          "mesh3d": [
           {
            "colorbar": {
             "outlinewidth": 0,
             "ticks": ""
            },
            "type": "mesh3d"
           }
          ],
          "parcoords": [
           {
            "line": {
             "colorbar": {
              "outlinewidth": 0,
              "ticks": ""
             }
            },
            "type": "parcoords"
           }
          ],
          "pie": [
           {
            "automargin": true,
            "type": "pie"
           }
          ],
          "scatter": [
           {
            "marker": {
             "colorbar": {
              "outlinewidth": 0,
              "ticks": ""
             }
            },
            "type": "scatter"
           }
          ],
          "scatter3d": [
           {
            "line": {
             "colorbar": {
              "outlinewidth": 0,
              "ticks": ""
             }
            },
            "marker": {
             "colorbar": {
              "outlinewidth": 0,
              "ticks": ""
             }
            },
            "type": "scatter3d"
           }
          ],
          "scattercarpet": [
           {
            "marker": {
             "colorbar": {
              "outlinewidth": 0,
              "ticks": ""
             }
            },
            "type": "scattercarpet"
           }
          ],
          "scattergeo": [
           {
            "marker": {
             "colorbar": {
              "outlinewidth": 0,
              "ticks": ""
             }
            },
            "type": "scattergeo"
           }
          ],
          "scattergl": [
           {
            "marker": {
             "colorbar": {
              "outlinewidth": 0,
              "ticks": ""
             }
            },
            "type": "scattergl"
           }
          ],
          "scattermapbox": [
           {
            "marker": {
             "colorbar": {
              "outlinewidth": 0,
              "ticks": ""
             }
            },
            "type": "scattermapbox"
           }
          ],
          "scatterpolar": [
           {
            "marker": {
             "colorbar": {
              "outlinewidth": 0,
              "ticks": ""
             }
            },
            "type": "scatterpolar"
           }
          ],
          "scatterpolargl": [
           {
            "marker": {
             "colorbar": {
              "outlinewidth": 0,
              "ticks": ""
             }
            },
            "type": "scatterpolargl"
           }
          ],
          "scatterternary": [
           {
            "marker": {
             "colorbar": {
              "outlinewidth": 0,
              "ticks": ""
             }
            },
            "type": "scatterternary"
           }
          ],
          "surface": [
           {
            "colorbar": {
             "outlinewidth": 0,
             "ticks": ""
            },
            "colorscale": [
             [
              0,
              "#0d0887"
             ],
             [
              0.1111111111111111,
              "#46039f"
             ],
             [
              0.2222222222222222,
              "#7201a8"
             ],
             [
              0.3333333333333333,
              "#9c179e"
             ],
             [
              0.4444444444444444,
              "#bd3786"
             ],
             [
              0.5555555555555556,
              "#d8576b"
             ],
             [
              0.6666666666666666,
              "#ed7953"
             ],
             [
              0.7777777777777778,
              "#fb9f3a"
             ],
             [
              0.8888888888888888,
              "#fdca26"
             ],
             [
              1,
              "#f0f921"
             ]
            ],
            "type": "surface"
           }
          ],
          "table": [
           {
            "cells": {
             "fill": {
              "color": "#EBF0F8"
             },
             "line": {
              "color": "white"
             }
            },
            "header": {
             "fill": {
              "color": "#C8D4E3"
             },
             "line": {
              "color": "white"
             }
            },
            "type": "table"
           }
          ]
         },
         "layout": {
          "annotationdefaults": {
           "arrowcolor": "#2a3f5f",
           "arrowhead": 0,
           "arrowwidth": 1
          },
          "autotypenumbers": "strict",
          "coloraxis": {
           "colorbar": {
            "outlinewidth": 0,
            "ticks": ""
           }
          },
          "colorscale": {
           "diverging": [
            [
             0,
             "#8e0152"
            ],
            [
             0.1,
             "#c51b7d"
            ],
            [
             0.2,
             "#de77ae"
            ],
            [
             0.3,
             "#f1b6da"
            ],
            [
             0.4,
             "#fde0ef"
            ],
            [
             0.5,
             "#f7f7f7"
            ],
            [
             0.6,
             "#e6f5d0"
            ],
            [
             0.7,
             "#b8e186"
            ],
            [
             0.8,
             "#7fbc41"
            ],
            [
             0.9,
             "#4d9221"
            ],
            [
             1,
             "#276419"
            ]
           ],
           "sequential": [
            [
             0,
             "#0d0887"
            ],
            [
             0.1111111111111111,
             "#46039f"
            ],
            [
             0.2222222222222222,
             "#7201a8"
            ],
            [
             0.3333333333333333,
             "#9c179e"
            ],
            [
             0.4444444444444444,
             "#bd3786"
            ],
            [
             0.5555555555555556,
             "#d8576b"
            ],
            [
             0.6666666666666666,
             "#ed7953"
            ],
            [
             0.7777777777777778,
             "#fb9f3a"
            ],
            [
             0.8888888888888888,
             "#fdca26"
            ],
            [
             1,
             "#f0f921"
            ]
           ],
           "sequentialminus": [
            [
             0,
             "#0d0887"
            ],
            [
             0.1111111111111111,
             "#46039f"
            ],
            [
             0.2222222222222222,
             "#7201a8"
            ],
            [
             0.3333333333333333,
             "#9c179e"
            ],
            [
             0.4444444444444444,
             "#bd3786"
            ],
            [
             0.5555555555555556,
             "#d8576b"
            ],
            [
             0.6666666666666666,
             "#ed7953"
            ],
            [
             0.7777777777777778,
             "#fb9f3a"
            ],
            [
             0.8888888888888888,
             "#fdca26"
            ],
            [
             1,
             "#f0f921"
            ]
           ]
          },
          "colorway": [
           "#636efa",
           "#EF553B",
           "#00cc96",
           "#ab63fa",
           "#FFA15A",
           "#19d3f3",
           "#FF6692",
           "#B6E880",
           "#FF97FF",
           "#FECB52"
          ],
          "font": {
           "color": "#2a3f5f"
          },
          "geo": {
           "bgcolor": "white",
           "lakecolor": "white",
           "landcolor": "#E5ECF6",
           "showlakes": true,
           "showland": true,
           "subunitcolor": "white"
          },
          "hoverlabel": {
           "align": "left"
          },
          "hovermode": "closest",
          "mapbox": {
           "style": "light"
          },
          "paper_bgcolor": "white",
          "plot_bgcolor": "#E5ECF6",
          "polar": {
           "angularaxis": {
            "gridcolor": "white",
            "linecolor": "white",
            "ticks": ""
           },
           "bgcolor": "#E5ECF6",
           "radialaxis": {
            "gridcolor": "white",
            "linecolor": "white",
            "ticks": ""
           }
          },
          "scene": {
           "xaxis": {
            "backgroundcolor": "#E5ECF6",
            "gridcolor": "white",
            "gridwidth": 2,
            "linecolor": "white",
            "showbackground": true,
            "ticks": "",
            "zerolinecolor": "white"
           },
           "yaxis": {
            "backgroundcolor": "#E5ECF6",
            "gridcolor": "white",
            "gridwidth": 2,
            "linecolor": "white",
            "showbackground": true,
            "ticks": "",
            "zerolinecolor": "white"
           },
           "zaxis": {
            "backgroundcolor": "#E5ECF6",
            "gridcolor": "white",
            "gridwidth": 2,
            "linecolor": "white",
            "showbackground": true,
            "ticks": "",
            "zerolinecolor": "white"
           }
          },
          "shapedefaults": {
           "line": {
            "color": "#2a3f5f"
           }
          },
          "ternary": {
           "aaxis": {
            "gridcolor": "white",
            "linecolor": "white",
            "ticks": ""
           },
           "baxis": {
            "gridcolor": "white",
            "linecolor": "white",
            "ticks": ""
           },
           "bgcolor": "#E5ECF6",
           "caxis": {
            "gridcolor": "white",
            "linecolor": "white",
            "ticks": ""
           }
          },
          "title": {
           "x": 0.05
          },
          "xaxis": {
           "automargin": true,
           "gridcolor": "white",
           "linecolor": "white",
           "ticks": "",
           "title": {
            "standoff": 15
           },
           "zerolinecolor": "white",
           "zerolinewidth": 2
          },
          "yaxis": {
           "automargin": true,
           "gridcolor": "white",
           "linecolor": "white",
           "ticks": "",
           "title": {
            "standoff": 15
           },
           "zerolinecolor": "white",
           "zerolinewidth": 2
          }
         }
        },
        "title": {
         "text": "Aggregate Total Points above Average"
        },
        "xaxis": {
         "categoryorder": "total descending"
        }
       }
      }
     },
     "metadata": {},
     "output_type": "display_data"
    }
   ],
   "source": [
    "fig = go.Figure()\n",
    "\n",
    "total_paa = {NAME_PAIRINGS[roster[\"owner_id\"]]: sum([player[\"PAA\"] for player in roster[\"expected_starters\"]]) for roster in rosters}\n",
    "fig.add_trace(\n",
    "    go.Bar(x=list(total_paa.keys()), y=list(total_paa.values()),\n",
    "           marker=dict(color=list(total_paa.values()), coloraxis=\"coloraxis\"))\n",
    ")\n",
    "\n",
    "fig.update_layout(coloraxis=dict(colorscale=px.colors.diverging.RdYlGn),\n",
    "                  title=\"Aggregate Total Points above Average\",\n",
    "                  showlegend=False,\n",
    "                  xaxis={'categoryorder': 'total descending'},\n",
    "                  )\n"
   ]
  },
  {
   "cell_type": "markdown",
   "metadata": {},
   "source": [
    "This makes a lot of sense! Whereas most everyone had a team with positive points above replacement, we see that only the stronger teams in the league have high aggregate PAA scores."
   ]
  },
  {
   "cell_type": "code",
   "execution_count": 285,
   "metadata": {},
   "outputs": [
    {
     "data": {
      "application/vnd.plotly.v1+json": {
       "config": {
        "plotlyServerURL": "https://plot.ly"
       },
       "data": [
        {
         "marker": {
          "color": [
           -14.282499999999999,
           -8.62,
           4.820000000000006,
           -3.5049999999999955,
           -2.962499999999997,
           -2.209999999999999,
           2.9650000000000034,
           9.785000000000004,
           -10.702499999999999,
           -4.2675
          ],
          "coloraxis": "coloraxis"
         },
         "type": "bar",
         "x": [
          "My Goat Loves You",
          "The Brutherhood",
          "tealeaves",
          "Tree Leaves",
          "the noés",
          "SideThicc #2",
          "AssNTitties",
          "Thicc King",
          "billcap",
          "RB sanctuary"
         ],
         "y": [
          -14.282499999999999,
          -8.62,
          4.820000000000006,
          -3.5049999999999955,
          -2.962499999999997,
          -2.209999999999999,
          2.9650000000000034,
          9.785000000000004,
          -10.702499999999999,
          -4.2675
         ]
        }
       ],
       "layout": {
        "coloraxis": {
         "colorscale": [
          [
           0,
           "rgb(165,0,38)"
          ],
          [
           0.1,
           "rgb(215,48,39)"
          ],
          [
           0.2,
           "rgb(244,109,67)"
          ],
          [
           0.3,
           "rgb(253,174,97)"
          ],
          [
           0.4,
           "rgb(254,224,139)"
          ],
          [
           0.5,
           "rgb(255,255,191)"
          ],
          [
           0.6,
           "rgb(217,239,139)"
          ],
          [
           0.7,
           "rgb(166,217,106)"
          ],
          [
           0.8,
           "rgb(102,189,99)"
          ],
          [
           0.9,
           "rgb(26,152,80)"
          ],
          [
           1,
           "rgb(0,104,55)"
          ]
         ]
        },
        "showlegend": false,
        "template": {
         "data": {
          "bar": [
           {
            "error_x": {
             "color": "#2a3f5f"
            },
            "error_y": {
             "color": "#2a3f5f"
            },
            "marker": {
             "line": {
              "color": "#E5ECF6",
              "width": 0.5
             },
             "pattern": {
              "fillmode": "overlay",
              "size": 10,
              "solidity": 0.2
             }
            },
            "type": "bar"
           }
          ],
          "barpolar": [
           {
            "marker": {
             "line": {
              "color": "#E5ECF6",
              "width": 0.5
             },
             "pattern": {
              "fillmode": "overlay",
              "size": 10,
              "solidity": 0.2
             }
            },
            "type": "barpolar"
           }
          ],
          "carpet": [
           {
            "aaxis": {
             "endlinecolor": "#2a3f5f",
             "gridcolor": "white",
             "linecolor": "white",
             "minorgridcolor": "white",
             "startlinecolor": "#2a3f5f"
            },
            "baxis": {
             "endlinecolor": "#2a3f5f",
             "gridcolor": "white",
             "linecolor": "white",
             "minorgridcolor": "white",
             "startlinecolor": "#2a3f5f"
            },
            "type": "carpet"
           }
          ],
          "choropleth": [
           {
            "colorbar": {
             "outlinewidth": 0,
             "ticks": ""
            },
            "type": "choropleth"
           }
          ],
          "contour": [
           {
            "colorbar": {
             "outlinewidth": 0,
             "ticks": ""
            },
            "colorscale": [
             [
              0,
              "#0d0887"
             ],
             [
              0.1111111111111111,
              "#46039f"
             ],
             [
              0.2222222222222222,
              "#7201a8"
             ],
             [
              0.3333333333333333,
              "#9c179e"
             ],
             [
              0.4444444444444444,
              "#bd3786"
             ],
             [
              0.5555555555555556,
              "#d8576b"
             ],
             [
              0.6666666666666666,
              "#ed7953"
             ],
             [
              0.7777777777777778,
              "#fb9f3a"
             ],
             [
              0.8888888888888888,
              "#fdca26"
             ],
             [
              1,
              "#f0f921"
             ]
            ],
            "type": "contour"
           }
          ],
          "contourcarpet": [
           {
            "colorbar": {
             "outlinewidth": 0,
             "ticks": ""
            },
            "type": "contourcarpet"
           }
          ],
          "heatmap": [
           {
            "colorbar": {
             "outlinewidth": 0,
             "ticks": ""
            },
            "colorscale": [
             [
              0,
              "#0d0887"
             ],
             [
              0.1111111111111111,
              "#46039f"
             ],
             [
              0.2222222222222222,
              "#7201a8"
             ],
             [
              0.3333333333333333,
              "#9c179e"
             ],
             [
              0.4444444444444444,
              "#bd3786"
             ],
             [
              0.5555555555555556,
              "#d8576b"
             ],
             [
              0.6666666666666666,
              "#ed7953"
             ],
             [
              0.7777777777777778,
              "#fb9f3a"
             ],
             [
              0.8888888888888888,
              "#fdca26"
             ],
             [
              1,
              "#f0f921"
             ]
            ],
            "type": "heatmap"
           }
          ],
          "heatmapgl": [
           {
            "colorbar": {
             "outlinewidth": 0,
             "ticks": ""
            },
            "colorscale": [
             [
              0,
              "#0d0887"
             ],
             [
              0.1111111111111111,
              "#46039f"
             ],
             [
              0.2222222222222222,
              "#7201a8"
             ],
             [
              0.3333333333333333,
              "#9c179e"
             ],
             [
              0.4444444444444444,
              "#bd3786"
             ],
             [
              0.5555555555555556,
              "#d8576b"
             ],
             [
              0.6666666666666666,
              "#ed7953"
             ],
             [
              0.7777777777777778,
              "#fb9f3a"
             ],
             [
              0.8888888888888888,
              "#fdca26"
             ],
             [
              1,
              "#f0f921"
             ]
            ],
            "type": "heatmapgl"
           }
          ],
          "histogram": [
           {
            "marker": {
             "pattern": {
              "fillmode": "overlay",
              "size": 10,
              "solidity": 0.2
             }
            },
            "type": "histogram"
           }
          ],
          "histogram2d": [
           {
            "colorbar": {
             "outlinewidth": 0,
             "ticks": ""
            },
            "colorscale": [
             [
              0,
              "#0d0887"
             ],
             [
              0.1111111111111111,
              "#46039f"
             ],
             [
              0.2222222222222222,
              "#7201a8"
             ],
             [
              0.3333333333333333,
              "#9c179e"
             ],
             [
              0.4444444444444444,
              "#bd3786"
             ],
             [
              0.5555555555555556,
              "#d8576b"
             ],
             [
              0.6666666666666666,
              "#ed7953"
             ],
             [
              0.7777777777777778,
              "#fb9f3a"
             ],
             [
              0.8888888888888888,
              "#fdca26"
             ],
             [
              1,
              "#f0f921"
             ]
            ],
            "type": "histogram2d"
           }
          ],
          "histogram2dcontour": [
           {
            "colorbar": {
             "outlinewidth": 0,
             "ticks": ""
            },
            "colorscale": [
             [
              0,
              "#0d0887"
             ],
             [
              0.1111111111111111,
              "#46039f"
             ],
             [
              0.2222222222222222,
              "#7201a8"
             ],
             [
              0.3333333333333333,
              "#9c179e"
             ],
             [
              0.4444444444444444,
              "#bd3786"
             ],
             [
              0.5555555555555556,
              "#d8576b"
             ],
             [
              0.6666666666666666,
              "#ed7953"
             ],
             [
              0.7777777777777778,
              "#fb9f3a"
             ],
             [
              0.8888888888888888,
              "#fdca26"
             ],
             [
              1,
              "#f0f921"
             ]
            ],
            "type": "histogram2dcontour"
           }
          ],
          "mesh3d": [
           {
            "colorbar": {
             "outlinewidth": 0,
             "ticks": ""
            },
            "type": "mesh3d"
           }
          ],
          "parcoords": [
           {
            "line": {
             "colorbar": {
              "outlinewidth": 0,
              "ticks": ""
             }
            },
            "type": "parcoords"
           }
          ],
          "pie": [
           {
            "automargin": true,
            "type": "pie"
           }
          ],
          "scatter": [
           {
            "marker": {
             "colorbar": {
              "outlinewidth": 0,
              "ticks": ""
             }
            },
            "type": "scatter"
           }
          ],
          "scatter3d": [
           {
            "line": {
             "colorbar": {
              "outlinewidth": 0,
              "ticks": ""
             }
            },
            "marker": {
             "colorbar": {
              "outlinewidth": 0,
              "ticks": ""
             }
            },
            "type": "scatter3d"
           }
          ],
          "scattercarpet": [
           {
            "marker": {
             "colorbar": {
              "outlinewidth": 0,
              "ticks": ""
             }
            },
            "type": "scattercarpet"
           }
          ],
          "scattergeo": [
           {
            "marker": {
             "colorbar": {
              "outlinewidth": 0,
              "ticks": ""
             }
            },
            "type": "scattergeo"
           }
          ],
          "scattergl": [
           {
            "marker": {
             "colorbar": {
              "outlinewidth": 0,
              "ticks": ""
             }
            },
            "type": "scattergl"
           }
          ],
          "scattermapbox": [
           {
            "marker": {
             "colorbar": {
              "outlinewidth": 0,
              "ticks": ""
             }
            },
            "type": "scattermapbox"
           }
          ],
          "scatterpolar": [
           {
            "marker": {
             "colorbar": {
              "outlinewidth": 0,
              "ticks": ""
             }
            },
            "type": "scatterpolar"
           }
          ],
          "scatterpolargl": [
           {
            "marker": {
             "colorbar": {
              "outlinewidth": 0,
              "ticks": ""
             }
            },
            "type": "scatterpolargl"
           }
          ],
          "scatterternary": [
           {
            "marker": {
             "colorbar": {
              "outlinewidth": 0,
              "ticks": ""
             }
            },
            "type": "scatterternary"
           }
          ],
          "surface": [
           {
            "colorbar": {
             "outlinewidth": 0,
             "ticks": ""
            },
            "colorscale": [
             [
              0,
              "#0d0887"
             ],
             [
              0.1111111111111111,
              "#46039f"
             ],
             [
              0.2222222222222222,
              "#7201a8"
             ],
             [
              0.3333333333333333,
              "#9c179e"
             ],
             [
              0.4444444444444444,
              "#bd3786"
             ],
             [
              0.5555555555555556,
              "#d8576b"
             ],
             [
              0.6666666666666666,
              "#ed7953"
             ],
             [
              0.7777777777777778,
              "#fb9f3a"
             ],
             [
              0.8888888888888888,
              "#fdca26"
             ],
             [
              1,
              "#f0f921"
             ]
            ],
            "type": "surface"
           }
          ],
          "table": [
           {
            "cells": {
             "fill": {
              "color": "#EBF0F8"
             },
             "line": {
              "color": "white"
             }
            },
            "header": {
             "fill": {
              "color": "#C8D4E3"
             },
             "line": {
              "color": "white"
             }
            },
            "type": "table"
           }
          ]
         },
         "layout": {
          "annotationdefaults": {
           "arrowcolor": "#2a3f5f",
           "arrowhead": 0,
           "arrowwidth": 1
          },
          "autotypenumbers": "strict",
          "coloraxis": {
           "colorbar": {
            "outlinewidth": 0,
            "ticks": ""
           }
          },
          "colorscale": {
           "diverging": [
            [
             0,
             "#8e0152"
            ],
            [
             0.1,
             "#c51b7d"
            ],
            [
             0.2,
             "#de77ae"
            ],
            [
             0.3,
             "#f1b6da"
            ],
            [
             0.4,
             "#fde0ef"
            ],
            [
             0.5,
             "#f7f7f7"
            ],
            [
             0.6,
             "#e6f5d0"
            ],
            [
             0.7,
             "#b8e186"
            ],
            [
             0.8,
             "#7fbc41"
            ],
            [
             0.9,
             "#4d9221"
            ],
            [
             1,
             "#276419"
            ]
           ],
           "sequential": [
            [
             0,
             "#0d0887"
            ],
            [
             0.1111111111111111,
             "#46039f"
            ],
            [
             0.2222222222222222,
             "#7201a8"
            ],
            [
             0.3333333333333333,
             "#9c179e"
            ],
            [
             0.4444444444444444,
             "#bd3786"
            ],
            [
             0.5555555555555556,
             "#d8576b"
            ],
            [
             0.6666666666666666,
             "#ed7953"
            ],
            [
             0.7777777777777778,
             "#fb9f3a"
            ],
            [
             0.8888888888888888,
             "#fdca26"
            ],
            [
             1,
             "#f0f921"
            ]
           ],
           "sequentialminus": [
            [
             0,
             "#0d0887"
            ],
            [
             0.1111111111111111,
             "#46039f"
            ],
            [
             0.2222222222222222,
             "#7201a8"
            ],
            [
             0.3333333333333333,
             "#9c179e"
            ],
            [
             0.4444444444444444,
             "#bd3786"
            ],
            [
             0.5555555555555556,
             "#d8576b"
            ],
            [
             0.6666666666666666,
             "#ed7953"
            ],
            [
             0.7777777777777778,
             "#fb9f3a"
            ],
            [
             0.8888888888888888,
             "#fdca26"
            ],
            [
             1,
             "#f0f921"
            ]
           ]
          },
          "colorway": [
           "#636efa",
           "#EF553B",
           "#00cc96",
           "#ab63fa",
           "#FFA15A",
           "#19d3f3",
           "#FF6692",
           "#B6E880",
           "#FF97FF",
           "#FECB52"
          ],
          "font": {
           "color": "#2a3f5f"
          },
          "geo": {
           "bgcolor": "white",
           "lakecolor": "white",
           "landcolor": "#E5ECF6",
           "showlakes": true,
           "showland": true,
           "subunitcolor": "white"
          },
          "hoverlabel": {
           "align": "left"
          },
          "hovermode": "closest",
          "mapbox": {
           "style": "light"
          },
          "paper_bgcolor": "white",
          "plot_bgcolor": "#E5ECF6",
          "polar": {
           "angularaxis": {
            "gridcolor": "white",
            "linecolor": "white",
            "ticks": ""
           },
           "bgcolor": "#E5ECF6",
           "radialaxis": {
            "gridcolor": "white",
            "linecolor": "white",
            "ticks": ""
           }
          },
          "scene": {
           "xaxis": {
            "backgroundcolor": "#E5ECF6",
            "gridcolor": "white",
            "gridwidth": 2,
            "linecolor": "white",
            "showbackground": true,
            "ticks": "",
            "zerolinecolor": "white"
           },
           "yaxis": {
            "backgroundcolor": "#E5ECF6",
            "gridcolor": "white",
            "gridwidth": 2,
            "linecolor": "white",
            "showbackground": true,
            "ticks": "",
            "zerolinecolor": "white"
           },
           "zaxis": {
            "backgroundcolor": "#E5ECF6",
            "gridcolor": "white",
            "gridwidth": 2,
            "linecolor": "white",
            "showbackground": true,
            "ticks": "",
            "zerolinecolor": "white"
           }
          },
          "shapedefaults": {
           "line": {
            "color": "#2a3f5f"
           }
          },
          "ternary": {
           "aaxis": {
            "gridcolor": "white",
            "linecolor": "white",
            "ticks": ""
           },
           "baxis": {
            "gridcolor": "white",
            "linecolor": "white",
            "ticks": ""
           },
           "bgcolor": "#E5ECF6",
           "caxis": {
            "gridcolor": "white",
            "linecolor": "white",
            "ticks": ""
           }
          },
          "title": {
           "x": 0.05
          },
          "xaxis": {
           "automargin": true,
           "gridcolor": "white",
           "linecolor": "white",
           "ticks": "",
           "title": {
            "standoff": 15
           },
           "zerolinecolor": "white",
           "zerolinewidth": 2
          },
          "yaxis": {
           "automargin": true,
           "gridcolor": "white",
           "linecolor": "white",
           "ticks": "",
           "title": {
            "standoff": 15
           },
           "zerolinecolor": "white",
           "zerolinewidth": 2
          }
         }
        },
        "title": {
         "text": "Weekly Total Points above Average"
        },
        "xaxis": {
         "categoryorder": "total descending"
        }
       }
      }
     },
     "metadata": {},
     "output_type": "display_data"
    }
   ],
   "source": [
    "fig = go.Figure()\n",
    "\n",
    "weekly_paa = {NAME_PAIRINGS[roster[\"owner_id\"]]: sum([player[\"PAA_weekly\"] for player in roster[\"expected_starters\"]]) for roster in rosters}\n",
    "fig.add_trace(\n",
    "    go.Bar(x=list(weekly_paa.keys()), y=list(weekly_paa.values()),\n",
    "           marker=dict(color=list(weekly_paa.values()), coloraxis=\"coloraxis\"))\n",
    ")\n",
    "\n",
    "fig.update_layout(coloraxis=dict(colorscale=px.colors.diverging.RdYlGn),\n",
    "                  title=\"Weekly Total Points above Average\",\n",
    "                  showlegend=False,\n",
    "                  xaxis={'categoryorder': 'total descending'},\n",
    "                  )\n"
   ]
  },
  {
   "cell_type": "markdown",
   "metadata": {},
   "source": [
    "We can see above that Noah (boosted by a now injured Henry) had expected starters who would score 10 more points than an average team). At the other end of the spectrum, Ben has a -13 aggregate weekly points above average after trading away his top players.\n",
    "\n",
    "## But What about Aiyuk?\n",
    "\n",
    "That is true Tom, don't worry. Even though Aiyuk isn't a starter he has a special place in our hearts so I will calculate his points below average based on every position we could start him in."
   ]
  },
  {
   "cell_type": "code",
   "execution_count": 287,
   "metadata": {},
   "outputs": [
    {
     "name": "stdout",
     "output_type": "stream",
     "text": [
      "If Aiyuk was starting as your WR1, he would have a weekly PAA of -12.528749999999997\n",
      "If Aiyuk was starting as your WR2, he would have a weekly PAA of -9.10875\n",
      "If Aiyuk was starting as your FLEX1, he would have a weekly PAA of -6.98175\n",
      "If Aiyuk was starting as your FLEX2, he would have a weekly PAA of -5.486749999999999\n"
     ]
    }
   ],
   "source": [
    "average_scores\n",
    "\n",
    "rostered_players[\"6803\"]\n",
    "\n",
    "print(f\"If Aiyuk was starting as your WR1, he would have a weekly PAA of {(rostered_players['6803']['points'] - average_scores['WR1']['total']) / CURRENT_WEEK}\")\n",
    "print(f\"If Aiyuk was starting as your WR2, he would have a weekly PAA of {(rostered_players['6803']['points'] - average_scores['WR2']['total']) / CURRENT_WEEK}\")\n",
    "print(f\"If Aiyuk was starting as your FLEX1, he would have a weekly PAA of {(rostered_players['6803']['points'] - average_scores['FLEX1']['total']) / CURRENT_WEEK}\")\n",
    "print(f\"If Aiyuk was starting as your FLEX2, he would have a weekly PAA of {(rostered_players['6803']['points'] - average_scores['FLEX2']['total']) / CURRENT_WEEK}\")"
   ]
  },
  {
   "cell_type": "markdown",
   "metadata": {},
   "source": [
    "We can in fact conclude that Aiyuk is ASS."
   ]
  }
 ],
 "metadata": {
  "interpreter": {
   "hash": "ec25a6e0bcc521c69e34e1e19617096bb869600c3953dd49b10a393de9bcb976"
  },
  "kernelspec": {
   "display_name": "Python 3.9.7 64-bit",
   "name": "python3"
  },
  "language_info": {
   "codemirror_mode": {
    "name": "ipython",
    "version": 3
   },
   "file_extension": ".py",
   "mimetype": "text/x-python",
   "name": "python",
   "nbconvert_exporter": "python",
   "pygments_lexer": "ipython3",
   "version": "3.9.7"
  },
  "orig_nbformat": 4
 },
 "nbformat": 4,
 "nbformat_minor": 2
}
