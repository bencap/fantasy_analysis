{
 "cells": [
  {
   "cell_type": "code",
   "execution_count": 1,
   "metadata": {},
   "outputs": [],
   "source": [
    "from sleeper_wrapper import League\n",
    "from sleeper_wrapper import Stats\n",
    "import statistics\n",
    "import plotly.graph_objects as go\n",
    "import plotly.express as px\n",
    "from plotly.subplots import make_subplots\n",
    "\n",
    "LEAGUE_ID = \"649912836461539328\"\n",
    "CURRENT_WEEK = 7\n",
    "FORMAT = \"half_ppr\"\n",
    "\n"
   ]
  },
  {
   "cell_type": "markdown",
   "metadata": {},
   "source": [
    "# Fantasy Analysis for Week 7\n",
    "\n",
    "Hello boys, in lieu of power rankings this week I will be doing a bit of analysis and taking a look behind the scenes at weekly point scoring and scoring trends throughout the season. As a reminder, league standings are currently as follows:\n",
    "\n",
    "```\n",
    "Noe's Loyal Lighting Salesman Division\n",
    "1. Nahome (11-3)\n",
    "2. Noe (8-6)\n",
    "3. Will (7-7)\n",
    "4. Ben (6-8)\n",
    "5. Stephane (1-13)\n",
    "\n",
    "Noah's SideThiccs\n",
    "1. Noah (9-5)\n",
    "2. Praveen (9-5)\n",
    "3. Stian (8-6)\n",
    "4. Tom (6-8)\n",
    "5. Tegran (5-9)\n",
    "```\n",
    "\n",
    "This weeks power rankings that I released on Tuesday had pretty little movement, with Nahome still at the top and Stephane still in the cellar. He is hoping to get out of the last spot with a blockbuster trade this week, sending CMC and the Gasman to Ben in exchange for Mr. Hollywood Samuel and Sleepy Joe Mixon. \n",
    "\n",
    "```\n",
    "1. Nahome\n",
    "2. Praveen\n",
    "3. Noah\n",
    "4. Noe\n",
    "5. Stian\n",
    "6. Will\n",
    "7. Tom\n",
    "8. Ben\n",
    "9. Tegran\n",
    "10. Stephane\n",
    "```\n",
    "\n",
    "If the playoffs started today, we would have ```Praven vs. Will``` and ```Stian vs. Noe``` in the opening rounds, with Noah and Nahome both earning byes. In the toilet bowl, we would have ```Tegran vs. Ben``` and ```Stephane vs. Tom```.\n",
    "\n",
    "This document will focus on going behind the summary stats on the standings page and look into team consistency, luck, and the level of the opposition. Hopefully it will be interesting and a good way to get me back into doing weekly writeups!"
   ]
  },
  {
   "cell_type": "code",
   "execution_count": 2,
   "metadata": {},
   "outputs": [],
   "source": [
    "def pair_user_rosters(rosters):\n",
    "    \"\"\"pairs a users roster id with their user id\"\"\"\n",
    "    pairings = {}\n",
    "    \n",
    "    for roster in rosters:\n",
    "        pairings[roster[\"roster_id\"]] = roster[\"owner_id\"]\n",
    "\n",
    "    return pairings\n",
    "\n",
    "def pair_usernames(users):\n",
    "    pairings = {}\n",
    "\n",
    "    # this is stored dumb, but basically team name can be in metadata or it can\n",
    "    # be outside of it. If a team has no name, we can just use their display name\n",
    "    for user in users:\n",
    "        try:\n",
    "            pairings[user[\"user_id\"]] = user[\"metadata\"][\"team_name\"]\n",
    "        except KeyError: # stored dumb\n",
    "            try:\n",
    "                pairings[user[\"user_id\"]] = user[\"team_name\"]\n",
    "            except KeyError: # no team name\n",
    "                pairings[user[\"user_id\"]] = user[\"display_name\"]\n",
    "\n",
    "    return pairings\n",
    "\n",
    "    \n",
    "\n",
    "def pair_matchups(games):\n",
    "    \"\"\"pair matchup data with users and their opponent\"\"\"\n",
    "    scoreboards = {}\n",
    "\n",
    "    for player in games:\n",
    "        if player[\"matchup_id\"] in scoreboards.keys():\n",
    "            scoreboards[player[\"matchup_id\"]][ROSTER_PAIRINGS[player[\"roster_id\"]]] = player\n",
    "        else:\n",
    "            scoreboards[player[\"matchup_id\"]] = {ROSTER_PAIRINGS[player[\"roster_id\"]]: player}\n",
    "\n",
    "    return scoreboards\n"
   ]
  },
  {
   "cell_type": "code",
   "execution_count": 3,
   "metadata": {},
   "outputs": [],
   "source": [
    "league = League(LEAGUE_ID)\n",
    "\n",
    "users = league.get_users()\n",
    "rosters = league.get_rosters()\n",
    "\n",
    "ROSTER_PAIRINGS = pair_user_rosters(rosters)\n",
    "NAME_PAIRINGS = pair_usernames(users)"
   ]
  },
  {
   "cell_type": "code",
   "execution_count": 4,
   "metadata": {},
   "outputs": [],
   "source": [
    "all_games = {}\n",
    "\n",
    "# creates a dictionary with all matchups in the league through CURRENT_WEEK\n",
    "for week in range(1, CURRENT_WEEK+1):\n",
    "    all_games[week] = pair_matchups(league.get_matchups(week))"
   ]
  },
  {
   "cell_type": "code",
   "execution_count": 5,
   "metadata": {},
   "outputs": [],
   "source": [
    "# sanity check the weeks and uncomment here if you wanna\n",
    "# for week in all_games:\n",
    "#     print(f\"------------Week {week}------------\")\n",
    "#     for matchup in all_games[week]:\n",
    "#         for team in all_games[week][matchup]:\n",
    "#             print(f\" {NAME_PAIRINGS[str(team)]}: {all_games[week][matchup][team]['points']}\")\n",
    "#         print()"
   ]
  },
  {
   "cell_type": "code",
   "execution_count": 6,
   "metadata": {},
   "outputs": [],
   "source": [
    "# how does median points scored differ from points per game?\n",
    "# lets define breakout as 30+ points\n",
    "BREAKOUT_CUT = 30\n",
    "#   league discussion has been on points for (as an aside, how about opp. median score?)\n",
    "# ADD STATS STUFF TO THIS FUNCTION BUT KEEP THIS UP TO DATE\n",
    "STATS_FIELDS = [\"Weeks\", \"Weekly Points For\", \"Weekly Points Against\", \"Points For\", \"Points Against\", \"Points per Game\", \n",
    "                \"Median Points Scored\", \"Points Against per Game\", \"Median Points Against\", \"3 game rolling average\", \n",
    "                \"5 game rolling average\", \"Breakout Games\", \"Breakout Games Against\", \"Game Margin\", \"Blowout Index\"]\n",
    "\n",
    "# blowout index: closer to 0 is close games, bigger numbers indicate larger losses and wins\n",
    "\n",
    "#   TODO: edge case for less than 3 or 5 weeks?\n",
    "\n",
    "def team_stats(games):\n",
    "    \"\"\"calculate team stats. returns a dictionary of team ids with associated\n",
    "       lists that define team stats. list has order:\n",
    "       [total weeks, weekly points for, weekly points against, total points for, total points against, ppg, \n",
    "       median points scored, papg, median points against, 3 game rolling avg. points scored, \n",
    "       5 game rolling avg. points scored, breakouts for, breakouts against, game margin, blowout index]\n",
    "    \"\"\"\n",
    "    weeks = len(games.keys())\n",
    "    final_stats = {}\n",
    "    weekly_pf = {}\n",
    "    weekly_pa = {}\n",
    "    weekly_bf = {}\n",
    "    weekly_ba = {}\n",
    "\n",
    "    for user in NAME_PAIRINGS:\n",
    "        final_stats[user] = []\n",
    "        weekly_pf[user] = []\n",
    "        weekly_pa[user] = []\n",
    "        weekly_bf[user] = []\n",
    "        weekly_ba[user] = []\n",
    "\n",
    "    for week in games:\n",
    "        for matchup in games[week]:\n",
    "            teams = list(games[week][matchup].keys())\n",
    "            team0 = games[week][matchup][teams[0]]\n",
    "            team1 = games[week][matchup][teams[1]]\n",
    "            # use team data to fill in pf and opponent data for pa\n",
    "            weekly_pf[teams[0]].append(team0[\"points\"])\n",
    "            weekly_pf[teams[1]].append(team1[\"points\"])\n",
    "            weekly_pa[teams[0]].append(team1[\"points\"])\n",
    "            weekly_pa[teams[1]].append(team0[\"points\"])\n",
    "            weekly_bf[teams[0]].append({})\n",
    "            weekly_bf[teams[1]].append({})\n",
    "            weekly_ba[teams[0]].append({})\n",
    "            weekly_ba[teams[1]].append({})\n",
    "            for player0, player1 in zip(team0[\"players_points\"].keys(), team1[\"players_points\"].keys()):\n",
    "                if team0[\"players_points\"][player0] >= BREAKOUT_CUT:\n",
    "                    weekly_bf[teams[0]][week-1][player0] = team0[\"players_points\"][player0]\n",
    "                    weekly_ba[teams[1]][week-1][player0] = team0[\"players_points\"][player0]\n",
    "                elif team1[\"players_points\"][player1] >= BREAKOUT_CUT:\n",
    "                    weekly_ba[teams[0]][week-1][player1] = team1[\"players_points\"][player1]\n",
    "                    weekly_bf[teams[1]][week-1][player1] = team1[\"players_points\"][player1]\n",
    "\n",
    "    for user in NAME_PAIRINGS:\n",
    "        final_stats[user].append(weeks)\n",
    "        final_stats[user].append(weekly_pf[user])\n",
    "        final_stats[user].append(weekly_pa[user])\n",
    "        pf = sum(weekly_pf[user])\n",
    "        pa = sum(weekly_pa[user])\n",
    "        final_stats[user].append(round(pf, 2))\n",
    "        final_stats[user].append(round(pa, 2))\n",
    "        final_stats[user].append(round(pf/weeks, 2))\n",
    "        final_stats[user].append(round(statistics.median(weekly_pf[user]), 2))\n",
    "        final_stats[user].append(round(pa/weeks, 2))\n",
    "        final_stats[user].append(round(statistics.median(weekly_pa[user]), 2))\n",
    "\n",
    "\n",
    "        rolling_3 = []\n",
    "        for i in range(weeks):\n",
    "            if i < 3:\n",
    "                rolling_3.append(round(sum(weekly_pf[user][0:i+1])/(i+1), 2))\n",
    "            else:\n",
    "                rolling_3.append(round(sum(weekly_pf[user][i-2:i+1])/3, 2))\n",
    "        final_stats[user].append(rolling_3)\n",
    "\n",
    "        rolling_5 = []\n",
    "        for i in range(weeks):\n",
    "            if i < 5:\n",
    "                rolling_5.append(round(sum(weekly_pf[user][0:i+1])/(i+1), 2))\n",
    "            else:\n",
    "                rolling_5.append(round(sum(weekly_pf[user][i-4:i+1])/5, 2))\n",
    "        final_stats[user].append(rolling_5)\n",
    "\n",
    "        final_stats[user].append([len(k.keys()) for k in weekly_bf[user]])\n",
    "        final_stats[user].append([len(k.keys()) for k in weekly_ba[user]])\n",
    "        final_stats[user].append([round(weekly_pf[user][week] - weekly_pa[user][week], 2) for week in range(weeks)])\n",
    "        final_stats[user].append(round(sum([final_stats[user][-1][i]**2 for i in range(weeks)]) / weeks, 2)) # mean squared margin\n",
    "        \n",
    "        # ADD HERE\n",
    "\n",
    "    return final_stats\n",
    "\n",
    "stats = team_stats(all_games)"
   ]
  },
  {
   "cell_type": "markdown",
   "metadata": {},
   "source": [
    "## Scoring Heatmap\n",
    "Now that we have grabbed the weekly results and generate team stats, lets have a look at everyone's weekly scoring. Darker blues are higher scores, whereas darker reds are lower scores. The first heatmap shows these scores, whereas the second shows weekly scoring ranks. In this second heatmap, darker browns are better ranks whereas darker greens are worse ranks. The transition between green and brown marks the transition from being above/below the league median score for the week."
   ]
  },
  {
   "cell_type": "code",
   "execution_count": 7,
   "metadata": {},
   "outputs": [
    {
     "data": {
      "application/vnd.plotly.v1+json": {
       "config": {
        "plotlyServerURL": "https://plot.ly"
       },
       "data": [
        {
         "colorbar": {
          "title": {
           "text": "Points Scored"
          }
         },
         "colorscale": [
          [
           0,
           "rgb(165,0,38)"
          ],
          [
           0.1111111111111111,
           "rgb(215,48,39)"
          ],
          [
           0.2222222222222222,
           "rgb(244,109,67)"
          ],
          [
           0.3333333333333333,
           "rgb(253,174,97)"
          ],
          [
           0.4444444444444444,
           "rgb(254,224,144)"
          ],
          [
           0.5555555555555556,
           "rgb(224,243,248)"
          ],
          [
           0.6666666666666666,
           "rgb(171,217,233)"
          ],
          [
           0.7777777777777778,
           "rgb(116,173,209)"
          ],
          [
           0.8888888888888888,
           "rgb(69,117,180)"
          ],
          [
           1,
           "rgb(49,54,149)"
          ]
         ],
         "type": "heatmap",
         "x": [
          "Week 1",
          "Week 2",
          "Week 3",
          "Week 4",
          "Week 5",
          "Week 6",
          "Week 7"
         ],
         "y": [
          "My Goat Loves You",
          "RB sanctuary",
          "The Brutherhood",
          "Tree Leaves",
          "the noés",
          "AssNTitties",
          "billcap",
          "Thicc King",
          "tealeaves",
          "SideThicc #2"
         ],
         "z": [
          [
           171.86,
           127.6,
           108.52,
           109.8,
           113.5,
           141.54,
           135.86
          ],
          [
           113.42,
           97.48,
           84.62,
           138.02,
           112.28,
           76.4,
           110.04
          ],
          [
           116.1,
           129.16,
           109.72,
           108.42,
           180.8,
           131.52,
           107.88
          ],
          [
           83.02,
           131.82,
           150.24,
           124.98,
           154.32,
           117.4,
           141.42
          ],
          [
           105.08,
           120.32,
           140.54,
           123.32,
           114.26,
           126.56,
           119.04
          ],
          [
           126.38,
           166.7,
           152.14,
           138.68,
           119.62,
           151,
           140.84
          ],
          [
           126.5,
           108.56,
           112.28,
           118.14,
           133.48,
           131.38,
           155.48
          ],
          [
           127.06,
           138.72,
           133.22,
           117.36,
           128.18,
           163.22,
           124.58
          ],
          [
           170.38,
           94.42,
           81.5,
           159.12,
           165.28,
           157.08,
           92.54
          ],
          [
           84.62,
           131.7,
           118.44,
           117.62,
           159.26,
           137.6,
           106.06
          ]
         ]
        }
       ],
       "layout": {
        "template": {
         "data": {
          "bar": [
           {
            "error_x": {
             "color": "#2a3f5f"
            },
            "error_y": {
             "color": "#2a3f5f"
            },
            "marker": {
             "line": {
              "color": "#E5ECF6",
              "width": 0.5
             },
             "pattern": {
              "fillmode": "overlay",
              "size": 10,
              "solidity": 0.2
             }
            },
            "type": "bar"
           }
          ],
          "barpolar": [
           {
            "marker": {
             "line": {
              "color": "#E5ECF6",
              "width": 0.5
             },
             "pattern": {
              "fillmode": "overlay",
              "size": 10,
              "solidity": 0.2
             }
            },
            "type": "barpolar"
           }
          ],
          "carpet": [
           {
            "aaxis": {
             "endlinecolor": "#2a3f5f",
             "gridcolor": "white",
             "linecolor": "white",
             "minorgridcolor": "white",
             "startlinecolor": "#2a3f5f"
            },
            "baxis": {
             "endlinecolor": "#2a3f5f",
             "gridcolor": "white",
             "linecolor": "white",
             "minorgridcolor": "white",
             "startlinecolor": "#2a3f5f"
            },
            "type": "carpet"
           }
          ],
          "choropleth": [
           {
            "colorbar": {
             "outlinewidth": 0,
             "ticks": ""
            },
            "type": "choropleth"
           }
          ],
          "contour": [
           {
            "colorbar": {
             "outlinewidth": 0,
             "ticks": ""
            },
            "colorscale": [
             [
              0,
              "#0d0887"
             ],
             [
              0.1111111111111111,
              "#46039f"
             ],
             [
              0.2222222222222222,
              "#7201a8"
             ],
             [
              0.3333333333333333,
              "#9c179e"
             ],
             [
              0.4444444444444444,
              "#bd3786"
             ],
             [
              0.5555555555555556,
              "#d8576b"
             ],
             [
              0.6666666666666666,
              "#ed7953"
             ],
             [
              0.7777777777777778,
              "#fb9f3a"
             ],
             [
              0.8888888888888888,
              "#fdca26"
             ],
             [
              1,
              "#f0f921"
             ]
            ],
            "type": "contour"
           }
          ],
          "contourcarpet": [
           {
            "colorbar": {
             "outlinewidth": 0,
             "ticks": ""
            },
            "type": "contourcarpet"
           }
          ],
          "heatmap": [
           {
            "colorbar": {
             "outlinewidth": 0,
             "ticks": ""
            },
            "colorscale": [
             [
              0,
              "#0d0887"
             ],
             [
              0.1111111111111111,
              "#46039f"
             ],
             [
              0.2222222222222222,
              "#7201a8"
             ],
             [
              0.3333333333333333,
              "#9c179e"
             ],
             [
              0.4444444444444444,
              "#bd3786"
             ],
             [
              0.5555555555555556,
              "#d8576b"
             ],
             [
              0.6666666666666666,
              "#ed7953"
             ],
             [
              0.7777777777777778,
              "#fb9f3a"
             ],
             [
              0.8888888888888888,
              "#fdca26"
             ],
             [
              1,
              "#f0f921"
             ]
            ],
            "type": "heatmap"
           }
          ],
          "heatmapgl": [
           {
            "colorbar": {
             "outlinewidth": 0,
             "ticks": ""
            },
            "colorscale": [
             [
              0,
              "#0d0887"
             ],
             [
              0.1111111111111111,
              "#46039f"
             ],
             [
              0.2222222222222222,
              "#7201a8"
             ],
             [
              0.3333333333333333,
              "#9c179e"
             ],
             [
              0.4444444444444444,
              "#bd3786"
             ],
             [
              0.5555555555555556,
              "#d8576b"
             ],
             [
              0.6666666666666666,
              "#ed7953"
             ],
             [
              0.7777777777777778,
              "#fb9f3a"
             ],
             [
              0.8888888888888888,
              "#fdca26"
             ],
             [
              1,
              "#f0f921"
             ]
            ],
            "type": "heatmapgl"
           }
          ],
          "histogram": [
           {
            "marker": {
             "pattern": {
              "fillmode": "overlay",
              "size": 10,
              "solidity": 0.2
             }
            },
            "type": "histogram"
           }
          ],
          "histogram2d": [
           {
            "colorbar": {
             "outlinewidth": 0,
             "ticks": ""
            },
            "colorscale": [
             [
              0,
              "#0d0887"
             ],
             [
              0.1111111111111111,
              "#46039f"
             ],
             [
              0.2222222222222222,
              "#7201a8"
             ],
             [
              0.3333333333333333,
              "#9c179e"
             ],
             [
              0.4444444444444444,
              "#bd3786"
             ],
             [
              0.5555555555555556,
              "#d8576b"
             ],
             [
              0.6666666666666666,
              "#ed7953"
             ],
             [
              0.7777777777777778,
              "#fb9f3a"
             ],
             [
              0.8888888888888888,
              "#fdca26"
             ],
             [
              1,
              "#f0f921"
             ]
            ],
            "type": "histogram2d"
           }
          ],
          "histogram2dcontour": [
           {
            "colorbar": {
             "outlinewidth": 0,
             "ticks": ""
            },
            "colorscale": [
             [
              0,
              "#0d0887"
             ],
             [
              0.1111111111111111,
              "#46039f"
             ],
             [
              0.2222222222222222,
              "#7201a8"
             ],
             [
              0.3333333333333333,
              "#9c179e"
             ],
             [
              0.4444444444444444,
              "#bd3786"
             ],
             [
              0.5555555555555556,
              "#d8576b"
             ],
             [
              0.6666666666666666,
              "#ed7953"
             ],
             [
              0.7777777777777778,
              "#fb9f3a"
             ],
             [
              0.8888888888888888,
              "#fdca26"
             ],
             [
              1,
              "#f0f921"
             ]
            ],
            "type": "histogram2dcontour"
           }
          ],
          "mesh3d": [
           {
            "colorbar": {
             "outlinewidth": 0,
             "ticks": ""
            },
            "type": "mesh3d"
           }
          ],
          "parcoords": [
           {
            "line": {
             "colorbar": {
              "outlinewidth": 0,
              "ticks": ""
             }
            },
            "type": "parcoords"
           }
          ],
          "pie": [
           {
            "automargin": true,
            "type": "pie"
           }
          ],
          "scatter": [
           {
            "marker": {
             "colorbar": {
              "outlinewidth": 0,
              "ticks": ""
             }
            },
            "type": "scatter"
           }
          ],
          "scatter3d": [
           {
            "line": {
             "colorbar": {
              "outlinewidth": 0,
              "ticks": ""
             }
            },
            "marker": {
             "colorbar": {
              "outlinewidth": 0,
              "ticks": ""
             }
            },
            "type": "scatter3d"
           }
          ],
          "scattercarpet": [
           {
            "marker": {
             "colorbar": {
              "outlinewidth": 0,
              "ticks": ""
             }
            },
            "type": "scattercarpet"
           }
          ],
          "scattergeo": [
           {
            "marker": {
             "colorbar": {
              "outlinewidth": 0,
              "ticks": ""
             }
            },
            "type": "scattergeo"
           }
          ],
          "scattergl": [
           {
            "marker": {
             "colorbar": {
              "outlinewidth": 0,
              "ticks": ""
             }
            },
            "type": "scattergl"
           }
          ],
          "scattermapbox": [
           {
            "marker": {
             "colorbar": {
              "outlinewidth": 0,
              "ticks": ""
             }
            },
            "type": "scattermapbox"
           }
          ],
          "scatterpolar": [
           {
            "marker": {
             "colorbar": {
              "outlinewidth": 0,
              "ticks": ""
             }
            },
            "type": "scatterpolar"
           }
          ],
          "scatterpolargl": [
           {
            "marker": {
             "colorbar": {
              "outlinewidth": 0,
              "ticks": ""
             }
            },
            "type": "scatterpolargl"
           }
          ],
          "scatterternary": [
           {
            "marker": {
             "colorbar": {
              "outlinewidth": 0,
              "ticks": ""
             }
            },
            "type": "scatterternary"
           }
          ],
          "surface": [
           {
            "colorbar": {
             "outlinewidth": 0,
             "ticks": ""
            },
            "colorscale": [
             [
              0,
              "#0d0887"
             ],
             [
              0.1111111111111111,
              "#46039f"
             ],
             [
              0.2222222222222222,
              "#7201a8"
             ],
             [
              0.3333333333333333,
              "#9c179e"
             ],
             [
              0.4444444444444444,
              "#bd3786"
             ],
             [
              0.5555555555555556,
              "#d8576b"
             ],
             [
              0.6666666666666666,
              "#ed7953"
             ],
             [
              0.7777777777777778,
              "#fb9f3a"
             ],
             [
              0.8888888888888888,
              "#fdca26"
             ],
             [
              1,
              "#f0f921"
             ]
            ],
            "type": "surface"
           }
          ],
          "table": [
           {
            "cells": {
             "fill": {
              "color": "#EBF0F8"
             },
             "line": {
              "color": "white"
             }
            },
            "header": {
             "fill": {
              "color": "#C8D4E3"
             },
             "line": {
              "color": "white"
             }
            },
            "type": "table"
           }
          ]
         },
         "layout": {
          "annotationdefaults": {
           "arrowcolor": "#2a3f5f",
           "arrowhead": 0,
           "arrowwidth": 1
          },
          "autotypenumbers": "strict",
          "coloraxis": {
           "colorbar": {
            "outlinewidth": 0,
            "ticks": ""
           }
          },
          "colorscale": {
           "diverging": [
            [
             0,
             "#8e0152"
            ],
            [
             0.1,
             "#c51b7d"
            ],
            [
             0.2,
             "#de77ae"
            ],
            [
             0.3,
             "#f1b6da"
            ],
            [
             0.4,
             "#fde0ef"
            ],
            [
             0.5,
             "#f7f7f7"
            ],
            [
             0.6,
             "#e6f5d0"
            ],
            [
             0.7,
             "#b8e186"
            ],
            [
             0.8,
             "#7fbc41"
            ],
            [
             0.9,
             "#4d9221"
            ],
            [
             1,
             "#276419"
            ]
           ],
           "sequential": [
            [
             0,
             "#0d0887"
            ],
            [
             0.1111111111111111,
             "#46039f"
            ],
            [
             0.2222222222222222,
             "#7201a8"
            ],
            [
             0.3333333333333333,
             "#9c179e"
            ],
            [
             0.4444444444444444,
             "#bd3786"
            ],
            [
             0.5555555555555556,
             "#d8576b"
            ],
            [
             0.6666666666666666,
             "#ed7953"
            ],
            [
             0.7777777777777778,
             "#fb9f3a"
            ],
            [
             0.8888888888888888,
             "#fdca26"
            ],
            [
             1,
             "#f0f921"
            ]
           ],
           "sequentialminus": [
            [
             0,
             "#0d0887"
            ],
            [
             0.1111111111111111,
             "#46039f"
            ],
            [
             0.2222222222222222,
             "#7201a8"
            ],
            [
             0.3333333333333333,
             "#9c179e"
            ],
            [
             0.4444444444444444,
             "#bd3786"
            ],
            [
             0.5555555555555556,
             "#d8576b"
            ],
            [
             0.6666666666666666,
             "#ed7953"
            ],
            [
             0.7777777777777778,
             "#fb9f3a"
            ],
            [
             0.8888888888888888,
             "#fdca26"
            ],
            [
             1,
             "#f0f921"
            ]
           ]
          },
          "colorway": [
           "#636efa",
           "#EF553B",
           "#00cc96",
           "#ab63fa",
           "#FFA15A",
           "#19d3f3",
           "#FF6692",
           "#B6E880",
           "#FF97FF",
           "#FECB52"
          ],
          "font": {
           "color": "#2a3f5f"
          },
          "geo": {
           "bgcolor": "white",
           "lakecolor": "white",
           "landcolor": "#E5ECF6",
           "showlakes": true,
           "showland": true,
           "subunitcolor": "white"
          },
          "hoverlabel": {
           "align": "left"
          },
          "hovermode": "closest",
          "mapbox": {
           "style": "light"
          },
          "paper_bgcolor": "white",
          "plot_bgcolor": "#E5ECF6",
          "polar": {
           "angularaxis": {
            "gridcolor": "white",
            "linecolor": "white",
            "ticks": ""
           },
           "bgcolor": "#E5ECF6",
           "radialaxis": {
            "gridcolor": "white",
            "linecolor": "white",
            "ticks": ""
           }
          },
          "scene": {
           "xaxis": {
            "backgroundcolor": "#E5ECF6",
            "gridcolor": "white",
            "gridwidth": 2,
            "linecolor": "white",
            "showbackground": true,
            "ticks": "",
            "zerolinecolor": "white"
           },
           "yaxis": {
            "backgroundcolor": "#E5ECF6",
            "gridcolor": "white",
            "gridwidth": 2,
            "linecolor": "white",
            "showbackground": true,
            "ticks": "",
            "zerolinecolor": "white"
           },
           "zaxis": {
            "backgroundcolor": "#E5ECF6",
            "gridcolor": "white",
            "gridwidth": 2,
            "linecolor": "white",
            "showbackground": true,
            "ticks": "",
            "zerolinecolor": "white"
           }
          },
          "shapedefaults": {
           "line": {
            "color": "#2a3f5f"
           }
          },
          "ternary": {
           "aaxis": {
            "gridcolor": "white",
            "linecolor": "white",
            "ticks": ""
           },
           "baxis": {
            "gridcolor": "white",
            "linecolor": "white",
            "ticks": ""
           },
           "bgcolor": "#E5ECF6",
           "caxis": {
            "gridcolor": "white",
            "linecolor": "white",
            "ticks": ""
           }
          },
          "title": {
           "x": 0.05
          },
          "xaxis": {
           "automargin": true,
           "gridcolor": "white",
           "linecolor": "white",
           "ticks": "",
           "title": {
            "standoff": 15
           },
           "zerolinecolor": "white",
           "zerolinewidth": 2
          },
          "yaxis": {
           "automargin": true,
           "gridcolor": "white",
           "linecolor": "white",
           "ticks": "",
           "title": {
            "standoff": 15
           },
           "zerolinecolor": "white",
           "zerolinewidth": 2
          }
         }
        },
        "title": {
         "text": "Points Scored By Week",
         "x": 0.5,
         "xanchor": "center",
         "y": 0.9,
         "yanchor": "top"
        }
       }
      }
     },
     "metadata": {},
     "output_type": "display_data"
    }
   ],
   "source": [
    "weekly_scores = [stats[team][1] for team in stats.keys()]\n",
    "\n",
    "red_mid_blue_scale = [[0.0, \"rgb(165,0,38)\"],\n",
    "             [0.1111111111111111, \"rgb(215,48,39)\"],\n",
    "             [0.2222222222222222, \"rgb(244,109,67)\"],\n",
    "             [0.3333333333333333, \"rgb(253,174,97)\"],\n",
    "             [0.4444444444444444, \"rgb(254,224,144)\"],\n",
    "             [0.5555555555555556, \"rgb(224,243,248)\"],\n",
    "             [0.6666666666666666, \"rgb(171,217,233)\"],\n",
    "             [0.7777777777777778, \"rgb(116,173,209)\"],\n",
    "             [0.8888888888888888, \"rgb(69,117,180)\"],\n",
    "             [1.0, \"rgb(49,54,149)\"]]\n",
    "\n",
    "fig  = go.Figure(data = go.Heatmap(\n",
    "                            z = weekly_scores,\n",
    "                            y = list(NAME_PAIRINGS.values()),\n",
    "                            x = [f\"Week {week}\" for week in range(1, CURRENT_WEEK+1)],\n",
    "                            colorscale= red_mid_blue_scale,\n",
    "                            colorbar = dict(title= \"Points Scored\"),\n",
    "                            )\n",
    "                )\n",
    "\n",
    "fig.update_layout(\n",
    "    title={\n",
    "        'text': \"Points Scored By Week\",\n",
    "        'y':0.9,\n",
    "        'x':0.5,\n",
    "        'xanchor': 'center',\n",
    "        'yanchor': 'top'})\n",
    "\n",
    "fig.show()"
   ]
  },
  {
   "cell_type": "code",
   "execution_count": 8,
   "metadata": {},
   "outputs": [
    {
     "data": {
      "application/vnd.plotly.v1+json": {
       "config": {
        "plotlyServerURL": "https://plot.ly"
       },
       "data": [
        {
         "colorbar": {
          "title": {
           "text": "Rank"
          }
         },
         "colorscale": [
          [
           0,
           "rgb(84,48,5)"
          ],
          [
           0.1,
           "rgb(140,81,10)"
          ],
          [
           0.2,
           "rgb(191,129,45)"
          ],
          [
           0.3,
           "rgb(223,194,125)"
          ],
          [
           0.4,
           "rgb(246,232,195)"
          ],
          [
           0.5,
           "rgb(245,245,245)"
          ],
          [
           0.6,
           "rgb(199,234,229)"
          ],
          [
           0.7,
           "rgb(128,205,193)"
          ],
          [
           0.8,
           "rgb(53,151,143)"
          ],
          [
           0.9,
           "rgb(1,102,94)"
          ],
          [
           1,
           "rgb(0,60,48)"
          ]
         ],
         "type": "heatmap",
         "x": [
          "Week 1",
          "Week 2",
          "Week 3",
          "Week 4",
          "Week 5",
          "Week 6",
          "Week 7"
         ],
         "y": [
          "My Goat Loves You",
          "RB sanctuary",
          "The Brutherhood",
          "Tree Leaves",
          "the noés",
          "AssNTitties",
          "billcap",
          "Thicc King",
          "tealeaves",
          "SideThicc #2"
         ],
         "z": [
          [
           1,
           6,
           8,
           9,
           9,
           4,
           4
          ],
          [
           7,
           9,
           9,
           3,
           10,
           10,
           7
          ],
          [
           6,
           5,
           7,
           10,
           1,
           6,
           8
          ],
          [
           10,
           3,
           2,
           4,
           4,
           9,
           2
          ],
          [
           8,
           7,
           3,
           5,
           8,
           8,
           6
          ],
          [
           5,
           1,
           1,
           2,
           7,
           3,
           3
          ],
          [
           4,
           8,
           6,
           6,
           5,
           7,
           1
          ],
          [
           3,
           2,
           4,
           8,
           6,
           1,
           5
          ],
          [
           2,
           10,
           10,
           1,
           2,
           2,
           10
          ],
          [
           9,
           4,
           5,
           7,
           3,
           5,
           9
          ]
         ]
        }
       ],
       "layout": {
        "template": {
         "data": {
          "bar": [
           {
            "error_x": {
             "color": "#2a3f5f"
            },
            "error_y": {
             "color": "#2a3f5f"
            },
            "marker": {
             "line": {
              "color": "#E5ECF6",
              "width": 0.5
             },
             "pattern": {
              "fillmode": "overlay",
              "size": 10,
              "solidity": 0.2
             }
            },
            "type": "bar"
           }
          ],
          "barpolar": [
           {
            "marker": {
             "line": {
              "color": "#E5ECF6",
              "width": 0.5
             },
             "pattern": {
              "fillmode": "overlay",
              "size": 10,
              "solidity": 0.2
             }
            },
            "type": "barpolar"
           }
          ],
          "carpet": [
           {
            "aaxis": {
             "endlinecolor": "#2a3f5f",
             "gridcolor": "white",
             "linecolor": "white",
             "minorgridcolor": "white",
             "startlinecolor": "#2a3f5f"
            },
            "baxis": {
             "endlinecolor": "#2a3f5f",
             "gridcolor": "white",
             "linecolor": "white",
             "minorgridcolor": "white",
             "startlinecolor": "#2a3f5f"
            },
            "type": "carpet"
           }
          ],
          "choropleth": [
           {
            "colorbar": {
             "outlinewidth": 0,
             "ticks": ""
            },
            "type": "choropleth"
           }
          ],
          "contour": [
           {
            "colorbar": {
             "outlinewidth": 0,
             "ticks": ""
            },
            "colorscale": [
             [
              0,
              "#0d0887"
             ],
             [
              0.1111111111111111,
              "#46039f"
             ],
             [
              0.2222222222222222,
              "#7201a8"
             ],
             [
              0.3333333333333333,
              "#9c179e"
             ],
             [
              0.4444444444444444,
              "#bd3786"
             ],
             [
              0.5555555555555556,
              "#d8576b"
             ],
             [
              0.6666666666666666,
              "#ed7953"
             ],
             [
              0.7777777777777778,
              "#fb9f3a"
             ],
             [
              0.8888888888888888,
              "#fdca26"
             ],
             [
              1,
              "#f0f921"
             ]
            ],
            "type": "contour"
           }
          ],
          "contourcarpet": [
           {
            "colorbar": {
             "outlinewidth": 0,
             "ticks": ""
            },
            "type": "contourcarpet"
           }
          ],
          "heatmap": [
           {
            "colorbar": {
             "outlinewidth": 0,
             "ticks": ""
            },
            "colorscale": [
             [
              0,
              "#0d0887"
             ],
             [
              0.1111111111111111,
              "#46039f"
             ],
             [
              0.2222222222222222,
              "#7201a8"
             ],
             [
              0.3333333333333333,
              "#9c179e"
             ],
             [
              0.4444444444444444,
              "#bd3786"
             ],
             [
              0.5555555555555556,
              "#d8576b"
             ],
             [
              0.6666666666666666,
              "#ed7953"
             ],
             [
              0.7777777777777778,
              "#fb9f3a"
             ],
             [
              0.8888888888888888,
              "#fdca26"
             ],
             [
              1,
              "#f0f921"
             ]
            ],
            "type": "heatmap"
           }
          ],
          "heatmapgl": [
           {
            "colorbar": {
             "outlinewidth": 0,
             "ticks": ""
            },
            "colorscale": [
             [
              0,
              "#0d0887"
             ],
             [
              0.1111111111111111,
              "#46039f"
             ],
             [
              0.2222222222222222,
              "#7201a8"
             ],
             [
              0.3333333333333333,
              "#9c179e"
             ],
             [
              0.4444444444444444,
              "#bd3786"
             ],
             [
              0.5555555555555556,
              "#d8576b"
             ],
             [
              0.6666666666666666,
              "#ed7953"
             ],
             [
              0.7777777777777778,
              "#fb9f3a"
             ],
             [
              0.8888888888888888,
              "#fdca26"
             ],
             [
              1,
              "#f0f921"
             ]
            ],
            "type": "heatmapgl"
           }
          ],
          "histogram": [
           {
            "marker": {
             "pattern": {
              "fillmode": "overlay",
              "size": 10,
              "solidity": 0.2
             }
            },
            "type": "histogram"
           }
          ],
          "histogram2d": [
           {
            "colorbar": {
             "outlinewidth": 0,
             "ticks": ""
            },
            "colorscale": [
             [
              0,
              "#0d0887"
             ],
             [
              0.1111111111111111,
              "#46039f"
             ],
             [
              0.2222222222222222,
              "#7201a8"
             ],
             [
              0.3333333333333333,
              "#9c179e"
             ],
             [
              0.4444444444444444,
              "#bd3786"
             ],
             [
              0.5555555555555556,
              "#d8576b"
             ],
             [
              0.6666666666666666,
              "#ed7953"
             ],
             [
              0.7777777777777778,
              "#fb9f3a"
             ],
             [
              0.8888888888888888,
              "#fdca26"
             ],
             [
              1,
              "#f0f921"
             ]
            ],
            "type": "histogram2d"
           }
          ],
          "histogram2dcontour": [
           {
            "colorbar": {
             "outlinewidth": 0,
             "ticks": ""
            },
            "colorscale": [
             [
              0,
              "#0d0887"
             ],
             [
              0.1111111111111111,
              "#46039f"
             ],
             [
              0.2222222222222222,
              "#7201a8"
             ],
             [
              0.3333333333333333,
              "#9c179e"
             ],
             [
              0.4444444444444444,
              "#bd3786"
             ],
             [
              0.5555555555555556,
              "#d8576b"
             ],
             [
              0.6666666666666666,
              "#ed7953"
             ],
             [
              0.7777777777777778,
              "#fb9f3a"
             ],
             [
              0.8888888888888888,
              "#fdca26"
             ],
             [
              1,
              "#f0f921"
             ]
            ],
            "type": "histogram2dcontour"
           }
          ],
          "mesh3d": [
           {
            "colorbar": {
             "outlinewidth": 0,
             "ticks": ""
            },
            "type": "mesh3d"
           }
          ],
          "parcoords": [
           {
            "line": {
             "colorbar": {
              "outlinewidth": 0,
              "ticks": ""
             }
            },
            "type": "parcoords"
           }
          ],
          "pie": [
           {
            "automargin": true,
            "type": "pie"
           }
          ],
          "scatter": [
           {
            "marker": {
             "colorbar": {
              "outlinewidth": 0,
              "ticks": ""
             }
            },
            "type": "scatter"
           }
          ],
          "scatter3d": [
           {
            "line": {
             "colorbar": {
              "outlinewidth": 0,
              "ticks": ""
             }
            },
            "marker": {
             "colorbar": {
              "outlinewidth": 0,
              "ticks": ""
             }
            },
            "type": "scatter3d"
           }
          ],
          "scattercarpet": [
           {
            "marker": {
             "colorbar": {
              "outlinewidth": 0,
              "ticks": ""
             }
            },
            "type": "scattercarpet"
           }
          ],
          "scattergeo": [
           {
            "marker": {
             "colorbar": {
              "outlinewidth": 0,
              "ticks": ""
             }
            },
            "type": "scattergeo"
           }
          ],
          "scattergl": [
           {
            "marker": {
             "colorbar": {
              "outlinewidth": 0,
              "ticks": ""
             }
            },
            "type": "scattergl"
           }
          ],
          "scattermapbox": [
           {
            "marker": {
             "colorbar": {
              "outlinewidth": 0,
              "ticks": ""
             }
            },
            "type": "scattermapbox"
           }
          ],
          "scatterpolar": [
           {
            "marker": {
             "colorbar": {
              "outlinewidth": 0,
              "ticks": ""
             }
            },
            "type": "scatterpolar"
           }
          ],
          "scatterpolargl": [
           {
            "marker": {
             "colorbar": {
              "outlinewidth": 0,
              "ticks": ""
             }
            },
            "type": "scatterpolargl"
           }
          ],
          "scatterternary": [
           {
            "marker": {
             "colorbar": {
              "outlinewidth": 0,
              "ticks": ""
             }
            },
            "type": "scatterternary"
           }
          ],
          "surface": [
           {
            "colorbar": {
             "outlinewidth": 0,
             "ticks": ""
            },
            "colorscale": [
             [
              0,
              "#0d0887"
             ],
             [
              0.1111111111111111,
              "#46039f"
             ],
             [
              0.2222222222222222,
              "#7201a8"
             ],
             [
              0.3333333333333333,
              "#9c179e"
             ],
             [
              0.4444444444444444,
              "#bd3786"
             ],
             [
              0.5555555555555556,
              "#d8576b"
             ],
             [
              0.6666666666666666,
              "#ed7953"
             ],
             [
              0.7777777777777778,
              "#fb9f3a"
             ],
             [
              0.8888888888888888,
              "#fdca26"
             ],
             [
              1,
              "#f0f921"
             ]
            ],
            "type": "surface"
           }
          ],
          "table": [
           {
            "cells": {
             "fill": {
              "color": "#EBF0F8"
             },
             "line": {
              "color": "white"
             }
            },
            "header": {
             "fill": {
              "color": "#C8D4E3"
             },
             "line": {
              "color": "white"
             }
            },
            "type": "table"
           }
          ]
         },
         "layout": {
          "annotationdefaults": {
           "arrowcolor": "#2a3f5f",
           "arrowhead": 0,
           "arrowwidth": 1
          },
          "autotypenumbers": "strict",
          "coloraxis": {
           "colorbar": {
            "outlinewidth": 0,
            "ticks": ""
           }
          },
          "colorscale": {
           "diverging": [
            [
             0,
             "#8e0152"
            ],
            [
             0.1,
             "#c51b7d"
            ],
            [
             0.2,
             "#de77ae"
            ],
            [
             0.3,
             "#f1b6da"
            ],
            [
             0.4,
             "#fde0ef"
            ],
            [
             0.5,
             "#f7f7f7"
            ],
            [
             0.6,
             "#e6f5d0"
            ],
            [
             0.7,
             "#b8e186"
            ],
            [
             0.8,
             "#7fbc41"
            ],
            [
             0.9,
             "#4d9221"
            ],
            [
             1,
             "#276419"
            ]
           ],
           "sequential": [
            [
             0,
             "#0d0887"
            ],
            [
             0.1111111111111111,
             "#46039f"
            ],
            [
             0.2222222222222222,
             "#7201a8"
            ],
            [
             0.3333333333333333,
             "#9c179e"
            ],
            [
             0.4444444444444444,
             "#bd3786"
            ],
            [
             0.5555555555555556,
             "#d8576b"
            ],
            [
             0.6666666666666666,
             "#ed7953"
            ],
            [
             0.7777777777777778,
             "#fb9f3a"
            ],
            [
             0.8888888888888888,
             "#fdca26"
            ],
            [
             1,
             "#f0f921"
            ]
           ],
           "sequentialminus": [
            [
             0,
             "#0d0887"
            ],
            [
             0.1111111111111111,
             "#46039f"
            ],
            [
             0.2222222222222222,
             "#7201a8"
            ],
            [
             0.3333333333333333,
             "#9c179e"
            ],
            [
             0.4444444444444444,
             "#bd3786"
            ],
            [
             0.5555555555555556,
             "#d8576b"
            ],
            [
             0.6666666666666666,
             "#ed7953"
            ],
            [
             0.7777777777777778,
             "#fb9f3a"
            ],
            [
             0.8888888888888888,
             "#fdca26"
            ],
            [
             1,
             "#f0f921"
            ]
           ]
          },
          "colorway": [
           "#636efa",
           "#EF553B",
           "#00cc96",
           "#ab63fa",
           "#FFA15A",
           "#19d3f3",
           "#FF6692",
           "#B6E880",
           "#FF97FF",
           "#FECB52"
          ],
          "font": {
           "color": "#2a3f5f"
          },
          "geo": {
           "bgcolor": "white",
           "lakecolor": "white",
           "landcolor": "#E5ECF6",
           "showlakes": true,
           "showland": true,
           "subunitcolor": "white"
          },
          "hoverlabel": {
           "align": "left"
          },
          "hovermode": "closest",
          "mapbox": {
           "style": "light"
          },
          "paper_bgcolor": "white",
          "plot_bgcolor": "#E5ECF6",
          "polar": {
           "angularaxis": {
            "gridcolor": "white",
            "linecolor": "white",
            "ticks": ""
           },
           "bgcolor": "#E5ECF6",
           "radialaxis": {
            "gridcolor": "white",
            "linecolor": "white",
            "ticks": ""
           }
          },
          "scene": {
           "xaxis": {
            "backgroundcolor": "#E5ECF6",
            "gridcolor": "white",
            "gridwidth": 2,
            "linecolor": "white",
            "showbackground": true,
            "ticks": "",
            "zerolinecolor": "white"
           },
           "yaxis": {
            "backgroundcolor": "#E5ECF6",
            "gridcolor": "white",
            "gridwidth": 2,
            "linecolor": "white",
            "showbackground": true,
            "ticks": "",
            "zerolinecolor": "white"
           },
           "zaxis": {
            "backgroundcolor": "#E5ECF6",
            "gridcolor": "white",
            "gridwidth": 2,
            "linecolor": "white",
            "showbackground": true,
            "ticks": "",
            "zerolinecolor": "white"
           }
          },
          "shapedefaults": {
           "line": {
            "color": "#2a3f5f"
           }
          },
          "ternary": {
           "aaxis": {
            "gridcolor": "white",
            "linecolor": "white",
            "ticks": ""
           },
           "baxis": {
            "gridcolor": "white",
            "linecolor": "white",
            "ticks": ""
           },
           "bgcolor": "#E5ECF6",
           "caxis": {
            "gridcolor": "white",
            "linecolor": "white",
            "ticks": ""
           }
          },
          "title": {
           "x": 0.05
          },
          "xaxis": {
           "automargin": true,
           "gridcolor": "white",
           "linecolor": "white",
           "ticks": "",
           "title": {
            "standoff": 15
           },
           "zerolinecolor": "white",
           "zerolinewidth": 2
          },
          "yaxis": {
           "automargin": true,
           "gridcolor": "white",
           "linecolor": "white",
           "ticks": "",
           "title": {
            "standoff": 15
           },
           "zerolinecolor": "white",
           "zerolinewidth": 2
          }
         }
        },
        "title": {
         "text": "Scoring Rankings by Week",
         "x": 0.5,
         "xanchor": "center",
         "y": 0.9,
         "yanchor": "top"
        }
       }
      }
     },
     "metadata": {},
     "output_type": "display_data"
    }
   ],
   "source": [
    "weekly_rank = [[] for i in range(len(NAME_PAIRINGS.keys()))]\n",
    "\n",
    "for idx in range(CURRENT_WEEK):\n",
    "    scores = [team_score[idx] for team_score in weekly_scores]\n",
    "    ranks = [sorted(scores, reverse=True).index(score)+1 for score in scores]\n",
    "    for i in range(len(weekly_rank)):\n",
    "        weekly_rank[i].append(ranks[i])\n",
    "        \n",
    "fig  = go.Figure(data = go.Heatmap(\n",
    "                            z = weekly_rank,\n",
    "                            y = list(NAME_PAIRINGS.values()),\n",
    "                            x = [f\"Week {week}\" for week in range(1, CURRENT_WEEK+1)],\n",
    "                            colorscale= px.colors.diverging.BrBG,\n",
    "                            colorbar = dict(title= \"Rank\"),\n",
    "                            )\n",
    "                )\n",
    "\n",
    "fig.update_layout(\n",
    "    title={\n",
    "        'text': \"Scoring Rankings by Week\",\n",
    "        'y':0.9,\n",
    "        'x':0.5,\n",
    "        'xanchor': 'center',\n",
    "        'yanchor': 'top'})\n",
    "\n",
    "fig.show()"
   ]
  },
  {
   "cell_type": "markdown",
   "metadata": {},
   "source": [
    "## Point Scoring Rankings\n",
    "\n",
    "The key discussion that spawned this analysis was with regards to the points for statistic. Because it can be skewed by high scoring weeks that only count for one win. The coming series of analyses drill down into additional point statistics and take a look at how these differ from the monolithic points for stat. First I am going to compare the points per game stat (mean points scored in a week) with the median points scored in a week. This should better insulate the statistic from high point fluctuations and give a more stable indicator of performance on a week to week basis.\n",
    "\n",
    "Generally speaking, we see higher mean scores than median scores, which makes sense considering that our scores tend to skew off to the right (many scores are between 90-120, less are between 140-180). Stian is a special case, with a median score higher than his average score. Looking again at the heatmap above, notice he has been either the highest or second highest scorer or he has been the lowest scorer in the week. These low scores actually hold his average score down as compared to someone like Tegran, who has scored super high once and been under the median most of the time. \n",
    "\n",
    "Stian's boom or bust cycle also led me towards another statistic, which I will refer to as the blowout index. This is inspired by the Mean Squeared Error statistic from regression analyses. I am interested in the degree to which a team has close games vs. blowout games, since it seems like basically all of Stian's games are him winning by a ton or losing by a ton. To calculate this stat, I square the margin of victory/defeat (this increases the effect size of huge victories or losses), and then sum the results. This statistic is then divided by the number of weeks and results in the mean squared game margin for a specific team. After the median and mean score analyses, you can find a bar chart for each team showing the weekly margin of victory and then an aggregated chart showing this mean squared game margin (Blowout Index) statistic. Hint hint - Stian is basically off the charts."
   ]
  },
  {
   "cell_type": "code",
   "execution_count": 9,
   "metadata": {},
   "outputs": [
    {
     "name": "stdout",
     "output_type": "stream",
     "text": [
      "Medians\n",
      "1. tealeaves: 157.08 pts\n",
      "2. AssNTitties: 140.84 pts\n",
      "3. Tree Leaves: 131.82 pts\n",
      "4. Thicc King: 128.18 pts\n",
      "5. My Goat Loves You: 127.6 pts\n",
      "6. billcap: 126.5 pts\n",
      "7. the noés: 120.32 pts\n",
      "8. SideThicc #2: 118.44 pts\n",
      "9. The Brutherhood: 116.1 pts\n",
      "10. RB sanctuary: 110.04 pts\n",
      "\n",
      " Means\n",
      "1. AssNTitties: 142.19 pts\n",
      "2. Thicc King: 133.19 pts\n",
      "3. tealeaves: 131.47 pts\n",
      "4. My Goat Loves You: 129.81 pts\n",
      "5. Tree Leaves: 129.03 pts\n",
      "6. billcap: 126.55 pts\n",
      "7. The Brutherhood: 126.23 pts\n",
      "8. SideThicc #2: 122.19 pts\n",
      "9. the noés: 121.3 pts\n",
      "10. RB sanctuary: 104.61 pts\n",
      "\n",
      " Mean Squared Victory Margin\n",
      "1. tealeaves: 3442.5\n",
      "2. RB sanctuary: 1884.35\n",
      "3. Tree Leaves: 1545.21\n",
      "4. My Goat Loves You: 1338.06\n",
      "5. billcap: 1008.85\n",
      "6. SideThicc #2: 709.58\n",
      "7. AssNTitties: 591.15\n",
      "8. The Brutherhood: 549.55\n",
      "9. Thicc King: 325.6\n",
      "10. the noés: 186.96\n"
     ]
    }
   ],
   "source": [
    "# weekly scores\n",
    "\n",
    "interested_in = STATS_FIELDS.index(\"Median Points Scored\")\n",
    "weekly_medians = {}\n",
    "for team in stats:\n",
    "    weekly_medians[stats[team][interested_in]] = NAME_PAIRINGS[team]\n",
    "\n",
    "print(\"Medians\")\n",
    "for num, score in enumerate(sorted(weekly_medians.keys(), reverse=True)):\n",
    "    print(f\"{num+1}. {weekly_medians[score]}: {score} pts\")\n",
    "\n",
    "interested_in = STATS_FIELDS.index(\"Points per Game\")\n",
    "weekly_means = {}\n",
    "for team in stats:\n",
    "    weekly_means[stats[team][interested_in]] = NAME_PAIRINGS[team]\n",
    "\n",
    "print(\"\\n Means\")\n",
    "for num, score in enumerate(sorted(weekly_means.keys(), reverse=True)):\n",
    "    print(f\"{num+1}. {weekly_means[score]}: {score} pts\")\n",
    "    \n",
    "interested_in = STATS_FIELDS.index(\"Blowout Index\")\n",
    "blowout_idx = {}\n",
    "for team in stats:\n",
    "    blowout_idx[stats[team][interested_in]] = NAME_PAIRINGS[team]\n",
    "\n",
    "print(\"\\n Mean Squared Victory Margin\")\n",
    "for num, score in enumerate(sorted(blowout_idx.keys(), reverse=True)):\n",
    "    print(f\"{num+1}. {blowout_idx[score]}: {score}\")"
   ]
  },
  {
   "cell_type": "code",
   "execution_count": 10,
   "metadata": {},
   "outputs": [
    {
     "data": {
      "application/vnd.plotly.v1+json": {
       "config": {
        "plotlyServerURL": "https://plot.ly"
       },
       "data": [
        {
         "marker": {
          "color": [
           129.81,
           104.61,
           126.23,
           129.03,
           121.3,
           142.19,
           126.55,
           133.19,
           131.47,
           122.19
          ],
          "coloraxis": "coloraxis"
         },
         "type": "bar",
         "x": [
          "My Goat Loves You",
          "RB sanctuary",
          "The Brutherhood",
          "Tree Leaves",
          "the noés",
          "AssNTitties",
          "billcap",
          "Thicc King",
          "tealeaves",
          "SideThicc #2"
         ],
         "y": [
          129.81,
          104.61,
          126.23,
          129.03,
          121.3,
          142.19,
          126.55,
          133.19,
          131.47,
          122.19
         ]
        }
       ],
       "layout": {
        "coloraxis": {
         "colorscale": [
          [
           0,
           "rgb(165,0,38)"
          ],
          [
           0.1,
           "rgb(215,48,39)"
          ],
          [
           0.2,
           "rgb(244,109,67)"
          ],
          [
           0.3,
           "rgb(253,174,97)"
          ],
          [
           0.4,
           "rgb(254,224,139)"
          ],
          [
           0.5,
           "rgb(255,255,191)"
          ],
          [
           0.6,
           "rgb(217,239,139)"
          ],
          [
           0.7,
           "rgb(166,217,106)"
          ],
          [
           0.8,
           "rgb(102,189,99)"
          ],
          [
           0.9,
           "rgb(26,152,80)"
          ],
          [
           1,
           "rgb(0,104,55)"
          ]
         ]
        },
        "showlegend": false,
        "template": {
         "data": {
          "bar": [
           {
            "error_x": {
             "color": "#2a3f5f"
            },
            "error_y": {
             "color": "#2a3f5f"
            },
            "marker": {
             "line": {
              "color": "#E5ECF6",
              "width": 0.5
             },
             "pattern": {
              "fillmode": "overlay",
              "size": 10,
              "solidity": 0.2
             }
            },
            "type": "bar"
           }
          ],
          "barpolar": [
           {
            "marker": {
             "line": {
              "color": "#E5ECF6",
              "width": 0.5
             },
             "pattern": {
              "fillmode": "overlay",
              "size": 10,
              "solidity": 0.2
             }
            },
            "type": "barpolar"
           }
          ],
          "carpet": [
           {
            "aaxis": {
             "endlinecolor": "#2a3f5f",
             "gridcolor": "white",
             "linecolor": "white",
             "minorgridcolor": "white",
             "startlinecolor": "#2a3f5f"
            },
            "baxis": {
             "endlinecolor": "#2a3f5f",
             "gridcolor": "white",
             "linecolor": "white",
             "minorgridcolor": "white",
             "startlinecolor": "#2a3f5f"
            },
            "type": "carpet"
           }
          ],
          "choropleth": [
           {
            "colorbar": {
             "outlinewidth": 0,
             "ticks": ""
            },
            "type": "choropleth"
           }
          ],
          "contour": [
           {
            "colorbar": {
             "outlinewidth": 0,
             "ticks": ""
            },
            "colorscale": [
             [
              0,
              "#0d0887"
             ],
             [
              0.1111111111111111,
              "#46039f"
             ],
             [
              0.2222222222222222,
              "#7201a8"
             ],
             [
              0.3333333333333333,
              "#9c179e"
             ],
             [
              0.4444444444444444,
              "#bd3786"
             ],
             [
              0.5555555555555556,
              "#d8576b"
             ],
             [
              0.6666666666666666,
              "#ed7953"
             ],
             [
              0.7777777777777778,
              "#fb9f3a"
             ],
             [
              0.8888888888888888,
              "#fdca26"
             ],
             [
              1,
              "#f0f921"
             ]
            ],
            "type": "contour"
           }
          ],
          "contourcarpet": [
           {
            "colorbar": {
             "outlinewidth": 0,
             "ticks": ""
            },
            "type": "contourcarpet"
           }
          ],
          "heatmap": [
           {
            "colorbar": {
             "outlinewidth": 0,
             "ticks": ""
            },
            "colorscale": [
             [
              0,
              "#0d0887"
             ],
             [
              0.1111111111111111,
              "#46039f"
             ],
             [
              0.2222222222222222,
              "#7201a8"
             ],
             [
              0.3333333333333333,
              "#9c179e"
             ],
             [
              0.4444444444444444,
              "#bd3786"
             ],
             [
              0.5555555555555556,
              "#d8576b"
             ],
             [
              0.6666666666666666,
              "#ed7953"
             ],
             [
              0.7777777777777778,
              "#fb9f3a"
             ],
             [
              0.8888888888888888,
              "#fdca26"
             ],
             [
              1,
              "#f0f921"
             ]
            ],
            "type": "heatmap"
           }
          ],
          "heatmapgl": [
           {
            "colorbar": {
             "outlinewidth": 0,
             "ticks": ""
            },
            "colorscale": [
             [
              0,
              "#0d0887"
             ],
             [
              0.1111111111111111,
              "#46039f"
             ],
             [
              0.2222222222222222,
              "#7201a8"
             ],
             [
              0.3333333333333333,
              "#9c179e"
             ],
             [
              0.4444444444444444,
              "#bd3786"
             ],
             [
              0.5555555555555556,
              "#d8576b"
             ],
             [
              0.6666666666666666,
              "#ed7953"
             ],
             [
              0.7777777777777778,
              "#fb9f3a"
             ],
             [
              0.8888888888888888,
              "#fdca26"
             ],
             [
              1,
              "#f0f921"
             ]
            ],
            "type": "heatmapgl"
           }
          ],
          "histogram": [
           {
            "marker": {
             "pattern": {
              "fillmode": "overlay",
              "size": 10,
              "solidity": 0.2
             }
            },
            "type": "histogram"
           }
          ],
          "histogram2d": [
           {
            "colorbar": {
             "outlinewidth": 0,
             "ticks": ""
            },
            "colorscale": [
             [
              0,
              "#0d0887"
             ],
             [
              0.1111111111111111,
              "#46039f"
             ],
             [
              0.2222222222222222,
              "#7201a8"
             ],
             [
              0.3333333333333333,
              "#9c179e"
             ],
             [
              0.4444444444444444,
              "#bd3786"
             ],
             [
              0.5555555555555556,
              "#d8576b"
             ],
             [
              0.6666666666666666,
              "#ed7953"
             ],
             [
              0.7777777777777778,
              "#fb9f3a"
             ],
             [
              0.8888888888888888,
              "#fdca26"
             ],
             [
              1,
              "#f0f921"
             ]
            ],
            "type": "histogram2d"
           }
          ],
          "histogram2dcontour": [
           {
            "colorbar": {
             "outlinewidth": 0,
             "ticks": ""
            },
            "colorscale": [
             [
              0,
              "#0d0887"
             ],
             [
              0.1111111111111111,
              "#46039f"
             ],
             [
              0.2222222222222222,
              "#7201a8"
             ],
             [
              0.3333333333333333,
              "#9c179e"
             ],
             [
              0.4444444444444444,
              "#bd3786"
             ],
             [
              0.5555555555555556,
              "#d8576b"
             ],
             [
              0.6666666666666666,
              "#ed7953"
             ],
             [
              0.7777777777777778,
              "#fb9f3a"
             ],
             [
              0.8888888888888888,
              "#fdca26"
             ],
             [
              1,
              "#f0f921"
             ]
            ],
            "type": "histogram2dcontour"
           }
          ],
          "mesh3d": [
           {
            "colorbar": {
             "outlinewidth": 0,
             "ticks": ""
            },
            "type": "mesh3d"
           }
          ],
          "parcoords": [
           {
            "line": {
             "colorbar": {
              "outlinewidth": 0,
              "ticks": ""
             }
            },
            "type": "parcoords"
           }
          ],
          "pie": [
           {
            "automargin": true,
            "type": "pie"
           }
          ],
          "scatter": [
           {
            "marker": {
             "colorbar": {
              "outlinewidth": 0,
              "ticks": ""
             }
            },
            "type": "scatter"
           }
          ],
          "scatter3d": [
           {
            "line": {
             "colorbar": {
              "outlinewidth": 0,
              "ticks": ""
             }
            },
            "marker": {
             "colorbar": {
              "outlinewidth": 0,
              "ticks": ""
             }
            },
            "type": "scatter3d"
           }
          ],
          "scattercarpet": [
           {
            "marker": {
             "colorbar": {
              "outlinewidth": 0,
              "ticks": ""
             }
            },
            "type": "scattercarpet"
           }
          ],
          "scattergeo": [
           {
            "marker": {
             "colorbar": {
              "outlinewidth": 0,
              "ticks": ""
             }
            },
            "type": "scattergeo"
           }
          ],
          "scattergl": [
           {
            "marker": {
             "colorbar": {
              "outlinewidth": 0,
              "ticks": ""
             }
            },
            "type": "scattergl"
           }
          ],
          "scattermapbox": [
           {
            "marker": {
             "colorbar": {
              "outlinewidth": 0,
              "ticks": ""
             }
            },
            "type": "scattermapbox"
           }
          ],
          "scatterpolar": [
           {
            "marker": {
             "colorbar": {
              "outlinewidth": 0,
              "ticks": ""
             }
            },
            "type": "scatterpolar"
           }
          ],
          "scatterpolargl": [
           {
            "marker": {
             "colorbar": {
              "outlinewidth": 0,
              "ticks": ""
             }
            },
            "type": "scatterpolargl"
           }
          ],
          "scatterternary": [
           {
            "marker": {
             "colorbar": {
              "outlinewidth": 0,
              "ticks": ""
             }
            },
            "type": "scatterternary"
           }
          ],
          "surface": [
           {
            "colorbar": {
             "outlinewidth": 0,
             "ticks": ""
            },
            "colorscale": [
             [
              0,
              "#0d0887"
             ],
             [
              0.1111111111111111,
              "#46039f"
             ],
             [
              0.2222222222222222,
              "#7201a8"
             ],
             [
              0.3333333333333333,
              "#9c179e"
             ],
             [
              0.4444444444444444,
              "#bd3786"
             ],
             [
              0.5555555555555556,
              "#d8576b"
             ],
             [
              0.6666666666666666,
              "#ed7953"
             ],
             [
              0.7777777777777778,
              "#fb9f3a"
             ],
             [
              0.8888888888888888,
              "#fdca26"
             ],
             [
              1,
              "#f0f921"
             ]
            ],
            "type": "surface"
           }
          ],
          "table": [
           {
            "cells": {
             "fill": {
              "color": "#EBF0F8"
             },
             "line": {
              "color": "white"
             }
            },
            "header": {
             "fill": {
              "color": "#C8D4E3"
             },
             "line": {
              "color": "white"
             }
            },
            "type": "table"
           }
          ]
         },
         "layout": {
          "annotationdefaults": {
           "arrowcolor": "#2a3f5f",
           "arrowhead": 0,
           "arrowwidth": 1
          },
          "autotypenumbers": "strict",
          "coloraxis": {
           "colorbar": {
            "outlinewidth": 0,
            "ticks": ""
           }
          },
          "colorscale": {
           "diverging": [
            [
             0,
             "#8e0152"
            ],
            [
             0.1,
             "#c51b7d"
            ],
            [
             0.2,
             "#de77ae"
            ],
            [
             0.3,
             "#f1b6da"
            ],
            [
             0.4,
             "#fde0ef"
            ],
            [
             0.5,
             "#f7f7f7"
            ],
            [
             0.6,
             "#e6f5d0"
            ],
            [
             0.7,
             "#b8e186"
            ],
            [
             0.8,
             "#7fbc41"
            ],
            [
             0.9,
             "#4d9221"
            ],
            [
             1,
             "#276419"
            ]
           ],
           "sequential": [
            [
             0,
             "#0d0887"
            ],
            [
             0.1111111111111111,
             "#46039f"
            ],
            [
             0.2222222222222222,
             "#7201a8"
            ],
            [
             0.3333333333333333,
             "#9c179e"
            ],
            [
             0.4444444444444444,
             "#bd3786"
            ],
            [
             0.5555555555555556,
             "#d8576b"
            ],
            [
             0.6666666666666666,
             "#ed7953"
            ],
            [
             0.7777777777777778,
             "#fb9f3a"
            ],
            [
             0.8888888888888888,
             "#fdca26"
            ],
            [
             1,
             "#f0f921"
            ]
           ],
           "sequentialminus": [
            [
             0,
             "#0d0887"
            ],
            [
             0.1111111111111111,
             "#46039f"
            ],
            [
             0.2222222222222222,
             "#7201a8"
            ],
            [
             0.3333333333333333,
             "#9c179e"
            ],
            [
             0.4444444444444444,
             "#bd3786"
            ],
            [
             0.5555555555555556,
             "#d8576b"
            ],
            [
             0.6666666666666666,
             "#ed7953"
            ],
            [
             0.7777777777777778,
             "#fb9f3a"
            ],
            [
             0.8888888888888888,
             "#fdca26"
            ],
            [
             1,
             "#f0f921"
            ]
           ]
          },
          "colorway": [
           "#636efa",
           "#EF553B",
           "#00cc96",
           "#ab63fa",
           "#FFA15A",
           "#19d3f3",
           "#FF6692",
           "#B6E880",
           "#FF97FF",
           "#FECB52"
          ],
          "font": {
           "color": "#2a3f5f"
          },
          "geo": {
           "bgcolor": "white",
           "lakecolor": "white",
           "landcolor": "#E5ECF6",
           "showlakes": true,
           "showland": true,
           "subunitcolor": "white"
          },
          "hoverlabel": {
           "align": "left"
          },
          "hovermode": "closest",
          "mapbox": {
           "style": "light"
          },
          "paper_bgcolor": "white",
          "plot_bgcolor": "#E5ECF6",
          "polar": {
           "angularaxis": {
            "gridcolor": "white",
            "linecolor": "white",
            "ticks": ""
           },
           "bgcolor": "#E5ECF6",
           "radialaxis": {
            "gridcolor": "white",
            "linecolor": "white",
            "ticks": ""
           }
          },
          "scene": {
           "xaxis": {
            "backgroundcolor": "#E5ECF6",
            "gridcolor": "white",
            "gridwidth": 2,
            "linecolor": "white",
            "showbackground": true,
            "ticks": "",
            "zerolinecolor": "white"
           },
           "yaxis": {
            "backgroundcolor": "#E5ECF6",
            "gridcolor": "white",
            "gridwidth": 2,
            "linecolor": "white",
            "showbackground": true,
            "ticks": "",
            "zerolinecolor": "white"
           },
           "zaxis": {
            "backgroundcolor": "#E5ECF6",
            "gridcolor": "white",
            "gridwidth": 2,
            "linecolor": "white",
            "showbackground": true,
            "ticks": "",
            "zerolinecolor": "white"
           }
          },
          "shapedefaults": {
           "line": {
            "color": "#2a3f5f"
           }
          },
          "ternary": {
           "aaxis": {
            "gridcolor": "white",
            "linecolor": "white",
            "ticks": ""
           },
           "baxis": {
            "gridcolor": "white",
            "linecolor": "white",
            "ticks": ""
           },
           "bgcolor": "#E5ECF6",
           "caxis": {
            "gridcolor": "white",
            "linecolor": "white",
            "ticks": ""
           }
          },
          "title": {
           "x": 0.05
          },
          "xaxis": {
           "automargin": true,
           "gridcolor": "white",
           "linecolor": "white",
           "ticks": "",
           "title": {
            "standoff": 15
           },
           "zerolinecolor": "white",
           "zerolinewidth": 2
          },
          "yaxis": {
           "automargin": true,
           "gridcolor": "white",
           "linecolor": "white",
           "ticks": "",
           "title": {
            "standoff": 15
           },
           "zerolinecolor": "white",
           "zerolinewidth": 2
          }
         }
        },
        "title": {
         "text": "Mean Score per Week"
        },
        "xaxis": {
         "categoryorder": "total descending"
        }
       }
      }
     },
     "metadata": {},
     "output_type": "display_data"
    }
   ],
   "source": [
    "fig = go.Figure()\n",
    "\n",
    "fig.add_trace(\n",
    "    go.Bar(x=list(weekly_means.values()), y=list(weekly_means.keys()), \n",
    "           marker=dict(color=list(weekly_means.keys()), coloraxis=\"coloraxis\"))\n",
    ")\n",
    "\n",
    "fig.update_layout(coloraxis=dict(colorscale=px.colors.diverging.RdYlGn), \n",
    "                  title=\"Mean Score per Week\", \n",
    "                  showlegend=False, \n",
    "                  xaxis={'categoryorder':'total descending'},\n",
    "                 )\n",
    "\n",
    "fig.show()"
   ]
  },
  {
   "cell_type": "code",
   "execution_count": 11,
   "metadata": {
    "scrolled": false
   },
   "outputs": [
    {
     "data": {
      "application/vnd.plotly.v1+json": {
       "config": {
        "plotlyServerURL": "https://plot.ly"
       },
       "data": [
        {
         "marker": {
          "color": [
           127.6,
           110.04,
           116.1,
           131.82,
           120.32,
           140.84,
           126.5,
           128.18,
           157.08,
           118.44
          ],
          "coloraxis": "coloraxis"
         },
         "type": "bar",
         "x": [
          "My Goat Loves You",
          "RB sanctuary",
          "The Brutherhood",
          "Tree Leaves",
          "the noés",
          "AssNTitties",
          "billcap",
          "Thicc King",
          "tealeaves",
          "SideThicc #2"
         ],
         "y": [
          127.6,
          110.04,
          116.1,
          131.82,
          120.32,
          140.84,
          126.5,
          128.18,
          157.08,
          118.44
         ]
        }
       ],
       "layout": {
        "coloraxis": {
         "colorscale": [
          [
           0,
           "rgb(165,0,38)"
          ],
          [
           0.1,
           "rgb(215,48,39)"
          ],
          [
           0.2,
           "rgb(244,109,67)"
          ],
          [
           0.3,
           "rgb(253,174,97)"
          ],
          [
           0.4,
           "rgb(254,224,139)"
          ],
          [
           0.5,
           "rgb(255,255,191)"
          ],
          [
           0.6,
           "rgb(217,239,139)"
          ],
          [
           0.7,
           "rgb(166,217,106)"
          ],
          [
           0.8,
           "rgb(102,189,99)"
          ],
          [
           0.9,
           "rgb(26,152,80)"
          ],
          [
           1,
           "rgb(0,104,55)"
          ]
         ]
        },
        "showlegend": false,
        "template": {
         "data": {
          "bar": [
           {
            "error_x": {
             "color": "#2a3f5f"
            },
            "error_y": {
             "color": "#2a3f5f"
            },
            "marker": {
             "line": {
              "color": "#E5ECF6",
              "width": 0.5
             },
             "pattern": {
              "fillmode": "overlay",
              "size": 10,
              "solidity": 0.2
             }
            },
            "type": "bar"
           }
          ],
          "barpolar": [
           {
            "marker": {
             "line": {
              "color": "#E5ECF6",
              "width": 0.5
             },
             "pattern": {
              "fillmode": "overlay",
              "size": 10,
              "solidity": 0.2
             }
            },
            "type": "barpolar"
           }
          ],
          "carpet": [
           {
            "aaxis": {
             "endlinecolor": "#2a3f5f",
             "gridcolor": "white",
             "linecolor": "white",
             "minorgridcolor": "white",
             "startlinecolor": "#2a3f5f"
            },
            "baxis": {
             "endlinecolor": "#2a3f5f",
             "gridcolor": "white",
             "linecolor": "white",
             "minorgridcolor": "white",
             "startlinecolor": "#2a3f5f"
            },
            "type": "carpet"
           }
          ],
          "choropleth": [
           {
            "colorbar": {
             "outlinewidth": 0,
             "ticks": ""
            },
            "type": "choropleth"
           }
          ],
          "contour": [
           {
            "colorbar": {
             "outlinewidth": 0,
             "ticks": ""
            },
            "colorscale": [
             [
              0,
              "#0d0887"
             ],
             [
              0.1111111111111111,
              "#46039f"
             ],
             [
              0.2222222222222222,
              "#7201a8"
             ],
             [
              0.3333333333333333,
              "#9c179e"
             ],
             [
              0.4444444444444444,
              "#bd3786"
             ],
             [
              0.5555555555555556,
              "#d8576b"
             ],
             [
              0.6666666666666666,
              "#ed7953"
             ],
             [
              0.7777777777777778,
              "#fb9f3a"
             ],
             [
              0.8888888888888888,
              "#fdca26"
             ],
             [
              1,
              "#f0f921"
             ]
            ],
            "type": "contour"
           }
          ],
          "contourcarpet": [
           {
            "colorbar": {
             "outlinewidth": 0,
             "ticks": ""
            },
            "type": "contourcarpet"
           }
          ],
          "heatmap": [
           {
            "colorbar": {
             "outlinewidth": 0,
             "ticks": ""
            },
            "colorscale": [
             [
              0,
              "#0d0887"
             ],
             [
              0.1111111111111111,
              "#46039f"
             ],
             [
              0.2222222222222222,
              "#7201a8"
             ],
             [
              0.3333333333333333,
              "#9c179e"
             ],
             [
              0.4444444444444444,
              "#bd3786"
             ],
             [
              0.5555555555555556,
              "#d8576b"
             ],
             [
              0.6666666666666666,
              "#ed7953"
             ],
             [
              0.7777777777777778,
              "#fb9f3a"
             ],
             [
              0.8888888888888888,
              "#fdca26"
             ],
             [
              1,
              "#f0f921"
             ]
            ],
            "type": "heatmap"
           }
          ],
          "heatmapgl": [
           {
            "colorbar": {
             "outlinewidth": 0,
             "ticks": ""
            },
            "colorscale": [
             [
              0,
              "#0d0887"
             ],
             [
              0.1111111111111111,
              "#46039f"
             ],
             [
              0.2222222222222222,
              "#7201a8"
             ],
             [
              0.3333333333333333,
              "#9c179e"
             ],
             [
              0.4444444444444444,
              "#bd3786"
             ],
             [
              0.5555555555555556,
              "#d8576b"
             ],
             [
              0.6666666666666666,
              "#ed7953"
             ],
             [
              0.7777777777777778,
              "#fb9f3a"
             ],
             [
              0.8888888888888888,
              "#fdca26"
             ],
             [
              1,
              "#f0f921"
             ]
            ],
            "type": "heatmapgl"
           }
          ],
          "histogram": [
           {
            "marker": {
             "pattern": {
              "fillmode": "overlay",
              "size": 10,
              "solidity": 0.2
             }
            },
            "type": "histogram"
           }
          ],
          "histogram2d": [
           {
            "colorbar": {
             "outlinewidth": 0,
             "ticks": ""
            },
            "colorscale": [
             [
              0,
              "#0d0887"
             ],
             [
              0.1111111111111111,
              "#46039f"
             ],
             [
              0.2222222222222222,
              "#7201a8"
             ],
             [
              0.3333333333333333,
              "#9c179e"
             ],
             [
              0.4444444444444444,
              "#bd3786"
             ],
             [
              0.5555555555555556,
              "#d8576b"
             ],
             [
              0.6666666666666666,
              "#ed7953"
             ],
             [
              0.7777777777777778,
              "#fb9f3a"
             ],
             [
              0.8888888888888888,
              "#fdca26"
             ],
             [
              1,
              "#f0f921"
             ]
            ],
            "type": "histogram2d"
           }
          ],
          "histogram2dcontour": [
           {
            "colorbar": {
             "outlinewidth": 0,
             "ticks": ""
            },
            "colorscale": [
             [
              0,
              "#0d0887"
             ],
             [
              0.1111111111111111,
              "#46039f"
             ],
             [
              0.2222222222222222,
              "#7201a8"
             ],
             [
              0.3333333333333333,
              "#9c179e"
             ],
             [
              0.4444444444444444,
              "#bd3786"
             ],
             [
              0.5555555555555556,
              "#d8576b"
             ],
             [
              0.6666666666666666,
              "#ed7953"
             ],
             [
              0.7777777777777778,
              "#fb9f3a"
             ],
             [
              0.8888888888888888,
              "#fdca26"
             ],
             [
              1,
              "#f0f921"
             ]
            ],
            "type": "histogram2dcontour"
           }
          ],
          "mesh3d": [
           {
            "colorbar": {
             "outlinewidth": 0,
             "ticks": ""
            },
            "type": "mesh3d"
           }
          ],
          "parcoords": [
           {
            "line": {
             "colorbar": {
              "outlinewidth": 0,
              "ticks": ""
             }
            },
            "type": "parcoords"
           }
          ],
          "pie": [
           {
            "automargin": true,
            "type": "pie"
           }
          ],
          "scatter": [
           {
            "marker": {
             "colorbar": {
              "outlinewidth": 0,
              "ticks": ""
             }
            },
            "type": "scatter"
           }
          ],
          "scatter3d": [
           {
            "line": {
             "colorbar": {
              "outlinewidth": 0,
              "ticks": ""
             }
            },
            "marker": {
             "colorbar": {
              "outlinewidth": 0,
              "ticks": ""
             }
            },
            "type": "scatter3d"
           }
          ],
          "scattercarpet": [
           {
            "marker": {
             "colorbar": {
              "outlinewidth": 0,
              "ticks": ""
             }
            },
            "type": "scattercarpet"
           }
          ],
          "scattergeo": [
           {
            "marker": {
             "colorbar": {
              "outlinewidth": 0,
              "ticks": ""
             }
            },
            "type": "scattergeo"
           }
          ],
          "scattergl": [
           {
            "marker": {
             "colorbar": {
              "outlinewidth": 0,
              "ticks": ""
             }
            },
            "type": "scattergl"
           }
          ],
          "scattermapbox": [
           {
            "marker": {
             "colorbar": {
              "outlinewidth": 0,
              "ticks": ""
             }
            },
            "type": "scattermapbox"
           }
          ],
          "scatterpolar": [
           {
            "marker": {
             "colorbar": {
              "outlinewidth": 0,
              "ticks": ""
             }
            },
            "type": "scatterpolar"
           }
          ],
          "scatterpolargl": [
           {
            "marker": {
             "colorbar": {
              "outlinewidth": 0,
              "ticks": ""
             }
            },
            "type": "scatterpolargl"
           }
          ],
          "scatterternary": [
           {
            "marker": {
             "colorbar": {
              "outlinewidth": 0,
              "ticks": ""
             }
            },
            "type": "scatterternary"
           }
          ],
          "surface": [
           {
            "colorbar": {
             "outlinewidth": 0,
             "ticks": ""
            },
            "colorscale": [
             [
              0,
              "#0d0887"
             ],
             [
              0.1111111111111111,
              "#46039f"
             ],
             [
              0.2222222222222222,
              "#7201a8"
             ],
             [
              0.3333333333333333,
              "#9c179e"
             ],
             [
              0.4444444444444444,
              "#bd3786"
             ],
             [
              0.5555555555555556,
              "#d8576b"
             ],
             [
              0.6666666666666666,
              "#ed7953"
             ],
             [
              0.7777777777777778,
              "#fb9f3a"
             ],
             [
              0.8888888888888888,
              "#fdca26"
             ],
             [
              1,
              "#f0f921"
             ]
            ],
            "type": "surface"
           }
          ],
          "table": [
           {
            "cells": {
             "fill": {
              "color": "#EBF0F8"
             },
             "line": {
              "color": "white"
             }
            },
            "header": {
             "fill": {
              "color": "#C8D4E3"
             },
             "line": {
              "color": "white"
             }
            },
            "type": "table"
           }
          ]
         },
         "layout": {
          "annotationdefaults": {
           "arrowcolor": "#2a3f5f",
           "arrowhead": 0,
           "arrowwidth": 1
          },
          "autotypenumbers": "strict",
          "coloraxis": {
           "colorbar": {
            "outlinewidth": 0,
            "ticks": ""
           }
          },
          "colorscale": {
           "diverging": [
            [
             0,
             "#8e0152"
            ],
            [
             0.1,
             "#c51b7d"
            ],
            [
             0.2,
             "#de77ae"
            ],
            [
             0.3,
             "#f1b6da"
            ],
            [
             0.4,
             "#fde0ef"
            ],
            [
             0.5,
             "#f7f7f7"
            ],
            [
             0.6,
             "#e6f5d0"
            ],
            [
             0.7,
             "#b8e186"
            ],
            [
             0.8,
             "#7fbc41"
            ],
            [
             0.9,
             "#4d9221"
            ],
            [
             1,
             "#276419"
            ]
           ],
           "sequential": [
            [
             0,
             "#0d0887"
            ],
            [
             0.1111111111111111,
             "#46039f"
            ],
            [
             0.2222222222222222,
             "#7201a8"
            ],
            [
             0.3333333333333333,
             "#9c179e"
            ],
            [
             0.4444444444444444,
             "#bd3786"
            ],
            [
             0.5555555555555556,
             "#d8576b"
            ],
            [
             0.6666666666666666,
             "#ed7953"
            ],
            [
             0.7777777777777778,
             "#fb9f3a"
            ],
            [
             0.8888888888888888,
             "#fdca26"
            ],
            [
             1,
             "#f0f921"
            ]
           ],
           "sequentialminus": [
            [
             0,
             "#0d0887"
            ],
            [
             0.1111111111111111,
             "#46039f"
            ],
            [
             0.2222222222222222,
             "#7201a8"
            ],
            [
             0.3333333333333333,
             "#9c179e"
            ],
            [
             0.4444444444444444,
             "#bd3786"
            ],
            [
             0.5555555555555556,
             "#d8576b"
            ],
            [
             0.6666666666666666,
             "#ed7953"
            ],
            [
             0.7777777777777778,
             "#fb9f3a"
            ],
            [
             0.8888888888888888,
             "#fdca26"
            ],
            [
             1,
             "#f0f921"
            ]
           ]
          },
          "colorway": [
           "#636efa",
           "#EF553B",
           "#00cc96",
           "#ab63fa",
           "#FFA15A",
           "#19d3f3",
           "#FF6692",
           "#B6E880",
           "#FF97FF",
           "#FECB52"
          ],
          "font": {
           "color": "#2a3f5f"
          },
          "geo": {
           "bgcolor": "white",
           "lakecolor": "white",
           "landcolor": "#E5ECF6",
           "showlakes": true,
           "showland": true,
           "subunitcolor": "white"
          },
          "hoverlabel": {
           "align": "left"
          },
          "hovermode": "closest",
          "mapbox": {
           "style": "light"
          },
          "paper_bgcolor": "white",
          "plot_bgcolor": "#E5ECF6",
          "polar": {
           "angularaxis": {
            "gridcolor": "white",
            "linecolor": "white",
            "ticks": ""
           },
           "bgcolor": "#E5ECF6",
           "radialaxis": {
            "gridcolor": "white",
            "linecolor": "white",
            "ticks": ""
           }
          },
          "scene": {
           "xaxis": {
            "backgroundcolor": "#E5ECF6",
            "gridcolor": "white",
            "gridwidth": 2,
            "linecolor": "white",
            "showbackground": true,
            "ticks": "",
            "zerolinecolor": "white"
           },
           "yaxis": {
            "backgroundcolor": "#E5ECF6",
            "gridcolor": "white",
            "gridwidth": 2,
            "linecolor": "white",
            "showbackground": true,
            "ticks": "",
            "zerolinecolor": "white"
           },
           "zaxis": {
            "backgroundcolor": "#E5ECF6",
            "gridcolor": "white",
            "gridwidth": 2,
            "linecolor": "white",
            "showbackground": true,
            "ticks": "",
            "zerolinecolor": "white"
           }
          },
          "shapedefaults": {
           "line": {
            "color": "#2a3f5f"
           }
          },
          "ternary": {
           "aaxis": {
            "gridcolor": "white",
            "linecolor": "white",
            "ticks": ""
           },
           "baxis": {
            "gridcolor": "white",
            "linecolor": "white",
            "ticks": ""
           },
           "bgcolor": "#E5ECF6",
           "caxis": {
            "gridcolor": "white",
            "linecolor": "white",
            "ticks": ""
           }
          },
          "title": {
           "x": 0.05
          },
          "xaxis": {
           "automargin": true,
           "gridcolor": "white",
           "linecolor": "white",
           "ticks": "",
           "title": {
            "standoff": 15
           },
           "zerolinecolor": "white",
           "zerolinewidth": 2
          },
          "yaxis": {
           "automargin": true,
           "gridcolor": "white",
           "linecolor": "white",
           "ticks": "",
           "title": {
            "standoff": 15
           },
           "zerolinecolor": "white",
           "zerolinewidth": 2
          }
         }
        },
        "title": {
         "text": "Median Score per Week"
        },
        "xaxis": {
         "categoryorder": "total descending"
        }
       }
      }
     },
     "metadata": {},
     "output_type": "display_data"
    }
   ],
   "source": [
    "fig = go.Figure()\n",
    "\n",
    "fig.add_trace(\n",
    "    go.Bar(x=list(weekly_medians.values()), y=list(weekly_medians.keys()), \n",
    "           marker=dict(color=list(weekly_medians.keys()), coloraxis=\"coloraxis\"))\n",
    ")\n",
    "\n",
    "fig.update_layout(coloraxis=dict(colorscale=px.colors.diverging.RdYlGn), \n",
    "                  title=\"Median Score per Week\", \n",
    "                  showlegend=False, \n",
    "                  xaxis={'categoryorder':'total descending'},\n",
    "                 )"
   ]
  },
  {
   "cell_type": "code",
   "execution_count": 12,
   "metadata": {
    "scrolled": false
   },
   "outputs": [
    {
     "data": {
      "application/vnd.plotly.v1+json": {
       "config": {
        "plotlyServerURL": "https://plot.ly"
       },
       "data": [
        {
         "marker": {
          "color": [
           58.44,
           19.04,
           -43.62,
           -49.32,
           -0.76,
           -21.68,
           27.98
          ],
          "coloraxis": "coloraxis"
         },
         "type": "bar",
         "x": [
          "Week 1",
          "Week 2",
          "Week 3",
          "Week 4",
          "Week 5",
          "Week 6",
          "Week 7"
         ],
         "xaxis": "x",
         "y": [
          58.44,
          19.04,
          -43.62,
          -49.32,
          -0.76,
          -21.68,
          27.98
         ],
         "yaxis": "y"
        },
        {
         "marker": {
          "color": [
           -58.44,
           -22.84,
           -27.66,
           -0.66,
           -42.04,
           -80.68,
           -14.54
          ],
          "coloraxis": "coloraxis"
         },
         "type": "bar",
         "x": [
          "Week 1",
          "Week 2",
          "Week 3",
          "Week 4",
          "Week 5",
          "Week 6",
          "Week 7"
         ],
         "xaxis": "x2",
         "y": [
          -58.44,
          -22.84,
          -27.66,
          -0.66,
          -42.04,
          -80.68,
          -14.54
         ],
         "yaxis": "y2"
        },
        {
         "marker": {
          "color": [
           -10.96,
           -37.54,
           28.22,
           -16.56,
           21.54,
           0.14,
           -27.98
          ],
          "coloraxis": "coloraxis"
         },
         "type": "bar",
         "x": [
          "Week 1",
          "Week 2",
          "Week 3",
          "Week 4",
          "Week 5",
          "Week 6",
          "Week 7"
         ],
         "xaxis": "x3",
         "y": [
          -10.96,
          -37.54,
          28.22,
          -16.56,
          21.54,
          0.14,
          -27.98
         ],
         "yaxis": "y3"
        },
        {
         "marker": {
          "color": [
           -87.36,
           -6.9,
           31.8,
           16.56,
           42.04,
           -9.16,
           0.58
          ],
          "coloraxis": "coloraxis"
         },
         "type": "bar",
         "x": [
          "Week 1",
          "Week 2",
          "Week 3",
          "Week 4",
          "Week 5",
          "Week 6",
          "Week 7"
         ],
         "xaxis": "x4",
         "y": [
          -87.36,
          -6.9,
          31.8,
          16.56,
          42.04,
          -9.16,
          0.58
         ],
         "yaxis": "y4"
        },
        {
         "marker": {
          "color": [
           -21.3,
           22.84,
           7.32,
           5.18,
           0.76,
           9.16,
           12.98
          ],
          "coloraxis": "coloraxis"
         },
         "type": "bar",
         "x": [
          "Week 1",
          "Week 2",
          "Week 3",
          "Week 4",
          "Week 5",
          "Week 6",
          "Week 7"
         ],
         "xaxis": "x5",
         "y": [
          -21.3,
          22.84,
          7.32,
          5.18,
          0.76,
          9.16,
          12.98
         ],
         "yaxis": "y5"
        },
        {
         "marker": {
          "color": [
           21.3,
           37.54,
           43.62,
           0.66,
           -13.86,
           13.4,
           -0.58
          ],
          "coloraxis": "coloraxis"
         },
         "type": "bar",
         "x": [
          "Week 1",
          "Week 2",
          "Week 3",
          "Week 4",
          "Week 5",
          "Week 6",
          "Week 7"
         ],
         "xaxis": "x6",
         "y": [
          21.3,
          37.54,
          43.62,
          0.66,
          -13.86,
          13.4,
          -0.58
         ],
         "yaxis": "y6"
        },
        {
         "marker": {
          "color": [
           41.88,
           -19.04,
           27.66,
           -5.18,
           13.86,
           -0.14,
           62.94
          ],
          "coloraxis": "coloraxis"
         },
         "type": "bar",
         "x": [
          "Week 1",
          "Week 2",
          "Week 3",
          "Week 4",
          "Week 5",
          "Week 6",
          "Week 7"
         ],
         "xaxis": "x7",
         "y": [
          41.88,
          -19.04,
          27.66,
          -5.18,
          13.86,
          -0.14,
          62.94
         ],
         "yaxis": "y7"
        },
        {
         "marker": {
          "color": [
           10.96,
           6.9,
           -7.32,
           -0.26,
           -37.1,
           21.68,
           14.54
          ],
          "coloraxis": "coloraxis"
         },
         "type": "bar",
         "x": [
          "Week 1",
          "Week 2",
          "Week 3",
          "Week 4",
          "Week 5",
          "Week 6",
          "Week 7"
         ],
         "xaxis": "x8",
         "y": [
          10.96,
          6.9,
          -7.32,
          -0.26,
          -37.1,
          21.68,
          14.54
         ],
         "yaxis": "y8"
        },
        {
         "marker": {
          "color": [
           87.36,
           -37.28,
           -28.22,
           49.32,
           37.1,
           80.68,
           -62.94
          ],
          "coloraxis": "coloraxis"
         },
         "type": "bar",
         "x": [
          "Week 1",
          "Week 2",
          "Week 3",
          "Week 4",
          "Week 5",
          "Week 6",
          "Week 7"
         ],
         "xaxis": "x9",
         "y": [
          87.36,
          -37.28,
          -28.22,
          49.32,
          37.1,
          80.68,
          -62.94
         ],
         "yaxis": "y9"
        },
        {
         "marker": {
          "color": [
           -41.88,
           37.28,
           -31.8,
           0.26,
           -21.54,
           -13.4,
           -12.98
          ],
          "coloraxis": "coloraxis"
         },
         "type": "bar",
         "x": [
          "Week 1",
          "Week 2",
          "Week 3",
          "Week 4",
          "Week 5",
          "Week 6",
          "Week 7"
         ],
         "xaxis": "x10",
         "y": [
          -41.88,
          37.28,
          -31.8,
          0.26,
          -21.54,
          -13.4,
          -12.98
         ],
         "yaxis": "y10"
        }
       ],
       "layout": {
        "annotations": [
         {
          "font": {
           "size": 16
          },
          "showarrow": false,
          "text": "My Goat Loves You",
          "x": 0.225,
          "xanchor": "center",
          "xref": "paper",
          "y": 1,
          "yanchor": "bottom",
          "yref": "paper"
         },
         {
          "font": {
           "size": 16
          },
          "showarrow": false,
          "text": "RB sanctuary",
          "x": 0.775,
          "xanchor": "center",
          "xref": "paper",
          "y": 1,
          "yanchor": "bottom",
          "yref": "paper"
         },
         {
          "font": {
           "size": 16
          },
          "showarrow": false,
          "text": "The Brutherhood",
          "x": 0.225,
          "xanchor": "center",
          "xref": "paper",
          "y": 0.78,
          "yanchor": "bottom",
          "yref": "paper"
         },
         {
          "font": {
           "size": 16
          },
          "showarrow": false,
          "text": "Tree Leaves",
          "x": 0.775,
          "xanchor": "center",
          "xref": "paper",
          "y": 0.78,
          "yanchor": "bottom",
          "yref": "paper"
         },
         {
          "font": {
           "size": 16
          },
          "showarrow": false,
          "text": "the noés",
          "x": 0.225,
          "xanchor": "center",
          "xref": "paper",
          "y": 0.56,
          "yanchor": "bottom",
          "yref": "paper"
         },
         {
          "font": {
           "size": 16
          },
          "showarrow": false,
          "text": "AssNTitties",
          "x": 0.775,
          "xanchor": "center",
          "xref": "paper",
          "y": 0.56,
          "yanchor": "bottom",
          "yref": "paper"
         },
         {
          "font": {
           "size": 16
          },
          "showarrow": false,
          "text": "billcap",
          "x": 0.225,
          "xanchor": "center",
          "xref": "paper",
          "y": 0.33999999999999997,
          "yanchor": "bottom",
          "yref": "paper"
         },
         {
          "font": {
           "size": 16
          },
          "showarrow": false,
          "text": "Thicc King",
          "x": 0.775,
          "xanchor": "center",
          "xref": "paper",
          "y": 0.33999999999999997,
          "yanchor": "bottom",
          "yref": "paper"
         },
         {
          "font": {
           "size": 16
          },
          "showarrow": false,
          "text": "tealeaves",
          "x": 0.225,
          "xanchor": "center",
          "xref": "paper",
          "y": 0.12,
          "yanchor": "bottom",
          "yref": "paper"
         },
         {
          "font": {
           "size": 16
          },
          "showarrow": false,
          "text": "SideThicc #2",
          "x": 0.775,
          "xanchor": "center",
          "xref": "paper",
          "y": 0.12,
          "yanchor": "bottom",
          "yref": "paper"
         }
        ],
        "coloraxis": {
         "colorscale": [
          [
           0,
           "rgb(165,0,38)"
          ],
          [
           0.1,
           "rgb(215,48,39)"
          ],
          [
           0.2,
           "rgb(244,109,67)"
          ],
          [
           0.3,
           "rgb(253,174,97)"
          ],
          [
           0.4,
           "rgb(254,224,139)"
          ],
          [
           0.5,
           "rgb(255,255,191)"
          ],
          [
           0.6,
           "rgb(217,239,139)"
          ],
          [
           0.7,
           "rgb(166,217,106)"
          ],
          [
           0.8,
           "rgb(102,189,99)"
          ],
          [
           0.9,
           "rgb(26,152,80)"
          ],
          [
           1,
           "rgb(0,104,55)"
          ]
         ]
        },
        "height": 1000,
        "showlegend": false,
        "template": {
         "data": {
          "bar": [
           {
            "error_x": {
             "color": "#2a3f5f"
            },
            "error_y": {
             "color": "#2a3f5f"
            },
            "marker": {
             "line": {
              "color": "#E5ECF6",
              "width": 0.5
             },
             "pattern": {
              "fillmode": "overlay",
              "size": 10,
              "solidity": 0.2
             }
            },
            "type": "bar"
           }
          ],
          "barpolar": [
           {
            "marker": {
             "line": {
              "color": "#E5ECF6",
              "width": 0.5
             },
             "pattern": {
              "fillmode": "overlay",
              "size": 10,
              "solidity": 0.2
             }
            },
            "type": "barpolar"
           }
          ],
          "carpet": [
           {
            "aaxis": {
             "endlinecolor": "#2a3f5f",
             "gridcolor": "white",
             "linecolor": "white",
             "minorgridcolor": "white",
             "startlinecolor": "#2a3f5f"
            },
            "baxis": {
             "endlinecolor": "#2a3f5f",
             "gridcolor": "white",
             "linecolor": "white",
             "minorgridcolor": "white",
             "startlinecolor": "#2a3f5f"
            },
            "type": "carpet"
           }
          ],
          "choropleth": [
           {
            "colorbar": {
             "outlinewidth": 0,
             "ticks": ""
            },
            "type": "choropleth"
           }
          ],
          "contour": [
           {
            "colorbar": {
             "outlinewidth": 0,
             "ticks": ""
            },
            "colorscale": [
             [
              0,
              "#0d0887"
             ],
             [
              0.1111111111111111,
              "#46039f"
             ],
             [
              0.2222222222222222,
              "#7201a8"
             ],
             [
              0.3333333333333333,
              "#9c179e"
             ],
             [
              0.4444444444444444,
              "#bd3786"
             ],
             [
              0.5555555555555556,
              "#d8576b"
             ],
             [
              0.6666666666666666,
              "#ed7953"
             ],
             [
              0.7777777777777778,
              "#fb9f3a"
             ],
             [
              0.8888888888888888,
              "#fdca26"
             ],
             [
              1,
              "#f0f921"
             ]
            ],
            "type": "contour"
           }
          ],
          "contourcarpet": [
           {
            "colorbar": {
             "outlinewidth": 0,
             "ticks": ""
            },
            "type": "contourcarpet"
           }
          ],
          "heatmap": [
           {
            "colorbar": {
             "outlinewidth": 0,
             "ticks": ""
            },
            "colorscale": [
             [
              0,
              "#0d0887"
             ],
             [
              0.1111111111111111,
              "#46039f"
             ],
             [
              0.2222222222222222,
              "#7201a8"
             ],
             [
              0.3333333333333333,
              "#9c179e"
             ],
             [
              0.4444444444444444,
              "#bd3786"
             ],
             [
              0.5555555555555556,
              "#d8576b"
             ],
             [
              0.6666666666666666,
              "#ed7953"
             ],
             [
              0.7777777777777778,
              "#fb9f3a"
             ],
             [
              0.8888888888888888,
              "#fdca26"
             ],
             [
              1,
              "#f0f921"
             ]
            ],
            "type": "heatmap"
           }
          ],
          "heatmapgl": [
           {
            "colorbar": {
             "outlinewidth": 0,
             "ticks": ""
            },
            "colorscale": [
             [
              0,
              "#0d0887"
             ],
             [
              0.1111111111111111,
              "#46039f"
             ],
             [
              0.2222222222222222,
              "#7201a8"
             ],
             [
              0.3333333333333333,
              "#9c179e"
             ],
             [
              0.4444444444444444,
              "#bd3786"
             ],
             [
              0.5555555555555556,
              "#d8576b"
             ],
             [
              0.6666666666666666,
              "#ed7953"
             ],
             [
              0.7777777777777778,
              "#fb9f3a"
             ],
             [
              0.8888888888888888,
              "#fdca26"
             ],
             [
              1,
              "#f0f921"
             ]
            ],
            "type": "heatmapgl"
           }
          ],
          "histogram": [
           {
            "marker": {
             "pattern": {
              "fillmode": "overlay",
              "size": 10,
              "solidity": 0.2
             }
            },
            "type": "histogram"
           }
          ],
          "histogram2d": [
           {
            "colorbar": {
             "outlinewidth": 0,
             "ticks": ""
            },
            "colorscale": [
             [
              0,
              "#0d0887"
             ],
             [
              0.1111111111111111,
              "#46039f"
             ],
             [
              0.2222222222222222,
              "#7201a8"
             ],
             [
              0.3333333333333333,
              "#9c179e"
             ],
             [
              0.4444444444444444,
              "#bd3786"
             ],
             [
              0.5555555555555556,
              "#d8576b"
             ],
             [
              0.6666666666666666,
              "#ed7953"
             ],
             [
              0.7777777777777778,
              "#fb9f3a"
             ],
             [
              0.8888888888888888,
              "#fdca26"
             ],
             [
              1,
              "#f0f921"
             ]
            ],
            "type": "histogram2d"
           }
          ],
          "histogram2dcontour": [
           {
            "colorbar": {
             "outlinewidth": 0,
             "ticks": ""
            },
            "colorscale": [
             [
              0,
              "#0d0887"
             ],
             [
              0.1111111111111111,
              "#46039f"
             ],
             [
              0.2222222222222222,
              "#7201a8"
             ],
             [
              0.3333333333333333,
              "#9c179e"
             ],
             [
              0.4444444444444444,
              "#bd3786"
             ],
             [
              0.5555555555555556,
              "#d8576b"
             ],
             [
              0.6666666666666666,
              "#ed7953"
             ],
             [
              0.7777777777777778,
              "#fb9f3a"
             ],
             [
              0.8888888888888888,
              "#fdca26"
             ],
             [
              1,
              "#f0f921"
             ]
            ],
            "type": "histogram2dcontour"
           }
          ],
          "mesh3d": [
           {
            "colorbar": {
             "outlinewidth": 0,
             "ticks": ""
            },
            "type": "mesh3d"
           }
          ],
          "parcoords": [
           {
            "line": {
             "colorbar": {
              "outlinewidth": 0,
              "ticks": ""
             }
            },
            "type": "parcoords"
           }
          ],
          "pie": [
           {
            "automargin": true,
            "type": "pie"
           }
          ],
          "scatter": [
           {
            "marker": {
             "colorbar": {
              "outlinewidth": 0,
              "ticks": ""
             }
            },
            "type": "scatter"
           }
          ],
          "scatter3d": [
           {
            "line": {
             "colorbar": {
              "outlinewidth": 0,
              "ticks": ""
             }
            },
            "marker": {
             "colorbar": {
              "outlinewidth": 0,
              "ticks": ""
             }
            },
            "type": "scatter3d"
           }
          ],
          "scattercarpet": [
           {
            "marker": {
             "colorbar": {
              "outlinewidth": 0,
              "ticks": ""
             }
            },
            "type": "scattercarpet"
           }
          ],
          "scattergeo": [
           {
            "marker": {
             "colorbar": {
              "outlinewidth": 0,
              "ticks": ""
             }
            },
            "type": "scattergeo"
           }
          ],
          "scattergl": [
           {
            "marker": {
             "colorbar": {
              "outlinewidth": 0,
              "ticks": ""
             }
            },
            "type": "scattergl"
           }
          ],
          "scattermapbox": [
           {
            "marker": {
             "colorbar": {
              "outlinewidth": 0,
              "ticks": ""
             }
            },
            "type": "scattermapbox"
           }
          ],
          "scatterpolar": [
           {
            "marker": {
             "colorbar": {
              "outlinewidth": 0,
              "ticks": ""
             }
            },
            "type": "scatterpolar"
           }
          ],
          "scatterpolargl": [
           {
            "marker": {
             "colorbar": {
              "outlinewidth": 0,
              "ticks": ""
             }
            },
            "type": "scatterpolargl"
           }
          ],
          "scatterternary": [
           {
            "marker": {
             "colorbar": {
              "outlinewidth": 0,
              "ticks": ""
             }
            },
            "type": "scatterternary"
           }
          ],
          "surface": [
           {
            "colorbar": {
             "outlinewidth": 0,
             "ticks": ""
            },
            "colorscale": [
             [
              0,
              "#0d0887"
             ],
             [
              0.1111111111111111,
              "#46039f"
             ],
             [
              0.2222222222222222,
              "#7201a8"
             ],
             [
              0.3333333333333333,
              "#9c179e"
             ],
             [
              0.4444444444444444,
              "#bd3786"
             ],
             [
              0.5555555555555556,
              "#d8576b"
             ],
             [
              0.6666666666666666,
              "#ed7953"
             ],
             [
              0.7777777777777778,
              "#fb9f3a"
             ],
             [
              0.8888888888888888,
              "#fdca26"
             ],
             [
              1,
              "#f0f921"
             ]
            ],
            "type": "surface"
           }
          ],
          "table": [
           {
            "cells": {
             "fill": {
              "color": "#EBF0F8"
             },
             "line": {
              "color": "white"
             }
            },
            "header": {
             "fill": {
              "color": "#C8D4E3"
             },
             "line": {
              "color": "white"
             }
            },
            "type": "table"
           }
          ]
         },
         "layout": {
          "annotationdefaults": {
           "arrowcolor": "#2a3f5f",
           "arrowhead": 0,
           "arrowwidth": 1
          },
          "autotypenumbers": "strict",
          "coloraxis": {
           "colorbar": {
            "outlinewidth": 0,
            "ticks": ""
           }
          },
          "colorscale": {
           "diverging": [
            [
             0,
             "#8e0152"
            ],
            [
             0.1,
             "#c51b7d"
            ],
            [
             0.2,
             "#de77ae"
            ],
            [
             0.3,
             "#f1b6da"
            ],
            [
             0.4,
             "#fde0ef"
            ],
            [
             0.5,
             "#f7f7f7"
            ],
            [
             0.6,
             "#e6f5d0"
            ],
            [
             0.7,
             "#b8e186"
            ],
            [
             0.8,
             "#7fbc41"
            ],
            [
             0.9,
             "#4d9221"
            ],
            [
             1,
             "#276419"
            ]
           ],
           "sequential": [
            [
             0,
             "#0d0887"
            ],
            [
             0.1111111111111111,
             "#46039f"
            ],
            [
             0.2222222222222222,
             "#7201a8"
            ],
            [
             0.3333333333333333,
             "#9c179e"
            ],
            [
             0.4444444444444444,
             "#bd3786"
            ],
            [
             0.5555555555555556,
             "#d8576b"
            ],
            [
             0.6666666666666666,
             "#ed7953"
            ],
            [
             0.7777777777777778,
             "#fb9f3a"
            ],
            [
             0.8888888888888888,
             "#fdca26"
            ],
            [
             1,
             "#f0f921"
            ]
           ],
           "sequentialminus": [
            [
             0,
             "#0d0887"
            ],
            [
             0.1111111111111111,
             "#46039f"
            ],
            [
             0.2222222222222222,
             "#7201a8"
            ],
            [
             0.3333333333333333,
             "#9c179e"
            ],
            [
             0.4444444444444444,
             "#bd3786"
            ],
            [
             0.5555555555555556,
             "#d8576b"
            ],
            [
             0.6666666666666666,
             "#ed7953"
            ],
            [
             0.7777777777777778,
             "#fb9f3a"
            ],
            [
             0.8888888888888888,
             "#fdca26"
            ],
            [
             1,
             "#f0f921"
            ]
           ]
          },
          "colorway": [
           "#636efa",
           "#EF553B",
           "#00cc96",
           "#ab63fa",
           "#FFA15A",
           "#19d3f3",
           "#FF6692",
           "#B6E880",
           "#FF97FF",
           "#FECB52"
          ],
          "font": {
           "color": "#2a3f5f"
          },
          "geo": {
           "bgcolor": "white",
           "lakecolor": "white",
           "landcolor": "#E5ECF6",
           "showlakes": true,
           "showland": true,
           "subunitcolor": "white"
          },
          "hoverlabel": {
           "align": "left"
          },
          "hovermode": "closest",
          "mapbox": {
           "style": "light"
          },
          "paper_bgcolor": "white",
          "plot_bgcolor": "#E5ECF6",
          "polar": {
           "angularaxis": {
            "gridcolor": "white",
            "linecolor": "white",
            "ticks": ""
           },
           "bgcolor": "#E5ECF6",
           "radialaxis": {
            "gridcolor": "white",
            "linecolor": "white",
            "ticks": ""
           }
          },
          "scene": {
           "xaxis": {
            "backgroundcolor": "#E5ECF6",
            "gridcolor": "white",
            "gridwidth": 2,
            "linecolor": "white",
            "showbackground": true,
            "ticks": "",
            "zerolinecolor": "white"
           },
           "yaxis": {
            "backgroundcolor": "#E5ECF6",
            "gridcolor": "white",
            "gridwidth": 2,
            "linecolor": "white",
            "showbackground": true,
            "ticks": "",
            "zerolinecolor": "white"
           },
           "zaxis": {
            "backgroundcolor": "#E5ECF6",
            "gridcolor": "white",
            "gridwidth": 2,
            "linecolor": "white",
            "showbackground": true,
            "ticks": "",
            "zerolinecolor": "white"
           }
          },
          "shapedefaults": {
           "line": {
            "color": "#2a3f5f"
           }
          },
          "ternary": {
           "aaxis": {
            "gridcolor": "white",
            "linecolor": "white",
            "ticks": ""
           },
           "baxis": {
            "gridcolor": "white",
            "linecolor": "white",
            "ticks": ""
           },
           "bgcolor": "#E5ECF6",
           "caxis": {
            "gridcolor": "white",
            "linecolor": "white",
            "ticks": ""
           }
          },
          "title": {
           "x": 0.05
          },
          "xaxis": {
           "automargin": true,
           "gridcolor": "white",
           "linecolor": "white",
           "ticks": "",
           "title": {
            "standoff": 15
           },
           "zerolinecolor": "white",
           "zerolinewidth": 2
          },
          "yaxis": {
           "automargin": true,
           "gridcolor": "white",
           "linecolor": "white",
           "ticks": "",
           "title": {
            "standoff": 15
           },
           "zerolinecolor": "white",
           "zerolinewidth": 2
          }
         }
        },
        "title": {
         "text": "Game Margins"
        },
        "width": 950,
        "xaxis": {
         "anchor": "y",
         "domain": [
          0,
          0.45
         ]
        },
        "xaxis10": {
         "anchor": "y10",
         "domain": [
          0.55,
          1
         ]
        },
        "xaxis2": {
         "anchor": "y2",
         "domain": [
          0.55,
          1
         ]
        },
        "xaxis3": {
         "anchor": "y3",
         "domain": [
          0,
          0.45
         ]
        },
        "xaxis4": {
         "anchor": "y4",
         "domain": [
          0.55,
          1
         ]
        },
        "xaxis5": {
         "anchor": "y5",
         "domain": [
          0,
          0.45
         ]
        },
        "xaxis6": {
         "anchor": "y6",
         "domain": [
          0.55,
          1
         ]
        },
        "xaxis7": {
         "anchor": "y7",
         "domain": [
          0,
          0.45
         ]
        },
        "xaxis8": {
         "anchor": "y8",
         "domain": [
          0.55,
          1
         ]
        },
        "xaxis9": {
         "anchor": "y9",
         "domain": [
          0,
          0.45
         ]
        },
        "yaxis": {
         "anchor": "x",
         "domain": [
          0.88,
          1
         ]
        },
        "yaxis10": {
         "anchor": "x10",
         "domain": [
          0,
          0.12
         ],
         "matches": "y9",
         "showticklabels": false
        },
        "yaxis2": {
         "anchor": "x2",
         "domain": [
          0.88,
          1
         ],
         "matches": "y",
         "showticklabels": false
        },
        "yaxis3": {
         "anchor": "x3",
         "domain": [
          0.66,
          0.78
         ]
        },
        "yaxis4": {
         "anchor": "x4",
         "domain": [
          0.66,
          0.78
         ],
         "matches": "y3",
         "showticklabels": false
        },
        "yaxis5": {
         "anchor": "x5",
         "domain": [
          0.44,
          0.56
         ]
        },
        "yaxis6": {
         "anchor": "x6",
         "domain": [
          0.44,
          0.56
         ],
         "matches": "y5",
         "showticklabels": false
        },
        "yaxis7": {
         "anchor": "x7",
         "domain": [
          0.22,
          0.33999999999999997
         ]
        },
        "yaxis8": {
         "anchor": "x8",
         "domain": [
          0.22,
          0.33999999999999997
         ],
         "matches": "y7",
         "showticklabels": false
        },
        "yaxis9": {
         "anchor": "x9",
         "domain": [
          0,
          0.12
         ]
        }
       }
      }
     },
     "metadata": {},
     "output_type": "display_data"
    }
   ],
   "source": [
    "fig = make_subplots(rows=5, cols=2, shared_yaxes=True, subplot_titles=list(NAME_PAIRINGS.values()))\n",
    "\n",
    "for i in range(5):\n",
    "    for j in range(1, 3):\n",
    "        fig.add_trace(\n",
    "            go.Bar(y=stats[list(stats.keys())[(i+i+j)-1]][STATS_FIELDS.index(\"Game Margin\")], \n",
    "                   x=[f\"Week {week}\" for week in range(1, CURRENT_WEEK+1)], \n",
    "                   marker=dict(color=list(stats[list(stats.keys())[(i+i+j)-1]][STATS_FIELDS.index(\"Game Margin\")]), \n",
    "                               coloraxis=\"coloraxis\")),\n",
    "            i+1, j\n",
    "        )\n",
    "\n",
    "fig.update_layout(coloraxis=dict(colorscale=px.colors.diverging.RdYlGn), \n",
    "                  title=\"Game Margins\",\n",
    "                  showlegend=False, \n",
    "                  height=1000, width=950\n",
    "                 )\n",
    "\n",
    "fig.show()"
   ]
  },
  {
   "cell_type": "code",
   "execution_count": 13,
   "metadata": {},
   "outputs": [
    {
     "data": {
      "application/vnd.plotly.v1+json": {
       "config": {
        "plotlyServerURL": "https://plot.ly"
       },
       "data": [
        {
         "marker": {
          "color": [
           1338.06,
           1884.35,
           549.55,
           1545.21,
           186.96,
           591.15,
           1008.85,
           325.6,
           3442.5,
           709.58
          ],
          "coloraxis": "coloraxis"
         },
         "type": "bar",
         "x": [
          "My Goat Loves You",
          "RB sanctuary",
          "The Brutherhood",
          "Tree Leaves",
          "the noés",
          "AssNTitties",
          "billcap",
          "Thicc King",
          "tealeaves",
          "SideThicc #2"
         ],
         "y": [
          1338.06,
          1884.35,
          549.55,
          1545.21,
          186.96,
          591.15,
          1008.85,
          325.6,
          3442.5,
          709.58
         ]
        }
       ],
       "layout": {
        "coloraxis": {
         "colorscale": [
          [
           0,
           "#440154"
          ],
          [
           0.1111111111111111,
           "#482878"
          ],
          [
           0.2222222222222222,
           "#3e4989"
          ],
          [
           0.3333333333333333,
           "#31688e"
          ],
          [
           0.4444444444444444,
           "#26828e"
          ],
          [
           0.5555555555555556,
           "#1f9e89"
          ],
          [
           0.6666666666666666,
           "#35b779"
          ],
          [
           0.7777777777777778,
           "#6ece58"
          ],
          [
           0.8888888888888888,
           "#b5de2b"
          ],
          [
           1,
           "#fde725"
          ]
         ]
        },
        "showlegend": false,
        "template": {
         "data": {
          "bar": [
           {
            "error_x": {
             "color": "#2a3f5f"
            },
            "error_y": {
             "color": "#2a3f5f"
            },
            "marker": {
             "line": {
              "color": "#E5ECF6",
              "width": 0.5
             },
             "pattern": {
              "fillmode": "overlay",
              "size": 10,
              "solidity": 0.2
             }
            },
            "type": "bar"
           }
          ],
          "barpolar": [
           {
            "marker": {
             "line": {
              "color": "#E5ECF6",
              "width": 0.5
             },
             "pattern": {
              "fillmode": "overlay",
              "size": 10,
              "solidity": 0.2
             }
            },
            "type": "barpolar"
           }
          ],
          "carpet": [
           {
            "aaxis": {
             "endlinecolor": "#2a3f5f",
             "gridcolor": "white",
             "linecolor": "white",
             "minorgridcolor": "white",
             "startlinecolor": "#2a3f5f"
            },
            "baxis": {
             "endlinecolor": "#2a3f5f",
             "gridcolor": "white",
             "linecolor": "white",
             "minorgridcolor": "white",
             "startlinecolor": "#2a3f5f"
            },
            "type": "carpet"
           }
          ],
          "choropleth": [
           {
            "colorbar": {
             "outlinewidth": 0,
             "ticks": ""
            },
            "type": "choropleth"
           }
          ],
          "contour": [
           {
            "colorbar": {
             "outlinewidth": 0,
             "ticks": ""
            },
            "colorscale": [
             [
              0,
              "#0d0887"
             ],
             [
              0.1111111111111111,
              "#46039f"
             ],
             [
              0.2222222222222222,
              "#7201a8"
             ],
             [
              0.3333333333333333,
              "#9c179e"
             ],
             [
              0.4444444444444444,
              "#bd3786"
             ],
             [
              0.5555555555555556,
              "#d8576b"
             ],
             [
              0.6666666666666666,
              "#ed7953"
             ],
             [
              0.7777777777777778,
              "#fb9f3a"
             ],
             [
              0.8888888888888888,
              "#fdca26"
             ],
             [
              1,
              "#f0f921"
             ]
            ],
            "type": "contour"
           }
          ],
          "contourcarpet": [
           {
            "colorbar": {
             "outlinewidth": 0,
             "ticks": ""
            },
            "type": "contourcarpet"
           }
          ],
          "heatmap": [
           {
            "colorbar": {
             "outlinewidth": 0,
             "ticks": ""
            },
            "colorscale": [
             [
              0,
              "#0d0887"
             ],
             [
              0.1111111111111111,
              "#46039f"
             ],
             [
              0.2222222222222222,
              "#7201a8"
             ],
             [
              0.3333333333333333,
              "#9c179e"
             ],
             [
              0.4444444444444444,
              "#bd3786"
             ],
             [
              0.5555555555555556,
              "#d8576b"
             ],
             [
              0.6666666666666666,
              "#ed7953"
             ],
             [
              0.7777777777777778,
              "#fb9f3a"
             ],
             [
              0.8888888888888888,
              "#fdca26"
             ],
             [
              1,
              "#f0f921"
             ]
            ],
            "type": "heatmap"
           }
          ],
          "heatmapgl": [
           {
            "colorbar": {
             "outlinewidth": 0,
             "ticks": ""
            },
            "colorscale": [
             [
              0,
              "#0d0887"
             ],
             [
              0.1111111111111111,
              "#46039f"
             ],
             [
              0.2222222222222222,
              "#7201a8"
             ],
             [
              0.3333333333333333,
              "#9c179e"
             ],
             [
              0.4444444444444444,
              "#bd3786"
             ],
             [
              0.5555555555555556,
              "#d8576b"
             ],
             [
              0.6666666666666666,
              "#ed7953"
             ],
             [
              0.7777777777777778,
              "#fb9f3a"
             ],
             [
              0.8888888888888888,
              "#fdca26"
             ],
             [
              1,
              "#f0f921"
             ]
            ],
            "type": "heatmapgl"
           }
          ],
          "histogram": [
           {
            "marker": {
             "pattern": {
              "fillmode": "overlay",
              "size": 10,
              "solidity": 0.2
             }
            },
            "type": "histogram"
           }
          ],
          "histogram2d": [
           {
            "colorbar": {
             "outlinewidth": 0,
             "ticks": ""
            },
            "colorscale": [
             [
              0,
              "#0d0887"
             ],
             [
              0.1111111111111111,
              "#46039f"
             ],
             [
              0.2222222222222222,
              "#7201a8"
             ],
             [
              0.3333333333333333,
              "#9c179e"
             ],
             [
              0.4444444444444444,
              "#bd3786"
             ],
             [
              0.5555555555555556,
              "#d8576b"
             ],
             [
              0.6666666666666666,
              "#ed7953"
             ],
             [
              0.7777777777777778,
              "#fb9f3a"
             ],
             [
              0.8888888888888888,
              "#fdca26"
             ],
             [
              1,
              "#f0f921"
             ]
            ],
            "type": "histogram2d"
           }
          ],
          "histogram2dcontour": [
           {
            "colorbar": {
             "outlinewidth": 0,
             "ticks": ""
            },
            "colorscale": [
             [
              0,
              "#0d0887"
             ],
             [
              0.1111111111111111,
              "#46039f"
             ],
             [
              0.2222222222222222,
              "#7201a8"
             ],
             [
              0.3333333333333333,
              "#9c179e"
             ],
             [
              0.4444444444444444,
              "#bd3786"
             ],
             [
              0.5555555555555556,
              "#d8576b"
             ],
             [
              0.6666666666666666,
              "#ed7953"
             ],
             [
              0.7777777777777778,
              "#fb9f3a"
             ],
             [
              0.8888888888888888,
              "#fdca26"
             ],
             [
              1,
              "#f0f921"
             ]
            ],
            "type": "histogram2dcontour"
           }
          ],
          "mesh3d": [
           {
            "colorbar": {
             "outlinewidth": 0,
             "ticks": ""
            },
            "type": "mesh3d"
           }
          ],
          "parcoords": [
           {
            "line": {
             "colorbar": {
              "outlinewidth": 0,
              "ticks": ""
             }
            },
            "type": "parcoords"
           }
          ],
          "pie": [
           {
            "automargin": true,
            "type": "pie"
           }
          ],
          "scatter": [
           {
            "marker": {
             "colorbar": {
              "outlinewidth": 0,
              "ticks": ""
             }
            },
            "type": "scatter"
           }
          ],
          "scatter3d": [
           {
            "line": {
             "colorbar": {
              "outlinewidth": 0,
              "ticks": ""
             }
            },
            "marker": {
             "colorbar": {
              "outlinewidth": 0,
              "ticks": ""
             }
            },
            "type": "scatter3d"
           }
          ],
          "scattercarpet": [
           {
            "marker": {
             "colorbar": {
              "outlinewidth": 0,
              "ticks": ""
             }
            },
            "type": "scattercarpet"
           }
          ],
          "scattergeo": [
           {
            "marker": {
             "colorbar": {
              "outlinewidth": 0,
              "ticks": ""
             }
            },
            "type": "scattergeo"
           }
          ],
          "scattergl": [
           {
            "marker": {
             "colorbar": {
              "outlinewidth": 0,
              "ticks": ""
             }
            },
            "type": "scattergl"
           }
          ],
          "scattermapbox": [
           {
            "marker": {
             "colorbar": {
              "outlinewidth": 0,
              "ticks": ""
             }
            },
            "type": "scattermapbox"
           }
          ],
          "scatterpolar": [
           {
            "marker": {
             "colorbar": {
              "outlinewidth": 0,
              "ticks": ""
             }
            },
            "type": "scatterpolar"
           }
          ],
          "scatterpolargl": [
           {
            "marker": {
             "colorbar": {
              "outlinewidth": 0,
              "ticks": ""
             }
            },
            "type": "scatterpolargl"
           }
          ],
          "scatterternary": [
           {
            "marker": {
             "colorbar": {
              "outlinewidth": 0,
              "ticks": ""
             }
            },
            "type": "scatterternary"
           }
          ],
          "surface": [
           {
            "colorbar": {
             "outlinewidth": 0,
             "ticks": ""
            },
            "colorscale": [
             [
              0,
              "#0d0887"
             ],
             [
              0.1111111111111111,
              "#46039f"
             ],
             [
              0.2222222222222222,
              "#7201a8"
             ],
             [
              0.3333333333333333,
              "#9c179e"
             ],
             [
              0.4444444444444444,
              "#bd3786"
             ],
             [
              0.5555555555555556,
              "#d8576b"
             ],
             [
              0.6666666666666666,
              "#ed7953"
             ],
             [
              0.7777777777777778,
              "#fb9f3a"
             ],
             [
              0.8888888888888888,
              "#fdca26"
             ],
             [
              1,
              "#f0f921"
             ]
            ],
            "type": "surface"
           }
          ],
          "table": [
           {
            "cells": {
             "fill": {
              "color": "#EBF0F8"
             },
             "line": {
              "color": "white"
             }
            },
            "header": {
             "fill": {
              "color": "#C8D4E3"
             },
             "line": {
              "color": "white"
             }
            },
            "type": "table"
           }
          ]
         },
         "layout": {
          "annotationdefaults": {
           "arrowcolor": "#2a3f5f",
           "arrowhead": 0,
           "arrowwidth": 1
          },
          "autotypenumbers": "strict",
          "coloraxis": {
           "colorbar": {
            "outlinewidth": 0,
            "ticks": ""
           }
          },
          "colorscale": {
           "diverging": [
            [
             0,
             "#8e0152"
            ],
            [
             0.1,
             "#c51b7d"
            ],
            [
             0.2,
             "#de77ae"
            ],
            [
             0.3,
             "#f1b6da"
            ],
            [
             0.4,
             "#fde0ef"
            ],
            [
             0.5,
             "#f7f7f7"
            ],
            [
             0.6,
             "#e6f5d0"
            ],
            [
             0.7,
             "#b8e186"
            ],
            [
             0.8,
             "#7fbc41"
            ],
            [
             0.9,
             "#4d9221"
            ],
            [
             1,
             "#276419"
            ]
           ],
           "sequential": [
            [
             0,
             "#0d0887"
            ],
            [
             0.1111111111111111,
             "#46039f"
            ],
            [
             0.2222222222222222,
             "#7201a8"
            ],
            [
             0.3333333333333333,
             "#9c179e"
            ],
            [
             0.4444444444444444,
             "#bd3786"
            ],
            [
             0.5555555555555556,
             "#d8576b"
            ],
            [
             0.6666666666666666,
             "#ed7953"
            ],
            [
             0.7777777777777778,
             "#fb9f3a"
            ],
            [
             0.8888888888888888,
             "#fdca26"
            ],
            [
             1,
             "#f0f921"
            ]
           ],
           "sequentialminus": [
            [
             0,
             "#0d0887"
            ],
            [
             0.1111111111111111,
             "#46039f"
            ],
            [
             0.2222222222222222,
             "#7201a8"
            ],
            [
             0.3333333333333333,
             "#9c179e"
            ],
            [
             0.4444444444444444,
             "#bd3786"
            ],
            [
             0.5555555555555556,
             "#d8576b"
            ],
            [
             0.6666666666666666,
             "#ed7953"
            ],
            [
             0.7777777777777778,
             "#fb9f3a"
            ],
            [
             0.8888888888888888,
             "#fdca26"
            ],
            [
             1,
             "#f0f921"
            ]
           ]
          },
          "colorway": [
           "#636efa",
           "#EF553B",
           "#00cc96",
           "#ab63fa",
           "#FFA15A",
           "#19d3f3",
           "#FF6692",
           "#B6E880",
           "#FF97FF",
           "#FECB52"
          ],
          "font": {
           "color": "#2a3f5f"
          },
          "geo": {
           "bgcolor": "white",
           "lakecolor": "white",
           "landcolor": "#E5ECF6",
           "showlakes": true,
           "showland": true,
           "subunitcolor": "white"
          },
          "hoverlabel": {
           "align": "left"
          },
          "hovermode": "closest",
          "mapbox": {
           "style": "light"
          },
          "paper_bgcolor": "white",
          "plot_bgcolor": "#E5ECF6",
          "polar": {
           "angularaxis": {
            "gridcolor": "white",
            "linecolor": "white",
            "ticks": ""
           },
           "bgcolor": "#E5ECF6",
           "radialaxis": {
            "gridcolor": "white",
            "linecolor": "white",
            "ticks": ""
           }
          },
          "scene": {
           "xaxis": {
            "backgroundcolor": "#E5ECF6",
            "gridcolor": "white",
            "gridwidth": 2,
            "linecolor": "white",
            "showbackground": true,
            "ticks": "",
            "zerolinecolor": "white"
           },
           "yaxis": {
            "backgroundcolor": "#E5ECF6",
            "gridcolor": "white",
            "gridwidth": 2,
            "linecolor": "white",
            "showbackground": true,
            "ticks": "",
            "zerolinecolor": "white"
           },
           "zaxis": {
            "backgroundcolor": "#E5ECF6",
            "gridcolor": "white",
            "gridwidth": 2,
            "linecolor": "white",
            "showbackground": true,
            "ticks": "",
            "zerolinecolor": "white"
           }
          },
          "shapedefaults": {
           "line": {
            "color": "#2a3f5f"
           }
          },
          "ternary": {
           "aaxis": {
            "gridcolor": "white",
            "linecolor": "white",
            "ticks": ""
           },
           "baxis": {
            "gridcolor": "white",
            "linecolor": "white",
            "ticks": ""
           },
           "bgcolor": "#E5ECF6",
           "caxis": {
            "gridcolor": "white",
            "linecolor": "white",
            "ticks": ""
           }
          },
          "title": {
           "x": 0.05
          },
          "xaxis": {
           "automargin": true,
           "gridcolor": "white",
           "linecolor": "white",
           "ticks": "",
           "title": {
            "standoff": 15
           },
           "zerolinecolor": "white",
           "zerolinewidth": 2
          },
          "yaxis": {
           "automargin": true,
           "gridcolor": "white",
           "linecolor": "white",
           "ticks": "",
           "title": {
            "standoff": 15
           },
           "zerolinecolor": "white",
           "zerolinewidth": 2
          }
         }
        },
        "title": {
         "text": "Mean Squared Victory Margin"
        },
        "xaxis": {
         "categoryorder": "total descending"
        }
       }
      }
     },
     "metadata": {},
     "output_type": "display_data"
    }
   ],
   "source": [
    "fig = go.Figure()\n",
    "\n",
    "fig.add_trace(\n",
    "    go.Bar(x=list(blowout_idx.values()), y=list(blowout_idx.keys()), \n",
    "           marker=dict(color=list(blowout_idx.keys()), coloraxis=\"coloraxis\"))\n",
    ")\n",
    "\n",
    "fig.update_layout(coloraxis=dict(colorscale=px.colors.sequential.Viridis), \n",
    "                  title=\"Mean Squared Victory Margin\", \n",
    "                  showlegend=False, \n",
    "                  xaxis={'categoryorder':'total descending'},\n",
    "                 )"
   ]
  },
  {
   "cell_type": "markdown",
   "metadata": {},
   "source": [
    "## Smoothing Point Trends\n",
    "\n",
    "The final thing I wanted to consider was smoothing out point trends with a moving average. I'll consider both a three week and a five week moving average, but its a bit tough for fantasy since there are so few data points on which to consider. Below you will see scatterplots showing the points scored in a given week, and then the moving average of points scored per week overlayed on top. Positively sloped lines indicate a team is trending towards scoring more points, whereas a negative slope indicates the opposite. Hover over a point for details, the orange bar represents the 3 game average while the green bar is the 5 game average."
   ]
  },
  {
   "cell_type": "code",
   "execution_count": 14,
   "metadata": {},
   "outputs": [
    {
     "data": {
      "application/vnd.plotly.v1+json": {
       "config": {
        "plotlyServerURL": "https://plot.ly"
       },
       "data": [
        {
         "line": {
          "color": "orange",
          "width": 1
         },
         "name": "3 Game Avg.",
         "type": "scatter",
         "x": [
          "Week 1",
          "Week 2",
          "Week 3",
          "Week 4",
          "Week 5",
          "Week 6",
          "Week 7"
         ],
         "xaxis": "x",
         "y": [
          171.86,
          149.73,
          135.99,
          115.31,
          110.61,
          121.61,
          130.3
         ],
         "yaxis": "y"
        },
        {
         "line": {
          "color": "green",
          "width": 1
         },
         "name": "5 Game Avg.",
         "type": "scatter",
         "x": [
          "Week 1",
          "Week 2",
          "Week 3",
          "Week 4",
          "Week 5",
          "Week 6",
          "Week 7"
         ],
         "xaxis": "x",
         "y": [
          171.86,
          149.73,
          135.99,
          129.44,
          126.26,
          120.19,
          121.84
         ],
         "yaxis": "y"
        },
        {
         "marker": {
          "color": "rgba(152, 0, 0, .8)"
         },
         "mode": "markers",
         "name": "Score",
         "type": "scatter",
         "x": [
          "Week 1",
          "Week 2",
          "Week 3",
          "Week 4",
          "Week 5",
          "Week 6",
          "Week 7"
         ],
         "xaxis": "x",
         "y": [
          171.86,
          127.6,
          108.52,
          109.8,
          113.5,
          141.54,
          135.86
         ],
         "yaxis": "y"
        },
        {
         "line": {
          "color": "orange",
          "width": 1
         },
         "name": "3 Game Avg.",
         "type": "scatter",
         "x": [
          "Week 1",
          "Week 2",
          "Week 3",
          "Week 4",
          "Week 5",
          "Week 6",
          "Week 7"
         ],
         "xaxis": "x2",
         "y": [
          113.42,
          105.45,
          98.51,
          106.71,
          111.64,
          108.9,
          99.57
         ],
         "yaxis": "y2"
        },
        {
         "line": {
          "color": "green",
          "width": 1
         },
         "name": "5 Game Avg.",
         "type": "scatter",
         "x": [
          "Week 1",
          "Week 2",
          "Week 3",
          "Week 4",
          "Week 5",
          "Week 6",
          "Week 7"
         ],
         "xaxis": "x2",
         "y": [
          113.42,
          105.45,
          98.51,
          108.38,
          109.16,
          101.76,
          104.27
         ],
         "yaxis": "y2"
        },
        {
         "marker": {
          "color": "rgba(152, 0, 0, .8)"
         },
         "mode": "markers",
         "name": "Score",
         "type": "scatter",
         "x": [
          "Week 1",
          "Week 2",
          "Week 3",
          "Week 4",
          "Week 5",
          "Week 6",
          "Week 7"
         ],
         "xaxis": "x2",
         "y": [
          113.42,
          97.48,
          84.62,
          138.02,
          112.28,
          76.4,
          110.04
         ],
         "yaxis": "y2"
        },
        {
         "line": {
          "color": "orange",
          "width": 1
         },
         "name": "3 Game Avg.",
         "type": "scatter",
         "x": [
          "Week 1",
          "Week 2",
          "Week 3",
          "Week 4",
          "Week 5",
          "Week 6",
          "Week 7"
         ],
         "xaxis": "x3",
         "y": [
          116.1,
          122.63,
          118.33,
          115.77,
          132.98,
          140.25,
          140.07
         ],
         "yaxis": "y3"
        },
        {
         "line": {
          "color": "green",
          "width": 1
         },
         "name": "5 Game Avg.",
         "type": "scatter",
         "x": [
          "Week 1",
          "Week 2",
          "Week 3",
          "Week 4",
          "Week 5",
          "Week 6",
          "Week 7"
         ],
         "xaxis": "x3",
         "y": [
          116.1,
          122.63,
          118.33,
          115.85,
          128.84,
          131.92,
          127.67
         ],
         "yaxis": "y3"
        },
        {
         "marker": {
          "color": "rgba(152, 0, 0, .8)"
         },
         "mode": "markers",
         "name": "Score",
         "type": "scatter",
         "x": [
          "Week 1",
          "Week 2",
          "Week 3",
          "Week 4",
          "Week 5",
          "Week 6",
          "Week 7"
         ],
         "xaxis": "x3",
         "y": [
          116.1,
          129.16,
          109.72,
          108.42,
          180.8,
          131.52,
          107.88
         ],
         "yaxis": "y3"
        },
        {
         "line": {
          "color": "orange",
          "width": 1
         },
         "name": "3 Game Avg.",
         "type": "scatter",
         "x": [
          "Week 1",
          "Week 2",
          "Week 3",
          "Week 4",
          "Week 5",
          "Week 6",
          "Week 7"
         ],
         "xaxis": "x4",
         "y": [
          83.02,
          107.42,
          121.69,
          135.68,
          143.18,
          132.23,
          137.71
         ],
         "yaxis": "y4"
        },
        {
         "line": {
          "color": "green",
          "width": 1
         },
         "name": "5 Game Avg.",
         "type": "scatter",
         "x": [
          "Week 1",
          "Week 2",
          "Week 3",
          "Week 4",
          "Week 5",
          "Week 6",
          "Week 7"
         ],
         "xaxis": "x4",
         "y": [
          83.02,
          107.42,
          121.69,
          122.52,
          128.88,
          135.75,
          137.67
         ],
         "yaxis": "y4"
        },
        {
         "marker": {
          "color": "rgba(152, 0, 0, .8)"
         },
         "mode": "markers",
         "name": "Score",
         "type": "scatter",
         "x": [
          "Week 1",
          "Week 2",
          "Week 3",
          "Week 4",
          "Week 5",
          "Week 6",
          "Week 7"
         ],
         "xaxis": "x4",
         "y": [
          83.02,
          131.82,
          150.24,
          124.98,
          154.32,
          117.4,
          141.42
         ],
         "yaxis": "y4"
        },
        {
         "line": {
          "color": "orange",
          "width": 1
         },
         "name": "3 Game Avg.",
         "type": "scatter",
         "x": [
          "Week 1",
          "Week 2",
          "Week 3",
          "Week 4",
          "Week 5",
          "Week 6",
          "Week 7"
         ],
         "xaxis": "x5",
         "y": [
          105.08,
          112.7,
          121.98,
          128.06,
          126.04,
          121.38,
          119.95
         ],
         "yaxis": "y5"
        },
        {
         "line": {
          "color": "green",
          "width": 1
         },
         "name": "5 Game Avg.",
         "type": "scatter",
         "x": [
          "Week 1",
          "Week 2",
          "Week 3",
          "Week 4",
          "Week 5",
          "Week 6",
          "Week 7"
         ],
         "xaxis": "x5",
         "y": [
          105.08,
          112.7,
          121.98,
          122.31,
          120.7,
          125,
          124.74
         ],
         "yaxis": "y5"
        },
        {
         "marker": {
          "color": "rgba(152, 0, 0, .8)"
         },
         "mode": "markers",
         "name": "Score",
         "type": "scatter",
         "x": [
          "Week 1",
          "Week 2",
          "Week 3",
          "Week 4",
          "Week 5",
          "Week 6",
          "Week 7"
         ],
         "xaxis": "x5",
         "y": [
          105.08,
          120.32,
          140.54,
          123.32,
          114.26,
          126.56,
          119.04
         ],
         "yaxis": "y5"
        },
        {
         "line": {
          "color": "orange",
          "width": 1
         },
         "name": "3 Game Avg.",
         "type": "scatter",
         "x": [
          "Week 1",
          "Week 2",
          "Week 3",
          "Week 4",
          "Week 5",
          "Week 6",
          "Week 7"
         ],
         "xaxis": "x6",
         "y": [
          126.38,
          146.54,
          148.41,
          152.51,
          136.81,
          136.43,
          137.15
         ],
         "yaxis": "y6"
        },
        {
         "line": {
          "color": "green",
          "width": 1
         },
         "name": "5 Game Avg.",
         "type": "scatter",
         "x": [
          "Week 1",
          "Week 2",
          "Week 3",
          "Week 4",
          "Week 5",
          "Week 6",
          "Week 7"
         ],
         "xaxis": "x6",
         "y": [
          126.38,
          146.54,
          148.41,
          145.97,
          140.7,
          145.63,
          140.46
         ],
         "yaxis": "y6"
        },
        {
         "marker": {
          "color": "rgba(152, 0, 0, .8)"
         },
         "mode": "markers",
         "name": "Score",
         "type": "scatter",
         "x": [
          "Week 1",
          "Week 2",
          "Week 3",
          "Week 4",
          "Week 5",
          "Week 6",
          "Week 7"
         ],
         "xaxis": "x6",
         "y": [
          126.38,
          166.7,
          152.14,
          138.68,
          119.62,
          151,
          140.84
         ],
         "yaxis": "y6"
        },
        {
         "line": {
          "color": "orange",
          "width": 1
         },
         "name": "3 Game Avg.",
         "type": "scatter",
         "x": [
          "Week 1",
          "Week 2",
          "Week 3",
          "Week 4",
          "Week 5",
          "Week 6",
          "Week 7"
         ],
         "xaxis": "x7",
         "y": [
          126.5,
          117.53,
          115.78,
          112.99,
          121.3,
          127.67,
          140.11
         ],
         "yaxis": "y7"
        },
        {
         "line": {
          "color": "green",
          "width": 1
         },
         "name": "5 Game Avg.",
         "type": "scatter",
         "x": [
          "Week 1",
          "Week 2",
          "Week 3",
          "Week 4",
          "Week 5",
          "Week 6",
          "Week 7"
         ],
         "xaxis": "x7",
         "y": [
          126.5,
          117.53,
          115.78,
          116.37,
          119.79,
          120.77,
          130.15
         ],
         "yaxis": "y7"
        },
        {
         "marker": {
          "color": "rgba(152, 0, 0, .8)"
         },
         "mode": "markers",
         "name": "Score",
         "type": "scatter",
         "x": [
          "Week 1",
          "Week 2",
          "Week 3",
          "Week 4",
          "Week 5",
          "Week 6",
          "Week 7"
         ],
         "xaxis": "x7",
         "y": [
          126.5,
          108.56,
          112.28,
          118.14,
          133.48,
          131.38,
          155.48
         ],
         "yaxis": "y7"
        },
        {
         "line": {
          "color": "orange",
          "width": 1
         },
         "name": "3 Game Avg.",
         "type": "scatter",
         "x": [
          "Week 1",
          "Week 2",
          "Week 3",
          "Week 4",
          "Week 5",
          "Week 6",
          "Week 7"
         ],
         "xaxis": "x8",
         "y": [
          127.06,
          132.89,
          133,
          129.77,
          126.25,
          136.25,
          138.66
         ],
         "yaxis": "y8"
        },
        {
         "line": {
          "color": "green",
          "width": 1
         },
         "name": "5 Game Avg.",
         "type": "scatter",
         "x": [
          "Week 1",
          "Week 2",
          "Week 3",
          "Week 4",
          "Week 5",
          "Week 6",
          "Week 7"
         ],
         "xaxis": "x8",
         "y": [
          127.06,
          132.89,
          133,
          129.09,
          128.91,
          136.14,
          133.31
         ],
         "yaxis": "y8"
        },
        {
         "marker": {
          "color": "rgba(152, 0, 0, .8)"
         },
         "mode": "markers",
         "name": "Score",
         "type": "scatter",
         "x": [
          "Week 1",
          "Week 2",
          "Week 3",
          "Week 4",
          "Week 5",
          "Week 6",
          "Week 7"
         ],
         "xaxis": "x8",
         "y": [
          127.06,
          138.72,
          133.22,
          117.36,
          128.18,
          163.22,
          124.58
         ],
         "yaxis": "y8"
        },
        {
         "line": {
          "color": "orange",
          "width": 1
         },
         "name": "3 Game Avg.",
         "type": "scatter",
         "x": [
          "Week 1",
          "Week 2",
          "Week 3",
          "Week 4",
          "Week 5",
          "Week 6",
          "Week 7"
         ],
         "xaxis": "x9",
         "y": [
          170.38,
          132.4,
          115.43,
          111.68,
          135.3,
          160.49,
          138.3
         ],
         "yaxis": "y9"
        },
        {
         "line": {
          "color": "green",
          "width": 1
         },
         "name": "5 Game Avg.",
         "type": "scatter",
         "x": [
          "Week 1",
          "Week 2",
          "Week 3",
          "Week 4",
          "Week 5",
          "Week 6",
          "Week 7"
         ],
         "xaxis": "x9",
         "y": [
          170.38,
          132.4,
          115.43,
          126.36,
          134.14,
          131.48,
          131.1
         ],
         "yaxis": "y9"
        },
        {
         "marker": {
          "color": "rgba(152, 0, 0, .8)"
         },
         "mode": "markers",
         "name": "Score",
         "type": "scatter",
         "x": [
          "Week 1",
          "Week 2",
          "Week 3",
          "Week 4",
          "Week 5",
          "Week 6",
          "Week 7"
         ],
         "xaxis": "x9",
         "y": [
          170.38,
          94.42,
          81.5,
          159.12,
          165.28,
          157.08,
          92.54
         ],
         "yaxis": "y9"
        },
        {
         "line": {
          "color": "orange",
          "width": 1
         },
         "name": "3 Game Avg.",
         "type": "scatter",
         "x": [
          "Week 1",
          "Week 2",
          "Week 3",
          "Week 4",
          "Week 5",
          "Week 6",
          "Week 7"
         ],
         "xaxis": "x10",
         "y": [
          84.62,
          108.16,
          111.59,
          122.59,
          131.77,
          138.16,
          134.31
         ],
         "yaxis": "y10"
        },
        {
         "line": {
          "color": "green",
          "width": 1
         },
         "name": "5 Game Avg.",
         "type": "scatter",
         "x": [
          "Week 1",
          "Week 2",
          "Week 3",
          "Week 4",
          "Week 5",
          "Week 6",
          "Week 7"
         ],
         "xaxis": "x10",
         "y": [
          84.62,
          108.16,
          111.59,
          113.09,
          122.33,
          132.92,
          127.8
         ],
         "yaxis": "y10"
        },
        {
         "marker": {
          "color": "rgba(152, 0, 0, .8)"
         },
         "mode": "markers",
         "name": "Score",
         "type": "scatter",
         "x": [
          "Week 1",
          "Week 2",
          "Week 3",
          "Week 4",
          "Week 5",
          "Week 6",
          "Week 7"
         ],
         "xaxis": "x10",
         "y": [
          84.62,
          131.7,
          118.44,
          117.62,
          159.26,
          137.6,
          106.06
         ],
         "yaxis": "y10"
        }
       ],
       "layout": {
        "annotations": [
         {
          "font": {
           "size": 16
          },
          "showarrow": false,
          "text": "My Goat Loves You",
          "x": 0.225,
          "xanchor": "center",
          "xref": "paper",
          "y": 1,
          "yanchor": "bottom",
          "yref": "paper"
         },
         {
          "font": {
           "size": 16
          },
          "showarrow": false,
          "text": "RB sanctuary",
          "x": 0.775,
          "xanchor": "center",
          "xref": "paper",
          "y": 1,
          "yanchor": "bottom",
          "yref": "paper"
         },
         {
          "font": {
           "size": 16
          },
          "showarrow": false,
          "text": "The Brutherhood",
          "x": 0.225,
          "xanchor": "center",
          "xref": "paper",
          "y": 0.78,
          "yanchor": "bottom",
          "yref": "paper"
         },
         {
          "font": {
           "size": 16
          },
          "showarrow": false,
          "text": "Tree Leaves",
          "x": 0.775,
          "xanchor": "center",
          "xref": "paper",
          "y": 0.78,
          "yanchor": "bottom",
          "yref": "paper"
         },
         {
          "font": {
           "size": 16
          },
          "showarrow": false,
          "text": "the noés",
          "x": 0.225,
          "xanchor": "center",
          "xref": "paper",
          "y": 0.56,
          "yanchor": "bottom",
          "yref": "paper"
         },
         {
          "font": {
           "size": 16
          },
          "showarrow": false,
          "text": "AssNTitties",
          "x": 0.775,
          "xanchor": "center",
          "xref": "paper",
          "y": 0.56,
          "yanchor": "bottom",
          "yref": "paper"
         },
         {
          "font": {
           "size": 16
          },
          "showarrow": false,
          "text": "billcap",
          "x": 0.225,
          "xanchor": "center",
          "xref": "paper",
          "y": 0.33999999999999997,
          "yanchor": "bottom",
          "yref": "paper"
         },
         {
          "font": {
           "size": 16
          },
          "showarrow": false,
          "text": "Thicc King",
          "x": 0.775,
          "xanchor": "center",
          "xref": "paper",
          "y": 0.33999999999999997,
          "yanchor": "bottom",
          "yref": "paper"
         },
         {
          "font": {
           "size": 16
          },
          "showarrow": false,
          "text": "tealeaves",
          "x": 0.225,
          "xanchor": "center",
          "xref": "paper",
          "y": 0.12,
          "yanchor": "bottom",
          "yref": "paper"
         },
         {
          "font": {
           "size": 16
          },
          "showarrow": false,
          "text": "SideThicc #2",
          "x": 0.775,
          "xanchor": "center",
          "xref": "paper",
          "y": 0.12,
          "yanchor": "bottom",
          "yref": "paper"
         }
        ],
        "height": 1000,
        "showlegend": false,
        "template": {
         "data": {
          "bar": [
           {
            "error_x": {
             "color": "#2a3f5f"
            },
            "error_y": {
             "color": "#2a3f5f"
            },
            "marker": {
             "line": {
              "color": "#E5ECF6",
              "width": 0.5
             },
             "pattern": {
              "fillmode": "overlay",
              "size": 10,
              "solidity": 0.2
             }
            },
            "type": "bar"
           }
          ],
          "barpolar": [
           {
            "marker": {
             "line": {
              "color": "#E5ECF6",
              "width": 0.5
             },
             "pattern": {
              "fillmode": "overlay",
              "size": 10,
              "solidity": 0.2
             }
            },
            "type": "barpolar"
           }
          ],
          "carpet": [
           {
            "aaxis": {
             "endlinecolor": "#2a3f5f",
             "gridcolor": "white",
             "linecolor": "white",
             "minorgridcolor": "white",
             "startlinecolor": "#2a3f5f"
            },
            "baxis": {
             "endlinecolor": "#2a3f5f",
             "gridcolor": "white",
             "linecolor": "white",
             "minorgridcolor": "white",
             "startlinecolor": "#2a3f5f"
            },
            "type": "carpet"
           }
          ],
          "choropleth": [
           {
            "colorbar": {
             "outlinewidth": 0,
             "ticks": ""
            },
            "type": "choropleth"
           }
          ],
          "contour": [
           {
            "colorbar": {
             "outlinewidth": 0,
             "ticks": ""
            },
            "colorscale": [
             [
              0,
              "#0d0887"
             ],
             [
              0.1111111111111111,
              "#46039f"
             ],
             [
              0.2222222222222222,
              "#7201a8"
             ],
             [
              0.3333333333333333,
              "#9c179e"
             ],
             [
              0.4444444444444444,
              "#bd3786"
             ],
             [
              0.5555555555555556,
              "#d8576b"
             ],
             [
              0.6666666666666666,
              "#ed7953"
             ],
             [
              0.7777777777777778,
              "#fb9f3a"
             ],
             [
              0.8888888888888888,
              "#fdca26"
             ],
             [
              1,
              "#f0f921"
             ]
            ],
            "type": "contour"
           }
          ],
          "contourcarpet": [
           {
            "colorbar": {
             "outlinewidth": 0,
             "ticks": ""
            },
            "type": "contourcarpet"
           }
          ],
          "heatmap": [
           {
            "colorbar": {
             "outlinewidth": 0,
             "ticks": ""
            },
            "colorscale": [
             [
              0,
              "#0d0887"
             ],
             [
              0.1111111111111111,
              "#46039f"
             ],
             [
              0.2222222222222222,
              "#7201a8"
             ],
             [
              0.3333333333333333,
              "#9c179e"
             ],
             [
              0.4444444444444444,
              "#bd3786"
             ],
             [
              0.5555555555555556,
              "#d8576b"
             ],
             [
              0.6666666666666666,
              "#ed7953"
             ],
             [
              0.7777777777777778,
              "#fb9f3a"
             ],
             [
              0.8888888888888888,
              "#fdca26"
             ],
             [
              1,
              "#f0f921"
             ]
            ],
            "type": "heatmap"
           }
          ],
          "heatmapgl": [
           {
            "colorbar": {
             "outlinewidth": 0,
             "ticks": ""
            },
            "colorscale": [
             [
              0,
              "#0d0887"
             ],
             [
              0.1111111111111111,
              "#46039f"
             ],
             [
              0.2222222222222222,
              "#7201a8"
             ],
             [
              0.3333333333333333,
              "#9c179e"
             ],
             [
              0.4444444444444444,
              "#bd3786"
             ],
             [
              0.5555555555555556,
              "#d8576b"
             ],
             [
              0.6666666666666666,
              "#ed7953"
             ],
             [
              0.7777777777777778,
              "#fb9f3a"
             ],
             [
              0.8888888888888888,
              "#fdca26"
             ],
             [
              1,
              "#f0f921"
             ]
            ],
            "type": "heatmapgl"
           }
          ],
          "histogram": [
           {
            "marker": {
             "pattern": {
              "fillmode": "overlay",
              "size": 10,
              "solidity": 0.2
             }
            },
            "type": "histogram"
           }
          ],
          "histogram2d": [
           {
            "colorbar": {
             "outlinewidth": 0,
             "ticks": ""
            },
            "colorscale": [
             [
              0,
              "#0d0887"
             ],
             [
              0.1111111111111111,
              "#46039f"
             ],
             [
              0.2222222222222222,
              "#7201a8"
             ],
             [
              0.3333333333333333,
              "#9c179e"
             ],
             [
              0.4444444444444444,
              "#bd3786"
             ],
             [
              0.5555555555555556,
              "#d8576b"
             ],
             [
              0.6666666666666666,
              "#ed7953"
             ],
             [
              0.7777777777777778,
              "#fb9f3a"
             ],
             [
              0.8888888888888888,
              "#fdca26"
             ],
             [
              1,
              "#f0f921"
             ]
            ],
            "type": "histogram2d"
           }
          ],
          "histogram2dcontour": [
           {
            "colorbar": {
             "outlinewidth": 0,
             "ticks": ""
            },
            "colorscale": [
             [
              0,
              "#0d0887"
             ],
             [
              0.1111111111111111,
              "#46039f"
             ],
             [
              0.2222222222222222,
              "#7201a8"
             ],
             [
              0.3333333333333333,
              "#9c179e"
             ],
             [
              0.4444444444444444,
              "#bd3786"
             ],
             [
              0.5555555555555556,
              "#d8576b"
             ],
             [
              0.6666666666666666,
              "#ed7953"
             ],
             [
              0.7777777777777778,
              "#fb9f3a"
             ],
             [
              0.8888888888888888,
              "#fdca26"
             ],
             [
              1,
              "#f0f921"
             ]
            ],
            "type": "histogram2dcontour"
           }
          ],
          "mesh3d": [
           {
            "colorbar": {
             "outlinewidth": 0,
             "ticks": ""
            },
            "type": "mesh3d"
           }
          ],
          "parcoords": [
           {
            "line": {
             "colorbar": {
              "outlinewidth": 0,
              "ticks": ""
             }
            },
            "type": "parcoords"
           }
          ],
          "pie": [
           {
            "automargin": true,
            "type": "pie"
           }
          ],
          "scatter": [
           {
            "marker": {
             "colorbar": {
              "outlinewidth": 0,
              "ticks": ""
             }
            },
            "type": "scatter"
           }
          ],
          "scatter3d": [
           {
            "line": {
             "colorbar": {
              "outlinewidth": 0,
              "ticks": ""
             }
            },
            "marker": {
             "colorbar": {
              "outlinewidth": 0,
              "ticks": ""
             }
            },
            "type": "scatter3d"
           }
          ],
          "scattercarpet": [
           {
            "marker": {
             "colorbar": {
              "outlinewidth": 0,
              "ticks": ""
             }
            },
            "type": "scattercarpet"
           }
          ],
          "scattergeo": [
           {
            "marker": {
             "colorbar": {
              "outlinewidth": 0,
              "ticks": ""
             }
            },
            "type": "scattergeo"
           }
          ],
          "scattergl": [
           {
            "marker": {
             "colorbar": {
              "outlinewidth": 0,
              "ticks": ""
             }
            },
            "type": "scattergl"
           }
          ],
          "scattermapbox": [
           {
            "marker": {
             "colorbar": {
              "outlinewidth": 0,
              "ticks": ""
             }
            },
            "type": "scattermapbox"
           }
          ],
          "scatterpolar": [
           {
            "marker": {
             "colorbar": {
              "outlinewidth": 0,
              "ticks": ""
             }
            },
            "type": "scatterpolar"
           }
          ],
          "scatterpolargl": [
           {
            "marker": {
             "colorbar": {
              "outlinewidth": 0,
              "ticks": ""
             }
            },
            "type": "scatterpolargl"
           }
          ],
          "scatterternary": [
           {
            "marker": {
             "colorbar": {
              "outlinewidth": 0,
              "ticks": ""
             }
            },
            "type": "scatterternary"
           }
          ],
          "surface": [
           {
            "colorbar": {
             "outlinewidth": 0,
             "ticks": ""
            },
            "colorscale": [
             [
              0,
              "#0d0887"
             ],
             [
              0.1111111111111111,
              "#46039f"
             ],
             [
              0.2222222222222222,
              "#7201a8"
             ],
             [
              0.3333333333333333,
              "#9c179e"
             ],
             [
              0.4444444444444444,
              "#bd3786"
             ],
             [
              0.5555555555555556,
              "#d8576b"
             ],
             [
              0.6666666666666666,
              "#ed7953"
             ],
             [
              0.7777777777777778,
              "#fb9f3a"
             ],
             [
              0.8888888888888888,
              "#fdca26"
             ],
             [
              1,
              "#f0f921"
             ]
            ],
            "type": "surface"
           }
          ],
          "table": [
           {
            "cells": {
             "fill": {
              "color": "#EBF0F8"
             },
             "line": {
              "color": "white"
             }
            },
            "header": {
             "fill": {
              "color": "#C8D4E3"
             },
             "line": {
              "color": "white"
             }
            },
            "type": "table"
           }
          ]
         },
         "layout": {
          "annotationdefaults": {
           "arrowcolor": "#2a3f5f",
           "arrowhead": 0,
           "arrowwidth": 1
          },
          "autotypenumbers": "strict",
          "coloraxis": {
           "colorbar": {
            "outlinewidth": 0,
            "ticks": ""
           }
          },
          "colorscale": {
           "diverging": [
            [
             0,
             "#8e0152"
            ],
            [
             0.1,
             "#c51b7d"
            ],
            [
             0.2,
             "#de77ae"
            ],
            [
             0.3,
             "#f1b6da"
            ],
            [
             0.4,
             "#fde0ef"
            ],
            [
             0.5,
             "#f7f7f7"
            ],
            [
             0.6,
             "#e6f5d0"
            ],
            [
             0.7,
             "#b8e186"
            ],
            [
             0.8,
             "#7fbc41"
            ],
            [
             0.9,
             "#4d9221"
            ],
            [
             1,
             "#276419"
            ]
           ],
           "sequential": [
            [
             0,
             "#0d0887"
            ],
            [
             0.1111111111111111,
             "#46039f"
            ],
            [
             0.2222222222222222,
             "#7201a8"
            ],
            [
             0.3333333333333333,
             "#9c179e"
            ],
            [
             0.4444444444444444,
             "#bd3786"
            ],
            [
             0.5555555555555556,
             "#d8576b"
            ],
            [
             0.6666666666666666,
             "#ed7953"
            ],
            [
             0.7777777777777778,
             "#fb9f3a"
            ],
            [
             0.8888888888888888,
             "#fdca26"
            ],
            [
             1,
             "#f0f921"
            ]
           ],
           "sequentialminus": [
            [
             0,
             "#0d0887"
            ],
            [
             0.1111111111111111,
             "#46039f"
            ],
            [
             0.2222222222222222,
             "#7201a8"
            ],
            [
             0.3333333333333333,
             "#9c179e"
            ],
            [
             0.4444444444444444,
             "#bd3786"
            ],
            [
             0.5555555555555556,
             "#d8576b"
            ],
            [
             0.6666666666666666,
             "#ed7953"
            ],
            [
             0.7777777777777778,
             "#fb9f3a"
            ],
            [
             0.8888888888888888,
             "#fdca26"
            ],
            [
             1,
             "#f0f921"
            ]
           ]
          },
          "colorway": [
           "#636efa",
           "#EF553B",
           "#00cc96",
           "#ab63fa",
           "#FFA15A",
           "#19d3f3",
           "#FF6692",
           "#B6E880",
           "#FF97FF",
           "#FECB52"
          ],
          "font": {
           "color": "#2a3f5f"
          },
          "geo": {
           "bgcolor": "white",
           "lakecolor": "white",
           "landcolor": "#E5ECF6",
           "showlakes": true,
           "showland": true,
           "subunitcolor": "white"
          },
          "hoverlabel": {
           "align": "left"
          },
          "hovermode": "closest",
          "mapbox": {
           "style": "light"
          },
          "paper_bgcolor": "white",
          "plot_bgcolor": "#E5ECF6",
          "polar": {
           "angularaxis": {
            "gridcolor": "white",
            "linecolor": "white",
            "ticks": ""
           },
           "bgcolor": "#E5ECF6",
           "radialaxis": {
            "gridcolor": "white",
            "linecolor": "white",
            "ticks": ""
           }
          },
          "scene": {
           "xaxis": {
            "backgroundcolor": "#E5ECF6",
            "gridcolor": "white",
            "gridwidth": 2,
            "linecolor": "white",
            "showbackground": true,
            "ticks": "",
            "zerolinecolor": "white"
           },
           "yaxis": {
            "backgroundcolor": "#E5ECF6",
            "gridcolor": "white",
            "gridwidth": 2,
            "linecolor": "white",
            "showbackground": true,
            "ticks": "",
            "zerolinecolor": "white"
           },
           "zaxis": {
            "backgroundcolor": "#E5ECF6",
            "gridcolor": "white",
            "gridwidth": 2,
            "linecolor": "white",
            "showbackground": true,
            "ticks": "",
            "zerolinecolor": "white"
           }
          },
          "shapedefaults": {
           "line": {
            "color": "#2a3f5f"
           }
          },
          "ternary": {
           "aaxis": {
            "gridcolor": "white",
            "linecolor": "white",
            "ticks": ""
           },
           "baxis": {
            "gridcolor": "white",
            "linecolor": "white",
            "ticks": ""
           },
           "bgcolor": "#E5ECF6",
           "caxis": {
            "gridcolor": "white",
            "linecolor": "white",
            "ticks": ""
           }
          },
          "title": {
           "x": 0.05
          },
          "xaxis": {
           "automargin": true,
           "gridcolor": "white",
           "linecolor": "white",
           "ticks": "",
           "title": {
            "standoff": 15
           },
           "zerolinecolor": "white",
           "zerolinewidth": 2
          },
          "yaxis": {
           "automargin": true,
           "gridcolor": "white",
           "linecolor": "white",
           "ticks": "",
           "title": {
            "standoff": 15
           },
           "zerolinecolor": "white",
           "zerolinewidth": 2
          }
         }
        },
        "title": {
         "text": "Points Scored with Moving Averages"
        },
        "width": 950,
        "xaxis": {
         "anchor": "y",
         "domain": [
          0,
          0.45
         ]
        },
        "xaxis10": {
         "anchor": "y10",
         "domain": [
          0.55,
          1
         ]
        },
        "xaxis2": {
         "anchor": "y2",
         "domain": [
          0.55,
          1
         ]
        },
        "xaxis3": {
         "anchor": "y3",
         "domain": [
          0,
          0.45
         ]
        },
        "xaxis4": {
         "anchor": "y4",
         "domain": [
          0.55,
          1
         ]
        },
        "xaxis5": {
         "anchor": "y5",
         "domain": [
          0,
          0.45
         ]
        },
        "xaxis6": {
         "anchor": "y6",
         "domain": [
          0.55,
          1
         ]
        },
        "xaxis7": {
         "anchor": "y7",
         "domain": [
          0,
          0.45
         ]
        },
        "xaxis8": {
         "anchor": "y8",
         "domain": [
          0.55,
          1
         ]
        },
        "xaxis9": {
         "anchor": "y9",
         "domain": [
          0,
          0.45
         ]
        },
        "yaxis": {
         "anchor": "x",
         "domain": [
          0.88,
          1
         ]
        },
        "yaxis10": {
         "anchor": "x10",
         "domain": [
          0,
          0.12
         ],
         "matches": "y9",
         "showticklabels": false
        },
        "yaxis2": {
         "anchor": "x2",
         "domain": [
          0.88,
          1
         ],
         "matches": "y",
         "showticklabels": false
        },
        "yaxis3": {
         "anchor": "x3",
         "domain": [
          0.66,
          0.78
         ]
        },
        "yaxis4": {
         "anchor": "x4",
         "domain": [
          0.66,
          0.78
         ],
         "matches": "y3",
         "showticklabels": false
        },
        "yaxis5": {
         "anchor": "x5",
         "domain": [
          0.44,
          0.56
         ]
        },
        "yaxis6": {
         "anchor": "x6",
         "domain": [
          0.44,
          0.56
         ],
         "matches": "y5",
         "showticklabels": false
        },
        "yaxis7": {
         "anchor": "x7",
         "domain": [
          0.22,
          0.33999999999999997
         ]
        },
        "yaxis8": {
         "anchor": "x8",
         "domain": [
          0.22,
          0.33999999999999997
         ],
         "matches": "y7",
         "showticklabels": false
        },
        "yaxis9": {
         "anchor": "x9",
         "domain": [
          0,
          0.12
         ]
        }
       }
      }
     },
     "metadata": {},
     "output_type": "display_data"
    }
   ],
   "source": [
    "fig = make_subplots(rows=5, cols=2, shared_yaxes=True, subplot_titles=list(NAME_PAIRINGS.values()))\n",
    "\n",
    "for i in range(5):\n",
    "    for j in range(1, 3):           \n",
    "        fig.add_trace(\n",
    "            go.Scatter(x=[f\"Week {week}\" for week in range(1, CURRENT_WEEK+1)], \n",
    "                       y=stats[list(stats.keys())[(i+i+j)-1]][STATS_FIELDS.index(\"3 game rolling average\")], \n",
    "                       line=dict(color='orange', width=1),\n",
    "                       name=\"3 Game Avg.\"),\n",
    "            i+1, j\n",
    "        )\n",
    "        \n",
    "        fig.add_trace(\n",
    "            go.Scatter(x=[f\"Week {week}\" for week in range(1, CURRENT_WEEK+1)], \n",
    "                       y=stats[list(stats.keys())[(i+i+j)-1]][STATS_FIELDS.index(\"5 game rolling average\")], \n",
    "                       line=dict(color='green', width=1),\n",
    "                       name=\"5 Game Avg.\"),\n",
    "            i+1, j\n",
    "        )\n",
    "        \n",
    "        fig.add_trace(\n",
    "            go.Scatter(x=[f\"Week {week}\" for week in range(1, CURRENT_WEEK+1)], \n",
    "                       y=stats[list(stats.keys())[(i+i+j)-1]][STATS_FIELDS.index(\"Weekly Points For\")],\n",
    "                       mode=\"markers\",\n",
    "                       marker_color='rgba(152, 0, 0, .8)',\n",
    "                       name=\"Score\"),\n",
    "            i+1, j\n",
    "        )\n",
    "\n",
    "fig.update_layout(title=\"Points Scored with Moving Averages\",\n",
    "                  height=1000, \n",
    "                  showlegend=False,\n",
    "                  width=950)\n",
    "\n",
    "fig.show()"
   ]
  },
  {
   "cell_type": "markdown",
   "metadata": {},
   "source": [
    "## Raw Data\n",
    "\n",
    "If you would like to see more raw printouts of the data I used and generated, run the cell below."
   ]
  },
  {
   "cell_type": "code",
   "execution_count": 15,
   "metadata": {},
   "outputs": [
    {
     "name": "stdout",
     "output_type": "stream",
     "text": [
      "\n",
      "----------- My Goat Loves You -----------\n",
      "Weeks: 7\n",
      "Weekly Points For: [171.86, 127.6, 108.52, 109.8, 113.5, 141.54, 135.86]\n",
      "Weekly Points Against: [113.42, 108.56, 152.14, 159.12, 114.26, 163.22, 107.88]\n",
      "Points For: 908.68\n",
      "Points Against: 918.6\n",
      "Points per Game: 129.81\n",
      "Median Points Scored: 127.6\n",
      "Points Against per Game: 131.23\n",
      "Median Points Against: 114.26\n",
      "3 Game Rolling Average Points Scored\n",
      "\tWeeks 1-4: 171.86 ppg\n",
      "\tWeeks 2-5: 149.73 ppg\n",
      "\tWeeks 3-6: 135.99 ppg\n",
      "\tWeeks 4-7: 115.31 ppg\n",
      "\tWeeks 5-8: 110.61 ppg\n",
      "\tWeeks 6-9: 121.61 ppg\n",
      "\tWeeks 7-10: 130.3 ppg\n",
      "5 Game Rolling Average Points Scored\n",
      "\tWeeks 1-6: 171.86 ppg\n",
      "\tWeeks 2-7: 149.73 ppg\n",
      "\tWeeks 3-8: 135.99 ppg\n",
      "\tWeeks 4-9: 129.44 ppg\n",
      "\tWeeks 5-10: 126.26 ppg\n",
      "\tWeeks 6-11: 120.19 ppg\n",
      "\tWeeks 7-12: 121.84 ppg\n",
      "Total Breakout Games (30 pts): 4\n",
      "\tWeek 0: 1 breakouts\n",
      "\tWeek 1: 1 breakouts\n",
      "\tWeek 2: 0 breakouts\n",
      "\tWeek 3: 1 breakouts\n",
      "\tWeek 4: 0 breakouts\n",
      "\tWeek 5: 1 breakouts\n",
      "\tWeek 6: 0 breakouts\n",
      "Total Breakout Games Against (30 pts): 4\n",
      "\tWeek 0: 0 breakouts against\n",
      "\tWeek 1: 1 breakouts against\n",
      "\tWeek 2: 0 breakouts against\n",
      "\tWeek 3: 2 breakouts against\n",
      "\tWeek 4: 0 breakouts against\n",
      "\tWeek 5: 1 breakouts against\n",
      "\tWeek 6: 0 breakouts against\n",
      "Total Margin: -9.920000000000005 pts\n",
      "\tWeek 0: 58.44 pts\n",
      "\tWeek 1: 19.04 pts\n",
      "\tWeek 2: -43.62 pts\n",
      "\tWeek 3: -49.32 pts\n",
      "\tWeek 4: -0.76 pts\n",
      "\tWeek 5: -21.68 pts\n",
      "\tWeek 6: 27.98 pts\n",
      "Blowout Index: 1338.06\n",
      "\n",
      "----------- RB sanctuary -----------\n",
      "Weeks: 7\n",
      "Weekly Points For: [113.42, 97.48, 84.62, 138.02, 112.28, 76.4, 110.04]\n",
      "Weekly Points Against: [171.86, 120.32, 112.28, 138.68, 154.32, 157.08, 124.58]\n",
      "Points For: 732.26\n",
      "Points Against: 979.12\n",
      "Points per Game: 104.61\n",
      "Median Points Scored: 110.04\n",
      "Points Against per Game: 139.87\n",
      "Median Points Against: 138.68\n",
      "3 Game Rolling Average Points Scored\n",
      "\tWeeks 1-4: 113.42 ppg\n",
      "\tWeeks 2-5: 105.45 ppg\n",
      "\tWeeks 3-6: 98.51 ppg\n",
      "\tWeeks 4-7: 106.71 ppg\n",
      "\tWeeks 5-8: 111.64 ppg\n",
      "\tWeeks 6-9: 108.9 ppg\n",
      "\tWeeks 7-10: 99.57 ppg\n",
      "5 Game Rolling Average Points Scored\n",
      "\tWeeks 1-6: 113.42 ppg\n",
      "\tWeeks 2-7: 105.45 ppg\n",
      "\tWeeks 3-8: 98.51 ppg\n",
      "\tWeeks 4-9: 108.38 ppg\n",
      "\tWeeks 5-10: 109.16 ppg\n",
      "\tWeeks 6-11: 101.76 ppg\n",
      "\tWeeks 7-12: 104.27 ppg\n",
      "Total Breakout Games (30 pts): 0\n",
      "\tWeek 0: 0 breakouts\n",
      "\tWeek 1: 0 breakouts\n",
      "\tWeek 2: 0 breakouts\n",
      "\tWeek 3: 0 breakouts\n",
      "\tWeek 4: 0 breakouts\n",
      "\tWeek 5: 0 breakouts\n",
      "\tWeek 6: 0 breakouts\n",
      "Total Breakout Games Against (30 pts): 3\n",
      "\tWeek 0: 1 breakouts against\n",
      "\tWeek 1: 1 breakouts against\n",
      "\tWeek 2: 0 breakouts against\n",
      "\tWeek 3: 0 breakouts against\n",
      "\tWeek 4: 1 breakouts against\n",
      "\tWeek 5: 0 breakouts against\n",
      "\tWeek 6: 0 breakouts against\n",
      "Total Margin: -246.85999999999999 pts\n",
      "\tWeek 0: -58.44 pts\n",
      "\tWeek 1: -22.84 pts\n",
      "\tWeek 2: -27.66 pts\n",
      "\tWeek 3: -0.66 pts\n",
      "\tWeek 4: -42.04 pts\n",
      "\tWeek 5: -80.68 pts\n",
      "\tWeek 6: -14.54 pts\n",
      "Blowout Index: 1884.35\n",
      "\n",
      "----------- The Brutherhood -----------\n",
      "Weeks: 7\n",
      "Weekly Points For: [116.1, 129.16, 109.72, 108.42, 180.8, 131.52, 107.88]\n",
      "Weekly Points Against: [127.06, 166.7, 81.5, 124.98, 159.26, 131.38, 135.86]\n",
      "Points For: 883.6\n",
      "Points Against: 926.74\n",
      "Points per Game: 126.23\n",
      "Median Points Scored: 116.1\n",
      "Points Against per Game: 132.39\n",
      "Median Points Against: 131.38\n",
      "3 Game Rolling Average Points Scored\n",
      "\tWeeks 1-4: 116.1 ppg\n",
      "\tWeeks 2-5: 122.63 ppg\n",
      "\tWeeks 3-6: 118.33 ppg\n",
      "\tWeeks 4-7: 115.77 ppg\n",
      "\tWeeks 5-8: 132.98 ppg\n",
      "\tWeeks 6-9: 140.25 ppg\n",
      "\tWeeks 7-10: 140.07 ppg\n",
      "5 Game Rolling Average Points Scored\n",
      "\tWeeks 1-6: 116.1 ppg\n",
      "\tWeeks 2-7: 122.63 ppg\n",
      "\tWeeks 3-8: 118.33 ppg\n",
      "\tWeeks 4-9: 115.85 ppg\n",
      "\tWeeks 5-10: 128.84 ppg\n",
      "\tWeeks 6-11: 131.92 ppg\n",
      "\tWeeks 7-12: 127.67 ppg\n",
      "Total Breakout Games (30 pts): 3\n",
      "\tWeek 0: 0 breakouts\n",
      "\tWeek 1: 0 breakouts\n",
      "\tWeek 2: 1 breakouts\n",
      "\tWeek 3: 0 breakouts\n",
      "\tWeek 4: 2 breakouts\n",
      "\tWeek 5: 0 breakouts\n",
      "\tWeek 6: 0 breakouts\n",
      "Total Breakout Games Against (30 pts): 2\n",
      "\tWeek 0: 0 breakouts against\n",
      "\tWeek 1: 1 breakouts against\n",
      "\tWeek 2: 0 breakouts against\n",
      "\tWeek 3: 0 breakouts against\n",
      "\tWeek 4: 1 breakouts against\n",
      "\tWeek 5: 0 breakouts against\n",
      "\tWeek 6: 0 breakouts against\n",
      "Total Margin: -43.14 pts\n",
      "\tWeek 0: -10.96 pts\n",
      "\tWeek 1: -37.54 pts\n",
      "\tWeek 2: 28.22 pts\n",
      "\tWeek 3: -16.56 pts\n",
      "\tWeek 4: 21.54 pts\n",
      "\tWeek 5: 0.14 pts\n",
      "\tWeek 6: -27.98 pts\n",
      "Blowout Index: 549.55\n",
      "\n",
      "----------- Tree Leaves -----------\n",
      "Weeks: 7\n",
      "Weekly Points For: [83.02, 131.82, 150.24, 124.98, 154.32, 117.4, 141.42]\n",
      "Weekly Points Against: [170.38, 138.72, 118.44, 108.42, 112.28, 126.56, 140.84]\n",
      "Points For: 903.2\n",
      "Points Against: 915.64\n",
      "Points per Game: 129.03\n",
      "Median Points Scored: 131.82\n",
      "Points Against per Game: 130.81\n",
      "Median Points Against: 126.56\n",
      "3 Game Rolling Average Points Scored\n",
      "\tWeeks 1-4: 83.02 ppg\n",
      "\tWeeks 2-5: 107.42 ppg\n",
      "\tWeeks 3-6: 121.69 ppg\n",
      "\tWeeks 4-7: 135.68 ppg\n",
      "\tWeeks 5-8: 143.18 ppg\n",
      "\tWeeks 6-9: 132.23 ppg\n",
      "\tWeeks 7-10: 137.71 ppg\n",
      "5 Game Rolling Average Points Scored\n",
      "\tWeeks 1-6: 83.02 ppg\n",
      "\tWeeks 2-7: 107.42 ppg\n",
      "\tWeeks 3-8: 121.69 ppg\n",
      "\tWeeks 4-9: 122.52 ppg\n",
      "\tWeeks 5-10: 128.88 ppg\n",
      "\tWeeks 6-11: 135.75 ppg\n",
      "\tWeeks 7-12: 137.67 ppg\n",
      "Total Breakout Games (30 pts): 2\n",
      "\tWeek 0: 0 breakouts\n",
      "\tWeek 1: 0 breakouts\n",
      "\tWeek 2: 1 breakouts\n",
      "\tWeek 3: 0 breakouts\n",
      "\tWeek 4: 1 breakouts\n",
      "\tWeek 5: 0 breakouts\n",
      "\tWeek 6: 0 breakouts\n",
      "Total Breakout Games Against (30 pts): 5\n",
      "\tWeek 0: 3 breakouts against\n",
      "\tWeek 1: 1 breakouts against\n",
      "\tWeek 2: 0 breakouts against\n",
      "\tWeek 3: 0 breakouts against\n",
      "\tWeek 4: 0 breakouts against\n",
      "\tWeek 5: 0 breakouts against\n",
      "\tWeek 6: 1 breakouts against\n",
      "Total Margin: -12.440000000000007 pts\n",
      "\tWeek 0: -87.36 pts\n",
      "\tWeek 1: -6.9 pts\n",
      "\tWeek 2: 31.8 pts\n",
      "\tWeek 3: 16.56 pts\n",
      "\tWeek 4: 42.04 pts\n",
      "\tWeek 5: -9.16 pts\n",
      "\tWeek 6: 0.58 pts\n",
      "Blowout Index: 1545.21\n",
      "\n",
      "----------- the noés -----------\n",
      "Weeks: 7\n",
      "Weekly Points For: [105.08, 120.32, 140.54, 123.32, 114.26, 126.56, 119.04]\n",
      "Weekly Points Against: [126.38, 97.48, 133.22, 118.14, 113.5, 117.4, 106.06]\n",
      "Points For: 849.12\n",
      "Points Against: 812.18\n",
      "Points per Game: 121.3\n",
      "Median Points Scored: 120.32\n",
      "Points Against per Game: 116.03\n",
      "Median Points Against: 117.4\n",
      "3 Game Rolling Average Points Scored\n",
      "\tWeeks 1-4: 105.08 ppg\n",
      "\tWeeks 2-5: 112.7 ppg\n",
      "\tWeeks 3-6: 121.98 ppg\n",
      "\tWeeks 4-7: 128.06 ppg\n",
      "\tWeeks 5-8: 126.04 ppg\n",
      "\tWeeks 6-9: 121.38 ppg\n",
      "\tWeeks 7-10: 119.95 ppg\n",
      "5 Game Rolling Average Points Scored\n",
      "\tWeeks 1-6: 105.08 ppg\n",
      "\tWeeks 2-7: 112.7 ppg\n",
      "\tWeeks 3-8: 121.98 ppg\n",
      "\tWeeks 4-9: 122.31 ppg\n",
      "\tWeeks 5-10: 120.7 ppg\n",
      "\tWeeks 6-11: 125.0 ppg\n",
      "\tWeeks 7-12: 124.74 ppg\n",
      "Total Breakout Games (30 pts): 2\n",
      "\tWeek 0: 0 breakouts\n",
      "\tWeek 1: 1 breakouts\n",
      "\tWeek 2: 0 breakouts\n",
      "\tWeek 3: 1 breakouts\n",
      "\tWeek 4: 0 breakouts\n",
      "\tWeek 5: 0 breakouts\n",
      "\tWeek 6: 0 breakouts\n",
      "Total Breakout Games Against (30 pts): 0\n",
      "\tWeek 0: 0 breakouts against\n",
      "\tWeek 1: 0 breakouts against\n",
      "\tWeek 2: 0 breakouts against\n",
      "\tWeek 3: 0 breakouts against\n",
      "\tWeek 4: 0 breakouts against\n",
      "\tWeek 5: 0 breakouts against\n",
      "\tWeek 6: 0 breakouts against\n",
      "Total Margin: 36.94 pts\n",
      "\tWeek 0: -21.3 pts\n",
      "\tWeek 1: 22.84 pts\n",
      "\tWeek 2: 7.32 pts\n",
      "\tWeek 3: 5.18 pts\n",
      "\tWeek 4: 0.76 pts\n",
      "\tWeek 5: 9.16 pts\n",
      "\tWeek 6: 12.98 pts\n",
      "Blowout Index: 186.96\n",
      "\n",
      "----------- AssNTitties -----------\n",
      "Weeks: 7\n",
      "Weekly Points For: [126.38, 166.7, 152.14, 138.68, 119.62, 151.0, 140.84]\n",
      "Weekly Points Against: [105.08, 129.16, 108.52, 138.02, 133.48, 137.6, 141.42]\n",
      "Points For: 995.36\n",
      "Points Against: 893.28\n",
      "Points per Game: 142.19\n",
      "Median Points Scored: 140.84\n",
      "Points Against per Game: 127.61\n",
      "Median Points Against: 133.48\n",
      "3 Game Rolling Average Points Scored\n",
      "\tWeeks 1-4: 126.38 ppg\n",
      "\tWeeks 2-5: 146.54 ppg\n",
      "\tWeeks 3-6: 148.41 ppg\n",
      "\tWeeks 4-7: 152.51 ppg\n",
      "\tWeeks 5-8: 136.81 ppg\n",
      "\tWeeks 6-9: 136.43 ppg\n",
      "\tWeeks 7-10: 137.15 ppg\n",
      "5 Game Rolling Average Points Scored\n",
      "\tWeeks 1-6: 126.38 ppg\n",
      "\tWeeks 2-7: 146.54 ppg\n",
      "\tWeeks 3-8: 148.41 ppg\n",
      "\tWeeks 4-9: 145.97 ppg\n",
      "\tWeeks 5-10: 140.7 ppg\n",
      "\tWeeks 6-11: 145.63 ppg\n",
      "\tWeeks 7-12: 140.46 ppg\n",
      "Total Breakout Games (30 pts): 3\n",
      "\tWeek 0: 0 breakouts\n",
      "\tWeek 1: 1 breakouts\n",
      "\tWeek 2: 0 breakouts\n",
      "\tWeek 3: 0 breakouts\n",
      "\tWeek 4: 1 breakouts\n",
      "\tWeek 5: 0 breakouts\n",
      "\tWeek 6: 1 breakouts\n",
      "Total Breakout Games Against (30 pts): 1\n",
      "\tWeek 0: 0 breakouts against\n",
      "\tWeek 1: 0 breakouts against\n",
      "\tWeek 2: 0 breakouts against\n",
      "\tWeek 3: 0 breakouts against\n",
      "\tWeek 4: 1 breakouts against\n",
      "\tWeek 5: 0 breakouts against\n",
      "\tWeek 6: 0 breakouts against\n",
      "Total Margin: 102.08000000000001 pts\n",
      "\tWeek 0: 21.3 pts\n",
      "\tWeek 1: 37.54 pts\n",
      "\tWeek 2: 43.62 pts\n",
      "\tWeek 3: 0.66 pts\n",
      "\tWeek 4: -13.86 pts\n",
      "\tWeek 5: 13.4 pts\n",
      "\tWeek 6: -0.58 pts\n",
      "Blowout Index: 591.15\n",
      "\n",
      "----------- billcap -----------\n",
      "Weeks: 7\n",
      "Weekly Points For: [126.5, 108.56, 112.28, 118.14, 133.48, 131.38, 155.48]\n",
      "Weekly Points Against: [84.62, 127.6, 84.62, 123.32, 119.62, 131.52, 92.54]\n",
      "Points For: 885.82\n",
      "Points Against: 763.84\n",
      "Points per Game: 126.55\n",
      "Median Points Scored: 126.5\n",
      "Points Against per Game: 109.12\n",
      "Median Points Against: 119.62\n",
      "3 Game Rolling Average Points Scored\n",
      "\tWeeks 1-4: 126.5 ppg\n",
      "\tWeeks 2-5: 117.53 ppg\n",
      "\tWeeks 3-6: 115.78 ppg\n",
      "\tWeeks 4-7: 112.99 ppg\n",
      "\tWeeks 5-8: 121.3 ppg\n",
      "\tWeeks 6-9: 127.67 ppg\n",
      "\tWeeks 7-10: 140.11 ppg\n",
      "5 Game Rolling Average Points Scored\n",
      "\tWeeks 1-6: 126.5 ppg\n",
      "\tWeeks 2-7: 117.53 ppg\n",
      "\tWeeks 3-8: 115.78 ppg\n",
      "\tWeeks 4-9: 116.37 ppg\n",
      "\tWeeks 5-10: 119.79 ppg\n",
      "\tWeeks 6-11: 120.77 ppg\n",
      "\tWeeks 7-12: 130.15 ppg\n",
      "Total Breakout Games (30 pts): 2\n",
      "\tWeek 0: 0 breakouts\n",
      "\tWeek 1: 1 breakouts\n",
      "\tWeek 2: 0 breakouts\n",
      "\tWeek 3: 0 breakouts\n",
      "\tWeek 4: 1 breakouts\n",
      "\tWeek 5: 0 breakouts\n",
      "\tWeek 6: 0 breakouts\n",
      "Total Breakout Games Against (30 pts): 3\n",
      "\tWeek 0: 0 breakouts against\n",
      "\tWeek 1: 1 breakouts against\n",
      "\tWeek 2: 0 breakouts against\n",
      "\tWeek 3: 1 breakouts against\n",
      "\tWeek 4: 1 breakouts against\n",
      "\tWeek 5: 0 breakouts against\n",
      "\tWeek 6: 0 breakouts against\n",
      "Total Margin: 121.97999999999999 pts\n",
      "\tWeek 0: 41.88 pts\n",
      "\tWeek 1: -19.04 pts\n",
      "\tWeek 2: 27.66 pts\n",
      "\tWeek 3: -5.18 pts\n",
      "\tWeek 4: 13.86 pts\n",
      "\tWeek 5: -0.14 pts\n",
      "\tWeek 6: 62.94 pts\n",
      "Blowout Index: 1008.85\n",
      "\n",
      "----------- Thicc King -----------\n",
      "Weeks: 7\n",
      "Weekly Points For: [127.06, 138.72, 133.22, 117.36, 128.18, 163.22, 124.58]\n",
      "Weekly Points Against: [116.1, 131.82, 140.54, 117.62, 165.28, 141.54, 110.04]\n",
      "Points For: 932.34\n",
      "Points Against: 922.94\n",
      "Points per Game: 133.19\n",
      "Median Points Scored: 128.18\n",
      "Points Against per Game: 131.85\n",
      "Median Points Against: 131.82\n",
      "3 Game Rolling Average Points Scored\n",
      "\tWeeks 1-4: 127.06 ppg\n",
      "\tWeeks 2-5: 132.89 ppg\n",
      "\tWeeks 3-6: 133.0 ppg\n",
      "\tWeeks 4-7: 129.77 ppg\n",
      "\tWeeks 5-8: 126.25 ppg\n",
      "\tWeeks 6-9: 136.25 ppg\n",
      "\tWeeks 7-10: 138.66 ppg\n",
      "5 Game Rolling Average Points Scored\n",
      "\tWeeks 1-6: 127.06 ppg\n",
      "\tWeeks 2-7: 132.89 ppg\n",
      "\tWeeks 3-8: 133.0 ppg\n",
      "\tWeeks 4-9: 129.09 ppg\n",
      "\tWeeks 5-10: 128.91 ppg\n",
      "\tWeeks 6-11: 136.14 ppg\n",
      "\tWeeks 7-12: 133.31 ppg\n",
      "Total Breakout Games (30 pts): 3\n",
      "\tWeek 0: 0 breakouts\n",
      "\tWeek 1: 1 breakouts\n",
      "\tWeek 2: 0 breakouts\n",
      "\tWeek 3: 0 breakouts\n",
      "\tWeek 4: 1 breakouts\n",
      "\tWeek 5: 1 breakouts\n",
      "\tWeek 6: 0 breakouts\n",
      "Total Breakout Games Against (30 pts): 3\n",
      "\tWeek 0: 0 breakouts against\n",
      "\tWeek 1: 0 breakouts against\n",
      "\tWeek 2: 0 breakouts against\n",
      "\tWeek 3: 0 breakouts against\n",
      "\tWeek 4: 2 breakouts against\n",
      "\tWeek 5: 1 breakouts against\n",
      "\tWeek 6: 0 breakouts against\n",
      "Total Margin: 9.399999999999999 pts\n",
      "\tWeek 0: 10.96 pts\n",
      "\tWeek 1: 6.9 pts\n",
      "\tWeek 2: -7.32 pts\n",
      "\tWeek 3: -0.26 pts\n",
      "\tWeek 4: -37.1 pts\n",
      "\tWeek 5: 21.68 pts\n",
      "\tWeek 6: 14.54 pts\n",
      "Blowout Index: 325.6\n",
      "\n",
      "----------- tealeaves -----------\n",
      "Weeks: 7\n",
      "Weekly Points For: [170.38, 94.42, 81.5, 159.12, 165.28, 157.08, 92.54]\n",
      "Weekly Points Against: [83.02, 131.7, 109.72, 109.8, 128.18, 76.4, 155.48]\n",
      "Points For: 920.32\n",
      "Points Against: 794.3\n",
      "Points per Game: 131.47\n",
      "Median Points Scored: 157.08\n",
      "Points Against per Game: 113.47\n",
      "Median Points Against: 109.8\n",
      "3 Game Rolling Average Points Scored\n",
      "\tWeeks 1-4: 170.38 ppg\n",
      "\tWeeks 2-5: 132.4 ppg\n",
      "\tWeeks 3-6: 115.43 ppg\n",
      "\tWeeks 4-7: 111.68 ppg\n",
      "\tWeeks 5-8: 135.3 ppg\n",
      "\tWeeks 6-9: 160.49 ppg\n",
      "\tWeeks 7-10: 138.3 ppg\n",
      "5 Game Rolling Average Points Scored\n",
      "\tWeeks 1-6: 170.38 ppg\n",
      "\tWeeks 2-7: 132.4 ppg\n",
      "\tWeeks 3-8: 115.43 ppg\n",
      "\tWeeks 4-9: 126.36 ppg\n",
      "\tWeeks 5-10: 134.14 ppg\n",
      "\tWeeks 6-11: 131.48 ppg\n",
      "\tWeeks 7-12: 131.1 ppg\n",
      "Total Breakout Games (30 pts): 7\n",
      "\tWeek 0: 3 breakouts\n",
      "\tWeek 1: 0 breakouts\n",
      "\tWeek 2: 0 breakouts\n",
      "\tWeek 3: 2 breakouts\n",
      "\tWeek 4: 2 breakouts\n",
      "\tWeek 5: 0 breakouts\n",
      "\tWeek 6: 0 breakouts\n",
      "Total Breakout Games Against (30 pts): 3\n",
      "\tWeek 0: 0 breakouts against\n",
      "\tWeek 1: 0 breakouts against\n",
      "\tWeek 2: 1 breakouts against\n",
      "\tWeek 3: 1 breakouts against\n",
      "\tWeek 4: 1 breakouts against\n",
      "\tWeek 5: 0 breakouts against\n",
      "\tWeek 6: 0 breakouts against\n",
      "Total Margin: 126.02000000000001 pts\n",
      "\tWeek 0: 87.36 pts\n",
      "\tWeek 1: -37.28 pts\n",
      "\tWeek 2: -28.22 pts\n",
      "\tWeek 3: 49.32 pts\n",
      "\tWeek 4: 37.1 pts\n",
      "\tWeek 5: 80.68 pts\n",
      "\tWeek 6: -62.94 pts\n",
      "Blowout Index: 3442.5\n",
      "\n",
      "----------- SideThicc #2 -----------\n",
      "Weeks: 7\n",
      "Weekly Points For: [84.62, 131.7, 118.44, 117.62, 159.26, 137.6, 106.06]\n",
      "Weekly Points Against: [126.5, 94.42, 150.24, 117.36, 180.8, 151.0, 119.04]\n",
      "Points For: 855.3\n",
      "Points Against: 939.36\n",
      "Points per Game: 122.19\n",
      "Median Points Scored: 118.44\n",
      "Points Against per Game: 134.19\n",
      "Median Points Against: 126.5\n",
      "3 Game Rolling Average Points Scored\n",
      "\tWeeks 1-4: 84.62 ppg\n",
      "\tWeeks 2-5: 108.16 ppg\n",
      "\tWeeks 3-6: 111.59 ppg\n",
      "\tWeeks 4-7: 122.59 ppg\n",
      "\tWeeks 5-8: 131.77 ppg\n",
      "\tWeeks 6-9: 138.16 ppg\n",
      "\tWeeks 7-10: 134.31 ppg\n",
      "5 Game Rolling Average Points Scored\n",
      "\tWeeks 1-6: 84.62 ppg\n",
      "\tWeeks 2-7: 108.16 ppg\n",
      "\tWeeks 3-8: 111.59 ppg\n",
      "\tWeeks 4-9: 113.09 ppg\n",
      "\tWeeks 5-10: 122.33 ppg\n",
      "\tWeeks 6-11: 132.92 ppg\n",
      "\tWeeks 7-12: 127.8 ppg\n",
      "Total Breakout Games (30 pts): 1\n",
      "\tWeek 0: 0 breakouts\n",
      "\tWeek 1: 0 breakouts\n",
      "\tWeek 2: 0 breakouts\n",
      "\tWeek 3: 0 breakouts\n",
      "\tWeek 4: 1 breakouts\n",
      "\tWeek 5: 0 breakouts\n",
      "\tWeek 6: 0 breakouts\n",
      "Total Breakout Games Against (30 pts): 3\n",
      "\tWeek 0: 0 breakouts against\n",
      "\tWeek 1: 0 breakouts against\n",
      "\tWeek 2: 1 breakouts against\n",
      "\tWeek 3: 0 breakouts against\n",
      "\tWeek 4: 2 breakouts against\n",
      "\tWeek 5: 0 breakouts against\n",
      "\tWeek 6: 0 breakouts against\n",
      "Total Margin: -84.06000000000002 pts\n",
      "\tWeek 0: -41.88 pts\n",
      "\tWeek 1: 37.28 pts\n",
      "\tWeek 2: -31.8 pts\n",
      "\tWeek 3: 0.26 pts\n",
      "\tWeek 4: -21.54 pts\n",
      "\tWeek 5: -13.4 pts\n",
      "\tWeek 6: -12.98 pts\n",
      "Blowout Index: 709.58\n"
     ]
    }
   ],
   "source": [
    "# lets print these out nicely to sanity check.\n",
    "for team in stats:\n",
    "    print(f\"\\n----------- {NAME_PAIRINGS[team]} -----------\")\n",
    "    for name, stat in zip(STATS_FIELDS, stats[team]):\n",
    "        if name == \"3 game rolling average\":\n",
    "            print(\"3 Game Rolling Average Points Scored\")\n",
    "            for i in range(len(stat)):\n",
    "                print(f\"\\tWeeks {i+1}-{i+4}: {stat[i]} ppg\")\n",
    "        elif name == \"5 game rolling average\":\n",
    "            print(\"5 Game Rolling Average Points Scored\")\n",
    "            for i in range(len(stat)):\n",
    "                print(f\"\\tWeeks {i+1}-{i+6}: {stat[i]} ppg\")\n",
    "        elif name == \"Breakout Games\":\n",
    "            print(f\"Total Breakout Games ({BREAKOUT_CUT} pts): {sum(stat)}\")\n",
    "            for i in range(len(stat)):\n",
    "                print(f\"\\tWeek {i}: {stat[i]} breakouts\")\n",
    "        elif name == \"Breakout Games Against\":\n",
    "            print(f\"Total Breakout Games Against ({BREAKOUT_CUT} pts): {sum(stat)}\")\n",
    "            for i in range(len(stat)):\n",
    "                print(f\"\\tWeek {i}: {stat[i]} breakouts against\")\n",
    "        elif name == \"Game Margin\":\n",
    "            print(f\"Total Margin: {sum(stat)} pts\")\n",
    "            for i in range(len(stat)):\n",
    "                print(f\"\\tWeek {i}: {stat[i]} pts\")\n",
    "        else:\n",
    "            print(f\"{name}: {stat}\")\n"
   ]
  },
  {
   "cell_type": "code",
   "execution_count": 16,
   "metadata": {},
   "outputs": [],
   "source": [
    "# Aiyuk is ASS"
   ]
  }
 ],
 "metadata": {
  "interpreter": {
   "hash": "ec25a6e0bcc521c69e34e1e19617096bb869600c3953dd49b10a393de9bcb976"
  },
  "kernelspec": {
   "display_name": "Python 3.9.7 64-bit",
   "name": "python3"
  },
  "language_info": {
   "codemirror_mode": {
    "name": "ipython",
    "version": 3
   },
   "file_extension": ".py",
   "mimetype": "text/x-python",
   "name": "python",
   "nbconvert_exporter": "python",
   "pygments_lexer": "ipython3",
   "version": "3.9.7"
  },
  "widgets": {
   "application/vnd.jupyter.widget-state+json": {
    "state": {},
    "version_major": 2,
    "version_minor": 0
   }
  }
 },
 "nbformat": 4,
 "nbformat_minor": 2
}
