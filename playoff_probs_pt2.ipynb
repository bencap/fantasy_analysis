{
 "cells": [
  {
   "cell_type": "code",
   "execution_count": 1,
   "metadata": {},
   "outputs": [],
   "source": [
    "import league\n",
    "import players\n",
    "import statistics\n",
    "import plotly.graph_objects as go\n",
    "import plotly.express as px\n",
    "import numpy as np\n",
    "from plotly.subplots import make_subplots\n",
    "from prettytable import PrettyTable\n",
    "\n",
    "PLAYERS = players.Players()\n",
    "LEAGUE = league.League(12, \"649912836461539328\", PLAYERS)"
   ]
  },
  {
   "cell_type": "markdown",
   "metadata": {},
   "source": [
    "# Playoff Probability (part 2)\n",
    "\n",
    "After last weeks hit notebook on playoff probabilities, we are back again to predict the playoff picture now that we have one additional week of information. The standings at present are as follows (and yes, Stephane is in a playoff position):\n",
    "\n",
    "```\n",
    "Noe's Loyal Lighting Salesman Division\n",
    "1. Nahome (18-6)\n",
    "2. Ben (10-14)\n",
    "3. Stephane (9-15)\n",
    "4. Noe (9-15)\n",
    "5. Will (7-17)\n",
    "\n",
    "Noah's SideThiccs\n",
    "1. Praveen (16-8)\n",
    "2. Stian (15-9)\n",
    "3. Tom (13-11)\n",
    "4. Noah (13-11)\n",
    "5. Tegran (10-14)\n",
    "```\n",
    "\n",
    "Power Rankings for this week are as follows\n",
    "\n",
    "Power rankings for this week are as follows\n",
    "\n",
    "```\n",
    "1. Nahome\n",
    "2. Stian\n",
    "3. Stephane\n",
    "4. Praveen\n",
    "5. Tom\n",
    "6. Tegran\n",
    "7. Noe\n",
    "8. Ben\n",
    "9. Noah\n",
    "10. Will\n",
    "```\n",
    "\n",
    "Stephane is up to his highest ranking of the year while Nahome and Stian are both holding steady at the top. Praveen drops two spots after an abysmal week, while Noah is only just ahead of Will as he looks to stop a six game skid this weekend.\n",
    "\n",
    "## Methodology\n",
    "\n",
    "I think the analysis was pretty good last week, so see that notebook for notes on my methodology. This week I'll simply compare the new projections to last weeks and see who is improving their odds. An example simulation is shown below."
   ]
  },
  {
   "cell_type": "code",
   "execution_count": 2,
   "metadata": {},
   "outputs": [
    {
     "name": "stdout",
     "output_type": "stream",
     "text": [
      "AssNTitties 22 6 1847.2985689819016\n",
      "My Goat Loves You 13 15 1761.6879292051883\n",
      "the noés 11 17 1568.8594576280016\n",
      "billcap 10 18 1563.876102931355\n",
      "RB sanctuary 9 19 1581.379947937891\n",
      "\n",
      "Tree Leaves 20 8 1775.3664840151307\n",
      "SideThicc #2 16 12 1749.75872353108\n",
      "tealeaves 16 12 1735.2563000282448\n",
      "Thicc King 13 15 1652.334908460366\n",
      "The Brutherhood 10 18 1649.1772991488147\n",
      "\n"
     ]
    }
   ],
   "source": [
    "LEAGUE.sim_remaining_season(np.random.normal)\n",
    "results = LEAGUE.simmed_results()\n",
    "\n",
    "for division in results:\n",
    "    division = sorted(division, reverse=True)\n",
    "    for t in division:\n",
    "        print(LEAGUE.name_pairings[LEAGUE.roster_pairings[t[4]]], t[0], t[1], t[2])\n",
    "    print()"
   ]
  },
  {
   "cell_type": "markdown",
   "metadata": {},
   "source": [
    "To simulate 50,000 seasons again!"
   ]
  },
  {
   "cell_type": "code",
   "execution_count": 3,
   "metadata": {},
   "outputs": [],
   "source": [
    "# takes awhile to run ~ 15 min\n",
    "simulation = []\n",
    "for i in range(50000):\n",
    "    LEAGUE.sim_remaining_season(np.random.normal)\n",
    "    simulation.append(LEAGUE.simmed_results())"
   ]
  },
  {
   "cell_type": "markdown",
   "metadata": {},
   "source": [
    "Now lets see where every team finished in this new simulation."
   ]
  },
  {
   "cell_type": "code",
   "execution_count": 4,
   "metadata": {},
   "outputs": [
    {
     "name": "stdout",
     "output_type": "stream",
     "text": [
      "AssNTitties [50000, 0, 0, 0, 0]\n",
      "1.0\n",
      "Tree Leaves [31665, 14846, 3305, 184, 0]\n",
      "0.99632\n",
      "tealeaves [17326, 25618, 6053, 1003, 0]\n",
      "0.97994\n",
      "SideThicc #2 [708, 5462, 22240, 18775, 2815]\n",
      "0.5682\n",
      "Thicc King [301, 4074, 18106, 24310, 3209]\n",
      "0.44962\n",
      "My Goat Loves You [0, 36200, 10447, 3296, 57]\n",
      "0.93294\n",
      "The Brutherhood [0, 0, 296, 5728, 43976]\n",
      "0.00592\n",
      "RB sanctuary [0, 8721, 22593, 15988, 2698]\n",
      "0.62628\n",
      "the noés [0, 4646, 13561, 25920, 5873]\n",
      "0.36414\n",
      "billcap [0, 433, 3399, 4796, 41372]\n",
      "0.07664\n"
     ]
    }
   ],
   "source": [
    "final_standing = {t.roster_id: [0,0,0,0,0] for t in LEAGUE.standings}\n",
    "probabilities = {t.roster_id: 0 for t in LEAGUE.standings}\n",
    "\n",
    "for result in simulation:\n",
    "    for division in result:\n",
    "        division = sorted(division, reverse=True)\n",
    "        for i, t in enumerate(division):\n",
    "            final_standing[t[4]][i] += 1\n",
    "\n",
    "for roster_id in final_standing:\n",
    "    print(LEAGUE.name_pairings[LEAGUE.roster_pairings[roster_id]], final_standing[roster_id])\n",
    "    probabilities[roster_id] = sum(\n",
    "        final_standing[roster_id][0:3]) / sum(final_standing[roster_id]) * 100\n",
    "    print(sum(final_standing[roster_id][0:3]) / sum(final_standing[roster_id]))\n",
    "\n",
    "finish_probabilities = {roster_id: [(num / sum(final_standing[roster_id])) * 100 for num in final_standing[roster_id]] for roster_id in final_standing}\n",
    "\n",
    "for id in probabilities:\n",
    "    probabilities[id] = round(probabilities[id], 2)\n",
    "\n",
    "for id in finish_probabilities:\n",
    "    finish_probabilities[id] = [round(prob, 2) for prob in finish_probabilities[id]]"
   ]
  },
  {
   "cell_type": "markdown",
   "metadata": {},
   "source": [
    "Now lets visualize these finish positions as bars of outcomes"
   ]
  },
  {
   "cell_type": "code",
   "execution_count": 5,
   "metadata": {},
   "outputs": [
    {
     "data": {
      "application/vnd.plotly.v1+json": {
       "config": {
        "plotlyServerURL": "https://plot.ly"
       },
       "data": [
        {
         "type": "bar",
         "x": [
          "1st",
          "2nd",
          "3rd",
          "4th",
          "5th"
         ],
         "xaxis": "x",
         "y": [
          50000,
          0,
          0,
          0,
          0
         ],
         "yaxis": "y"
        },
        {
         "type": "bar",
         "x": [
          "1st",
          "2nd",
          "3rd",
          "4th",
          "5th"
         ],
         "xaxis": "x2",
         "y": [
          31665,
          14846,
          3305,
          184,
          0
         ],
         "yaxis": "y2"
        },
        {
         "type": "bar",
         "x": [
          "1st",
          "2nd",
          "3rd",
          "4th",
          "5th"
         ],
         "xaxis": "x3",
         "y": [
          17326,
          25618,
          6053,
          1003,
          0
         ],
         "yaxis": "y3"
        },
        {
         "type": "bar",
         "x": [
          "1st",
          "2nd",
          "3rd",
          "4th",
          "5th"
         ],
         "xaxis": "x4",
         "y": [
          708,
          5462,
          22240,
          18775,
          2815
         ],
         "yaxis": "y4"
        },
        {
         "type": "bar",
         "x": [
          "1st",
          "2nd",
          "3rd",
          "4th",
          "5th"
         ],
         "xaxis": "x5",
         "y": [
          301,
          4074,
          18106,
          24310,
          3209
         ],
         "yaxis": "y5"
        },
        {
         "type": "bar",
         "x": [
          "1st",
          "2nd",
          "3rd",
          "4th",
          "5th"
         ],
         "xaxis": "x6",
         "y": [
          0,
          36200,
          10447,
          3296,
          57
         ],
         "yaxis": "y6"
        },
        {
         "type": "bar",
         "x": [
          "1st",
          "2nd",
          "3rd",
          "4th",
          "5th"
         ],
         "xaxis": "x7",
         "y": [
          0,
          0,
          296,
          5728,
          43976
         ],
         "yaxis": "y7"
        },
        {
         "type": "bar",
         "x": [
          "1st",
          "2nd",
          "3rd",
          "4th",
          "5th"
         ],
         "xaxis": "x8",
         "y": [
          0,
          8721,
          22593,
          15988,
          2698
         ],
         "yaxis": "y8"
        },
        {
         "type": "bar",
         "x": [
          "1st",
          "2nd",
          "3rd",
          "4th",
          "5th"
         ],
         "xaxis": "x9",
         "y": [
          0,
          4646,
          13561,
          25920,
          5873
         ],
         "yaxis": "y9"
        },
        {
         "type": "bar",
         "x": [
          "1st",
          "2nd",
          "3rd",
          "4th",
          "5th"
         ],
         "xaxis": "x10",
         "y": [
          0,
          433,
          3399,
          4796,
          41372
         ],
         "yaxis": "y10"
        }
       ],
       "layout": {
        "annotations": [
         {
          "font": {
           "size": 16
          },
          "showarrow": false,
          "text": "AssNTitties",
          "x": 0.225,
          "xanchor": "center",
          "xref": "paper",
          "y": 1,
          "yanchor": "bottom",
          "yref": "paper"
         },
         {
          "font": {
           "size": 16
          },
          "showarrow": false,
          "text": "Tree Leaves",
          "x": 0.775,
          "xanchor": "center",
          "xref": "paper",
          "y": 1,
          "yanchor": "bottom",
          "yref": "paper"
         },
         {
          "font": {
           "size": 16
          },
          "showarrow": false,
          "text": "tealeaves",
          "x": 0.225,
          "xanchor": "center",
          "xref": "paper",
          "y": 0.78,
          "yanchor": "bottom",
          "yref": "paper"
         },
         {
          "font": {
           "size": 16
          },
          "showarrow": false,
          "text": "SideThicc #2",
          "x": 0.775,
          "xanchor": "center",
          "xref": "paper",
          "y": 0.78,
          "yanchor": "bottom",
          "yref": "paper"
         },
         {
          "font": {
           "size": 16
          },
          "showarrow": false,
          "text": "Thicc King",
          "x": 0.225,
          "xanchor": "center",
          "xref": "paper",
          "y": 0.56,
          "yanchor": "bottom",
          "yref": "paper"
         },
         {
          "font": {
           "size": 16
          },
          "showarrow": false,
          "text": "My Goat Loves You",
          "x": 0.775,
          "xanchor": "center",
          "xref": "paper",
          "y": 0.56,
          "yanchor": "bottom",
          "yref": "paper"
         },
         {
          "font": {
           "size": 16
          },
          "showarrow": false,
          "text": "The Brutherhood",
          "x": 0.225,
          "xanchor": "center",
          "xref": "paper",
          "y": 0.33999999999999997,
          "yanchor": "bottom",
          "yref": "paper"
         },
         {
          "font": {
           "size": 16
          },
          "showarrow": false,
          "text": "RB sanctuary",
          "x": 0.775,
          "xanchor": "center",
          "xref": "paper",
          "y": 0.33999999999999997,
          "yanchor": "bottom",
          "yref": "paper"
         },
         {
          "font": {
           "size": 16
          },
          "showarrow": false,
          "text": "the noés",
          "x": 0.225,
          "xanchor": "center",
          "xref": "paper",
          "y": 0.12,
          "yanchor": "bottom",
          "yref": "paper"
         },
         {
          "font": {
           "size": 16
          },
          "showarrow": false,
          "text": "billcap",
          "x": 0.775,
          "xanchor": "center",
          "xref": "paper",
          "y": 0.12,
          "yanchor": "bottom",
          "yref": "paper"
         }
        ],
        "height": 2000,
        "showlegend": false,
        "template": {
         "data": {
          "bar": [
           {
            "error_x": {
             "color": "#2a3f5f"
            },
            "error_y": {
             "color": "#2a3f5f"
            },
            "marker": {
             "line": {
              "color": "#E5ECF6",
              "width": 0.5
             },
             "pattern": {
              "fillmode": "overlay",
              "size": 10,
              "solidity": 0.2
             }
            },
            "type": "bar"
           }
          ],
          "barpolar": [
           {
            "marker": {
             "line": {
              "color": "#E5ECF6",
              "width": 0.5
             },
             "pattern": {
              "fillmode": "overlay",
              "size": 10,
              "solidity": 0.2
             }
            },
            "type": "barpolar"
           }
          ],
          "carpet": [
           {
            "aaxis": {
             "endlinecolor": "#2a3f5f",
             "gridcolor": "white",
             "linecolor": "white",
             "minorgridcolor": "white",
             "startlinecolor": "#2a3f5f"
            },
            "baxis": {
             "endlinecolor": "#2a3f5f",
             "gridcolor": "white",
             "linecolor": "white",
             "minorgridcolor": "white",
             "startlinecolor": "#2a3f5f"
            },
            "type": "carpet"
           }
          ],
          "choropleth": [
           {
            "colorbar": {
             "outlinewidth": 0,
             "ticks": ""
            },
            "type": "choropleth"
           }
          ],
          "contour": [
           {
            "colorbar": {
             "outlinewidth": 0,
             "ticks": ""
            },
            "colorscale": [
             [
              0,
              "#0d0887"
             ],
             [
              0.1111111111111111,
              "#46039f"
             ],
             [
              0.2222222222222222,
              "#7201a8"
             ],
             [
              0.3333333333333333,
              "#9c179e"
             ],
             [
              0.4444444444444444,
              "#bd3786"
             ],
             [
              0.5555555555555556,
              "#d8576b"
             ],
             [
              0.6666666666666666,
              "#ed7953"
             ],
             [
              0.7777777777777778,
              "#fb9f3a"
             ],
             [
              0.8888888888888888,
              "#fdca26"
             ],
             [
              1,
              "#f0f921"
             ]
            ],
            "type": "contour"
           }
          ],
          "contourcarpet": [
           {
            "colorbar": {
             "outlinewidth": 0,
             "ticks": ""
            },
            "type": "contourcarpet"
           }
          ],
          "heatmap": [
           {
            "colorbar": {
             "outlinewidth": 0,
             "ticks": ""
            },
            "colorscale": [
             [
              0,
              "#0d0887"
             ],
             [
              0.1111111111111111,
              "#46039f"
             ],
             [
              0.2222222222222222,
              "#7201a8"
             ],
             [
              0.3333333333333333,
              "#9c179e"
             ],
             [
              0.4444444444444444,
              "#bd3786"
             ],
             [
              0.5555555555555556,
              "#d8576b"
             ],
             [
              0.6666666666666666,
              "#ed7953"
             ],
             [
              0.7777777777777778,
              "#fb9f3a"
             ],
             [
              0.8888888888888888,
              "#fdca26"
             ],
             [
              1,
              "#f0f921"
             ]
            ],
            "type": "heatmap"
           }
          ],
          "heatmapgl": [
           {
            "colorbar": {
             "outlinewidth": 0,
             "ticks": ""
            },
            "colorscale": [
             [
              0,
              "#0d0887"
             ],
             [
              0.1111111111111111,
              "#46039f"
             ],
             [
              0.2222222222222222,
              "#7201a8"
             ],
             [
              0.3333333333333333,
              "#9c179e"
             ],
             [
              0.4444444444444444,
              "#bd3786"
             ],
             [
              0.5555555555555556,
              "#d8576b"
             ],
             [
              0.6666666666666666,
              "#ed7953"
             ],
             [
              0.7777777777777778,
              "#fb9f3a"
             ],
             [
              0.8888888888888888,
              "#fdca26"
             ],
             [
              1,
              "#f0f921"
             ]
            ],
            "type": "heatmapgl"
           }
          ],
          "histogram": [
           {
            "marker": {
             "pattern": {
              "fillmode": "overlay",
              "size": 10,
              "solidity": 0.2
             }
            },
            "type": "histogram"
           }
          ],
          "histogram2d": [
           {
            "colorbar": {
             "outlinewidth": 0,
             "ticks": ""
            },
            "colorscale": [
             [
              0,
              "#0d0887"
             ],
             [
              0.1111111111111111,
              "#46039f"
             ],
             [
              0.2222222222222222,
              "#7201a8"
             ],
             [
              0.3333333333333333,
              "#9c179e"
             ],
             [
              0.4444444444444444,
              "#bd3786"
             ],
             [
              0.5555555555555556,
              "#d8576b"
             ],
             [
              0.6666666666666666,
              "#ed7953"
             ],
             [
              0.7777777777777778,
              "#fb9f3a"
             ],
             [
              0.8888888888888888,
              "#fdca26"
             ],
             [
              1,
              "#f0f921"
             ]
            ],
            "type": "histogram2d"
           }
          ],
          "histogram2dcontour": [
           {
            "colorbar": {
             "outlinewidth": 0,
             "ticks": ""
            },
            "colorscale": [
             [
              0,
              "#0d0887"
             ],
             [
              0.1111111111111111,
              "#46039f"
             ],
             [
              0.2222222222222222,
              "#7201a8"
             ],
             [
              0.3333333333333333,
              "#9c179e"
             ],
             [
              0.4444444444444444,
              "#bd3786"
             ],
             [
              0.5555555555555556,
              "#d8576b"
             ],
             [
              0.6666666666666666,
              "#ed7953"
             ],
             [
              0.7777777777777778,
              "#fb9f3a"
             ],
             [
              0.8888888888888888,
              "#fdca26"
             ],
             [
              1,
              "#f0f921"
             ]
            ],
            "type": "histogram2dcontour"
           }
          ],
          "mesh3d": [
           {
            "colorbar": {
             "outlinewidth": 0,
             "ticks": ""
            },
            "type": "mesh3d"
           }
          ],
          "parcoords": [
           {
            "line": {
             "colorbar": {
              "outlinewidth": 0,
              "ticks": ""
             }
            },
            "type": "parcoords"
           }
          ],
          "pie": [
           {
            "automargin": true,
            "type": "pie"
           }
          ],
          "scatter": [
           {
            "marker": {
             "colorbar": {
              "outlinewidth": 0,
              "ticks": ""
             }
            },
            "type": "scatter"
           }
          ],
          "scatter3d": [
           {
            "line": {
             "colorbar": {
              "outlinewidth": 0,
              "ticks": ""
             }
            },
            "marker": {
             "colorbar": {
              "outlinewidth": 0,
              "ticks": ""
             }
            },
            "type": "scatter3d"
           }
          ],
          "scattercarpet": [
           {
            "marker": {
             "colorbar": {
              "outlinewidth": 0,
              "ticks": ""
             }
            },
            "type": "scattercarpet"
           }
          ],
          "scattergeo": [
           {
            "marker": {
             "colorbar": {
              "outlinewidth": 0,
              "ticks": ""
             }
            },
            "type": "scattergeo"
           }
          ],
          "scattergl": [
           {
            "marker": {
             "colorbar": {
              "outlinewidth": 0,
              "ticks": ""
             }
            },
            "type": "scattergl"
           }
          ],
          "scattermapbox": [
           {
            "marker": {
             "colorbar": {
              "outlinewidth": 0,
              "ticks": ""
             }
            },
            "type": "scattermapbox"
           }
          ],
          "scatterpolar": [
           {
            "marker": {
             "colorbar": {
              "outlinewidth": 0,
              "ticks": ""
             }
            },
            "type": "scatterpolar"
           }
          ],
          "scatterpolargl": [
           {
            "marker": {
             "colorbar": {
              "outlinewidth": 0,
              "ticks": ""
             }
            },
            "type": "scatterpolargl"
           }
          ],
          "scatterternary": [
           {
            "marker": {
             "colorbar": {
              "outlinewidth": 0,
              "ticks": ""
             }
            },
            "type": "scatterternary"
           }
          ],
          "surface": [
           {
            "colorbar": {
             "outlinewidth": 0,
             "ticks": ""
            },
            "colorscale": [
             [
              0,
              "#0d0887"
             ],
             [
              0.1111111111111111,
              "#46039f"
             ],
             [
              0.2222222222222222,
              "#7201a8"
             ],
             [
              0.3333333333333333,
              "#9c179e"
             ],
             [
              0.4444444444444444,
              "#bd3786"
             ],
             [
              0.5555555555555556,
              "#d8576b"
             ],
             [
              0.6666666666666666,
              "#ed7953"
             ],
             [
              0.7777777777777778,
              "#fb9f3a"
             ],
             [
              0.8888888888888888,
              "#fdca26"
             ],
             [
              1,
              "#f0f921"
             ]
            ],
            "type": "surface"
           }
          ],
          "table": [
           {
            "cells": {
             "fill": {
              "color": "#EBF0F8"
             },
             "line": {
              "color": "white"
             }
            },
            "header": {
             "fill": {
              "color": "#C8D4E3"
             },
             "line": {
              "color": "white"
             }
            },
            "type": "table"
           }
          ]
         },
         "layout": {
          "annotationdefaults": {
           "arrowcolor": "#2a3f5f",
           "arrowhead": 0,
           "arrowwidth": 1
          },
          "autotypenumbers": "strict",
          "coloraxis": {
           "colorbar": {
            "outlinewidth": 0,
            "ticks": ""
           }
          },
          "colorscale": {
           "diverging": [
            [
             0,
             "#8e0152"
            ],
            [
             0.1,
             "#c51b7d"
            ],
            [
             0.2,
             "#de77ae"
            ],
            [
             0.3,
             "#f1b6da"
            ],
            [
             0.4,
             "#fde0ef"
            ],
            [
             0.5,
             "#f7f7f7"
            ],
            [
             0.6,
             "#e6f5d0"
            ],
            [
             0.7,
             "#b8e186"
            ],
            [
             0.8,
             "#7fbc41"
            ],
            [
             0.9,
             "#4d9221"
            ],
            [
             1,
             "#276419"
            ]
           ],
           "sequential": [
            [
             0,
             "#0d0887"
            ],
            [
             0.1111111111111111,
             "#46039f"
            ],
            [
             0.2222222222222222,
             "#7201a8"
            ],
            [
             0.3333333333333333,
             "#9c179e"
            ],
            [
             0.4444444444444444,
             "#bd3786"
            ],
            [
             0.5555555555555556,
             "#d8576b"
            ],
            [
             0.6666666666666666,
             "#ed7953"
            ],
            [
             0.7777777777777778,
             "#fb9f3a"
            ],
            [
             0.8888888888888888,
             "#fdca26"
            ],
            [
             1,
             "#f0f921"
            ]
           ],
           "sequentialminus": [
            [
             0,
             "#0d0887"
            ],
            [
             0.1111111111111111,
             "#46039f"
            ],
            [
             0.2222222222222222,
             "#7201a8"
            ],
            [
             0.3333333333333333,
             "#9c179e"
            ],
            [
             0.4444444444444444,
             "#bd3786"
            ],
            [
             0.5555555555555556,
             "#d8576b"
            ],
            [
             0.6666666666666666,
             "#ed7953"
            ],
            [
             0.7777777777777778,
             "#fb9f3a"
            ],
            [
             0.8888888888888888,
             "#fdca26"
            ],
            [
             1,
             "#f0f921"
            ]
           ]
          },
          "colorway": [
           "#636efa",
           "#EF553B",
           "#00cc96",
           "#ab63fa",
           "#FFA15A",
           "#19d3f3",
           "#FF6692",
           "#B6E880",
           "#FF97FF",
           "#FECB52"
          ],
          "font": {
           "color": "#2a3f5f"
          },
          "geo": {
           "bgcolor": "white",
           "lakecolor": "white",
           "landcolor": "#E5ECF6",
           "showlakes": true,
           "showland": true,
           "subunitcolor": "white"
          },
          "hoverlabel": {
           "align": "left"
          },
          "hovermode": "closest",
          "mapbox": {
           "style": "light"
          },
          "paper_bgcolor": "white",
          "plot_bgcolor": "#E5ECF6",
          "polar": {
           "angularaxis": {
            "gridcolor": "white",
            "linecolor": "white",
            "ticks": ""
           },
           "bgcolor": "#E5ECF6",
           "radialaxis": {
            "gridcolor": "white",
            "linecolor": "white",
            "ticks": ""
           }
          },
          "scene": {
           "xaxis": {
            "backgroundcolor": "#E5ECF6",
            "gridcolor": "white",
            "gridwidth": 2,
            "linecolor": "white",
            "showbackground": true,
            "ticks": "",
            "zerolinecolor": "white"
           },
           "yaxis": {
            "backgroundcolor": "#E5ECF6",
            "gridcolor": "white",
            "gridwidth": 2,
            "linecolor": "white",
            "showbackground": true,
            "ticks": "",
            "zerolinecolor": "white"
           },
           "zaxis": {
            "backgroundcolor": "#E5ECF6",
            "gridcolor": "white",
            "gridwidth": 2,
            "linecolor": "white",
            "showbackground": true,
            "ticks": "",
            "zerolinecolor": "white"
           }
          },
          "shapedefaults": {
           "line": {
            "color": "#2a3f5f"
           }
          },
          "ternary": {
           "aaxis": {
            "gridcolor": "white",
            "linecolor": "white",
            "ticks": ""
           },
           "baxis": {
            "gridcolor": "white",
            "linecolor": "white",
            "ticks": ""
           },
           "bgcolor": "#E5ECF6",
           "caxis": {
            "gridcolor": "white",
            "linecolor": "white",
            "ticks": ""
           }
          },
          "title": {
           "x": 0.05
          },
          "xaxis": {
           "automargin": true,
           "gridcolor": "white",
           "linecolor": "white",
           "ticks": "",
           "title": {
            "standoff": 15
           },
           "zerolinecolor": "white",
           "zerolinewidth": 2
          },
          "yaxis": {
           "automargin": true,
           "gridcolor": "white",
           "linecolor": "white",
           "ticks": "",
           "title": {
            "standoff": 15
           },
           "zerolinecolor": "white",
           "zerolinewidth": 2
          }
         }
        },
        "title": {
         "text": "Likelihood of each Teams' Final Standing"
        },
        "width": 1500,
        "xaxis": {
         "anchor": "y",
         "domain": [
          0,
          0.45
         ]
        },
        "xaxis10": {
         "anchor": "y10",
         "domain": [
          0.55,
          1
         ]
        },
        "xaxis2": {
         "anchor": "y2",
         "domain": [
          0.55,
          1
         ]
        },
        "xaxis3": {
         "anchor": "y3",
         "domain": [
          0,
          0.45
         ]
        },
        "xaxis4": {
         "anchor": "y4",
         "domain": [
          0.55,
          1
         ]
        },
        "xaxis5": {
         "anchor": "y5",
         "domain": [
          0,
          0.45
         ]
        },
        "xaxis6": {
         "anchor": "y6",
         "domain": [
          0.55,
          1
         ]
        },
        "xaxis7": {
         "anchor": "y7",
         "domain": [
          0,
          0.45
         ]
        },
        "xaxis8": {
         "anchor": "y8",
         "domain": [
          0.55,
          1
         ]
        },
        "xaxis9": {
         "anchor": "y9",
         "domain": [
          0,
          0.45
         ]
        },
        "yaxis": {
         "anchor": "x",
         "domain": [
          0.88,
          1
         ]
        },
        "yaxis10": {
         "anchor": "x10",
         "domain": [
          0,
          0.12
         ],
         "matches": "y9",
         "showticklabels": false
        },
        "yaxis2": {
         "anchor": "x2",
         "domain": [
          0.88,
          1
         ],
         "matches": "y",
         "showticklabels": false
        },
        "yaxis3": {
         "anchor": "x3",
         "domain": [
          0.66,
          0.78
         ]
        },
        "yaxis4": {
         "anchor": "x4",
         "domain": [
          0.66,
          0.78
         ],
         "matches": "y3",
         "showticklabels": false
        },
        "yaxis5": {
         "anchor": "x5",
         "domain": [
          0.44,
          0.56
         ]
        },
        "yaxis6": {
         "anchor": "x6",
         "domain": [
          0.44,
          0.56
         ],
         "matches": "y5",
         "showticklabels": false
        },
        "yaxis7": {
         "anchor": "x7",
         "domain": [
          0.22,
          0.33999999999999997
         ]
        },
        "yaxis8": {
         "anchor": "x8",
         "domain": [
          0.22,
          0.33999999999999997
         ],
         "matches": "y7",
         "showticklabels": false
        },
        "yaxis9": {
         "anchor": "x9",
         "domain": [
          0,
          0.12
         ]
        }
       }
      }
     },
     "metadata": {},
     "output_type": "display_data"
    }
   ],
   "source": [
    "fig = make_subplots(rows=5, cols=2, shared_yaxes=True,\n",
    "                    subplot_titles=LEAGUE.get_names_for_plotting())\n",
    "\n",
    "teams = [team for team in LEAGUE.standings]\n",
    "\n",
    "for i in range(5):\n",
    "    for j in range(1, 3):\n",
    "        current = teams[(i+i+j)-1]\n",
    "        fig.add_trace(\n",
    "            go.Bar(y=final_standing[current.roster_id],\n",
    "                   x=[\"1st\", \"2nd\", \"3rd\", \"4th\", \"5th\"]),\n",
    "            i+1, j\n",
    "        )\n",
    "\n",
    "fig.update_layout(title=\"Likelihood of each Teams' Final Standing\",\n",
    "                  showlegend=False,\n",
    "                  height=2000, width=1500\n",
    "                  )\n",
    "\n",
    "fig.show()"
   ]
  },
  {
   "cell_type": "markdown",
   "metadata": {},
   "source": [
    "Below I print out the calculated probability that each team makes the playoffs and the probability they finish in each of the five division positions. I also include the change in playoff odds from last week. "
   ]
  },
  {
   "cell_type": "code",
   "execution_count": 10,
   "metadata": {},
   "outputs": [
    {
     "name": "stdout",
     "output_type": "stream",
     "text": [
      "+-------------------+-----------------------------------+-------------------------------+\n",
      "|     Team Name     | Percent Chance of Making Playoffs | Percent Change from Last Week |\n",
      "+-------------------+-----------------------------------+-------------------------------+\n",
      "|    AssNTitties    |               100.0               |              0.0              |\n",
      "|    Tree Leaves    |               99.63               |              -0.3             |\n",
      "|     tealeaves     |               97.99               |             10.86             |\n",
      "|    SideThicc #2   |               56.82               |             30.44             |\n",
      "|     Thicc King    |               44.96               |             -37.83            |\n",
      "| My Goat Loves You |               93.29               |             -6.64             |\n",
      "|  The Brutherhood  |                0.59               |             -3.18             |\n",
      "|    RB sanctuary   |               62.63               |             37.23             |\n",
      "|      the noés     |               36.41               |             -11.06            |\n",
      "|      billcap      |                7.66               |             -20.95            |\n",
      "+-------------------+-----------------------------------+-------------------------------+\n"
     ]
    }
   ],
   "source": [
    "t = PrettyTable(['Team Name', \"Percent Chance of Making Playoffs\", \"Percent Change from Last Week\"])\n",
    "last_week = {1: 99.93, 2: 3.77, 3: 87.13, 4: 99.93, 5: 47.47,\n",
    "             6: 26.38, 7: 100, 8: 82.79, 9: 28.61, 10: 25.4}\n",
    "for team in LEAGUE.standings:\n",
    "    t.add_row([team.name, probabilities[team.roster_id], round(probabilities[team.roster_id] - last_week[team.roster_id], 2)])\n",
    "    \n",
    "print(t)"
   ]
  },
  {
   "cell_type": "code",
   "execution_count": 11,
   "metadata": {},
   "outputs": [
    {
     "name": "stdout",
     "output_type": "stream",
     "text": [
      "+-------------------+------------------------------+------------------------------+------------------------------+------------------------------+------------------------------+\n",
      "|     Team Name     | P(Finishing 1st in Division) | P(Finishing 2nd in Division) | P(Finishing 3rd in Division) | P(Finishing 4th in Division) | P(Finishing 5th in Division) |\n",
      "+-------------------+------------------------------+------------------------------+------------------------------+------------------------------+------------------------------+\n",
      "|    AssNTitties    |            100.0             |             0.0              |             0.0              |             0.0              |             0.0              |\n",
      "|    Tree Leaves    |            63.33             |            29.69             |             6.61             |             0.37             |             0.0              |\n",
      "|     tealeaves     |            34.65             |            51.24             |            12.11             |             2.01             |             0.0              |\n",
      "|    SideThicc #2   |             1.42             |            10.92             |            44.48             |            37.55             |             5.63             |\n",
      "|     Thicc King    |             0.6              |             8.15             |            36.21             |            48.62             |             6.42             |\n",
      "| My Goat Loves You |             0.0              |             72.4             |            20.89             |             6.59             |             0.11             |\n",
      "|  The Brutherhood  |             0.0              |             0.0              |             0.59             |            11.46             |            87.95             |\n",
      "|    RB sanctuary   |             0.0              |            17.44             |            45.19             |            31.98             |             5.4              |\n",
      "|      the noés     |             0.0              |             9.29             |            27.12             |            51.84             |            11.75             |\n",
      "|      billcap      |             0.0              |             0.87             |             6.8              |             9.59             |            82.74             |\n",
      "+-------------------+------------------------------+------------------------------+------------------------------+------------------------------+------------------------------+\n"
     ]
    }
   ],
   "source": [
    "t = PrettyTable(['Team Name', \"P(Finishing 1st in Division)\",\n",
    "                \"P(Finishing 2nd in Division)\", \"P(Finishing 3rd in Division)\", \"P(Finishing 4th in Division)\", \"P(Finishing 5th in Division)\"])\n",
    "for team in LEAGUE.standings:\n",
    "    t.add_row([team.name, finish_probabilities[team.roster_id]\n",
    "              [0], finish_probabilities[team.roster_id][1], finish_probabilities[team.roster_id][2], finish_probabilities[team.roster_id][3], finish_probabilities[team.roster_id][4]])\n",
    "\n",
    "print(t)\n"
   ]
  }
 ],
 "metadata": {
  "interpreter": {
   "hash": "aee8b7b246df8f9039afb4144a1f6fd8d2ca17a180786b69acc140d282b71a49"
  },
  "kernelspec": {
   "display_name": "Python 3.10.0 64-bit",
   "language": "python",
   "name": "python3"
  },
  "language_info": {
   "codemirror_mode": {
    "name": "ipython",
    "version": 3
   },
   "file_extension": ".py",
   "mimetype": "text/x-python",
   "name": "python",
   "nbconvert_exporter": "python",
   "pygments_lexer": "ipython3",
   "version": "3.10.0"
  },
  "orig_nbformat": 4
 },
 "nbformat": 4,
 "nbformat_minor": 2
}
